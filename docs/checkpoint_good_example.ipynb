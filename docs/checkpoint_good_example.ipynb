{
 "cells": [
  {
   "cell_type": "code",
   "execution_count": 1,
   "metadata": {},
   "outputs": [],
   "source": [
    "from mlutils.checkpoint_flow import CheckpointFlow"
   ]
  },
  {
   "cell_type": "code",
   "execution_count": 2,
   "metadata": {},
   "outputs": [],
   "source": [
    "initial_state = {\n",
    "    'a': 10\n",
    "}"
   ]
  },
  {
   "cell_type": "code",
   "execution_count": 3,
   "metadata": {},
   "outputs": [],
   "source": [
    "cp = CheckpointFlow('state.pkl', writer='local')"
   ]
  },
  {
   "cell_type": "code",
   "execution_count": 4,
   "metadata": {},
   "outputs": [],
   "source": [
    "@cp.add_step()\n",
    "def f1(state):\n",
    "    print(f\"f1 printing {state['a']}\")\n",
    "    state['d'] = 'D'"
   ]
  },
  {
   "cell_type": "code",
   "execution_count": 5,
   "metadata": {},
   "outputs": [],
   "source": [
    "@cp.add_step()\n",
    "def f3(state):\n",
    "    # raise Exception(\"This thing broke!\")\n",
    "    print(\"f3 is fine now\")"
   ]
  },
  {
   "cell_type": "code",
   "execution_count": 6,
   "metadata": {},
   "outputs": [],
   "source": [
    "def loader(state):\n",
    "    state['b'] = 10\n",
    "\n",
    "def saver(state):\n",
    "    print(f\"saver saving b={state['b']}\")\n",
    "\n",
    "@cp.add_step(loader=loader, saver=saver)\n",
    "def f2(state):\n",
    "    print(f\"f2 printing {state}\")\n",
    "    state['c'] = 4.5"
   ]
  },
  {
   "cell_type": "code",
   "execution_count": 7,
   "metadata": {},
   "outputs": [
    {
     "name": "stdout",
     "output_type": "stream",
     "text": [
      "f1 printing 10\n",
      "f3 is fine now\n",
      "f2 printing {'a': 10, 'd': 'D', 'checkpoint_index': 2}\n",
      "saver printing state={'a': 10, 'd': 'D', 'checkpoint_index': 2, 'c': 4.5}\n"
     ]
    }
   ],
   "source": [
    "cp.run(initial_state)"
   ]
  }
 ],
 "metadata": {
  "kernelspec": {
   "display_name": "Python 3",
   "language": "python",
   "name": "python3"
  },
  "language_info": {
   "codemirror_mode": {
    "name": "ipython",
    "version": 3
   },
   "file_extension": ".py",
   "mimetype": "text/x-python",
   "name": "python",
   "nbconvert_exporter": "python",
   "pygments_lexer": "ipython3",
   "version": "3.6.1"
  }
 },
 "nbformat": 4,
 "nbformat_minor": 4
}
