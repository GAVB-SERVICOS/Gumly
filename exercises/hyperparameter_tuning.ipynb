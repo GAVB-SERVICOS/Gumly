{
 "cells": [
  {
   "cell_type": "markdown",
   "id": "36a112b3",
   "metadata": {},
   "source": [
    "## 1.0 Introduction"
   ]
  },
  {
   "cell_type": "markdown",
   "id": "3330c2c6",
   "metadata": {},
   "source": [
    "The main objective of this feature is to implement the use of hyperparameter tuning process for the development of Machine Learning models. The tutorial consists of the use of iris and boston datasets from sklearn Datasets, where the Data Scientists can choose the parameters to be tested for the method that is a wrapper of optuna opimization framework.\n",
    "\n",
    "The params to be chosen are:\n",
    "- df: DataFrame pandas\n",
    "- target: target variable\n",
    "- parameters: Dict that contains all the threshold given for optimization testing\n",
    "- algorithm: Machine Learning algorithm used for fit the model (eg: RandomForestClassifier, RandomForestRegressor)\n",
    "- metric: Metric used for the evaluation of the tests (eg: accuracy_score, r2)\n",
    "- scoring_option: Maximize or minimize objectives\n",
    "-  n_trials: The of trials that the framework must perform"
   ]
  },
  {
   "cell_type": "markdown",
   "id": "7cc43d17",
   "metadata": {},
   "source": [
    "## 1.1 Import modules"
   ]
  },
  {
   "cell_type": "code",
   "execution_count": 1,
   "id": "3cf9e6df",
   "metadata": {},
   "outputs": [],
   "source": [
    "import pandas as pd\n",
    "from sklearn import datasets\n",
    "from sklearn.ensemble import RandomForestClassifier\n",
    "from sklearn.ensemble import RandomForestRegressor\n",
    "from sklearn.metrics import accuracy_score\n",
    "from sklearn.metrics import mean_absolute_error\n",
    "from gumly.hyperparameter_tuning import hyperparameter_tuning\n",
    "\n",
    "import warnings\n",
    "warnings.filterwarnings('ignore')"
   ]
  },
  {
   "cell_type": "markdown",
   "id": "8b4bf44c",
   "metadata": {},
   "source": [
    "## 1.2 Gathering the datasets"
   ]
  },
  {
   "cell_type": "code",
   "execution_count": 2,
   "id": "a783239d",
   "metadata": {},
   "outputs": [
    {
     "data": {
      "text/html": [
       "<div>\n",
       "<style scoped>\n",
       "    .dataframe tbody tr th:only-of-type {\n",
       "        vertical-align: middle;\n",
       "    }\n",
       "\n",
       "    .dataframe tbody tr th {\n",
       "        vertical-align: top;\n",
       "    }\n",
       "\n",
       "    .dataframe thead th {\n",
       "        text-align: right;\n",
       "    }\n",
       "</style>\n",
       "<table border=\"1\" class=\"dataframe\">\n",
       "  <thead>\n",
       "    <tr style=\"text-align: right;\">\n",
       "      <th></th>\n",
       "      <th>sepal length (cm)</th>\n",
       "      <th>sepal width (cm)</th>\n",
       "      <th>petal length (cm)</th>\n",
       "      <th>petal width (cm)</th>\n",
       "      <th>target</th>\n",
       "    </tr>\n",
       "  </thead>\n",
       "  <tbody>\n",
       "    <tr>\n",
       "      <th>0</th>\n",
       "      <td>5.1</td>\n",
       "      <td>3.5</td>\n",
       "      <td>1.4</td>\n",
       "      <td>0.2</td>\n",
       "      <td>0</td>\n",
       "    </tr>\n",
       "    <tr>\n",
       "      <th>1</th>\n",
       "      <td>4.9</td>\n",
       "      <td>3.0</td>\n",
       "      <td>1.4</td>\n",
       "      <td>0.2</td>\n",
       "      <td>0</td>\n",
       "    </tr>\n",
       "    <tr>\n",
       "      <th>2</th>\n",
       "      <td>4.7</td>\n",
       "      <td>3.2</td>\n",
       "      <td>1.3</td>\n",
       "      <td>0.2</td>\n",
       "      <td>0</td>\n",
       "    </tr>\n",
       "    <tr>\n",
       "      <th>3</th>\n",
       "      <td>4.6</td>\n",
       "      <td>3.1</td>\n",
       "      <td>1.5</td>\n",
       "      <td>0.2</td>\n",
       "      <td>0</td>\n",
       "    </tr>\n",
       "    <tr>\n",
       "      <th>4</th>\n",
       "      <td>5.0</td>\n",
       "      <td>3.6</td>\n",
       "      <td>1.4</td>\n",
       "      <td>0.2</td>\n",
       "      <td>0</td>\n",
       "    </tr>\n",
       "  </tbody>\n",
       "</table>\n",
       "</div>"
      ],
      "text/plain": [
       "   sepal length (cm)  sepal width (cm)  petal length (cm)  petal width (cm)  \\\n",
       "0                5.1               3.5                1.4               0.2   \n",
       "1                4.9               3.0                1.4               0.2   \n",
       "2                4.7               3.2                1.3               0.2   \n",
       "3                4.6               3.1                1.5               0.2   \n",
       "4                5.0               3.6                1.4               0.2   \n",
       "\n",
       "   target  \n",
       "0       0  \n",
       "1       0  \n",
       "2       0  \n",
       "3       0  \n",
       "4       0  "
      ]
     },
     "execution_count": 2,
     "metadata": {},
     "output_type": "execute_result"
    }
   ],
   "source": [
    "# for classification \n",
    "iris_data = datasets.load_iris()\n",
    "df_iris = pd.DataFrame(data=iris_data.data, columns=iris_data.feature_names)\n",
    "df_iris[\"target\"] = iris_data.target\n",
    "df_iris.head()"
   ]
  },
  {
   "cell_type": "code",
   "execution_count": 3,
   "id": "23855c50",
   "metadata": {},
   "outputs": [
    {
     "data": {
      "text/html": [
       "<div>\n",
       "<style scoped>\n",
       "    .dataframe tbody tr th:only-of-type {\n",
       "        vertical-align: middle;\n",
       "    }\n",
       "\n",
       "    .dataframe tbody tr th {\n",
       "        vertical-align: top;\n",
       "    }\n",
       "\n",
       "    .dataframe thead th {\n",
       "        text-align: right;\n",
       "    }\n",
       "</style>\n",
       "<table border=\"1\" class=\"dataframe\">\n",
       "  <thead>\n",
       "    <tr style=\"text-align: right;\">\n",
       "      <th></th>\n",
       "      <th>CRIM</th>\n",
       "      <th>ZN</th>\n",
       "      <th>INDUS</th>\n",
       "      <th>CHAS</th>\n",
       "      <th>NOX</th>\n",
       "      <th>RM</th>\n",
       "      <th>AGE</th>\n",
       "      <th>DIS</th>\n",
       "      <th>RAD</th>\n",
       "      <th>TAX</th>\n",
       "      <th>PTRATIO</th>\n",
       "      <th>B</th>\n",
       "      <th>LSTAT</th>\n",
       "      <th>target</th>\n",
       "    </tr>\n",
       "  </thead>\n",
       "  <tbody>\n",
       "    <tr>\n",
       "      <th>0</th>\n",
       "      <td>0.00632</td>\n",
       "      <td>18.0</td>\n",
       "      <td>2.31</td>\n",
       "      <td>0.0</td>\n",
       "      <td>0.538</td>\n",
       "      <td>6.575</td>\n",
       "      <td>65.2</td>\n",
       "      <td>4.0900</td>\n",
       "      <td>1.0</td>\n",
       "      <td>296.0</td>\n",
       "      <td>15.3</td>\n",
       "      <td>396.90</td>\n",
       "      <td>4.98</td>\n",
       "      <td>24.0</td>\n",
       "    </tr>\n",
       "    <tr>\n",
       "      <th>1</th>\n",
       "      <td>0.02731</td>\n",
       "      <td>0.0</td>\n",
       "      <td>7.07</td>\n",
       "      <td>0.0</td>\n",
       "      <td>0.469</td>\n",
       "      <td>6.421</td>\n",
       "      <td>78.9</td>\n",
       "      <td>4.9671</td>\n",
       "      <td>2.0</td>\n",
       "      <td>242.0</td>\n",
       "      <td>17.8</td>\n",
       "      <td>396.90</td>\n",
       "      <td>9.14</td>\n",
       "      <td>21.6</td>\n",
       "    </tr>\n",
       "    <tr>\n",
       "      <th>2</th>\n",
       "      <td>0.02729</td>\n",
       "      <td>0.0</td>\n",
       "      <td>7.07</td>\n",
       "      <td>0.0</td>\n",
       "      <td>0.469</td>\n",
       "      <td>7.185</td>\n",
       "      <td>61.1</td>\n",
       "      <td>4.9671</td>\n",
       "      <td>2.0</td>\n",
       "      <td>242.0</td>\n",
       "      <td>17.8</td>\n",
       "      <td>392.83</td>\n",
       "      <td>4.03</td>\n",
       "      <td>34.7</td>\n",
       "    </tr>\n",
       "    <tr>\n",
       "      <th>3</th>\n",
       "      <td>0.03237</td>\n",
       "      <td>0.0</td>\n",
       "      <td>2.18</td>\n",
       "      <td>0.0</td>\n",
       "      <td>0.458</td>\n",
       "      <td>6.998</td>\n",
       "      <td>45.8</td>\n",
       "      <td>6.0622</td>\n",
       "      <td>3.0</td>\n",
       "      <td>222.0</td>\n",
       "      <td>18.7</td>\n",
       "      <td>394.63</td>\n",
       "      <td>2.94</td>\n",
       "      <td>33.4</td>\n",
       "    </tr>\n",
       "    <tr>\n",
       "      <th>4</th>\n",
       "      <td>0.06905</td>\n",
       "      <td>0.0</td>\n",
       "      <td>2.18</td>\n",
       "      <td>0.0</td>\n",
       "      <td>0.458</td>\n",
       "      <td>7.147</td>\n",
       "      <td>54.2</td>\n",
       "      <td>6.0622</td>\n",
       "      <td>3.0</td>\n",
       "      <td>222.0</td>\n",
       "      <td>18.7</td>\n",
       "      <td>396.90</td>\n",
       "      <td>5.33</td>\n",
       "      <td>36.2</td>\n",
       "    </tr>\n",
       "  </tbody>\n",
       "</table>\n",
       "</div>"
      ],
      "text/plain": [
       "      CRIM    ZN  INDUS  CHAS    NOX     RM   AGE     DIS  RAD    TAX  \\\n",
       "0  0.00632  18.0   2.31   0.0  0.538  6.575  65.2  4.0900  1.0  296.0   \n",
       "1  0.02731   0.0   7.07   0.0  0.469  6.421  78.9  4.9671  2.0  242.0   \n",
       "2  0.02729   0.0   7.07   0.0  0.469  7.185  61.1  4.9671  2.0  242.0   \n",
       "3  0.03237   0.0   2.18   0.0  0.458  6.998  45.8  6.0622  3.0  222.0   \n",
       "4  0.06905   0.0   2.18   0.0  0.458  7.147  54.2  6.0622  3.0  222.0   \n",
       "\n",
       "   PTRATIO       B  LSTAT  target  \n",
       "0     15.3  396.90   4.98    24.0  \n",
       "1     17.8  396.90   9.14    21.6  \n",
       "2     17.8  392.83   4.03    34.7  \n",
       "3     18.7  394.63   2.94    33.4  \n",
       "4     18.7  396.90   5.33    36.2  "
      ]
     },
     "execution_count": 3,
     "metadata": {},
     "output_type": "execute_result"
    }
   ],
   "source": [
    "# for regression\n",
    "boston_data = datasets.load_boston()\n",
    "df_boston = pd.DataFrame(boston_data.data, columns=boston_data.feature_names)\n",
    "df_boston[\"target\"] = boston_data.target\n",
    "df_boston.head()"
   ]
  },
  {
   "cell_type": "markdown",
   "id": "b5d6ce0a",
   "metadata": {},
   "source": [
    "## 1.3 Running hyperparameter tuning for classification model"
   ]
  },
  {
   "cell_type": "code",
   "execution_count": 4,
   "id": "ff253985",
   "metadata": {
    "scrolled": false
   },
   "outputs": [
    {
     "ename": "SyntaxError",
     "evalue": "invalid syntax (3251068824.py, line 16)",
     "output_type": "error",
     "traceback": [
      "\u001b[0;36m  File \u001b[0;32m\"/tmp/ipykernel_67354/3251068824.py\"\u001b[0;36m, line \u001b[0;32m16\u001b[0m\n\u001b[0;31m    )\u001b[0m\n\u001b[0m    ^\u001b[0m\n\u001b[0;31mSyntaxError\u001b[0m\u001b[0;31m:\u001b[0m invalid syntax\n"
     ]
    }
   ],
   "source": [
    "hyperparameter_tuning(\n",
    "        df=df_iris,\n",
    "        target=\"target\",\n",
    "        parameters=[\n",
    "        {\"name\": \"min_samples_leaf\", \"type\": \"Integer\", \"low\": 50, \"high\": 75},\n",
    "        {\"name\": \"max_depth\", \"type\": \"Integer\", \"low\": 12, \"high\": 24},\n",
    "    ],\n",
    "        algorithm=RandomForestClassifier,\n",
    "        metric=accuracy_score,\n",
    "        scoring_option=\"maximize\",\n",
    "        n_trials=20,\n",
    "        n_splits=2,\n",
    "        suffle=True,\n",
    "        random_state=456,\n",
    "        metric_goal=\n",
    "    )"
   ]
  },
  {
   "cell_type": "markdown",
   "id": "8771b293",
   "metadata": {},
   "source": [
    "## 1.4 Running hyperparameter tuning for regression model"
   ]
  },
  {
   "cell_type": "code",
   "execution_count": 6,
   "id": "de5bf787",
   "metadata": {},
   "outputs": [
    {
     "name": "stderr",
     "output_type": "stream",
     "text": [
      "\u001b[32m[I 2021-12-30 14:57:57,799]\u001b[0m A new study created in memory with name: no-name-46d031f1-c083-4456-943e-c79d50ae0088\u001b[0m\n",
      "\u001b[32m[I 2021-12-30 14:57:58,689]\u001b[0m Trial 0 finished with value: 3.903070012175655 and parameters: {'min_samples_leaf': 59, 'max_depth': 24}. Best is trial 0 with value: 3.903070012175655.\u001b[0m\n",
      "\u001b[32m[I 2021-12-30 14:57:59,569]\u001b[0m Trial 1 finished with value: 4.4049004019390186 and parameters: {'min_samples_leaf': 69, 'max_depth': 19}. Best is trial 0 with value: 3.903070012175655.\u001b[0m\n",
      "\u001b[32m[I 2021-12-30 14:58:00,510]\u001b[0m Trial 2 finished with value: 3.6921178010012774 and parameters: {'min_samples_leaf': 54, 'max_depth': 14}. Best is trial 2 with value: 3.6921178010012774.\u001b[0m\n",
      "\u001b[32m[I 2021-12-30 14:58:01,473]\u001b[0m Trial 3 finished with value: 3.602526890001375 and parameters: {'min_samples_leaf': 51, 'max_depth': 23}. Best is trial 3 with value: 3.602526890001375.\u001b[0m\n",
      "\u001b[32m[I 2021-12-30 14:58:02,344]\u001b[0m Trial 4 finished with value: 4.2967596601335165 and parameters: {'min_samples_leaf': 65, 'max_depth': 21}. Best is trial 3 with value: 3.602526890001375.\u001b[0m\n",
      "\u001b[32m[I 2021-12-30 14:58:03,299]\u001b[0m Trial 5 finished with value: 3.5945854081854662 and parameters: {'min_samples_leaf': 50, 'max_depth': 24}. Best is trial 5 with value: 3.5945854081854662.\u001b[0m\n",
      "\u001b[32m[I 2021-12-30 14:58:04,153]\u001b[0m Trial 6 finished with value: 4.435726732777416 and parameters: {'min_samples_leaf': 71, 'max_depth': 14}. Best is trial 5 with value: 3.5945854081854662.\u001b[0m\n",
      "\u001b[32m[I 2021-12-30 14:58:05,078]\u001b[0m Trial 7 finished with value: 3.6935029114689173 and parameters: {'min_samples_leaf': 54, 'max_depth': 14}. Best is trial 5 with value: 3.5945854081854662.\u001b[0m\n",
      "\u001b[32m[I 2021-12-30 14:58:05,981]\u001b[0m Trial 8 finished with value: 3.8092409018003734 and parameters: {'min_samples_leaf': 57, 'max_depth': 18}. Best is trial 5 with value: 3.5945854081854662.\u001b[0m\n",
      "\u001b[32m[I 2021-12-30 14:58:06,886]\u001b[0m Trial 9 finished with value: 4.073465491532987 and parameters: {'min_samples_leaf': 61, 'max_depth': 15}. Best is trial 5 with value: 3.5945854081854662.\u001b[0m\n",
      "\u001b[32m[I 2021-12-30 14:58:07,767]\u001b[0m Trial 10 finished with value: 4.33321637818648 and parameters: {'min_samples_leaf': 65, 'max_depth': 13}. Best is trial 5 with value: 3.5945854081854662.\u001b[0m\n",
      "\u001b[32m[I 2021-12-30 14:58:08,682]\u001b[0m Trial 11 finished with value: 3.802261400460177 and parameters: {'min_samples_leaf': 57, 'max_depth': 16}. Best is trial 5 with value: 3.5945854081854662.\u001b[0m\n",
      "\u001b[32m[I 2021-12-30 14:58:09,586]\u001b[0m Trial 12 finished with value: 4.043251128829767 and parameters: {'min_samples_leaf': 61, 'max_depth': 22}. Best is trial 5 with value: 3.5945854081854662.\u001b[0m\n",
      "\u001b[32m[I 2021-12-30 14:58:10,517]\u001b[0m Trial 13 finished with value: 3.727609831344367 and parameters: {'min_samples_leaf': 55, 'max_depth': 18}. Best is trial 5 with value: 3.5945854081854662.\u001b[0m\n",
      "\u001b[32m[I 2021-12-30 14:58:11,433]\u001b[0m Trial 14 finished with value: 4.2654008458249315 and parameters: {'min_samples_leaf': 65, 'max_depth': 12}. Best is trial 5 with value: 3.5945854081854662.\u001b[0m\n",
      "\u001b[32m[I 2021-12-30 14:58:12,328]\u001b[0m Trial 15 finished with value: 4.280345286026656 and parameters: {'min_samples_leaf': 65, 'max_depth': 14}. Best is trial 5 with value: 3.5945854081854662.\u001b[0m\n",
      "\u001b[32m[I 2021-12-30 14:58:13,251]\u001b[0m Trial 16 finished with value: 3.584127897056329 and parameters: {'min_samples_leaf': 51, 'max_depth': 24}. Best is trial 16 with value: 3.584127897056329.\u001b[0m\n",
      "\u001b[32m[I 2021-12-30 14:58:14,108]\u001b[0m Trial 17 finished with value: 4.439932385545604 and parameters: {'min_samples_leaf': 75, 'max_depth': 22}. Best is trial 16 with value: 3.584127897056329.\u001b[0m\n",
      "\u001b[32m[I 2021-12-30 14:58:15,023]\u001b[0m Trial 18 finished with value: 3.8206987335535816 and parameters: {'min_samples_leaf': 57, 'max_depth': 13}. Best is trial 16 with value: 3.584127897056329.\u001b[0m\n",
      "\u001b[32m[I 2021-12-30 14:58:15,910]\u001b[0m Trial 19 finished with value: 4.3167195304708965 and parameters: {'min_samples_leaf': 67, 'max_depth': 17}. Best is trial 16 with value: 3.584127897056329.\u001b[0m\n",
      "\u001b[32m[I 2021-12-30 14:58:16,874]\u001b[0m Trial 20 finished with value: 3.6880115538151594 and parameters: {'min_samples_leaf': 53, 'max_depth': 18}. Best is trial 16 with value: 3.584127897056329.\u001b[0m\n",
      "\u001b[32m[I 2021-12-30 14:58:17,908]\u001b[0m Trial 21 finished with value: 3.591731091950392 and parameters: {'min_samples_leaf': 50, 'max_depth': 23}. Best is trial 16 with value: 3.584127897056329.\u001b[0m\n",
      "\u001b[32m[I 2021-12-30 14:58:18,832]\u001b[0m Trial 22 finished with value: 3.7643709753015044 and parameters: {'min_samples_leaf': 56, 'max_depth': 20}. Best is trial 16 with value: 3.584127897056329.\u001b[0m\n",
      "\u001b[32m[I 2021-12-30 14:58:19,726]\u001b[0m Trial 23 finished with value: 3.8606311773305437 and parameters: {'min_samples_leaf': 58, 'max_depth': 18}. Best is trial 16 with value: 3.584127897056329.\u001b[0m\n",
      "\u001b[32m[I 2021-12-30 14:58:20,588]\u001b[0m Trial 24 finished with value: 4.260977734946499 and parameters: {'min_samples_leaf': 64, 'max_depth': 14}. Best is trial 16 with value: 3.584127897056329.\u001b[0m\n",
      "\u001b[32m[I 2021-12-30 14:58:21,465]\u001b[0m Trial 25 finished with value: 4.440086204364628 and parameters: {'min_samples_leaf': 75, 'max_depth': 22}. Best is trial 16 with value: 3.584127897056329.\u001b[0m\n",
      "\u001b[32m[I 2021-12-30 14:58:22,354]\u001b[0m Trial 26 finished with value: 4.446125251688249 and parameters: {'min_samples_leaf': 74, 'max_depth': 23}. Best is trial 16 with value: 3.584127897056329.\u001b[0m\n",
      "\u001b[32m[I 2021-12-30 14:58:23,226]\u001b[0m Trial 27 finished with value: 4.289165977921309 and parameters: {'min_samples_leaf': 65, 'max_depth': 23}. Best is trial 16 with value: 3.584127897056329.\u001b[0m\n",
      "\u001b[32m[I 2021-12-30 14:58:24,158]\u001b[0m Trial 28 finished with value: 3.6646224933655382 and parameters: {'min_samples_leaf': 52, 'max_depth': 14}. Best is trial 16 with value: 3.584127897056329.\u001b[0m\n",
      "\u001b[32m[I 2021-12-30 14:58:25,134]\u001b[0m Trial 29 finished with value: 3.6078408118532197 and parameters: {'min_samples_leaf': 51, 'max_depth': 16}. Best is trial 16 with value: 3.584127897056329.\u001b[0m\n"
     ]
    },
    {
     "data": {
      "text/plain": [
       "{'min_samples_leaf': 51, 'max_depth': 24}"
      ]
     },
     "execution_count": 6,
     "metadata": {},
     "output_type": "execute_result"
    }
   ],
   "source": [
    "hyperparameter_tuning(\n",
    "        df=df_boston,\n",
    "        target=\"target\",\n",
    "        parameters=[\n",
    "        {\"name\": \"min_samples_leaf\", \"type\": \"Integer\", \"low\": 50, \"high\": 75},\n",
    "        {\"name\": \"max_depth\", \"type\": \"Integer\", \"low\": 12, \"high\": 24},\n",
    "    ],\n",
    "        algorithm=RandomForestRegressor,\n",
    "        metric=mean_absolute_error,\n",
    "        scoring_option=\"minimize\",\n",
    "        n_trials=30,\n",
    "    )"
   ]
  },
  {
   "cell_type": "markdown",
   "id": "45212dcf",
   "metadata": {},
   "source": [
    "## 2.0 Conclusion and library advantages"
   ]
  },
  {
   "cell_type": "markdown",
   "id": "a760222e",
   "metadata": {},
   "source": [
    "This implementation is an advantage for feature selection process during the development of ML models due to its standardization. Basically, you are able to run several different methods for feature select only specifying basic hyperparameters and the dataFrame to be used. This makes very to run a lot of tests in order to get best set of features for the train/test phase."
   ]
  },
  {
   "cell_type": "markdown",
   "id": "95bfae33",
   "metadata": {},
   "source": [
    "## References"
   ]
  },
  {
   "cell_type": "markdown",
   "id": "657de6c7",
   "metadata": {},
   "source": [
    "[cross_val_score](https://scikit-learn.org/stable/modules/generated/sklearn.model_selection.cross_val_score.html)\n",
    "\n",
    "\n",
    "[KFold](https://scikit-learn.org/stable/modules/generated/sklearn.model_selection.KFold.html?highlight=kfold#sklearn.model_selection.KFold)\n",
    "\n",
    "\n",
    "[optuna](https://optuna.readthedocs.io/en/v0.19.0/)\n",
    "\n",
    "\n",
    "[RandomSampler](https://optuna.readthedocs.io/en/stable/reference/generated/optuna.samplers.RandomSampler.html)\n",
    "\n",
    "\n",
    "[make_scorer](https://scikit-learn.org/stable/modules/generated/sklearn.metrics.make_scorer.html)"
   ]
  }
 ],
 "metadata": {
  "kernelspec": {
   "display_name": "Python 3 (ipykernel)",
   "language": "python",
   "name": "python3"
  },
  "language_info": {
   "codemirror_mode": {
    "name": "ipython",
    "version": 3
   },
   "file_extension": ".py",
   "mimetype": "text/x-python",
   "name": "python",
   "nbconvert_exporter": "python",
   "pygments_lexer": "ipython3",
   "version": "3.8.8"
  }
 },
 "nbformat": 4,
 "nbformat_minor": 5
}
