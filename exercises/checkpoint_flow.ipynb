{
 "cells": [
  {
   "cell_type": "markdown",
   "id": "e1f21e45",
   "metadata": {},
   "source": [
    "## 1.0 Introduction"
   ]
  },
  {
   "cell_type": "markdown",
   "id": "7ee1560c",
   "metadata": {},
   "source": [
    "The main objective of this feature is create checkoints in all functions to facilitate the debug process and identify what function broke. Basicaly this feature revolve around the `class` `LocalStateHandler` that is responsible for writing and reading the contents of the state of a program (i.e. a set of small variables) into and from a file in the local filesystem, the state is defined as a dictionary and it is serialized in the file with the *Dill* library. For more information check the docstring class. Above you can find how this feature works. Enjoy!!\n"
   ]
  },
  {
   "cell_type": "code",
   "execution_count": null,
   "id": "cedc1c1d",
   "metadata": {},
   "outputs": [],
   "source": []
  },
  {
   "cell_type": "markdown",
   "id": "c3d3607f",
   "metadata": {},
   "source": [
    "## 1.1 Import modules"
   ]
  },
  {
   "cell_type": "code",
   "execution_count": 1,
   "id": "39cdb5e3",
   "metadata": {},
   "outputs": [],
   "source": [
    "from gumly.checkpoint_flow import CheckpointFlow"
   ]
  },
  {
   "cell_type": "markdown",
   "id": "44b0ef2d",
   "metadata": {},
   "source": [
    "## 1.2 Telling a History"
   ]
  },
  {
   "cell_type": "markdown",
   "id": "6aac4c1f",
   "metadata": {},
   "source": [
    "Imagine you are writing three code procedures to run, all of them are heavy and take some time to run. They might load large amounts of data and write them down as well."
   ]
  },
  {
   "cell_type": "markdown",
   "id": "1d26fe0c",
   "metadata": {},
   "source": [
    "### Step 1 -  Calling the Class CheckpointFlow and Serializing "
   ]
  },
  {
   "cell_type": "code",
   "execution_count": 2,
   "id": "34932277",
   "metadata": {},
   "outputs": [],
   "source": [
    "cp = CheckpointFlow(\"checkpoint.pkl\", handler='local')"
   ]
  },
  {
   "cell_type": "markdown",
   "id": "f90718d1",
   "metadata": {},
   "source": [
    "###  step 2 - Create the inicial state"
   ]
  },
  {
   "cell_type": "markdown",
   "id": "a3b8005a",
   "metadata": {},
   "source": [
    "#### We have some initial variables values that are necessary for the first procedure:"
   ]
  },
  {
   "cell_type": "code",
   "execution_count": 3,
   "id": "5e9ccada",
   "metadata": {},
   "outputs": [],
   "source": [
    "initial_state = dict(a='value of A')"
   ]
  },
  {
   "cell_type": "markdown",
   "id": "0f4b8aa5",
   "metadata": {},
   "source": [
    "### Step - 3 Starting the function loader and Save"
   ]
  },
  {
   "cell_type": "markdown",
   "id": "533b2f14",
   "metadata": {},
   "source": [
    "####  We write the code to load and save the large datasets separetely."
   ]
  },
  {
   "cell_type": "code",
   "execution_count": 4,
   "id": "87488c29",
   "metadata": {},
   "outputs": [],
   "source": [
    "def loader(state):\n",
    "    print(\"loader\")\n",
    "    return {'x': [1, 2, 3]}\n",
    "\n",
    "def saver(state, data):\n",
    "    print(f\"saver printing data={data}\")\n",
    "    \n",
    "def loader3(state):\n",
    "    print(\"loader3\")\n",
    "    return {'z': ['A', 'B', 'C']}\n",
    "\n",
    "def saver3(state, data):\n",
    "    print(f\"saver3 printing data={data}\")"
   ]
  },
  {
   "cell_type": "markdown",
   "id": "65344b69",
   "metadata": {},
   "source": [
    "### Step 4 - Wrap and add the decorator"
   ]
  },
  {
   "cell_type": "markdown",
   "id": "b5083c03",
   "metadata": {},
   "source": [
    "#### These are the procedures, which are wraped and added to the sequence of the flow with the decorator      `add_step`:"
   ]
  },
  {
   "cell_type": "code",
   "execution_count": 5,
   "id": "57ac0858",
   "metadata": {},
   "outputs": [],
   "source": [
    "@cp.add_step(load=loader, save=saver)\n",
    "def f1(state, data):\n",
    "    print(f\"f1 printing state: {state}\")\n",
    "    print(f\"f1 printing data: {data}\")\n",
    "    state['d'] = 'D'\n",
    "\n",
    "@cp.add_step()\n",
    "def f2(state, data):\n",
    "    raise Exception(\"This thing broke!\")\n",
    "\n",
    "@cp.add_step(load=loader3, save=saver3)\n",
    "def f3(state, data):\n",
    "    print(f\"f3 printing state: {state}\")\n",
    "    print(f\"f3 printing data: {data}\")\n",
    "    state['c'] = 4.5"
   ]
  },
  {
   "cell_type": "markdown",
   "id": "754affbb",
   "metadata": {},
   "source": [
    "### Step 5 - Execute with Checkpoint Flow"
   ]
  },
  {
   "cell_type": "code",
   "execution_count": 6,
   "id": "2a260b47",
   "metadata": {},
   "outputs": [
    {
     "name": "stdout",
     "output_type": "stream",
     "text": [
      "loader\n",
      "f1 printing state: {'a': 'value of A'}\n",
      "f1 printing data: {'x': [1, 2, 3]}\n",
      "saver printing data={'x': [1, 2, 3]}\n"
     ]
    },
    {
     "ename": "Exception",
     "evalue": "This thing broke!",
     "output_type": "error",
     "traceback": [
      "\u001b[0;31m---------------------------------------------------------------------------\u001b[0m",
      "\u001b[0;31mException\u001b[0m                                 Traceback (most recent call last)",
      "\u001b[0;32m/tmp/ipykernel_200542/2872855650.py\u001b[0m in \u001b[0;36m<module>\u001b[0;34m\u001b[0m\n\u001b[0;32m----> 1\u001b[0;31m \u001b[0mcp\u001b[0m\u001b[0;34m.\u001b[0m\u001b[0mrun\u001b[0m\u001b[0;34m(\u001b[0m\u001b[0minitial_state\u001b[0m\u001b[0;34m)\u001b[0m\u001b[0;34m\u001b[0m\u001b[0;34m\u001b[0m\u001b[0m\n\u001b[0m",
      "\u001b[0;32m~/Documents/dev_work/Gumly/gumly/checkpoint_flow.py\u001b[0m in \u001b[0;36mrun\u001b[0;34m(self, state, load_policy, checkpoint)\u001b[0m\n\u001b[1;32m    288\u001b[0m         \u001b[0;32mfor\u001b[0m \u001b[0mi\u001b[0m \u001b[0;32min\u001b[0m \u001b[0mrange\u001b[0m\u001b[0;34m(\u001b[0m\u001b[0mself\u001b[0m\u001b[0;34m.\u001b[0m\u001b[0mckp_index\u001b[0m\u001b[0;34m,\u001b[0m \u001b[0mlen\u001b[0m\u001b[0;34m(\u001b[0m\u001b[0mself\u001b[0m\u001b[0;34m.\u001b[0m\u001b[0mfs\u001b[0m\u001b[0;34m)\u001b[0m\u001b[0;34m)\u001b[0m\u001b[0;34m:\u001b[0m\u001b[0;34m\u001b[0m\u001b[0;34m\u001b[0m\u001b[0m\n\u001b[1;32m    289\u001b[0m             \u001b[0;31m# run the wrapped main function\u001b[0m\u001b[0;34m\u001b[0m\u001b[0;34m\u001b[0m\u001b[0;34m\u001b[0m\u001b[0m\n\u001b[0;32m--> 290\u001b[0;31m             data = self.fs[i](\n\u001b[0m\u001b[1;32m    291\u001b[0m                 \u001b[0mstate\u001b[0m\u001b[0;34m,\u001b[0m\u001b[0;34m\u001b[0m\u001b[0;34m\u001b[0m\u001b[0m\n\u001b[1;32m    292\u001b[0m                 \u001b[0mshould_load\u001b[0m\u001b[0;34m=\u001b[0m\u001b[0mpolicy\u001b[0m\u001b[0;34m[\u001b[0m\u001b[0mi\u001b[0m\u001b[0;34m]\u001b[0m\u001b[0;34m,\u001b[0m\u001b[0;34m\u001b[0m\u001b[0;34m\u001b[0m\u001b[0m\n",
      "\u001b[0;32m~/Documents/dev_work/Gumly/gumly/checkpoint_flow.py\u001b[0m in \u001b[0;36mwrapper\u001b[0;34m(state, should_load, data)\u001b[0m\n\u001b[1;32m    182\u001b[0m                     \u001b[0mdata\u001b[0m\u001b[0;34m.\u001b[0m\u001b[0mupdate\u001b[0m\u001b[0;34m(\u001b[0m\u001b[0mload\u001b[0m\u001b[0;34m(\u001b[0m\u001b[0mstate\u001b[0m\u001b[0;34m)\u001b[0m\u001b[0;34m)\u001b[0m\u001b[0;34m\u001b[0m\u001b[0;34m\u001b[0m\u001b[0m\n\u001b[1;32m    183\u001b[0m                 \u001b[0;31m# run the main function with the given state and data\u001b[0m\u001b[0;34m\u001b[0m\u001b[0;34m\u001b[0m\u001b[0;34m\u001b[0m\u001b[0m\n\u001b[0;32m--> 184\u001b[0;31m                 \u001b[0mf\u001b[0m\u001b[0;34m(\u001b[0m\u001b[0mstate\u001b[0m\u001b[0;34m,\u001b[0m \u001b[0mdata\u001b[0m\u001b[0;34m)\u001b[0m\u001b[0;34m\u001b[0m\u001b[0;34m\u001b[0m\u001b[0m\n\u001b[0m\u001b[1;32m    185\u001b[0m                 \u001b[0;31m# if some save function is provided, ...\u001b[0m\u001b[0;34m\u001b[0m\u001b[0;34m\u001b[0m\u001b[0;34m\u001b[0m\u001b[0m\n\u001b[1;32m    186\u001b[0m                 \u001b[0;32mif\u001b[0m \u001b[0msave\u001b[0m \u001b[0;32mis\u001b[0m \u001b[0;32mnot\u001b[0m \u001b[0;32mNone\u001b[0m\u001b[0;34m:\u001b[0m\u001b[0;34m\u001b[0m\u001b[0;34m\u001b[0m\u001b[0m\n",
      "\u001b[0;32m/tmp/ipykernel_200542/1841235213.py\u001b[0m in \u001b[0;36mf2\u001b[0;34m(state, data)\u001b[0m\n\u001b[1;32m      7\u001b[0m \u001b[0;34m@\u001b[0m\u001b[0mcp\u001b[0m\u001b[0;34m.\u001b[0m\u001b[0madd_step\u001b[0m\u001b[0;34m(\u001b[0m\u001b[0;34m)\u001b[0m\u001b[0;34m\u001b[0m\u001b[0;34m\u001b[0m\u001b[0m\n\u001b[1;32m      8\u001b[0m \u001b[0;32mdef\u001b[0m \u001b[0mf2\u001b[0m\u001b[0;34m(\u001b[0m\u001b[0mstate\u001b[0m\u001b[0;34m,\u001b[0m \u001b[0mdata\u001b[0m\u001b[0;34m)\u001b[0m\u001b[0;34m:\u001b[0m\u001b[0;34m\u001b[0m\u001b[0;34m\u001b[0m\u001b[0m\n\u001b[0;32m----> 9\u001b[0;31m     \u001b[0;32mraise\u001b[0m \u001b[0mException\u001b[0m\u001b[0;34m(\u001b[0m\u001b[0;34m\"This thing broke!\"\u001b[0m\u001b[0;34m)\u001b[0m\u001b[0;34m\u001b[0m\u001b[0;34m\u001b[0m\u001b[0m\n\u001b[0m\u001b[1;32m     10\u001b[0m \u001b[0;34m\u001b[0m\u001b[0m\n\u001b[1;32m     11\u001b[0m \u001b[0;34m@\u001b[0m\u001b[0mcp\u001b[0m\u001b[0;34m.\u001b[0m\u001b[0madd_step\u001b[0m\u001b[0;34m(\u001b[0m\u001b[0mload\u001b[0m\u001b[0;34m=\u001b[0m\u001b[0mloader3\u001b[0m\u001b[0;34m,\u001b[0m \u001b[0msave\u001b[0m\u001b[0;34m=\u001b[0m\u001b[0msaver3\u001b[0m\u001b[0;34m)\u001b[0m\u001b[0;34m\u001b[0m\u001b[0;34m\u001b[0m\u001b[0m\n",
      "\u001b[0;31mException\u001b[0m: This thing broke!"
     ]
    }
   ],
   "source": [
    "cp.run(initial_state)"
   ]
  },
  {
   "cell_type": "markdown",
   "id": "923742f1",
   "metadata": {},
   "source": [
    "####  Look!!! We Know now what function broke let's fix it now.  "
   ]
  },
  {
   "cell_type": "markdown",
   "id": "65d896de",
   "metadata": {},
   "source": [
    "### Step 6 - Fix and Run Again. "
   ]
  },
  {
   "cell_type": "code",
   "execution_count": null,
   "id": "afda9d40",
   "metadata": {},
   "outputs": [],
   "source": [
    "cp = CheckpointFlow(\"checkpoint.pkl\", handler='local')\n",
    "\n",
    "@cp.add_step(load=loader, save=saver)\n",
    "def f1(state, data):\n",
    "    print(f\"f1 printing state: {state}\")\n",
    "    print(f\"f1 printing data: {data}\")\n",
    "    state['d'] = 'D'\n",
    "\n",
    "# the fixed function\n",
    "@cp.add_step()\n",
    "def f2(state, data):\n",
    "    print(f\"f2 printing state: {state}\")\n",
    "    print(f\"f2 printing data: {data}\")\n",
    "\n",
    "@cp.add_step(load=loader3, save=saver3)\n",
    "def f3(state, data):\n",
    "    print(f\"f3 printing state: {state}\")\n",
    "    print(f\"f3 printing data: {data}\")\n",
    "    state['c'] = 4.5"
   ]
  },
  {
   "cell_type": "markdown",
   "id": "8bd00dd2",
   "metadata": {},
   "source": [
    "#### Now, let's run everything again:"
   ]
  },
  {
   "cell_type": "code",
   "execution_count": null,
   "id": "00d214a2",
   "metadata": {},
   "outputs": [],
   "source": [
    "cp.run(initial_state)"
   ]
  },
  {
   "cell_type": "markdown",
   "id": "be00d243",
   "metadata": {},
   "source": [
    "#### Notice that the code started from f2, instead of f1 this time. If we run it again, it will start from the beggining, this is the magic of this feature!!!!"
   ]
  },
  {
   "cell_type": "code",
   "execution_count": null,
   "id": "22ebc091",
   "metadata": {},
   "outputs": [],
   "source": [
    "cp = CheckpointFlow(\"checkpoint.pkl\", handler='local')\n",
    "\n",
    "@cp.add_step(load=loader, save=saver)\n",
    "def f1(state, data):\n",
    "    print(f\"f1 printing state: {state}\")\n",
    "    print(f\"f1 printing data: {data}\")\n",
    "    state['d'] = 'D'\n",
    "\n",
    "# the fixed function\n",
    "@cp.add_step()\n",
    "def f2(state, data):\n",
    "    print(f\"f2 printing state: {state}\")\n",
    "    print(f\"f2 printing data: {data}\")\n",
    "\n",
    "@cp.add_step(load=loader3, save=saver3)\n",
    "def f3(state, data):\n",
    "    print(f\"f3 printing state: {state}\")\n",
    "    print(f\"f3 printing data: {data}\")\n",
    "    state['c'] = 4.5\n",
    "    \n",
    "cp.run(initial_state)"
   ]
  },
  {
   "cell_type": "markdown",
   "id": "5770cd09",
   "metadata": {},
   "source": [
    "#### If we want to run every loader function, we can set the loading policy:"
   ]
  },
  {
   "cell_type": "code",
   "execution_count": null,
   "id": "f5edae4c",
   "metadata": {},
   "outputs": [],
   "source": [
    "cp.run(initial_state, load_policy='always')"
   ]
  },
  {
   "cell_type": "markdown",
   "id": "27886eed",
   "metadata": {},
   "source": [
    "#### If we want to start from a specfic point, even if nothing broke, we just need to pass the checkpoint index to the `run` method:"
   ]
  },
  {
   "cell_type": "code",
   "execution_count": null,
   "id": "62a642f0",
   "metadata": {},
   "outputs": [],
   "source": [
    "cp.run(initial_state, checkpoint=1)"
   ]
  },
  {
   "cell_type": "markdown",
   "id": "1bce2ae3",
   "metadata": {},
   "source": [
    "## 2.0 Conclusion and library advantages"
   ]
  },
  {
   "cell_type": "markdown",
   "id": "818623fc",
   "metadata": {},
   "source": [
    "This implementation is an advantage because you might execute many functions and if it broke you will know exactly function you have to fix.  "
   ]
  },
  {
   "cell_type": "markdown",
   "id": "689f63f9",
   "metadata": {},
   "source": [
    "## Reference\n",
    "\n",
    "[functools](https://docs.python.org/3/library/functools.html)\n",
    "\n",
    "[dill](https://pypi.org/project/dill/)"
   ]
  }
 ],
 "metadata": {
  "kernelspec": {
   "display_name": "Python 3 (ipykernel)",
   "language": "python",
   "name": "python3"
  },
  "language_info": {
   "codemirror_mode": {
    "name": "ipython",
    "version": 3
   },
   "file_extension": ".py",
   "mimetype": "text/x-python",
   "name": "python",
   "nbconvert_exporter": "python",
   "pygments_lexer": "ipython3",
   "version": "3.8.8"
  }
 },
 "nbformat": 4,
 "nbformat_minor": 5
}
