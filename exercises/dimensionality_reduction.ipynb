{
 "cells": [
  {
   "cell_type": "code",
   "execution_count": 2,
   "id": "c1ee8866",
   "metadata": {
    "scrolled": true
   },
   "outputs": [
    {
     "name": "stdout",
     "output_type": "stream",
     "text": [
      "Processing /home/diego.fan/Documents/dev_work/mlutils/dist/gumly-1.0.0-py3-none-any.whl\n",
      "Requirement already satisfied: pandas==1.3.5 in /home/diego.fan/anaconda3/lib/python3.8/site-packages (from gumly==1.0.0) (1.3.5)\n",
      "Requirement already satisfied: numpy==1.21.4 in /home/diego.fan/anaconda3/lib/python3.8/site-packages (from gumly==1.0.0) (1.21.4)\n",
      "Requirement already satisfied: scikit-learn==1.0.2 in /home/diego.fan/anaconda3/lib/python3.8/site-packages (from gumly==1.0.0) (1.0.2)\n",
      "Requirement already satisfied: scipy==1.7.3 in /home/diego.fan/anaconda3/lib/python3.8/site-packages (from gumly==1.0.0) (1.7.3)\n",
      "Requirement already satisfied: lightgbm==3.2.1 in /home/diego.fan/anaconda3/lib/python3.8/site-packages (from gumly==1.0.0) (3.2.1)\n",
      "Requirement already satisfied: optuna==2.10.0 in /home/diego.fan/anaconda3/lib/python3.8/site-packages (from gumly==1.0.0) (2.10.0)\n",
      "Requirement already satisfied: wheel in /home/diego.fan/anaconda3/lib/python3.8/site-packages (from lightgbm==3.2.1->gumly==1.0.0) (0.37.1)\n",
      "Requirement already satisfied: cmaes>=0.8.2 in /home/diego.fan/anaconda3/lib/python3.8/site-packages (from optuna==2.10.0->gumly==1.0.0) (0.8.2)\n",
      "Requirement already satisfied: sqlalchemy>=1.1.0 in /home/diego.fan/anaconda3/lib/python3.8/site-packages (from optuna==2.10.0->gumly==1.0.0) (1.4.29)\n",
      "Requirement already satisfied: PyYAML in /home/diego.fan/anaconda3/lib/python3.8/site-packages (from optuna==2.10.0->gumly==1.0.0) (6.0)\n",
      "Requirement already satisfied: colorlog in /home/diego.fan/anaconda3/lib/python3.8/site-packages (from optuna==2.10.0->gumly==1.0.0) (6.6.0)\n",
      "Requirement already satisfied: alembic in /home/diego.fan/anaconda3/lib/python3.8/site-packages (from optuna==2.10.0->gumly==1.0.0) (1.7.5)\n",
      "Requirement already satisfied: packaging>=20.0 in /home/diego.fan/anaconda3/lib/python3.8/site-packages (from optuna==2.10.0->gumly==1.0.0) (21.3)\n",
      "Requirement already satisfied: tqdm in /home/diego.fan/anaconda3/lib/python3.8/site-packages (from optuna==2.10.0->gumly==1.0.0) (4.61.1)\n",
      "Requirement already satisfied: cliff in /home/diego.fan/anaconda3/lib/python3.8/site-packages (from optuna==2.10.0->gumly==1.0.0) (3.10.0)\n",
      "Requirement already satisfied: pytz>=2017.3 in /home/diego.fan/anaconda3/lib/python3.8/site-packages (from pandas==1.3.5->gumly==1.0.0) (2021.3)\n",
      "Requirement already satisfied: python-dateutil>=2.7.3 in /home/diego.fan/anaconda3/lib/python3.8/site-packages (from pandas==1.3.5->gumly==1.0.0) (2.8.2)\n",
      "Requirement already satisfied: threadpoolctl>=2.0.0 in /home/diego.fan/anaconda3/lib/python3.8/site-packages (from scikit-learn==1.0.2->gumly==1.0.0) (3.0.0)\n",
      "Requirement already satisfied: joblib>=0.11 in /home/diego.fan/anaconda3/lib/python3.8/site-packages (from scikit-learn==1.0.2->gumly==1.0.0) (1.1.0)\n",
      "Requirement already satisfied: pyparsing!=3.0.5,>=2.0.2 in /home/diego.fan/anaconda3/lib/python3.8/site-packages (from packaging>=20.0->optuna==2.10.0->gumly==1.0.0) (3.0.6)\n",
      "Requirement already satisfied: six>=1.5 in /home/diego.fan/anaconda3/lib/python3.8/site-packages (from python-dateutil>=2.7.3->pandas==1.3.5->gumly==1.0.0) (1.16.0)\n",
      "Requirement already satisfied: greenlet!=0.4.17 in /home/diego.fan/anaconda3/lib/python3.8/site-packages (from sqlalchemy>=1.1.0->optuna==2.10.0->gumly==1.0.0) (1.1.2)\n",
      "Requirement already satisfied: importlib-metadata in /home/diego.fan/anaconda3/lib/python3.8/site-packages (from alembic->optuna==2.10.0->gumly==1.0.0) (4.10.0)\n",
      "Requirement already satisfied: importlib-resources in /home/diego.fan/anaconda3/lib/python3.8/site-packages (from alembic->optuna==2.10.0->gumly==1.0.0) (5.4.0)\n",
      "Requirement already satisfied: Mako in /home/diego.fan/anaconda3/lib/python3.8/site-packages (from alembic->optuna==2.10.0->gumly==1.0.0) (1.1.6)\n",
      "Requirement already satisfied: cmd2>=1.0.0 in /home/diego.fan/anaconda3/lib/python3.8/site-packages (from cliff->optuna==2.10.0->gumly==1.0.0) (2.3.3)\n",
      "Requirement already satisfied: stevedore>=2.0.1 in /home/diego.fan/anaconda3/lib/python3.8/site-packages (from cliff->optuna==2.10.0->gumly==1.0.0) (3.5.0)\n",
      "Requirement already satisfied: pbr!=2.1.0,>=2.0.0 in /home/diego.fan/anaconda3/lib/python3.8/site-packages (from cliff->optuna==2.10.0->gumly==1.0.0) (5.8.0)\n",
      "Requirement already satisfied: PrettyTable>=0.7.2 in /home/diego.fan/anaconda3/lib/python3.8/site-packages (from cliff->optuna==2.10.0->gumly==1.0.0) (2.5.0)\n",
      "Requirement already satisfied: autopage>=0.4.0 in /home/diego.fan/anaconda3/lib/python3.8/site-packages (from cliff->optuna==2.10.0->gumly==1.0.0) (0.4.0)\n",
      "Requirement already satisfied: attrs>=16.3.0 in /home/diego.fan/anaconda3/lib/python3.8/site-packages (from cmd2>=1.0.0->cliff->optuna==2.10.0->gumly==1.0.0) (21.4.0)\n",
      "Requirement already satisfied: pyperclip>=1.6 in /home/diego.fan/anaconda3/lib/python3.8/site-packages (from cmd2>=1.0.0->cliff->optuna==2.10.0->gumly==1.0.0) (1.8.2)\n",
      "Requirement already satisfied: wcwidth>=0.1.7 in /home/diego.fan/anaconda3/lib/python3.8/site-packages (from cmd2>=1.0.0->cliff->optuna==2.10.0->gumly==1.0.0) (0.2.5)\n",
      "Requirement already satisfied: zipp>=0.5 in /home/diego.fan/anaconda3/lib/python3.8/site-packages (from importlib-metadata->alembic->optuna==2.10.0->gumly==1.0.0) (3.7.0)\n",
      "Requirement already satisfied: MarkupSafe>=0.9.2 in /home/diego.fan/anaconda3/lib/python3.8/site-packages (from Mako->alembic->optuna==2.10.0->gumly==1.0.0) (2.0.1)\n",
      "Installing collected packages: gumly\n",
      "Successfully installed gumly-1.0.0\n"
     ]
    }
   ],
   "source": [
    "!pip install /home/diego.fan/Documents/dev_work/mlutils/dist/gumly-1.0.0-py3-none-any.whl\n"
   ]
  },
  {
   "cell_type": "markdown",
   "id": "9fc210d1",
   "metadata": {},
   "source": [
    "## 1.0 Introduction"
   ]
  },
  {
   "cell_type": "markdown",
   "id": "03b1fc9a",
   "metadata": {},
   "source": [
    "The main objective of this function is to make possible to use two different methods for dimentionality reduction (PCA and SVD) with the same API.\n",
    "\n",
    "Dimensionality reduction can be used with two techniques:\n",
    "- PCA (Principal Components Analysis) technique, which is often used to reduce the dimensionality of large data sets, by transforming a large set of variables into a smaller one that still contains most of the information in the large set.\n",
    "\n",
    "- SVD (Singular-Value Decomposition), that is a matrix decomposition method for reducing a matrix to its constituent parts in order to make certain subsequent matrix calculations simpler."
   ]
  },
  {
   "cell_type": "markdown",
   "id": "faa66ad3",
   "metadata": {},
   "source": [
    "## 1.1 Import modules"
   ]
  },
  {
   "cell_type": "code",
   "execution_count": 3,
   "id": "d54fad94",
   "metadata": {},
   "outputs": [],
   "source": [
    "# For dimencionality reduction\n",
    "from gumly.dimensionality_reduction import dimensionality_reduction\n",
    "\n",
    "#Others\n",
    "import numpy as np\n",
    "import pandas as pd"
   ]
  },
  {
   "cell_type": "markdown",
   "id": "322c2622",
   "metadata": {},
   "source": [
    "## 1.2 Using SVD  with numpy array"
   ]
  },
  {
   "cell_type": "code",
   "execution_count": 4,
   "id": "df3ff7d5",
   "metadata": {},
   "outputs": [
    {
     "data": {
      "text/plain": [
       "array([[ 0.34073313,  0.10864144],\n",
       "       [ 0.47650997,  0.17692445],\n",
       "       [ 0.70110855,  0.31684481],\n",
       "       [-0.0675579 ,  0.44724498],\n",
       "       [-0.17133298,  0.52770822],\n",
       "       [-0.36244574,  0.61481713]])"
      ]
     },
     "execution_count": 4,
     "metadata": {},
     "output_type": "execute_result"
    }
   ],
   "source": [
    "df = np.array(\n",
    "        [\n",
    "            [-1, -1, 2, -2],\n",
    "            [-2, -1, 3, -1],\n",
    "            [-3, -2, 5, 1],\n",
    "            [1, 1, 6, 1],\n",
    "            [2, 1, 7, 1],\n",
    "            [3, 2, 8, 1],\n",
    "        ],\n",
    "    )\n",
    "    \n",
    "df_out = dimensionality_reduction(df, decomposition_method= \"SVD\", k=2)\n",
    "df_out"
   ]
  },
  {
   "cell_type": "markdown",
   "id": "755984de",
   "metadata": {},
   "source": [
    "## 1.3 Using SVD with pandas DataFrame"
   ]
  },
  {
   "cell_type": "code",
   "execution_count": 5,
   "id": "442cec59",
   "metadata": {},
   "outputs": [
    {
     "data": {
      "text/plain": [
       "array([[ 0.4811332 ,  0.2526437 , -0.28237451],\n",
       "       [-0.50494052,  0.11182354, -0.37534968],\n",
       "       [ 0.25624872,  0.1514442 , -0.45781405],\n",
       "       [-0.35675473, -0.65196424, -0.44341796],\n",
       "       [ 0.51970037, -0.40649887, -0.38651385],\n",
       "       [-0.22476677,  0.55716479, -0.47304451]])"
      ]
     },
     "execution_count": 5,
     "metadata": {},
     "output_type": "execute_result"
    }
   ],
   "source": [
    "def get_df(m, n):\n",
    "    df = pd.DataFrame(np.random.rand(m,n))\n",
    "    return df\n",
    "\n",
    "df = get_df(6, 5)\n",
    "df_out = dimensionality_reduction(df, decomposition_method=\"SVD\", k=3)\n",
    "df_out"
   ]
  },
  {
   "cell_type": "markdown",
   "id": "009658c6",
   "metadata": {},
   "source": [
    "## 1.4 Using PCA with Numpy Array"
   ]
  },
  {
   "cell_type": "code",
   "execution_count": 6,
   "id": "5ffce65c",
   "metadata": {},
   "outputs": [
    {
     "data": {
      "text/plain": [
       "array([[-3.55416303, -2.01120392],\n",
       "       [-3.29181646, -0.37102401],\n",
       "       [-2.55517195,  2.67830462],\n",
       "       [ 1.76504972,  0.04940415],\n",
       "       [ 2.9974995 ,  0.00646722],\n",
       "       [ 4.63860223, -0.35194805]])"
      ]
     },
     "execution_count": 6,
     "metadata": {},
     "output_type": "execute_result"
    }
   ],
   "source": [
    "df = np.array(\n",
    "        [\n",
    "            [-1, -1, 2, -2],\n",
    "            [-2, -1, 3, -1],\n",
    "            [-3, -2, 5, 1],\n",
    "            [1, 1, 6, 1],\n",
    "            [2, 1, 7, 1],\n",
    "            [3, 2, 8, 1],\n",
    "        ],\n",
    "    )\n",
    "\n",
    "df_out = dimensionality_reduction(df, decomposition_method=\"PCA\", k=2)\n",
    "df_out"
   ]
  },
  {
   "cell_type": "markdown",
   "id": "9000823d",
   "metadata": {},
   "source": [
    "## 1.5 Using PCA with pandas DataFrame"
   ]
  },
  {
   "cell_type": "code",
   "execution_count": 7,
   "id": "f715cdd5",
   "metadata": {},
   "outputs": [
    {
     "data": {
      "text/plain": [
       "array([[-3.55416303, -2.01120392, -0.17043529],\n",
       "       [-3.29181646, -0.37102401,  0.15484655],\n",
       "       [-2.55517195,  2.67830462, -0.13828135],\n",
       "       [ 1.76504972,  0.04940415,  0.50760573],\n",
       "       [ 2.9974995 ,  0.00646722, -0.18007924],\n",
       "       [ 4.63860223, -0.35194805, -0.1736564 ]])"
      ]
     },
     "execution_count": 7,
     "metadata": {},
     "output_type": "execute_result"
    }
   ],
   "source": [
    "df_out = dimensionality_reduction(df, decomposition_method=\"PCA\", k=3)\n",
    "df_out"
   ]
  },
  {
   "cell_type": "markdown",
   "id": "110c7121",
   "metadata": {},
   "source": [
    "## 2.0 Conclusion and library advantages"
   ]
  },
  {
   "cell_type": "markdown",
   "id": "3107e064",
   "metadata": {},
   "source": [
    "This implementation is an advantage for dimentionality reduction process during the development of ML models due to its possibility to use to different techniques (PCA and SVD) by only changing the decomposition_method parameter. It allows the data scientist to run several different tests for better results in terms of explained variance."
   ]
  },
  {
   "cell_type": "markdown",
   "id": "cab6d425",
   "metadata": {},
   "source": [
    "## References\n",
    "\n",
    "[PCA Skitlearn](https://scikit-learn.org/stable/modules/generated/sklearn.decomposition.PCA.html)\n",
    "\n",
    "\n",
    "\n",
    "[SVD Sciypy](https://docs.scipy.org/doc/scipy/reference/generated/scipy.sparse.linalg.svds.html)"
   ]
  }
 ],
 "metadata": {
  "kernelspec": {
   "display_name": "Python 3 (ipykernel)",
   "language": "python",
   "name": "python3"
  },
  "language_info": {
   "codemirror_mode": {
    "name": "ipython",
    "version": 3
   },
   "file_extension": ".py",
   "mimetype": "text/x-python",
   "name": "python",
   "nbconvert_exporter": "python",
   "pygments_lexer": "ipython3",
   "version": "3.8.8"
  }
 },
 "nbformat": 4,
 "nbformat_minor": 5
}
