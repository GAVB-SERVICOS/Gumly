{
 "cells": [
  {
   "cell_type": "markdown",
   "id": "1f7f8bfc",
   "metadata": {},
   "source": [
    "## 1.0 Introduction"
   ]
  },
  {
   "cell_type": "markdown",
   "id": "bce0b6f6",
   "metadata": {},
   "source": []
  },
  {
   "cell_type": "markdown",
   "id": "ead2c37b",
   "metadata": {},
   "source": [
    "### 1.1 Import modules"
   ]
  },
  {
   "cell_type": "code",
   "execution_count": 1,
   "id": "5dc223ce",
   "metadata": {},
   "outputs": [],
   "source": [
    "from gumly import imbalanced\n",
    "from sklearn.datasets import make_classification\n",
    "from collections import Counter"
   ]
  },
  {
   "cell_type": "markdown",
   "id": "77c0bb7f",
   "metadata": {},
   "source": [
    "## 2.0 Oversampling"
   ]
  },
  {
   "cell_type": "code",
   "execution_count": 2,
   "id": "4f64fc9b",
   "metadata": {},
   "outputs": [],
   "source": [
    "def create_dataset_over(\n",
    "    n_samples=1000,\n",
    "    weights=(0.01, 0.01, 0.98),\n",
    "    n_classes=3,\n",
    "    class_sep=0.8,\n",
    "    n_clusters=1,\n",
    "):\n",
    "    return make_classification(\n",
    "        n_samples=n_samples,\n",
    "        n_features=2,\n",
    "        n_informative=2,\n",
    "        n_redundant=0,\n",
    "        n_repeated=0,\n",
    "        n_classes=n_classes,\n",
    "        n_clusters_per_class=n_clusters,\n",
    "        weights=list(weights),\n",
    "        class_sep=class_sep,\n",
    "        random_state=0,\n",
    "    )"
   ]
  },
  {
   "cell_type": "code",
   "execution_count": 3,
   "id": "a5696b56",
   "metadata": {},
   "outputs": [],
   "source": [
    "def dataset_samples_over(X, y):\n",
    "    return sorted([x[1] for x in Counter(y).items()])"
   ]
  },
  {
   "cell_type": "code",
   "execution_count": 4,
   "id": "e5175b95",
   "metadata": {},
   "outputs": [],
   "source": [
    "X, y = create_dataset_over()\n",
    "class_map = dataset_samples_over(X, y)\n",
    "total_examples = sum(class_map)\n",
    "actual_examples = class_map[-1] * 3"
   ]
  },
  {
   "cell_type": "code",
   "execution_count": 5,
   "id": "fa8ae963",
   "metadata": {},
   "outputs": [
    {
     "data": {
      "text/plain": [
       "1000"
      ]
     },
     "execution_count": 5,
     "metadata": {},
     "output_type": "execute_result"
    }
   ],
   "source": [
    "total_examples"
   ]
  },
  {
   "cell_type": "code",
   "execution_count": 6,
   "id": "e73bae19",
   "metadata": {},
   "outputs": [
    {
     "data": {
      "text/plain": [
       "2916"
      ]
     },
     "execution_count": 6,
     "metadata": {},
     "output_type": "execute_result"
    }
   ],
   "source": [
    "actual_examples"
   ]
  },
  {
   "cell_type": "markdown",
   "id": "e5d38150",
   "metadata": {},
   "source": [
    "### 2.1 Oversampling Random "
   ]
  },
  {
   "cell_type": "code",
   "execution_count": 7,
   "id": "3ec9e570",
   "metadata": {},
   "outputs": [],
   "source": [
    "X_resample, y_resample = imbalanced.oversampler(X, y, 'random', random_state=0)\n",
    "class_map = dataset_samples_over(X_resample, y_resample)\n",
    "total_examples = sum(class_map)\n",
    "actual_examples = class_map[-1] * 3"
   ]
  },
  {
   "cell_type": "code",
   "execution_count": 8,
   "id": "18e2dad2",
   "metadata": {},
   "outputs": [
    {
     "data": {
      "text/plain": [
       "2916"
      ]
     },
     "execution_count": 8,
     "metadata": {},
     "output_type": "execute_result"
    }
   ],
   "source": [
    "total_examples"
   ]
  },
  {
   "cell_type": "code",
   "execution_count": 9,
   "id": "8cbe4fda",
   "metadata": {},
   "outputs": [
    {
     "data": {
      "text/plain": [
       "2916"
      ]
     },
     "execution_count": 9,
     "metadata": {},
     "output_type": "execute_result"
    }
   ],
   "source": [
    "actual_examples "
   ]
  },
  {
   "cell_type": "markdown",
   "id": "895ec9cf",
   "metadata": {},
   "source": [
    "### 2.2 Oversampling Smote"
   ]
  },
  {
   "cell_type": "code",
   "execution_count": 10,
   "id": "b9c7a2ec",
   "metadata": {
    "scrolled": true
   },
   "outputs": [],
   "source": [
    "X_resample, y_resample = imbalanced.oversampler(X, y, 'smote', random_state=0)\n",
    "class_map = dataset_samples_over(X_resample, y_resample)\n",
    "total_examples = sum(class_map)\n",
    "actual_examples = class_map[-1] * 3"
   ]
  },
  {
   "cell_type": "code",
   "execution_count": 11,
   "id": "11fb9d5d",
   "metadata": {},
   "outputs": [
    {
     "data": {
      "text/plain": [
       "2916"
      ]
     },
     "execution_count": 11,
     "metadata": {},
     "output_type": "execute_result"
    }
   ],
   "source": [
    "total_examples"
   ]
  },
  {
   "cell_type": "code",
   "execution_count": 12,
   "id": "e84dd739",
   "metadata": {},
   "outputs": [
    {
     "data": {
      "text/plain": [
       "2916"
      ]
     },
     "execution_count": 12,
     "metadata": {},
     "output_type": "execute_result"
    }
   ],
   "source": [
    "actual_examples "
   ]
  },
  {
   "cell_type": "markdown",
   "id": "ed1f2a85",
   "metadata": {},
   "source": [
    "### 2.3 Oversampling Smote"
   ]
  },
  {
   "cell_type": "code",
   "execution_count": 13,
   "id": "a1c3a8d1",
   "metadata": {},
   "outputs": [],
   "source": [
    "X_resample, y_resample = imbalanced.oversampler(X, y, 'adasyn', random_state=0)\n",
    "class_map = dataset_samples_over(X_resample, y_resample)\n",
    "total_examples = sum(class_map)\n",
    "actual_examples = class_map[-1] * 3"
   ]
  },
  {
   "cell_type": "code",
   "execution_count": 14,
   "id": "202e63c3",
   "metadata": {},
   "outputs": [
    {
     "data": {
      "text/plain": [
       "2922"
      ]
     },
     "execution_count": 14,
     "metadata": {},
     "output_type": "execute_result"
    }
   ],
   "source": [
    "total_examples"
   ]
  },
  {
   "cell_type": "code",
   "execution_count": 15,
   "id": "6aa4e462",
   "metadata": {},
   "outputs": [
    {
     "data": {
      "text/plain": [
       "2931"
      ]
     },
     "execution_count": 15,
     "metadata": {},
     "output_type": "execute_result"
    }
   ],
   "source": [
    "actual_examples "
   ]
  },
  {
   "cell_type": "markdown",
   "id": "111a500c",
   "metadata": {},
   "source": [
    "## 3.0 Undersampling "
   ]
  },
  {
   "cell_type": "code",
   "execution_count": 16,
   "id": "7374de92",
   "metadata": {},
   "outputs": [],
   "source": [
    "def create_dataset_under(\n",
    "    n_samples=5000,\n",
    "    weights=(0.01, 0.05, 0.94),\n",
    "    n_classes=3,\n",
    "    class_sep=0.8,\n",
    "    n_clusters=1,\n",
    "):\n",
    "    return make_classification(\n",
    "        n_samples=n_samples,\n",
    "        n_features=2,\n",
    "        n_informative=2,\n",
    "        n_redundant=0,\n",
    "        n_repeated=0,\n",
    "        n_classes=n_classes,\n",
    "        n_clusters_per_class=n_clusters,\n",
    "        weights=list(weights),\n",
    "        class_sep=class_sep,\n",
    "        random_state=0,\n",
    "    )"
   ]
  },
  {
   "cell_type": "code",
   "execution_count": 17,
   "id": "b3e85fb3",
   "metadata": {},
   "outputs": [],
   "source": [
    "def dataset_samples_under(X, y):\n",
    "    return sorted([x[1] for x in Counter(y).items()])"
   ]
  },
  {
   "cell_type": "code",
   "execution_count": 18,
   "id": "6f02497c",
   "metadata": {},
   "outputs": [],
   "source": [
    "X, y = create_dataset_over()\n",
    "class_map = dataset_samples_under(X, y)\n",
    "total_examples = sum(class_map)\n",
    "actual_examples = class_map[-1] * 3"
   ]
  },
  {
   "cell_type": "code",
   "execution_count": 19,
   "id": "c91af953",
   "metadata": {},
   "outputs": [
    {
     "data": {
      "text/plain": [
       "1000"
      ]
     },
     "execution_count": 19,
     "metadata": {},
     "output_type": "execute_result"
    }
   ],
   "source": [
    "total_examples"
   ]
  },
  {
   "cell_type": "code",
   "execution_count": 20,
   "id": "0bdd8a84",
   "metadata": {},
   "outputs": [
    {
     "data": {
      "text/plain": [
       "2916"
      ]
     },
     "execution_count": 20,
     "metadata": {},
     "output_type": "execute_result"
    }
   ],
   "source": [
    "actual_examples"
   ]
  },
  {
   "cell_type": "markdown",
   "id": "cdd2864c",
   "metadata": {},
   "source": [
    "### 3.1 Undersampling Random "
   ]
  },
  {
   "cell_type": "code",
   "execution_count": 21,
   "id": "6a10210b",
   "metadata": {},
   "outputs": [],
   "source": [
    "X_resample, y_resample = imbalanced.undersampler(X, y, 'random', random_state=0)\n",
    "class_map = dataset_samples_under(X_resample, y_resample)\n",
    "total_examples = sum(class_map)\n",
    "actual_examples = class_map[-1] * 3"
   ]
  },
  {
   "cell_type": "code",
   "execution_count": 22,
   "id": "806b9538",
   "metadata": {},
   "outputs": [
    {
     "data": {
      "text/plain": [
       "39"
      ]
     },
     "execution_count": 22,
     "metadata": {},
     "output_type": "execute_result"
    }
   ],
   "source": [
    "total_examples"
   ]
  },
  {
   "cell_type": "code",
   "execution_count": 23,
   "id": "6f35d18f",
   "metadata": {},
   "outputs": [
    {
     "data": {
      "text/plain": [
       "39"
      ]
     },
     "execution_count": 23,
     "metadata": {},
     "output_type": "execute_result"
    }
   ],
   "source": [
    "actual_examples"
   ]
  },
  {
   "cell_type": "markdown",
   "id": "6d2be4cb",
   "metadata": {},
   "source": [
    "### 3.2 Undersampling Nearmiss"
   ]
  },
  {
   "cell_type": "code",
   "execution_count": 24,
   "id": "408e2589",
   "metadata": {},
   "outputs": [],
   "source": [
    "X_resample, y_resample = imbalanced.undersampler(X, y, 'nearmiss', random_state=0)\n",
    "class_map = dataset_samples_under(X_resample, y_resample)\n",
    "total_examples = sum(class_map)\n",
    "actual_examples = class_map[-1] * 3"
   ]
  },
  {
   "cell_type": "code",
   "execution_count": 25,
   "id": "1ba9023d",
   "metadata": {},
   "outputs": [
    {
     "data": {
      "text/plain": [
       "39"
      ]
     },
     "execution_count": 25,
     "metadata": {},
     "output_type": "execute_result"
    }
   ],
   "source": [
    "total_examples"
   ]
  },
  {
   "cell_type": "code",
   "execution_count": 26,
   "id": "baa2067c",
   "metadata": {},
   "outputs": [
    {
     "data": {
      "text/plain": [
       "39"
      ]
     },
     "execution_count": 26,
     "metadata": {},
     "output_type": "execute_result"
    }
   ],
   "source": [
    "actual_examples"
   ]
  },
  {
   "cell_type": "markdown",
   "id": "fecf6ea7",
   "metadata": {},
   "source": [
    "### 3.3 Undersampling Tomeklinks"
   ]
  },
  {
   "cell_type": "code",
   "execution_count": 27,
   "id": "b2043bbb",
   "metadata": {},
   "outputs": [],
   "source": [
    "X_resample, y_resample = imbalanced.undersampler(X, y, 'tomeklinks', random_state=0)\n",
    "class_map = dataset_samples_under(X_resample, y_resample)\n",
    "total_examples = sum(class_map)\n",
    "actual_examples = class_map[-1] * 3"
   ]
  },
  {
   "cell_type": "code",
   "execution_count": 28,
   "id": "4bf7de41",
   "metadata": {},
   "outputs": [
    {
     "data": {
      "text/plain": [
       "979"
      ]
     },
     "execution_count": 28,
     "metadata": {},
     "output_type": "execute_result"
    }
   ],
   "source": [
    "total_examples"
   ]
  },
  {
   "cell_type": "code",
   "execution_count": 29,
   "id": "a758c394",
   "metadata": {},
   "outputs": [
    {
     "data": {
      "text/plain": [
       "2877"
      ]
     },
     "execution_count": 29,
     "metadata": {},
     "output_type": "execute_result"
    }
   ],
   "source": [
    "actual_examples"
   ]
  }
 ],
 "metadata": {
  "kernelspec": {
   "display_name": "Python 3 (ipykernel)",
   "language": "python",
   "name": "python3"
  },
  "language_info": {
   "codemirror_mode": {
    "name": "ipython",
    "version": 3
   },
   "file_extension": ".py",
   "mimetype": "text/x-python",
   "name": "python",
   "nbconvert_exporter": "python",
   "pygments_lexer": "ipython3",
   "version": "3.8.8"
  }
 },
 "nbformat": 4,
 "nbformat_minor": 5
}
