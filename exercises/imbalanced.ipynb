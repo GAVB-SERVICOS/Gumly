{
 "cells": [
  {
   "cell_type": "markdown",
   "id": "1f7f8bfc",
   "metadata": {},
   "source": [
    "## 1.0 Introduction"
   ]
  },
  {
   "cell_type": "markdown",
   "id": "bce0b6f6",
   "metadata": {},
   "source": [
    "This feature is a wrapper from some imbalanced-learn methods to solve some problems involving imbalanced data sets. "
   ]
  },
  {
   "cell_type": "markdown",
   "id": "ead2c37b",
   "metadata": {},
   "source": [
    "### 1.1 Import modules"
   ]
  },
  {
   "cell_type": "code",
   "execution_count": 8,
   "id": "5dc223ce",
   "metadata": {},
   "outputs": [],
   "source": [
    "from gumly import imbalanced\n",
    "from imblearn.over_sampling import RandomOverSampler\n",
    "from imblearn.pipeline import make_pipeline\n",
    "from sklearn.datasets import make_classification\n",
    "from collections import Counter\n",
    "import matplotlib.pyplot as plt\n",
    "import seaborn as sns\n",
    "import numpy as np\n",
    "from sklearn.linear_model import LogisticRegression\n",
    "import pandas as pd\n"
   ]
  },
  {
   "cell_type": "markdown",
   "id": "f13fca2d",
   "metadata": {},
   "source": [
    "# 1.2 Funções Auxiliares\n"
   ]
  },
  {
   "cell_type": "code",
   "execution_count": 23,
   "id": "6c199e55",
   "metadata": {},
   "outputs": [],
   "source": [
    "def plot_resampling(X, y, ax, sampler=None, title=None, regular=None):\n",
    "    if regular == True:\n",
    "        ax.scatter(X[:, 0], X[:, 1], c=y, alpha=0.8, edgecolor=\"k\")\n",
    "        if title is None:\n",
    "            title = f\"Resampling with {sampler.__class__.__name__}\"\n",
    "        ax.set_title(title)\n",
    "        sns.despine(ax=ax, offset=10)\n",
    "    else:\n",
    "        X_res, y_res = sampler[0],sampler[1]\n",
    "        ax.scatter(X_res[:, 0], X_res[:, 1], c=y_res, alpha=0.8, edgecolor=\"k\")\n",
    "        if title is None:\n",
    "            title = f\"Resampling with {sampler.__class__.__name__}\"\n",
    "        ax.set_title(title)\n",
    "        sns.despine(ax=ax, offset=10)\n",
    "        \n",
    "def plot_decision_function(X, y, clf, ax, title=None):\n",
    "    plot_step = 0.02\n",
    "    x_min, x_max = X[:, 0].min() - 1, X[:, 0].max() + 1\n",
    "    y_min, y_max = X[:, 1].min() - 1, X[:, 1].max() + 1\n",
    "    xx, yy = np.meshgrid(\n",
    "        np.arange(x_min, x_max, plot_step), np.arange(y_min, y_max, plot_step)\n",
    "    )\n",
    "\n",
    "    Z = clf.predict(np.c_[xx.ravel(), yy.ravel()])\n",
    "    Z = Z.reshape(xx.shape)\n",
    "    ax.contourf(xx, yy, Z, alpha=0.4)\n",
    "    ax.scatter(X[:, 0], X[:, 1], alpha=0.8, c=y, edgecolor=\"k\")\n",
    "    if title is not None:\n",
    "        ax.set_title(title)"
   ]
  },
  {
   "cell_type": "markdown",
   "id": "1d939a30",
   "metadata": {},
   "source": [
    "# 1.3 Dados"
   ]
  },
  {
   "cell_type": "code",
   "execution_count": 24,
   "id": "d523d210",
   "metadata": {},
   "outputs": [
    {
     "data": {
      "text/plain": [
       "(1000, 2916)"
      ]
     },
     "execution_count": 24,
     "metadata": {},
     "output_type": "execute_result"
    }
   ],
   "source": [
    "def create_dataset_over(\n",
    "    n_samples=1000,\n",
    "    weights=(0.01, 0.01, 0.98),\n",
    "    n_classes=3,\n",
    "    class_sep=0.8,\n",
    "    n_clusters=1,\n",
    "):\n",
    "    return make_classification(\n",
    "        n_samples=n_samples,\n",
    "        n_features=2,\n",
    "        n_informative=2,\n",
    "        n_redundant=0,\n",
    "        n_repeated=0,\n",
    "        n_classes=n_classes,\n",
    "        n_clusters_per_class=n_clusters,\n",
    "        weights=list(weights),\n",
    "        class_sep=class_sep,\n",
    "        random_state=0,\n",
    "    )\n",
    "\n",
    "def dataset_samples_over(X, y):\n",
    "    return sorted([x[1] for x in Counter(y).items()])\n",
    "\n",
    "X, y = create_dataset_over()\n",
    "class_map = dataset_samples_over(X, y)\n",
    "total_examples = sum(class_map)\n",
    "actual_examples = class_map[-1] * 3\n",
    "\n",
    "total_examples, actual_examples"
   ]
  },
  {
   "cell_type": "markdown",
   "id": "77c0bb7f",
   "metadata": {},
   "source": [
    "## 2.0 Oversampling"
   ]
  },
  {
   "cell_type": "code",
   "execution_count": null,
   "id": "ab903c4c",
   "metadata": {},
   "outputs": [],
   "source": []
  },
  {
   "cell_type": "markdown",
   "id": "e5d38150",
   "metadata": {},
   "source": [
    "### 2.1 Oversampling SMOTE"
   ]
  },
  {
   "cell_type": "code",
   "execution_count": 25,
   "id": "3ec9e570",
   "metadata": {},
   "outputs": [],
   "source": [
    "X_resample, y_resample = imbalanced.oversampler(X, y, 'smote', random_state=0)\n",
    "class_map = dataset_samples_over(X_resample, y_resample)\n",
    "total_examples = sum(class_map)\n",
    "actual_examples = class_map[-1] * 3"
   ]
  },
  {
   "cell_type": "code",
   "execution_count": 26,
   "id": "18e2dad2",
   "metadata": {},
   "outputs": [
    {
     "data": {
      "text/plain": [
       "(2916, 2916)"
      ]
     },
     "execution_count": 26,
     "metadata": {},
     "output_type": "execute_result"
    }
   ],
   "source": [
    "total_examples, actual_examples"
   ]
  },
  {
   "cell_type": "markdown",
   "id": "3cc374e9",
   "metadata": {},
   "source": [
    "### 2.2 Ploting exemple with Logistic Regression to understand"
   ]
  },
  {
   "cell_type": "code",
   "execution_count": 27,
   "id": "894a6b9b",
   "metadata": {},
   "outputs": [],
   "source": [
    "clf = LogisticRegression()"
   ]
  },
  {
   "cell_type": "markdown",
   "id": "7e996b30",
   "metadata": {},
   "source": [
    "### 2.2.1 Exemple Over-Sampling Balanced"
   ]
  },
  {
   "cell_type": "code",
   "execution_count": 28,
   "id": "1b3ef7aa",
   "metadata": {},
   "outputs": [
    {
     "data": {
      "image/png": "[encoded data removed]",
      "text/plain": [
       "<Figure size 1080x504 with 2 Axes>"
      ]
     },
     "metadata": {
      "needs_background": "light"
     },
     "output_type": "display_data"
    }
   ],
   "source": [
    "X, y = create_dataset_over(n_samples=100, weights = (0.05,0.25,0.7))\n",
    "fig, axs = plt.subplots(nrows=1, ncols=2, figsize=(15, 7))\n",
    "clf.fit(X, y)\n",
    "\n",
    "plot_decision_function(X, y, clf, axs[0], title=\"Without resampling\")\n",
    "\n",
    "\n",
    "\n",
    "sampler = imbalanced.oversampler(X, y, 'random', random_state=0)\n",
    "model = clf.fit(sampler[0], sampler[1])\n",
    "\n",
    "plot_decision_function(X, y, model, axs[1], title=\"Using Random\")\n",
    "\n",
    "fig.suptitle(f\"Decision function of LogisticRegression\")\n",
    "fig.tight_layout()"
   ]
  },
  {
   "cell_type": "code",
   "execution_count": 13,
   "id": "0bfa0319",
   "metadata": {},
   "outputs": [
    {
     "ename": "TypeError",
     "evalue": "plot_resampling() got multiple values for argument 'ax'",
     "output_type": "error",
     "traceback": [
      "\u001b[0;31m---------------------------------------------------------------------------\u001b[0m",
      "\u001b[0;31mTypeError\u001b[0m                                 Traceback (most recent call last)",
      "\u001b[0;32m/tmp/ipykernel_202071/1731530550.py\u001b[0m in \u001b[0;36m<module>\u001b[0;34m\u001b[0m\n\u001b[1;32m      4\u001b[0m \u001b[0;31m#plot_resampling(X,y,regular =True, ax=axs[0])\u001b[0m\u001b[0;34m\u001b[0m\u001b[0;34m\u001b[0m\u001b[0;34m\u001b[0m\u001b[0m\n\u001b[1;32m      5\u001b[0m \u001b[0;34m\u001b[0m\u001b[0m\n\u001b[0;32m----> 6\u001b[0;31m \u001b[0mplot_resampling\u001b[0m\u001b[0;34m(\u001b[0m\u001b[0mX\u001b[0m\u001b[0;34m,\u001b[0m \u001b[0my\u001b[0m\u001b[0;34m,\u001b[0m \u001b[0msampler\u001b[0m\u001b[0;34m,\u001b[0m \u001b[0max\u001b[0m\u001b[0;34m=\u001b[0m\u001b[0maxs\u001b[0m\u001b[0;34m[\u001b[0m\u001b[0;36m0\u001b[0m\u001b[0;34m]\u001b[0m\u001b[0;34m)\u001b[0m\u001b[0;34m\u001b[0m\u001b[0;34m\u001b[0m\u001b[0m\n\u001b[0m",
      "\u001b[0;31mTypeError\u001b[0m: plot_resampling() got multiple values for argument 'ax'"
     ]
    },
    {
     "data": {
      "image/png": "[encoded data removed]",
      "text/plain": [
       "<Figure size 1080x504 with 2 Axes>"
      ]
     },
     "metadata": {
      "needs_background": "light"
     },
     "output_type": "display_data"
    }
   ],
   "source": [
    "# Teste das quantidades plots\n",
    "fig, axs = plt.subplots(nrows=1, ncols=2, figsize=(15, 7))\n",
    "\n",
    "\n",
    "#plot_resampling(X,y,regular =True, ax=axs[0])\n",
    "\n",
    "plot_resampling(X, y, sampler, ax=axs[0])"
   ]
  },
  {
   "cell_type": "markdown",
   "id": "111a500c",
   "metadata": {},
   "source": [
    "## 3.0 Undersampling "
   ]
  },
  {
   "cell_type": "code",
   "execution_count": null,
   "id": "bf52b62e",
   "metadata": {},
   "outputs": [],
   "source": []
  },
  {
   "cell_type": "markdown",
   "id": "6d2be4cb",
   "metadata": {},
   "source": [
    "### 3.2 Undersampling Nearmiss"
   ]
  },
  {
   "cell_type": "code",
   "execution_count": 53,
   "id": "408e2589",
   "metadata": {},
   "outputs": [],
   "source": [
    "X_resample, y_resample = imbalanced.undersampler(X, y, 'nearmiss', random_state=0)\n",
    "class_map = dataset_samples_under(X_resample, y_resample)\n",
    "total_examples = sum(class_map)\n",
    "actual_examples = class_map[-1] * 3"
   ]
  },
  {
   "cell_type": "code",
   "execution_count": 54,
   "id": "1ba9023d",
   "metadata": {},
   "outputs": [
    {
     "data": {
      "text/plain": [
       "39"
      ]
     },
     "execution_count": 54,
     "metadata": {},
     "output_type": "execute_result"
    }
   ],
   "source": [
    "total_examples"
   ]
  },
  {
   "cell_type": "code",
   "execution_count": 55,
   "id": "baa2067c",
   "metadata": {},
   "outputs": [
    {
     "data": {
      "text/plain": [
       "39"
      ]
     },
     "execution_count": 55,
     "metadata": {},
     "output_type": "execute_result"
    }
   ],
   "source": [
    "actual_examples"
   ]
  },
  {
   "cell_type": "code",
   "execution_count": null,
   "id": "c7c65c44",
   "metadata": {},
   "outputs": [],
   "source": [
    "# Plots"
   ]
  },
  {
   "cell_type": "code",
   "execution_count": null,
   "id": "aa822c62",
   "metadata": {},
   "outputs": [],
   "source": [
    "# Plots"
   ]
  },
  {
   "cell_type": "markdown",
   "id": "91024ab5",
   "metadata": {},
   "source": [
    "# 4.0 Combine"
   ]
  },
  {
   "cell_type": "markdown",
   "id": "bd187707",
   "metadata": {},
   "source": [
    "### 4.2 SMOTETOMEK"
   ]
  },
  {
   "cell_type": "code",
   "execution_count": 61,
   "id": "b2cc49e5",
   "metadata": {},
   "outputs": [],
   "source": [
    "X_resample, y_resample = imbalanced.combine(X, y, 'smotetomek', random_state=0)\n",
    "class_map = dataset_samples_under(X_resample, y_resample)\n",
    "total_examples = sum(class_map)\n",
    "actual_examples = class_map[-1] * 3"
   ]
  },
  {
   "cell_type": "code",
   "execution_count": 62,
   "id": "da04c07c",
   "metadata": {},
   "outputs": [
    {
     "data": {
      "text/plain": [
       "(2702, 2808)"
      ]
     },
     "execution_count": 62,
     "metadata": {},
     "output_type": "execute_result"
    }
   ],
   "source": [
    "total_examples, actual_examples"
   ]
  },
  {
   "cell_type": "code",
   "execution_count": null,
   "id": "1ce04213",
   "metadata": {},
   "outputs": [],
   "source": [
    "# Plots"
   ]
  },
  {
   "cell_type": "code",
   "execution_count": null,
   "id": "3960a0e6",
   "metadata": {},
   "outputs": [],
   "source": [
    "# Plots"
   ]
  }
 ],
 "metadata": {
  "kernelspec": {
   "display_name": "Python 3 (ipykernel)",
   "language": "python",
   "name": "python3"
  },
  "language_info": {
   "codemirror_mode": {
    "name": "ipython",
    "version": 3
   },
   "file_extension": ".py",
   "mimetype": "text/x-python",
   "name": "python",
   "nbconvert_exporter": "python",
   "pygments_lexer": "ipython3",
   "version": "3.8.10"
  },
  "vscode": {
   "interpreter": {
    "hash": "916dbcbb3f70747c44a77c7bcd40155683ae19c65e1c03b4aa3499c5328201f1"
   }
  }
 },
 "nbformat": 4,
 "nbformat_minor": 5
}
