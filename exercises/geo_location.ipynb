{
 "cells": [
  {
   "cell_type": "markdown",
   "id": "fc6e85c3-cf9b-4504-b1bd-38054b0fef1e",
   "metadata": {},
   "source": [
    "## 1.0 Introduction"
   ]
  },
  {
   "cell_type": "markdown",
   "id": "e34fb1a9-eaf0-4fe3-97cd-a3bb175fb588",
   "metadata": {},
   "source": [
    "The main purpose of this function is to automatically fill in Brazilian regions and states from the city and postal codes (CEP)."
   ]
  },
  {
   "cell_type": "markdown",
   "id": "9e39daeb-3927-475b-a7e8-097eea943c7c",
   "metadata": {},
   "source": [
    "## 1.1 Import modules"
   ]
  },
  {
   "cell_type": "code",
   "execution_count": 1,
   "id": "5df55a5a-129b-44bf-98de-d5199dccec0f",
   "metadata": {},
   "outputs": [],
   "source": [
    "# From the module\n",
    "from gumly import geo_location\n",
    "\n",
    "#Others\n",
    "import pandas as pd"
   ]
  },
  {
   "cell_type": "markdown",
   "id": "530fd103-57d1-46c4-8bce-a3ff9cef54d0",
   "metadata": {},
   "source": [
    "## 1.2 Creating a data"
   ]
  },
  {
   "cell_type": "code",
   "execution_count": 2,
   "id": "1ee2269b-745e-4baa-b13e-62e33ff3fc7a",
   "metadata": {},
   "outputs": [],
   "source": [
    "d = {'Customer': [1, 2, 3, 4],\n",
    "     'City' : ['São Paulo', 'Sao Paulo', 'sao paulo', 'São Pauol']} # With a typo on the last entry"
   ]
  },
  {
   "cell_type": "markdown",
   "id": "cb13acf5-8064-4074-85ea-1c4f6b5a3fb4",
   "metadata": {},
   "source": [
    "## 1.3 Filling the region from the city"
   ]
  },
  {
   "cell_type": "code",
   "execution_count": 3,
   "id": "20f92439-6c99-4535-aae8-9043278dfe33",
   "metadata": {},
   "outputs": [
    {
     "data": {
      "text/html": [
       "<div>\n",
       "<style scoped>\n",
       "    .dataframe tbody tr th:only-of-type {\n",
       "        vertical-align: middle;\n",
       "    }\n",
       "\n",
       "    .dataframe tbody tr th {\n",
       "        vertical-align: top;\n",
       "    }\n",
       "\n",
       "    .dataframe thead th {\n",
       "        text-align: right;\n",
       "    }\n",
       "</style>\n",
       "<table border=\"1\" class=\"dataframe\">\n",
       "  <thead>\n",
       "    <tr style=\"text-align: right;\">\n",
       "      <th></th>\n",
       "      <th>Customer</th>\n",
       "      <th>City</th>\n",
       "      <th>Region</th>\n",
       "    </tr>\n",
       "  </thead>\n",
       "  <tbody>\n",
       "    <tr>\n",
       "      <th>0</th>\n",
       "      <td>1</td>\n",
       "      <td>São Paulo</td>\n",
       "      <td>Sudeste</td>\n",
       "    </tr>\n",
       "    <tr>\n",
       "      <th>1</th>\n",
       "      <td>2</td>\n",
       "      <td>Sao Paulo</td>\n",
       "      <td>Sudeste</td>\n",
       "    </tr>\n",
       "    <tr>\n",
       "      <th>2</th>\n",
       "      <td>3</td>\n",
       "      <td>sao paulo</td>\n",
       "      <td>Sudeste</td>\n",
       "    </tr>\n",
       "    <tr>\n",
       "      <th>3</th>\n",
       "      <td>4</td>\n",
       "      <td>São Pauol</td>\n",
       "      <td>NaN</td>\n",
       "    </tr>\n",
       "  </tbody>\n",
       "</table>\n",
       "</div>"
      ],
      "text/plain": [
       "   Customer       City   Region\n",
       "0         1  São Paulo  Sudeste\n",
       "1         2  Sao Paulo  Sudeste\n",
       "2         3  sao paulo  Sudeste\n",
       "3         4  São Pauol      NaN"
      ]
     },
     "execution_count": 3,
     "metadata": {},
     "output_type": "execute_result"
    }
   ],
   "source": [
    "dfregion = pd.DataFrame(data=d)\n",
    "dfregion['Region'] = geo_location.city_to_region(dfregion, 'City')\n",
    "dfregion"
   ]
  },
  {
   "cell_type": "code",
   "execution_count": 4,
   "id": "6dc5f31c-d693-4d7c-a0ea-49cdd8aa5983",
   "metadata": {},
   "outputs": [
    {
     "data": {
      "text/html": [
       "<div>\n",
       "<style scoped>\n",
       "    .dataframe tbody tr th:only-of-type {\n",
       "        vertical-align: middle;\n",
       "    }\n",
       "\n",
       "    .dataframe tbody tr th {\n",
       "        vertical-align: top;\n",
       "    }\n",
       "\n",
       "    .dataframe thead th {\n",
       "        text-align: right;\n",
       "    }\n",
       "</style>\n",
       "<table border=\"1\" class=\"dataframe\">\n",
       "  <thead>\n",
       "    <tr style=\"text-align: right;\">\n",
       "      <th></th>\n",
       "      <th>Customer</th>\n",
       "      <th>City</th>\n",
       "      <th>Microregion</th>\n",
       "    </tr>\n",
       "  </thead>\n",
       "  <tbody>\n",
       "    <tr>\n",
       "      <th>0</th>\n",
       "      <td>1</td>\n",
       "      <td>São Paulo</td>\n",
       "      <td>São Paulo</td>\n",
       "    </tr>\n",
       "    <tr>\n",
       "      <th>1</th>\n",
       "      <td>2</td>\n",
       "      <td>Sao Paulo</td>\n",
       "      <td>São Paulo</td>\n",
       "    </tr>\n",
       "    <tr>\n",
       "      <th>2</th>\n",
       "      <td>3</td>\n",
       "      <td>sao paulo</td>\n",
       "      <td>São Paulo</td>\n",
       "    </tr>\n",
       "    <tr>\n",
       "      <th>3</th>\n",
       "      <td>4</td>\n",
       "      <td>São Pauol</td>\n",
       "      <td>NaN</td>\n",
       "    </tr>\n",
       "  </tbody>\n",
       "</table>\n",
       "</div>"
      ],
      "text/plain": [
       "   Customer       City Microregion\n",
       "0         1  São Paulo   São Paulo\n",
       "1         2  Sao Paulo   São Paulo\n",
       "2         3  sao paulo   São Paulo\n",
       "3         4  São Pauol         NaN"
      ]
     },
     "execution_count": 4,
     "metadata": {},
     "output_type": "execute_result"
    }
   ],
   "source": [
    "dfmicroregion = pd.DataFrame(data=d)\n",
    "dfmicroregion['Microregion'] = geo_location.city_to_microregion(dfmicroregion, 'City')\n",
    "dfmicroregion"
   ]
  },
  {
   "cell_type": "code",
   "execution_count": 6,
   "id": "e3b8a924-b202-46c9-b967-3aa0aa4bb1aa",
   "metadata": {},
   "outputs": [
    {
     "data": {
      "text/html": [
       "<div>\n",
       "<style scoped>\n",
       "    .dataframe tbody tr th:only-of-type {\n",
       "        vertical-align: middle;\n",
       "    }\n",
       "\n",
       "    .dataframe tbody tr th {\n",
       "        vertical-align: top;\n",
       "    }\n",
       "\n",
       "    .dataframe thead th {\n",
       "        text-align: right;\n",
       "    }\n",
       "</style>\n",
       "<table border=\"1\" class=\"dataframe\">\n",
       "  <thead>\n",
       "    <tr style=\"text-align: right;\">\n",
       "      <th></th>\n",
       "      <th>Customer</th>\n",
       "      <th>City</th>\n",
       "      <th>Mesoregion</th>\n",
       "    </tr>\n",
       "  </thead>\n",
       "  <tbody>\n",
       "    <tr>\n",
       "      <th>0</th>\n",
       "      <td>1</td>\n",
       "      <td>São Paulo</td>\n",
       "      <td>Metropolitana de São Paulo</td>\n",
       "    </tr>\n",
       "    <tr>\n",
       "      <th>1</th>\n",
       "      <td>2</td>\n",
       "      <td>Sao Paulo</td>\n",
       "      <td>Metropolitana de São Paulo</td>\n",
       "    </tr>\n",
       "    <tr>\n",
       "      <th>2</th>\n",
       "      <td>3</td>\n",
       "      <td>sao paulo</td>\n",
       "      <td>Metropolitana de São Paulo</td>\n",
       "    </tr>\n",
       "    <tr>\n",
       "      <th>3</th>\n",
       "      <td>4</td>\n",
       "      <td>São Pauol</td>\n",
       "      <td>NaN</td>\n",
       "    </tr>\n",
       "  </tbody>\n",
       "</table>\n",
       "</div>"
      ],
      "text/plain": [
       "   Customer       City                  Mesoregion\n",
       "0         1  São Paulo  Metropolitana de São Paulo\n",
       "1         2  Sao Paulo  Metropolitana de São Paulo\n",
       "2         3  sao paulo  Metropolitana de São Paulo\n",
       "3         4  São Pauol                         NaN"
      ]
     },
     "execution_count": 6,
     "metadata": {},
     "output_type": "execute_result"
    }
   ],
   "source": [
    "dfmesoregion = pd.DataFrame(data=d)\n",
    "dfmesoregion['Mesoregion'] = geo_location.city_to_mesoregion(dfmesoregion, 'City')\n",
    "dfmesoregion"
   ]
  },
  {
   "cell_type": "code",
   "execution_count": 7,
   "id": "e7682778",
   "metadata": {},
   "outputs": [
    {
     "data": {
      "text/html": [
       "<div>\n",
       "<style scoped>\n",
       "    .dataframe tbody tr th:only-of-type {\n",
       "        vertical-align: middle;\n",
       "    }\n",
       "\n",
       "    .dataframe tbody tr th {\n",
       "        vertical-align: top;\n",
       "    }\n",
       "\n",
       "    .dataframe thead th {\n",
       "        text-align: right;\n",
       "    }\n",
       "</style>\n",
       "<table border=\"1\" class=\"dataframe\">\n",
       "  <thead>\n",
       "    <tr style=\"text-align: right;\">\n",
       "      <th></th>\n",
       "      <th>Customer</th>\n",
       "      <th>City</th>\n",
       "      <th>Imediate_region</th>\n",
       "    </tr>\n",
       "  </thead>\n",
       "  <tbody>\n",
       "    <tr>\n",
       "      <th>0</th>\n",
       "      <td>1</td>\n",
       "      <td>São Paulo</td>\n",
       "      <td>São Paulo</td>\n",
       "    </tr>\n",
       "    <tr>\n",
       "      <th>1</th>\n",
       "      <td>2</td>\n",
       "      <td>Sao Paulo</td>\n",
       "      <td>São Paulo</td>\n",
       "    </tr>\n",
       "    <tr>\n",
       "      <th>2</th>\n",
       "      <td>3</td>\n",
       "      <td>sao paulo</td>\n",
       "      <td>São Paulo</td>\n",
       "    </tr>\n",
       "    <tr>\n",
       "      <th>3</th>\n",
       "      <td>4</td>\n",
       "      <td>São Pauol</td>\n",
       "      <td>NaN</td>\n",
       "    </tr>\n",
       "  </tbody>\n",
       "</table>\n",
       "</div>"
      ],
      "text/plain": [
       "   Customer       City Imediate_region\n",
       "0         1  São Paulo       São Paulo\n",
       "1         2  Sao Paulo       São Paulo\n",
       "2         3  sao paulo       São Paulo\n",
       "3         4  São Pauol             NaN"
      ]
     },
     "execution_count": 7,
     "metadata": {},
     "output_type": "execute_result"
    }
   ],
   "source": [
    "dfimediate = pd.DataFrame(data=d)\n",
    "dfimediate['Imediate_region'] = geo_location.city_to_imediate_region(dfimediate, 'City')\n",
    "dfimediate"
   ]
  },
  {
   "cell_type": "code",
   "execution_count": 8,
   "id": "e802c0e2",
   "metadata": {},
   "outputs": [
    {
     "data": {
      "text/html": [
       "<div>\n",
       "<style scoped>\n",
       "    .dataframe tbody tr th:only-of-type {\n",
       "        vertical-align: middle;\n",
       "    }\n",
       "\n",
       "    .dataframe tbody tr th {\n",
       "        vertical-align: top;\n",
       "    }\n",
       "\n",
       "    .dataframe thead th {\n",
       "        text-align: right;\n",
       "    }\n",
       "</style>\n",
       "<table border=\"1\" class=\"dataframe\">\n",
       "  <thead>\n",
       "    <tr style=\"text-align: right;\">\n",
       "      <th></th>\n",
       "      <th>Customer</th>\n",
       "      <th>City</th>\n",
       "      <th>Intermediarie_region</th>\n",
       "    </tr>\n",
       "  </thead>\n",
       "  <tbody>\n",
       "    <tr>\n",
       "      <th>0</th>\n",
       "      <td>1</td>\n",
       "      <td>São Paulo</td>\n",
       "      <td>São Paulo</td>\n",
       "    </tr>\n",
       "    <tr>\n",
       "      <th>1</th>\n",
       "      <td>2</td>\n",
       "      <td>Sao Paulo</td>\n",
       "      <td>São Paulo</td>\n",
       "    </tr>\n",
       "    <tr>\n",
       "      <th>2</th>\n",
       "      <td>3</td>\n",
       "      <td>sao paulo</td>\n",
       "      <td>São Paulo</td>\n",
       "    </tr>\n",
       "    <tr>\n",
       "      <th>3</th>\n",
       "      <td>4</td>\n",
       "      <td>São Pauol</td>\n",
       "      <td>NaN</td>\n",
       "    </tr>\n",
       "  </tbody>\n",
       "</table>\n",
       "</div>"
      ],
      "text/plain": [
       "   Customer       City Intermediarie_region\n",
       "0         1  São Paulo            São Paulo\n",
       "1         2  Sao Paulo            São Paulo\n",
       "2         3  sao paulo            São Paulo\n",
       "3         4  São Pauol                  NaN"
      ]
     },
     "execution_count": 8,
     "metadata": {},
     "output_type": "execute_result"
    }
   ],
   "source": [
    "dfintermediarie = pd.DataFrame(data=d)\n",
    "dfintermediarie['Intermediarie_region'] = geo_location.city_to_intermediarie_region(dfintermediarie,'City')\n",
    "dfintermediarie"
   ]
  },
  {
   "cell_type": "markdown",
   "id": "707e4eef-8133-44a2-bd96-6b029f5e1809",
   "metadata": {},
   "source": [
    "## 1.4 Filling the state from the city"
   ]
  },
  {
   "cell_type": "code",
   "execution_count": 9,
   "id": "9b6130b1-8850-46d9-8c46-8a9a0a995655",
   "metadata": {},
   "outputs": [
    {
     "data": {
      "text/html": [
       "<div>\n",
       "<style scoped>\n",
       "    .dataframe tbody tr th:only-of-type {\n",
       "        vertical-align: middle;\n",
       "    }\n",
       "\n",
       "    .dataframe tbody tr th {\n",
       "        vertical-align: top;\n",
       "    }\n",
       "\n",
       "    .dataframe thead th {\n",
       "        text-align: right;\n",
       "    }\n",
       "</style>\n",
       "<table border=\"1\" class=\"dataframe\">\n",
       "  <thead>\n",
       "    <tr style=\"text-align: right;\">\n",
       "      <th></th>\n",
       "      <th>Customer</th>\n",
       "      <th>City</th>\n",
       "      <th>State</th>\n",
       "    </tr>\n",
       "  </thead>\n",
       "  <tbody>\n",
       "    <tr>\n",
       "      <th>0</th>\n",
       "      <td>1</td>\n",
       "      <td>São Paulo</td>\n",
       "      <td>São Paulo</td>\n",
       "    </tr>\n",
       "    <tr>\n",
       "      <th>1</th>\n",
       "      <td>2</td>\n",
       "      <td>Sao Paulo</td>\n",
       "      <td>São Paulo</td>\n",
       "    </tr>\n",
       "    <tr>\n",
       "      <th>2</th>\n",
       "      <td>3</td>\n",
       "      <td>sao paulo</td>\n",
       "      <td>São Paulo</td>\n",
       "    </tr>\n",
       "    <tr>\n",
       "      <th>3</th>\n",
       "      <td>4</td>\n",
       "      <td>São Pauol</td>\n",
       "      <td>NaN</td>\n",
       "    </tr>\n",
       "  </tbody>\n",
       "</table>\n",
       "</div>"
      ],
      "text/plain": [
       "   Customer       City      State\n",
       "0         1  São Paulo  São Paulo\n",
       "1         2  Sao Paulo  São Paulo\n",
       "2         3  sao paulo  São Paulo\n",
       "3         4  São Pauol        NaN"
      ]
     },
     "execution_count": 9,
     "metadata": {},
     "output_type": "execute_result"
    }
   ],
   "source": [
    "dfstate = pd.DataFrame(data=d)\n",
    "dfstate['State'] = geo_location.city_to_state(dfstate, 'City')\n",
    "dfstate"
   ]
  },
  {
   "cell_type": "markdown",
   "id": "5413c004-e5a6-4242-afcd-9234aba94bf4",
   "metadata": {},
   "source": [
    "## 1.5 Filling the region from the state"
   ]
  },
  {
   "cell_type": "code",
   "execution_count": 14,
   "id": "8e082026",
   "metadata": {},
   "outputs": [],
   "source": [
    "dstate = {'Customer': [1, 2, 3, 4],\n",
    "     'State' : ['Ceará', 'Ceara', 'ceara', 'ceaara']} "
   ]
  },
  {
   "cell_type": "code",
   "execution_count": 15,
   "id": "93f751c3-83d8-42f5-91a0-1dec2a3b702b",
   "metadata": {},
   "outputs": [
    {
     "data": {
      "text/html": [
       "<div>\n",
       "<style scoped>\n",
       "    .dataframe tbody tr th:only-of-type {\n",
       "        vertical-align: middle;\n",
       "    }\n",
       "\n",
       "    .dataframe tbody tr th {\n",
       "        vertical-align: top;\n",
       "    }\n",
       "\n",
       "    .dataframe thead th {\n",
       "        text-align: right;\n",
       "    }\n",
       "</style>\n",
       "<table border=\"1\" class=\"dataframe\">\n",
       "  <thead>\n",
       "    <tr style=\"text-align: right;\">\n",
       "      <th></th>\n",
       "      <th>Customer</th>\n",
       "      <th>State</th>\n",
       "      <th>state_to_region</th>\n",
       "    </tr>\n",
       "  </thead>\n",
       "  <tbody>\n",
       "    <tr>\n",
       "      <th>0</th>\n",
       "      <td>1</td>\n",
       "      <td>Ceará</td>\n",
       "      <td>Nordeste</td>\n",
       "    </tr>\n",
       "    <tr>\n",
       "      <th>1</th>\n",
       "      <td>2</td>\n",
       "      <td>Ceara</td>\n",
       "      <td>Nordeste</td>\n",
       "    </tr>\n",
       "    <tr>\n",
       "      <th>2</th>\n",
       "      <td>3</td>\n",
       "      <td>ceara</td>\n",
       "      <td>Nordeste</td>\n",
       "    </tr>\n",
       "    <tr>\n",
       "      <th>3</th>\n",
       "      <td>4</td>\n",
       "      <td>ceaara</td>\n",
       "      <td>NaN</td>\n",
       "    </tr>\n",
       "  </tbody>\n",
       "</table>\n",
       "</div>"
      ],
      "text/plain": [
       "   Customer   State state_to_region\n",
       "0         1   Ceará        Nordeste\n",
       "1         2   Ceara        Nordeste\n",
       "2         3   ceara        Nordeste\n",
       "3         4  ceaara             NaN"
      ]
     },
     "execution_count": 15,
     "metadata": {},
     "output_type": "execute_result"
    }
   ],
   "source": [
    "dfstateregion = pd.DataFrame(data=dstate)\n",
    "dfstateregion['state_to_region'] = geo_location.state_to_region(dfstateregion, 'State')\n",
    "dfstateregion"
   ]
  },
  {
   "cell_type": "markdown",
   "id": "3640b5d5-675c-48d7-8077-5237527ff1fc",
   "metadata": {},
   "source": [
    "## 1.7 Creating a data with postal codes (CEPs)"
   ]
  },
  {
   "cell_type": "code",
   "execution_count": 20,
   "id": "0a960f52-1d0a-4cf6-ba91-0a18311bcc3d",
   "metadata": {},
   "outputs": [],
   "source": [
    "dcep = {'Customer': [1, 2, 3],\n",
    "     'CEP' : ['03033-070', '03033070', '03033']} "
   ]
  },
  {
   "cell_type": "markdown",
   "id": "8b0d52c4-1a42-4089-83be-7243abae19e2",
   "metadata": {},
   "source": [
    "## 1.8 Filling the state from the CEP"
   ]
  },
  {
   "cell_type": "code",
   "execution_count": 21,
   "id": "fa21122f-84be-41a6-92a5-364d6b3ba567",
   "metadata": {},
   "outputs": [
    {
     "data": {
      "text/html": [
       "<div>\n",
       "<style scoped>\n",
       "    .dataframe tbody tr th:only-of-type {\n",
       "        vertical-align: middle;\n",
       "    }\n",
       "\n",
       "    .dataframe tbody tr th {\n",
       "        vertical-align: top;\n",
       "    }\n",
       "\n",
       "    .dataframe thead th {\n",
       "        text-align: right;\n",
       "    }\n",
       "</style>\n",
       "<table border=\"1\" class=\"dataframe\">\n",
       "  <thead>\n",
       "    <tr style=\"text-align: right;\">\n",
       "      <th></th>\n",
       "      <th>Customer</th>\n",
       "      <th>CEP</th>\n",
       "      <th>State</th>\n",
       "    </tr>\n",
       "  </thead>\n",
       "  <tbody>\n",
       "    <tr>\n",
       "      <th>0</th>\n",
       "      <td>1</td>\n",
       "      <td>03033-070</td>\n",
       "      <td>São Paulo</td>\n",
       "    </tr>\n",
       "    <tr>\n",
       "      <th>1</th>\n",
       "      <td>2</td>\n",
       "      <td>03033070</td>\n",
       "      <td>São Paulo</td>\n",
       "    </tr>\n",
       "    <tr>\n",
       "      <th>2</th>\n",
       "      <td>3</td>\n",
       "      <td>03033</td>\n",
       "      <td>São Paulo</td>\n",
       "    </tr>\n",
       "  </tbody>\n",
       "</table>\n",
       "</div>"
      ],
      "text/plain": [
       "   Customer        CEP      State\n",
       "0         1  03033-070  São Paulo\n",
       "1         2   03033070  São Paulo\n",
       "2         3      03033  São Paulo"
      ]
     },
     "execution_count": 21,
     "metadata": {},
     "output_type": "execute_result"
    }
   ],
   "source": [
    "dfcepstate = pd.DataFrame(data=dcep)\n",
    "dfcepstate['State'] = geo_location.cep_to_state(dfcepstate, 'CEP')\n",
    "dfcepstate"
   ]
  },
  {
   "cell_type": "markdown",
   "id": "c298f5eb-d1cf-4bb3-a092-4387493306e9",
   "metadata": {},
   "source": [
    "## 1.9 Filling the region from the CEP"
   ]
  },
  {
   "cell_type": "code",
   "execution_count": 23,
   "id": "088c8621-73d2-41ff-89a8-7c8939174bf8",
   "metadata": {},
   "outputs": [
    {
     "data": {
      "text/html": [
       "<div>\n",
       "<style scoped>\n",
       "    .dataframe tbody tr th:only-of-type {\n",
       "        vertical-align: middle;\n",
       "    }\n",
       "\n",
       "    .dataframe tbody tr th {\n",
       "        vertical-align: top;\n",
       "    }\n",
       "\n",
       "    .dataframe thead th {\n",
       "        text-align: right;\n",
       "    }\n",
       "</style>\n",
       "<table border=\"1\" class=\"dataframe\">\n",
       "  <thead>\n",
       "    <tr style=\"text-align: right;\">\n",
       "      <th></th>\n",
       "      <th>Customer</th>\n",
       "      <th>CEP</th>\n",
       "      <th>Region</th>\n",
       "    </tr>\n",
       "  </thead>\n",
       "  <tbody>\n",
       "    <tr>\n",
       "      <th>0</th>\n",
       "      <td>1</td>\n",
       "      <td>03033-070</td>\n",
       "      <td>Sudeste</td>\n",
       "    </tr>\n",
       "    <tr>\n",
       "      <th>1</th>\n",
       "      <td>2</td>\n",
       "      <td>03033070</td>\n",
       "      <td>Sudeste</td>\n",
       "    </tr>\n",
       "    <tr>\n",
       "      <th>2</th>\n",
       "      <td>3</td>\n",
       "      <td>03033</td>\n",
       "      <td>Sudeste</td>\n",
       "    </tr>\n",
       "  </tbody>\n",
       "</table>\n",
       "</div>"
      ],
      "text/plain": [
       "   Customer        CEP   Region\n",
       "0         1  03033-070  Sudeste\n",
       "1         2   03033070  Sudeste\n",
       "2         3      03033  Sudeste"
      ]
     },
     "execution_count": 23,
     "metadata": {},
     "output_type": "execute_result"
    }
   ],
   "source": [
    "dfcepregion = pd.DataFrame(data=dcep)\n",
    "dfcepregion['Region'] = geo_location.cep_to_region(dfcepregion, 'CEP')\n",
    "dfcepregion"
   ]
  },
  {
   "cell_type": "markdown",
   "id": "11863172-b548-4b80-a371-0fc3e381657d",
   "metadata": {},
   "source": [
    "## 2.0 Conclusion and library advantages"
   ]
  },
  {
   "cell_type": "markdown",
   "id": "1d3e1a1f-636e-4ee4-8e41-d04be356ec8c",
   "metadata": {},
   "source": [
    "This implementation is a simple approach to quickly fill brazilian states and regions in dataframes where this information is not present. It can accept complete and incomplete postal codes (CEPs) and city names without the correct accentuation or capitalization but it cannot handle typos."
   ]
  },
  {
   "cell_type": "markdown",
   "id": "4cfb6541-a93f-41de-9964-4ebcf9af9c65",
   "metadata": {
    "tags": []
   },
   "source": [
    "## References\n",
    "\n",
    "[ibge library](https://pypi.org/project/ibge/)\n",
    "\n",
    "[ibge website](https://www.ibge.gov.br/)\n",
    "\n",
    "[Everything about CEP](https://www.correios.com.br/enviar/precisa-de-ajuda/tudo-sobre-cep)\n"
   ]
  }
 ],
 "metadata": {
  "interpreter": {
   "hash": "872196408022668ca9e0e2100a82a5de8f60c0045a610f9d6933c2c9d1c012f9"
  },
  "kernelspec": {
   "display_name": "Python 3 (ipykernel)",
   "language": "python",
   "name": "python3"
  },
  "language_info": {
   "codemirror_mode": {
    "name": "ipython",
    "version": 3
   },
   "file_extension": ".py",
   "mimetype": "text/x-python",
   "name": "python",
   "nbconvert_exporter": "python",
   "pygments_lexer": "ipython3",
   "version": "3.8.8"
  }
 },
 "nbformat": 4,
 "nbformat_minor": 5
}
