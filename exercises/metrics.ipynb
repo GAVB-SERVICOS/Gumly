{
 "cells": [
  {
   "cell_type": "markdown",
   "id": "e1f21e45",
   "metadata": {},
   "source": [
    "## 1.0 Introduction"
   ]
  },
  {
   "cell_type": "markdown",
   "id": "7ee1560c",
   "metadata": {},
   "source": [
    "The main objective of this function is calculate the metric  WAPE (weight mean absolute percentage error). This metric is the sum of the absolute error normalized by the total demand. The WAPE equally penalizes for under-forecasting or over-forecasting, and doesn’t favor either scenario. \n",
    "\n",
    "The use of this metric is quite recommend when the difference in costs of under-forecasting or over-forecasting is not important, or if you want to evaluate the model accuracy at the mean forecast.\n"
   ]
  },
  {
   "cell_type": "markdown",
   "id": "c3d3607f",
   "metadata": {},
   "source": [
    "## 1.1 Import modules"
   ]
  },
  {
   "cell_type": "code",
   "execution_count": 2,
   "id": "39cdb5e3",
   "metadata": {},
   "outputs": [],
   "source": [
    "from rico.metrics import weighted_mean_absolute_percentage_error"
   ]
  },
  {
   "cell_type": "markdown",
   "id": "f90718d1",
   "metadata": {},
   "source": [
    "## 1.2 Weighted Mean Absolute Percentage Error Exemplo "
   ]
  },
  {
   "cell_type": "code",
   "execution_count": 3,
   "id": "eb078f32",
   "metadata": {},
   "outputs": [],
   "source": [
    "y_true = [3, -0.5, 2, 7]\n",
    "y_pred = [2.5, 0.0, 2, 8]"
   ]
  },
  {
   "cell_type": "code",
   "execution_count": 4,
   "id": "5e9ccada",
   "metadata": {},
   "outputs": [
    {
     "data": {
      "text/plain": [
       "0.15789473684210525"
      ]
     },
     "execution_count": 4,
     "metadata": {},
     "output_type": "execute_result"
    }
   ],
   "source": [
    "weighted_mean_absolute_percentage_error(y_true, y_pred, weights=[2, 1, 1, 3])"
   ]
  },
  {
   "cell_type": "markdown",
   "id": "1bce2ae3",
   "metadata": {},
   "source": [
    "## 2.0 Conclusion and library advantages"
   ]
  },
  {
   "cell_type": "markdown",
   "id": "818623fc",
   "metadata": {},
   "source": [
    "This implementation is an advantage because there are a lot cases that the Data Science area need to work with sparse datasets, where most of their products are sold infrequently. \n",
    "\n",
    "So, for most of the historical data points, the demand is 0 / none. For these datasets, it is important to account for the scale of total demand, presenting this scenario WAPE has a better metric over RMSE to evaluate sparse datasets."
   ]
  },
  {
   "cell_type": "markdown",
   "id": "689f63f9",
   "metadata": {},
   "source": [
    "## Reference\n",
    "\n",
    "[numpy](https://numpy.org/doc/stable/)"
   ]
  }
 ],
 "metadata": {
  "kernelspec": {
   "display_name": "Python 3 (ipykernel)",
   "language": "python",
   "name": "python3"
  },
  "language_info": {
   "codemirror_mode": {
    "name": "ipython",
    "version": 3
   },
   "file_extension": ".py",
   "mimetype": "text/x-python",
   "name": "python",
   "nbconvert_exporter": "python",
   "pygments_lexer": "ipython3",
   "version": "3.8.8"
  }
 },
 "nbformat": 4,
 "nbformat_minor": 5
}
