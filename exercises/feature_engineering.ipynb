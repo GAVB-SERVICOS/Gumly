{
 "cells": [
  {
   "cell_type": "code",
   "execution_count": 1,
   "id": "7f4b0421",
   "metadata": {},
   "outputs": [
    {
     "name": "stdout",
     "output_type": "stream",
     "text": [
      "Processing c:\\users\\lucasrc\\documents\\codes\\mlutils\\dist\\mlutils-0.0.1-py3-none-any.whl\n",
      "Requirement already satisfied: numpy==1.21.4 in c:\\users\\lucasrc\\anaconda3\\lib\\site-packages (from mlutils==0.0.1) (1.21.4)\n",
      "Requirement already satisfied: scipy==1.7.3 in c:\\users\\lucasrc\\anaconda3\\lib\\site-packages (from mlutils==0.0.1) (1.7.3)\n",
      "Requirement already satisfied: pandas==1.3.5 in c:\\users\\lucasrc\\anaconda3\\lib\\site-packages (from mlutils==0.0.1) (1.3.5)\n",
      "Requirement already satisfied: optuna==2.10.0 in c:\\users\\lucasrc\\anaconda3\\lib\\site-packages (from mlutils==0.0.1) (2.10.0)\n",
      "Requirement already satisfied: scikit-learn==1.0.2 in c:\\users\\lucasrc\\anaconda3\\lib\\site-packages (from mlutils==0.0.1) (1.0.2)\n",
      "Requirement already satisfied: lightgbm==3.2.1 in c:\\users\\lucasrc\\anaconda3\\lib\\site-packages (from mlutils==0.0.1) (3.2.1)\n",
      "Requirement already satisfied: wheel in c:\\users\\lucasrc\\anaconda3\\lib\\site-packages (from lightgbm==3.2.1->mlutils==0.0.1) (0.37.1)\n",
      "Requirement already satisfied: colorlog in c:\\users\\lucasrc\\anaconda3\\lib\\site-packages (from optuna==2.10.0->mlutils==0.0.1) (6.6.0)\n",
      "Requirement already satisfied: PyYAML in c:\\users\\lucasrc\\anaconda3\\lib\\site-packages (from optuna==2.10.0->mlutils==0.0.1) (6.0)\n",
      "Requirement already satisfied: tqdm in c:\\users\\lucasrc\\anaconda3\\lib\\site-packages (from optuna==2.10.0->mlutils==0.0.1) (4.61.1)\n",
      "Requirement already satisfied: cliff in c:\\users\\lucasrc\\anaconda3\\lib\\site-packages (from optuna==2.10.0->mlutils==0.0.1) (3.10.0)\n",
      "Requirement already satisfied: sqlalchemy>=1.1.0 in c:\\users\\lucasrc\\anaconda3\\lib\\site-packages (from optuna==2.10.0->mlutils==0.0.1) (1.4.31)\n",
      "Requirement already satisfied: alembic in c:\\users\\lucasrc\\anaconda3\\lib\\site-packages (from optuna==2.10.0->mlutils==0.0.1) (1.7.5)\n",
      "Requirement already satisfied: packaging>=20.0 in c:\\users\\lucasrc\\anaconda3\\lib\\site-packages (from optuna==2.10.0->mlutils==0.0.1) (21.3)\n",
      "Requirement already satisfied: cmaes>=0.8.2 in c:\\users\\lucasrc\\anaconda3\\lib\\site-packages (from optuna==2.10.0->mlutils==0.0.1) (0.8.2)\n",
      "Requirement already satisfied: pytz>=2017.3 in c:\\users\\lucasrc\\anaconda3\\lib\\site-packages (from pandas==1.3.5->mlutils==0.0.1) (2021.3)\n",
      "Requirement already satisfied: python-dateutil>=2.7.3 in c:\\users\\lucasrc\\anaconda3\\lib\\site-packages (from pandas==1.3.5->mlutils==0.0.1) (2.8.2)\n",
      "Requirement already satisfied: joblib>=0.11 in c:\\users\\lucasrc\\anaconda3\\lib\\site-packages (from scikit-learn==1.0.2->mlutils==0.0.1) (1.1.0)\n",
      "Requirement already satisfied: threadpoolctl>=2.0.0 in c:\\users\\lucasrc\\anaconda3\\lib\\site-packages (from scikit-learn==1.0.2->mlutils==0.0.1) (3.0.0)\n",
      "Requirement already satisfied: pyparsing!=3.0.5,>=2.0.2 in c:\\users\\lucasrc\\anaconda3\\lib\\site-packages (from packaging>=20.0->optuna==2.10.0->mlutils==0.0.1) (3.0.6)\n",
      "Requirement already satisfied: six>=1.5 in c:\\users\\lucasrc\\anaconda3\\lib\\site-packages (from python-dateutil>=2.7.3->pandas==1.3.5->mlutils==0.0.1) (1.16.0)\n",
      "Requirement already satisfied: greenlet!=0.4.17 in c:\\users\\lucasrc\\anaconda3\\lib\\site-packages (from sqlalchemy>=1.1.0->optuna==2.10.0->mlutils==0.0.1) (1.1.2)\n",
      "Requirement already satisfied: importlib-resources in c:\\users\\lucasrc\\anaconda3\\lib\\site-packages (from alembic->optuna==2.10.0->mlutils==0.0.1) (5.4.0)\n",
      "Requirement already satisfied: Mako in c:\\users\\lucasrc\\anaconda3\\lib\\site-packages (from alembic->optuna==2.10.0->mlutils==0.0.1) (1.1.6)\n",
      "Requirement already satisfied: importlib-metadata in c:\\users\\lucasrc\\anaconda3\\lib\\site-packages (from alembic->optuna==2.10.0->mlutils==0.0.1) (4.10.0)\n",
      "Requirement already satisfied: autopage>=0.4.0 in c:\\users\\lucasrc\\anaconda3\\lib\\site-packages (from cliff->optuna==2.10.0->mlutils==0.0.1) (0.4.0)\n",
      "Requirement already satisfied: stevedore>=2.0.1 in c:\\users\\lucasrc\\anaconda3\\lib\\site-packages (from cliff->optuna==2.10.0->mlutils==0.0.1) (3.5.0)\n",
      "Requirement already satisfied: cmd2>=1.0.0 in c:\\users\\lucasrc\\anaconda3\\lib\\site-packages (from cliff->optuna==2.10.0->mlutils==0.0.1) (2.3.3)\n",
      "Requirement already satisfied: PrettyTable>=0.7.2 in c:\\users\\lucasrc\\anaconda3\\lib\\site-packages (from cliff->optuna==2.10.0->mlutils==0.0.1) (2.5.0)\n",
      "Requirement already satisfied: pbr!=2.1.0,>=2.0.0 in c:\\users\\lucasrc\\anaconda3\\lib\\site-packages (from cliff->optuna==2.10.0->mlutils==0.0.1) (5.8.0)\n",
      "Requirement already satisfied: attrs>=16.3.0 in c:\\users\\lucasrc\\anaconda3\\lib\\site-packages (from cmd2>=1.0.0->cliff->optuna==2.10.0->mlutils==0.0.1) (21.4.0)\n",
      "Requirement already satisfied: pyperclip>=1.6 in c:\\users\\lucasrc\\anaconda3\\lib\\site-packages (from cmd2>=1.0.0->cliff->optuna==2.10.0->mlutils==0.0.1) (1.8.2)\n",
      "Requirement already satisfied: pyreadline3 in c:\\users\\lucasrc\\anaconda3\\lib\\site-packages (from cmd2>=1.0.0->cliff->optuna==2.10.0->mlutils==0.0.1) (3.4.1)\n",
      "Requirement already satisfied: wcwidth>=0.1.7 in c:\\users\\lucasrc\\anaconda3\\lib\\site-packages (from cmd2>=1.0.0->cliff->optuna==2.10.0->mlutils==0.0.1) (0.2.5)\n",
      "Requirement already satisfied: colorama in c:\\users\\lucasrc\\anaconda3\\lib\\site-packages (from colorlog->optuna==2.10.0->mlutils==0.0.1) (0.4.4)\n",
      "Requirement already satisfied: zipp>=0.5 in c:\\users\\lucasrc\\anaconda3\\lib\\site-packages (from importlib-metadata->alembic->optuna==2.10.0->mlutils==0.0.1) (3.7.0)\n",
      "Requirement already satisfied: MarkupSafe>=0.9.2 in c:\\users\\lucasrc\\anaconda3\\lib\\site-packages (from Mako->alembic->optuna==2.10.0->mlutils==0.0.1) (2.0.1)\n",
      "Installing collected packages: mlutils\n",
      "Successfully installed mlutils-0.0.1\n"
     ]
    },
    {
     "name": "stderr",
     "output_type": "stream",
     "text": [
      "WARNING: You are using pip version 21.2.4; however, version 21.3.1 is available.\n",
      "You should consider upgrading via the 'c:\\users\\lucasrc\\anaconda3\\python.exe -m pip install --upgrade pip' command.\n"
     ]
    }
   ],
   "source": [
    "!pip install C:\\Users\\lucasrc\\Documents\\Codes\\mlutils\\dist\\mlutils-0.0.1-py3-none-any.whl"
   ]
  },
  {
   "cell_type": "markdown",
   "id": "8b3786e1",
   "metadata": {},
   "source": [
    "## 1.0 Feature Selection"
   ]
  },
  {
   "cell_type": "markdown",
   "id": "6b07a460",
   "metadata": {},
   "source": [
    "The tutorial consists of the use of iris and boston datasets from sklearn Datasets, where the inputs are tested for each implemented feature selection algorithm and as a result a list of relevant features are presented.\n",
    "\n",
    "The feature selection methods are:\n",
    "\n",
    "Classification methods:\n",
    "\n",
    "- `feature_selection_filter` -> This method is implemented based on sklearn.feature_selection using chi2 as the estimator for the selection of each relevant feature.\n",
    "\n",
    "- `feature_selection_wrapper` -> This method is implemented as a wrapper of sklearn.feature_selection using LogisticRegression for the selection of each important feature.\n",
    "\n",
    "- `feature_selection_embedded` -> This method is implemented based on sklearn.feature_selection using LightGBMClassifier as the estimator for the selection of each relevant feature.\n",
    "\n",
    "\n",
    "Regression methods:\n",
    "\n",
    "- `feature_selection_stepwise` -> This is a wrapper from stepwise method found in statsmodels.api, which consists of the selection of relevant features depending on p-value.\n",
    "\n",
    "- `feature_selection_f_regression` -> The f_regression method extends of sklearn.feature_selection.f_regression, which is another method for the selection of input features based on p-value from sklearn framework for regression models.\n",
    "\n",
    "- `feature_selection_mutual_information` -> This method is as wrapper from sklearn.feature_selection.mutual_info_regression, which is developed for the use of mutual information concept for the selection of significant features based on how it can reduce entropy.\n",
    "\n",
    "Ordering method:\n",
    "\n",
    "- This method is responsable to present the indexes of rows that need to be dropped considering lower or upper thresholds specified by the data scientist. The method apply ordenation for the feature and after that consider indexes to be dropped based on how the lower and upper are in terms of percentile."
   ]
  },
  {
   "cell_type": "markdown",
   "id": "78ce1f53",
   "metadata": {},
   "source": [
    "## 1.1 Import modules"
   ]
  },
  {
   "cell_type": "code",
   "execution_count": 3,
   "id": "1bfda302",
   "metadata": {},
   "outputs": [],
   "source": [
    "# for classification\n",
    "from mlutils.feature_engineering import feature_selection_filter\n",
    "from mlutils.feature_engineering import feature_selection_wrapper\n",
    "from mlutils.feature_engineering import feature_selection_embedded\n",
    "\n",
    "# for regression\n",
    "from mlutils.feature_engineering import feature_selection_stepwise\n",
    "from mlutils.feature_engineering import feature_selection_f_regression\n",
    "from mlutils.feature_engineering import feature_selection_mutual_information\n",
    "\n",
    "# for ordering\n",
    "from mlutils.feature_engineering import ordering_filter\n",
    "\n",
    "# Others\n",
    "from sklearn import datasets\n",
    "import pandas as pd\n",
    "import numpy as np\n",
    "import warnings\n",
    "warnings.filterwarnings('ignore')"
   ]
  },
  {
   "cell_type": "markdown",
   "id": "1b2153f3",
   "metadata": {},
   "source": [
    "## 1.2 Gathering the datasets"
   ]
  },
  {
   "cell_type": "code",
   "execution_count": 4,
   "id": "71156221",
   "metadata": {},
   "outputs": [
    {
     "data": {
      "text/html": [
       "<div>\n",
       "<style scoped>\n",
       "    .dataframe tbody tr th:only-of-type {\n",
       "        vertical-align: middle;\n",
       "    }\n",
       "\n",
       "    .dataframe tbody tr th {\n",
       "        vertical-align: top;\n",
       "    }\n",
       "\n",
       "    .dataframe thead th {\n",
       "        text-align: right;\n",
       "    }\n",
       "</style>\n",
       "<table border=\"1\" class=\"dataframe\">\n",
       "  <thead>\n",
       "    <tr style=\"text-align: right;\">\n",
       "      <th></th>\n",
       "      <th>sepal length (cm)</th>\n",
       "      <th>sepal width (cm)</th>\n",
       "      <th>petal length (cm)</th>\n",
       "      <th>petal width (cm)</th>\n",
       "      <th>class</th>\n",
       "    </tr>\n",
       "  </thead>\n",
       "  <tbody>\n",
       "    <tr>\n",
       "      <th>0</th>\n",
       "      <td>5.1</td>\n",
       "      <td>3.5</td>\n",
       "      <td>1.4</td>\n",
       "      <td>0.2</td>\n",
       "      <td>0</td>\n",
       "    </tr>\n",
       "    <tr>\n",
       "      <th>1</th>\n",
       "      <td>4.9</td>\n",
       "      <td>3.0</td>\n",
       "      <td>1.4</td>\n",
       "      <td>0.2</td>\n",
       "      <td>0</td>\n",
       "    </tr>\n",
       "    <tr>\n",
       "      <th>2</th>\n",
       "      <td>4.7</td>\n",
       "      <td>3.2</td>\n",
       "      <td>1.3</td>\n",
       "      <td>0.2</td>\n",
       "      <td>0</td>\n",
       "    </tr>\n",
       "    <tr>\n",
       "      <th>3</th>\n",
       "      <td>4.6</td>\n",
       "      <td>3.1</td>\n",
       "      <td>1.5</td>\n",
       "      <td>0.2</td>\n",
       "      <td>0</td>\n",
       "    </tr>\n",
       "    <tr>\n",
       "      <th>4</th>\n",
       "      <td>5.0</td>\n",
       "      <td>3.6</td>\n",
       "      <td>1.4</td>\n",
       "      <td>0.2</td>\n",
       "      <td>0</td>\n",
       "    </tr>\n",
       "  </tbody>\n",
       "</table>\n",
       "</div>"
      ],
      "text/plain": [
       "   sepal length (cm)  sepal width (cm)  petal length (cm)  petal width (cm)  \\\n",
       "0                5.1               3.5                1.4               0.2   \n",
       "1                4.9               3.0                1.4               0.2   \n",
       "2                4.7               3.2                1.3               0.2   \n",
       "3                4.6               3.1                1.5               0.2   \n",
       "4                5.0               3.6                1.4               0.2   \n",
       "\n",
       "   class  \n",
       "0      0  \n",
       "1      0  \n",
       "2      0  \n",
       "3      0  \n",
       "4      0  "
      ]
     },
     "execution_count": 4,
     "metadata": {},
     "output_type": "execute_result"
    }
   ],
   "source": [
    "# for classification\n",
    "iris_data = datasets.load_iris()\n",
    "df_iris = pd.DataFrame(data=iris_data.data, columns=iris_data.feature_names)\n",
    "df_iris['class'] = iris_data.target\n",
    "df_iris.head()"
   ]
  },
  {
   "cell_type": "code",
   "execution_count": 5,
   "id": "833e4acf",
   "metadata": {},
   "outputs": [
    {
     "data": {
      "text/html": [
       "<div>\n",
       "<style scoped>\n",
       "    .dataframe tbody tr th:only-of-type {\n",
       "        vertical-align: middle;\n",
       "    }\n",
       "\n",
       "    .dataframe tbody tr th {\n",
       "        vertical-align: top;\n",
       "    }\n",
       "\n",
       "    .dataframe thead th {\n",
       "        text-align: right;\n",
       "    }\n",
       "</style>\n",
       "<table border=\"1\" class=\"dataframe\">\n",
       "  <thead>\n",
       "    <tr style=\"text-align: right;\">\n",
       "      <th></th>\n",
       "      <th>CRIM</th>\n",
       "      <th>ZN</th>\n",
       "      <th>INDUS</th>\n",
       "      <th>CHAS</th>\n",
       "      <th>NOX</th>\n",
       "      <th>RM</th>\n",
       "      <th>AGE</th>\n",
       "      <th>DIS</th>\n",
       "      <th>RAD</th>\n",
       "      <th>TAX</th>\n",
       "      <th>PTRATIO</th>\n",
       "      <th>B</th>\n",
       "      <th>LSTAT</th>\n",
       "      <th>MEDV</th>\n",
       "    </tr>\n",
       "  </thead>\n",
       "  <tbody>\n",
       "    <tr>\n",
       "      <th>0</th>\n",
       "      <td>0.00632</td>\n",
       "      <td>18.0</td>\n",
       "      <td>2.31</td>\n",
       "      <td>0.0</td>\n",
       "      <td>0.538</td>\n",
       "      <td>6.575</td>\n",
       "      <td>65.2</td>\n",
       "      <td>4.0900</td>\n",
       "      <td>1.0</td>\n",
       "      <td>296.0</td>\n",
       "      <td>15.3</td>\n",
       "      <td>396.90</td>\n",
       "      <td>4.98</td>\n",
       "      <td>24.0</td>\n",
       "    </tr>\n",
       "    <tr>\n",
       "      <th>1</th>\n",
       "      <td>0.02731</td>\n",
       "      <td>0.0</td>\n",
       "      <td>7.07</td>\n",
       "      <td>0.0</td>\n",
       "      <td>0.469</td>\n",
       "      <td>6.421</td>\n",
       "      <td>78.9</td>\n",
       "      <td>4.9671</td>\n",
       "      <td>2.0</td>\n",
       "      <td>242.0</td>\n",
       "      <td>17.8</td>\n",
       "      <td>396.90</td>\n",
       "      <td>9.14</td>\n",
       "      <td>21.6</td>\n",
       "    </tr>\n",
       "    <tr>\n",
       "      <th>2</th>\n",
       "      <td>0.02729</td>\n",
       "      <td>0.0</td>\n",
       "      <td>7.07</td>\n",
       "      <td>0.0</td>\n",
       "      <td>0.469</td>\n",
       "      <td>7.185</td>\n",
       "      <td>61.1</td>\n",
       "      <td>4.9671</td>\n",
       "      <td>2.0</td>\n",
       "      <td>242.0</td>\n",
       "      <td>17.8</td>\n",
       "      <td>392.83</td>\n",
       "      <td>4.03</td>\n",
       "      <td>34.7</td>\n",
       "    </tr>\n",
       "    <tr>\n",
       "      <th>3</th>\n",
       "      <td>0.03237</td>\n",
       "      <td>0.0</td>\n",
       "      <td>2.18</td>\n",
       "      <td>0.0</td>\n",
       "      <td>0.458</td>\n",
       "      <td>6.998</td>\n",
       "      <td>45.8</td>\n",
       "      <td>6.0622</td>\n",
       "      <td>3.0</td>\n",
       "      <td>222.0</td>\n",
       "      <td>18.7</td>\n",
       "      <td>394.63</td>\n",
       "      <td>2.94</td>\n",
       "      <td>33.4</td>\n",
       "    </tr>\n",
       "    <tr>\n",
       "      <th>4</th>\n",
       "      <td>0.06905</td>\n",
       "      <td>0.0</td>\n",
       "      <td>2.18</td>\n",
       "      <td>0.0</td>\n",
       "      <td>0.458</td>\n",
       "      <td>7.147</td>\n",
       "      <td>54.2</td>\n",
       "      <td>6.0622</td>\n",
       "      <td>3.0</td>\n",
       "      <td>222.0</td>\n",
       "      <td>18.7</td>\n",
       "      <td>396.90</td>\n",
       "      <td>5.33</td>\n",
       "      <td>36.2</td>\n",
       "    </tr>\n",
       "  </tbody>\n",
       "</table>\n",
       "</div>"
      ],
      "text/plain": [
       "      CRIM    ZN  INDUS  CHAS    NOX     RM   AGE     DIS  RAD    TAX  \\\n",
       "0  0.00632  18.0   2.31   0.0  0.538  6.575  65.2  4.0900  1.0  296.0   \n",
       "1  0.02731   0.0   7.07   0.0  0.469  6.421  78.9  4.9671  2.0  242.0   \n",
       "2  0.02729   0.0   7.07   0.0  0.469  7.185  61.1  4.9671  2.0  242.0   \n",
       "3  0.03237   0.0   2.18   0.0  0.458  6.998  45.8  6.0622  3.0  222.0   \n",
       "4  0.06905   0.0   2.18   0.0  0.458  7.147  54.2  6.0622  3.0  222.0   \n",
       "\n",
       "   PTRATIO       B  LSTAT  MEDV  \n",
       "0     15.3  396.90   4.98  24.0  \n",
       "1     17.8  396.90   9.14  21.6  \n",
       "2     17.8  392.83   4.03  34.7  \n",
       "3     18.7  394.63   2.94  33.4  \n",
       "4     18.7  396.90   5.33  36.2  "
      ]
     },
     "execution_count": 5,
     "metadata": {},
     "output_type": "execute_result"
    }
   ],
   "source": [
    "# for regression\n",
    "boston_data = datasets.load_boston()\n",
    "df_boston = pd.DataFrame(boston_data.data, columns=boston_data.feature_names)\n",
    "df_boston[\"MEDV\"] = boston_data.target\n",
    "df_boston.head()"
   ]
  },
  {
   "cell_type": "markdown",
   "id": "7f37d663",
   "metadata": {},
   "source": [
    "## 1.3 Using feature engineering for classification model"
   ]
  },
  {
   "cell_type": "code",
   "execution_count": 6,
   "id": "577206f2",
   "metadata": {
    "scrolled": true
   },
   "outputs": [
    {
     "data": {
      "text/plain": [
       "['sepal length (cm)', 'petal length (cm)', 'petal width (cm)']"
      ]
     },
     "execution_count": 6,
     "metadata": {},
     "output_type": "execute_result"
    }
   ],
   "source": [
    "feature_selection_filter(df=df_iris, target=\"class\", num_feats=3)"
   ]
  },
  {
   "cell_type": "code",
   "execution_count": 7,
   "id": "2ee36bf5",
   "metadata": {
    "scrolled": true
   },
   "outputs": [
    {
     "data": {
      "text/plain": [
       "['sepal width (cm)', 'petal length (cm)', 'petal width (cm)']"
      ]
     },
     "execution_count": 7,
     "metadata": {},
     "output_type": "execute_result"
    }
   ],
   "source": [
    "feature_selection_wrapper(df=df_iris, target=\"class\", num_feats=3)"
   ]
  },
  {
   "cell_type": "code",
   "execution_count": 8,
   "id": "8c9bfc7b",
   "metadata": {},
   "outputs": [
    {
     "data": {
      "text/plain": [
       "['petal length (cm)']"
      ]
     },
     "execution_count": 8,
     "metadata": {},
     "output_type": "execute_result"
    }
   ],
   "source": [
    "feature_selection_embedded(df_iris, \"class\", 3, 50)"
   ]
  },
  {
   "cell_type": "markdown",
   "id": "848326c6",
   "metadata": {},
   "source": [
    "## 1.4 Appying feature engineering for regression model"
   ]
  },
  {
   "cell_type": "code",
   "execution_count": 9,
   "id": "6c3da590",
   "metadata": {},
   "outputs": [
    {
     "data": {
      "text/plain": [
       "['LSTAT', 'RM', 'PTRATIO', 'DIS', 'NOX', 'CHAS', 'B', 'ZN']"
      ]
     },
     "execution_count": 9,
     "metadata": {},
     "output_type": "execute_result"
    }
   ],
   "source": [
    "feature_selection_stepwise(df_boston, target=\"MEDV\", threshold_in=0.01, threshold_out=0.05, verbose=False)"
   ]
  },
  {
   "cell_type": "code",
   "execution_count": 10,
   "id": "0763fa27",
   "metadata": {},
   "outputs": [
    {
     "data": {
      "text/plain": [
       "['RM', 'PTRATIO', 'LSTAT']"
      ]
     },
     "execution_count": 10,
     "metadata": {},
     "output_type": "execute_result"
    }
   ],
   "source": [
    "feature_selection_f_regression(df_boston, target=\"MEDV\", num_feats=3)"
   ]
  },
  {
   "cell_type": "code",
   "execution_count": 11,
   "id": "2b9f4b56",
   "metadata": {
    "scrolled": true
   },
   "outputs": [
    {
     "data": {
      "text/plain": [
       "['INDUS', 'RM', 'LSTAT']"
      ]
     },
     "execution_count": 11,
     "metadata": {},
     "output_type": "execute_result"
    }
   ],
   "source": [
    "feature_selection_mutual_information(df_boston, target=\"MEDV\", num_feats=3)"
   ]
  },
  {
   "cell_type": "markdown",
   "id": "5acec02d",
   "metadata": {},
   "source": [
    "## 2.0 Ordering Filter"
   ]
  },
  {
   "cell_type": "markdown",
   "id": "277a1f9f",
   "metadata": {},
   "source": [
    "The main objective of this function is the following: given a Dataframe as the input, show the indexes that might be dropped considering the thresholds of parameters \"lower_percentile\" ordered by low values and \"upper_percentile\" ordered by hight values."
   ]
  },
  {
   "cell_type": "code",
   "execution_count": 12,
   "id": "6ce430b2",
   "metadata": {
    "scrolled": true
   },
   "outputs": [
    {
     "data": {
      "text/html": [
       "<div>\n",
       "<style scoped>\n",
       "    .dataframe tbody tr th:only-of-type {\n",
       "        vertical-align: middle;\n",
       "    }\n",
       "\n",
       "    .dataframe tbody tr th {\n",
       "        vertical-align: top;\n",
       "    }\n",
       "\n",
       "    .dataframe thead th {\n",
       "        text-align: right;\n",
       "    }\n",
       "</style>\n",
       "<table border=\"1\" class=\"dataframe\">\n",
       "  <thead>\n",
       "    <tr style=\"text-align: right;\">\n",
       "      <th></th>\n",
       "      <th>a</th>\n",
       "      <th>b</th>\n",
       "      <th>c</th>\n",
       "    </tr>\n",
       "  </thead>\n",
       "  <tbody>\n",
       "    <tr>\n",
       "      <th>0</th>\n",
       "      <td>1</td>\n",
       "      <td>2</td>\n",
       "      <td>3</td>\n",
       "    </tr>\n",
       "    <tr>\n",
       "      <th>1</th>\n",
       "      <td>4</td>\n",
       "      <td>5</td>\n",
       "      <td>6</td>\n",
       "    </tr>\n",
       "    <tr>\n",
       "      <th>2</th>\n",
       "      <td>7</td>\n",
       "      <td>8</td>\n",
       "      <td>9</td>\n",
       "    </tr>\n",
       "  </tbody>\n",
       "</table>\n",
       "</div>"
      ],
      "text/plain": [
       "   a  b  c\n",
       "0  1  2  3\n",
       "1  4  5  6\n",
       "2  7  8  9"
      ]
     },
     "execution_count": 12,
     "metadata": {},
     "output_type": "execute_result"
    }
   ],
   "source": [
    "df2 = pd.DataFrame(\n",
    "        np.array([[1, 2, 3], [4, 5, 6], [7, 8, 9]]), columns=[\"a\", \"b\", \"c\"]\n",
    "    )\n",
    "df2"
   ]
  },
  {
   "cell_type": "code",
   "execution_count": 13,
   "id": "fb671a27",
   "metadata": {},
   "outputs": [
    {
     "data": {
      "text/plain": [
       "[0, 2]"
      ]
     },
     "execution_count": 13,
     "metadata": {},
     "output_type": "execute_result"
    }
   ],
   "source": [
    "ordering_filter(df2, variables=\"a\", lower_percentile=0.4, upper_percentile=0.1)"
   ]
  },
  {
   "cell_type": "markdown",
   "id": "ef113fcb",
   "metadata": {},
   "source": [
    "## 3.0 Conclusion"
   ]
  },
  {
   "cell_type": "markdown",
   "id": "dee474a9",
   "metadata": {},
   "source": [
    "This implementation is an advantage for feature selection process during the development of ML models due to its standardzation. Basically, you are able to run several different methods for feature selection only specifying basic hyperparameters and the dataFrame to be used. This makes it very easy to run a lot of tests in order to get best set of features for the train/test phase."
   ]
  },
  {
   "cell_type": "markdown",
   "id": "6a09ebf4",
   "metadata": {},
   "source": [
    "## References"
   ]
  },
  {
   "cell_type": "markdown",
   "id": "d715de2d",
   "metadata": {},
   "source": [
    "[pandas](https://pandas.pydata.org/)\n",
    "\n",
    "\n",
    "[SelectKBest](https://scikit-learn.org/stable/modules/generated/sklearn.feature_selection.SelectKBest.html)\n",
    "\n",
    "\n",
    "[Chi2](https://scikit-learn.org/stable/modules/generated/sklearn.feature_selection.chi2.html?highlight=chi2#sklearn.feature_selection.chi2)\n",
    "\n",
    "\n",
    "[RFE](https://scikit-learn.org/stable/modules/generated/sklearn.feature_selection.RFE.html?highlight=rfe#sklearn.feature_selection.RFE)\n",
    "\n",
    "[f_regression](https://scikit-learn.org/stable/modules/generated/sklearn.feature_selection.f_regression.html?highlight=f_regre#sklearn.feature_selection.f_regression)\n",
    "\n",
    "\n",
    "\n",
    "[mutual_info_regression](https://scikit-learn.org/stable/modules/generated/sklearn.feature_selection.mutual_info_regression.html?highlight=mutual_info#sklearn.feature_selection.mutual_info_regression)\n",
    "\n",
    "\n",
    "[MinMaxScaler](https://scikit-learn.org/stable/modules/generated/sklearn.preprocessing.MinMaxScaler.html?highlight=minmax#sklearn.preprocessing.MinMaxScaler)\n",
    "\n",
    "\n",
    "[LogisticRegression](https://scikit-learn.org/stable/modules/generated/sklearn.linear_model.LogisticRegression.html)\n",
    "\n",
    "\n",
    "\n",
    "[LGBMClassifier](https://lightgbm.readthedocs.io/en/latest/pythonapi/lightgbm.LGBMClassifier.html)\n",
    "\n",
    "\n",
    "[statsmodel.api](https://www.statsmodels.org/stable/index.html)"
   ]
  }
 ],
 "metadata": {
  "kernelspec": {
   "display_name": "Python 3",
   "language": "python",
   "name": "python3"
  },
  "language_info": {
   "codemirror_mode": {
    "name": "ipython",
    "version": 3
   },
   "file_extension": ".py",
   "mimetype": "text/x-python",
   "name": "python",
   "nbconvert_exporter": "python",
   "pygments_lexer": "ipython3",
   "version": "3.8.8"
  }
 },
 "nbformat": 4,
 "nbformat_minor": 5
}
