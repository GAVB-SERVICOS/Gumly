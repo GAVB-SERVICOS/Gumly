{
 "cells": [
  {
   "cell_type": "markdown",
   "id": "8b3786e1",
   "metadata": {},
   "source": [
    "## 1.0 Feature Selection"
   ]
  },
  {
   "cell_type": "markdown",
   "id": "6b07a460",
   "metadata": {},
   "source": [
    "The tutorial consists of the use of iris and boston datasets from sklearn Datasets, where the inputs are tested for each implemented feature selection algorithm and as a result a list of relevant features are presented.\n",
    "\n",
    "The feature selection methods are:\n",
    "\n",
    "Classification methods:\n",
    "\n",
    "- `feature_selection_filter` -> This method is implemented based on sklearn.feature_selection using chi2 as the estimator for the selection of each relevant feature.\n",
    "\n",
    "- `feature_selection_wrapper` -> This method is implemented as a wrapper of sklearn.feature_selection using LogisticRegression for the selection of each important feature.\n",
    "\n",
    "- `feature_selection_embedded` -> This method is implemented based on sklearn.feature_selection using LightGBMClassifier as the estimator for the selection of each relevant feature.\n",
    "\n",
    "\n",
    "Regression methods:\n",
    "\n",
    "- `feature_selection_stepwise` -> This is a wrapper from stepwise method found in statsmodels.api, which consists of the selection of relevant features depending on p-value.\n",
    "\n",
    "- `feature_selection_f_regression` -> The f_regression method extends of sklearn.feature_selection.f_regression, which is another method for the selection of input features based on p-value from sklearn framework for regression models.\n",
    "\n",
    "- `feature_selection_mutual_information` -> This method is as wrapper from sklearn.feature_selection.mutual_info_regression, which is developed for the use of mutual information concept for the selection of significant features based on how it can reduce entropy.\n",
    "\n",
    "Ordering method:\n",
    "\n",
    "- This method is responsable to present the indexes of rows that need to be dropped considering lower or upper thresholds specified by the data scientist. The method apply ordenation for the feature and after that consider indexes to be dropped based on how the lower and upper are in terms of percentile."
   ]
  },
  {
   "cell_type": "markdown",
   "id": "78ce1f53",
   "metadata": {},
   "source": [
    "## 1.1 Import modules"
   ]
  },
  {
   "cell_type": "code",
   "execution_count": 1,
   "id": "1bfda302",
   "metadata": {},
   "outputs": [],
   "source": [
    "# for classification\n",
    "from gumly.feature_engineering import feature_selection_filter\n",
    "from gumly.feature_engineering import feature_selection_wrapper\n",
    "from gumly.feature_engineering import feature_selection_embedded\n",
    "\n",
    "# for regression\n",
    "from gumly.feature_engineering import feature_selection_stepwise\n",
    "from gumly.feature_engineering import feature_selection_f_regression\n",
    "from gumly.feature_engineering import feature_selection_mutual_information\n",
    "\n",
    "# for ordering\n",
    "from gumly.feature_engineering import ordering_filter\n",
    "\n",
    "# Others\n",
    "from sklearn import datasets\n",
    "import pandas as pd\n",
    "import numpy as np\n",
    "import warnings\n",
    "warnings.filterwarnings('ignore')"
   ]
  },
  {
   "cell_type": "markdown",
   "id": "1b2153f3",
   "metadata": {},
   "source": [
    "## 1.2 Gathering the datasets"
   ]
  },
  {
   "cell_type": "code",
   "execution_count": 2,
   "id": "71156221",
   "metadata": {},
   "outputs": [
    {
     "data": {
      "text/html": [
       "<div>\n",
       "<style scoped>\n",
       "    .dataframe tbody tr th:only-of-type {\n",
       "        vertical-align: middle;\n",
       "    }\n",
       "\n",
       "    .dataframe tbody tr th {\n",
       "        vertical-align: top;\n",
       "    }\n",
       "\n",
       "    .dataframe thead th {\n",
       "        text-align: right;\n",
       "    }\n",
       "</style>\n",
       "<table border=\"1\" class=\"dataframe\">\n",
       "  <thead>\n",
       "    <tr style=\"text-align: right;\">\n",
       "      <th></th>\n",
       "      <th>sepal length (cm)</th>\n",
       "      <th>sepal width (cm)</th>\n",
       "      <th>petal length (cm)</th>\n",
       "      <th>petal width (cm)</th>\n",
       "      <th>class</th>\n",
       "    </tr>\n",
       "  </thead>\n",
       "  <tbody>\n",
       "    <tr>\n",
       "      <th>0</th>\n",
       "      <td>5.1</td>\n",
       "      <td>3.5</td>\n",
       "      <td>1.4</td>\n",
       "      <td>0.2</td>\n",
       "      <td>0</td>\n",
       "    </tr>\n",
       "    <tr>\n",
       "      <th>1</th>\n",
       "      <td>4.9</td>\n",
       "      <td>3.0</td>\n",
       "      <td>1.4</td>\n",
       "      <td>0.2</td>\n",
       "      <td>0</td>\n",
       "    </tr>\n",
       "    <tr>\n",
       "      <th>2</th>\n",
       "      <td>4.7</td>\n",
       "      <td>3.2</td>\n",
       "      <td>1.3</td>\n",
       "      <td>0.2</td>\n",
       "      <td>0</td>\n",
       "    </tr>\n",
       "    <tr>\n",
       "      <th>3</th>\n",
       "      <td>4.6</td>\n",
       "      <td>3.1</td>\n",
       "      <td>1.5</td>\n",
       "      <td>0.2</td>\n",
       "      <td>0</td>\n",
       "    </tr>\n",
       "    <tr>\n",
       "      <th>4</th>\n",
       "      <td>5.0</td>\n",
       "      <td>3.6</td>\n",
       "      <td>1.4</td>\n",
       "      <td>0.2</td>\n",
       "      <td>0</td>\n",
       "    </tr>\n",
       "  </tbody>\n",
       "</table>\n",
       "</div>"
      ],
      "text/plain": [
       "   sepal length (cm)  sepal width (cm)  petal length (cm)  petal width (cm)  \\\n",
       "0                5.1               3.5                1.4               0.2   \n",
       "1                4.9               3.0                1.4               0.2   \n",
       "2                4.7               3.2                1.3               0.2   \n",
       "3                4.6               3.1                1.5               0.2   \n",
       "4                5.0               3.6                1.4               0.2   \n",
       "\n",
       "   class  \n",
       "0      0  \n",
       "1      0  \n",
       "2      0  \n",
       "3      0  \n",
       "4      0  "
      ]
     },
     "execution_count": 2,
     "metadata": {},
     "output_type": "execute_result"
    }
   ],
   "source": [
    "# for classification\n",
    "iris_data = datasets.load_iris()\n",
    "df_iris = pd.DataFrame(data=iris_data.data, columns=iris_data.feature_names)\n",
    "df_iris['class'] = iris_data.target\n",
    "df_iris.head()"
   ]
  },
  {
   "cell_type": "code",
   "execution_count": 4,
   "id": "833e4acf",
   "metadata": {},
   "outputs": [
    {
     "data": {
      "text/html": [
       "<div>\n",
       "<style scoped>\n",
       "    .dataframe tbody tr th:only-of-type {\n",
       "        vertical-align: middle;\n",
       "    }\n",
       "\n",
       "    .dataframe tbody tr th {\n",
       "        vertical-align: top;\n",
       "    }\n",
       "\n",
       "    .dataframe thead th {\n",
       "        text-align: right;\n",
       "    }\n",
       "</style>\n",
       "<table border=\"1\" class=\"dataframe\">\n",
       "  <thead>\n",
       "    <tr style=\"text-align: right;\">\n",
       "      <th></th>\n",
       "      <th>age</th>\n",
       "      <th>sex</th>\n",
       "      <th>bmi</th>\n",
       "      <th>bp</th>\n",
       "      <th>s1</th>\n",
       "      <th>s2</th>\n",
       "      <th>s3</th>\n",
       "      <th>s4</th>\n",
       "      <th>s5</th>\n",
       "      <th>s6</th>\n",
       "    </tr>\n",
       "  </thead>\n",
       "  <tbody>\n",
       "    <tr>\n",
       "      <th>0</th>\n",
       "      <td>0.038076</td>\n",
       "      <td>0.050680</td>\n",
       "      <td>0.061696</td>\n",
       "      <td>151.0</td>\n",
       "      <td>-0.044223</td>\n",
       "      <td>-0.034821</td>\n",
       "      <td>-0.043401</td>\n",
       "      <td>-0.002592</td>\n",
       "      <td>0.019907</td>\n",
       "      <td>-0.017646</td>\n",
       "    </tr>\n",
       "    <tr>\n",
       "      <th>1</th>\n",
       "      <td>-0.001882</td>\n",
       "      <td>-0.044642</td>\n",
       "      <td>-0.051474</td>\n",
       "      <td>75.0</td>\n",
       "      <td>-0.008449</td>\n",
       "      <td>-0.019163</td>\n",
       "      <td>0.074412</td>\n",
       "      <td>-0.039493</td>\n",
       "      <td>-0.068332</td>\n",
       "      <td>-0.092204</td>\n",
       "    </tr>\n",
       "    <tr>\n",
       "      <th>2</th>\n",
       "      <td>0.085299</td>\n",
       "      <td>0.050680</td>\n",
       "      <td>0.044451</td>\n",
       "      <td>141.0</td>\n",
       "      <td>-0.045599</td>\n",
       "      <td>-0.034194</td>\n",
       "      <td>-0.032356</td>\n",
       "      <td>-0.002592</td>\n",
       "      <td>0.002861</td>\n",
       "      <td>-0.025930</td>\n",
       "    </tr>\n",
       "    <tr>\n",
       "      <th>3</th>\n",
       "      <td>-0.089063</td>\n",
       "      <td>-0.044642</td>\n",
       "      <td>-0.011595</td>\n",
       "      <td>206.0</td>\n",
       "      <td>0.012191</td>\n",
       "      <td>0.024991</td>\n",
       "      <td>-0.036038</td>\n",
       "      <td>0.034309</td>\n",
       "      <td>0.022688</td>\n",
       "      <td>-0.009362</td>\n",
       "    </tr>\n",
       "    <tr>\n",
       "      <th>4</th>\n",
       "      <td>0.005383</td>\n",
       "      <td>-0.044642</td>\n",
       "      <td>-0.036385</td>\n",
       "      <td>135.0</td>\n",
       "      <td>0.003935</td>\n",
       "      <td>0.015596</td>\n",
       "      <td>0.008142</td>\n",
       "      <td>-0.002592</td>\n",
       "      <td>-0.031988</td>\n",
       "      <td>-0.046641</td>\n",
       "    </tr>\n",
       "  </tbody>\n",
       "</table>\n",
       "</div>"
      ],
      "text/plain": [
       "        age       sex       bmi     bp        s1        s2        s3  \\\n",
       "0  0.038076  0.050680  0.061696  151.0 -0.044223 -0.034821 -0.043401   \n",
       "1 -0.001882 -0.044642 -0.051474   75.0 -0.008449 -0.019163  0.074412   \n",
       "2  0.085299  0.050680  0.044451  141.0 -0.045599 -0.034194 -0.032356   \n",
       "3 -0.089063 -0.044642 -0.011595  206.0  0.012191  0.024991 -0.036038   \n",
       "4  0.005383 -0.044642 -0.036385  135.0  0.003935  0.015596  0.008142   \n",
       "\n",
       "         s4        s5        s6  \n",
       "0 -0.002592  0.019907 -0.017646  \n",
       "1 -0.039493 -0.068332 -0.092204  \n",
       "2 -0.002592  0.002861 -0.025930  \n",
       "3  0.034309  0.022688 -0.009362  \n",
       "4 -0.002592 -0.031988 -0.046641  "
      ]
     },
     "execution_count": 4,
     "metadata": {},
     "output_type": "execute_result"
    }
   ],
   "source": [
    "# for regression\n",
    "diabetes_data = datasets.load_diabetes()\n",
    "df_diabetes = pd.DataFrame(diabetes_data.data, columns=diabetes_data.feature_names)\n",
    "df_diabetes['bp'] = diabetes_data.target\n",
    "df_diabetes.head()\n",
    "\n",
    "\n",
    "\n",
    "# df_boston[\"MEDV\"] = boston_data.target\n",
    "# df_boston.head()"
   ]
  },
  {
   "cell_type": "markdown",
   "id": "7f37d663",
   "metadata": {},
   "source": [
    "## 1.3 Using feature engineering for classification model"
   ]
  },
  {
   "cell_type": "code",
   "execution_count": 5,
   "id": "577206f2",
   "metadata": {
    "scrolled": false
   },
   "outputs": [
    {
     "data": {
      "text/plain": [
       "['sepal length (cm)', 'petal length (cm)', 'petal width (cm)']"
      ]
     },
     "execution_count": 5,
     "metadata": {},
     "output_type": "execute_result"
    }
   ],
   "source": [
    "feature_selection_filter(df=df_iris, target='class', num_feats=3)"
   ]
  },
  {
   "cell_type": "code",
   "execution_count": 6,
   "id": "2ee36bf5",
   "metadata": {
    "scrolled": true
   },
   "outputs": [
    {
     "data": {
      "text/plain": [
       "['sepal width (cm)', 'petal length (cm)', 'petal width (cm)']"
      ]
     },
     "execution_count": 6,
     "metadata": {},
     "output_type": "execute_result"
    }
   ],
   "source": [
    "feature_selection_wrapper(df_iris, \"class\",num_feats=3, step = 3)"
   ]
  },
  {
   "cell_type": "code",
   "execution_count": 7,
   "id": "8c9bfc7b",
   "metadata": {},
   "outputs": [
    {
     "data": {
      "text/plain": [
       "['petal length (cm)']"
      ]
     },
     "execution_count": 7,
     "metadata": {},
     "output_type": "execute_result"
    }
   ],
   "source": [
    "feature_selection_embedded(df_iris, \"class\", 3, 50)"
   ]
  },
  {
   "cell_type": "markdown",
   "id": "848326c6",
   "metadata": {},
   "source": [
    "## 1.4 Appying feature engineering for regression model"
   ]
  },
  {
   "cell_type": "code",
   "execution_count": 19,
   "id": "6c3da590",
   "metadata": {},
   "outputs": [
    {
     "data": {
      "text/plain": [
       "['bmi', 's5', 's1']"
      ]
     },
     "execution_count": 19,
     "metadata": {},
     "output_type": "execute_result"
    }
   ],
   "source": [
    "feature_selection_stepwise(df_diabetes, target=\"bp\", threshold_in=0.01, threshold_out=0.05, verbose=False)"
   ]
  },
  {
   "cell_type": "code",
   "execution_count": 12,
   "id": "0763fa27",
   "metadata": {},
   "outputs": [
    {
     "data": {
      "text/plain": [
       "['bmi', 's4', 's5']"
      ]
     },
     "execution_count": 12,
     "metadata": {},
     "output_type": "execute_result"
    }
   ],
   "source": [
    "feature_selection_f_regression(df_diabetes, target=\"bp\", num_feats=3)"
   ]
  },
  {
   "cell_type": "code",
   "execution_count": 14,
   "id": "2b9f4b56",
   "metadata": {
    "scrolled": true
   },
   "outputs": [
    {
     "data": {
      "text/plain": [
       "['bmi', 's5', 's6']"
      ]
     },
     "execution_count": 14,
     "metadata": {},
     "output_type": "execute_result"
    }
   ],
   "source": [
    "feature_selection_mutual_information(df_diabetes, target=\"bp\", num_feats=3)"
   ]
  },
  {
   "cell_type": "markdown",
   "id": "5acec02d",
   "metadata": {},
   "source": [
    "## 2.0 Ordering Filter"
   ]
  },
  {
   "cell_type": "markdown",
   "id": "277a1f9f",
   "metadata": {},
   "source": [
    "The main objective of this function is the following: given a Dataframe as the input, show the indexes that might be dropped considering the thresholds of parameters \"lower_percentile\" ordered by low values and \"upper_percentile\" ordered by hight values."
   ]
  },
  {
   "cell_type": "code",
   "execution_count": 15,
   "id": "6ce430b2",
   "metadata": {
    "scrolled": true
   },
   "outputs": [
    {
     "data": {
      "text/html": [
       "<div>\n",
       "<style scoped>\n",
       "    .dataframe tbody tr th:only-of-type {\n",
       "        vertical-align: middle;\n",
       "    }\n",
       "\n",
       "    .dataframe tbody tr th {\n",
       "        vertical-align: top;\n",
       "    }\n",
       "\n",
       "    .dataframe thead th {\n",
       "        text-align: right;\n",
       "    }\n",
       "</style>\n",
       "<table border=\"1\" class=\"dataframe\">\n",
       "  <thead>\n",
       "    <tr style=\"text-align: right;\">\n",
       "      <th></th>\n",
       "      <th>a</th>\n",
       "      <th>b</th>\n",
       "      <th>c</th>\n",
       "    </tr>\n",
       "  </thead>\n",
       "  <tbody>\n",
       "    <tr>\n",
       "      <th>0</th>\n",
       "      <td>1</td>\n",
       "      <td>2</td>\n",
       "      <td>3</td>\n",
       "    </tr>\n",
       "    <tr>\n",
       "      <th>1</th>\n",
       "      <td>4</td>\n",
       "      <td>5</td>\n",
       "      <td>6</td>\n",
       "    </tr>\n",
       "    <tr>\n",
       "      <th>2</th>\n",
       "      <td>7</td>\n",
       "      <td>8</td>\n",
       "      <td>9</td>\n",
       "    </tr>\n",
       "  </tbody>\n",
       "</table>\n",
       "</div>"
      ],
      "text/plain": [
       "   a  b  c\n",
       "0  1  2  3\n",
       "1  4  5  6\n",
       "2  7  8  9"
      ]
     },
     "execution_count": 15,
     "metadata": {},
     "output_type": "execute_result"
    }
   ],
   "source": [
    "df2 = pd.DataFrame(\n",
    "        np.array([[1, 2, 3], [4, 5, 6], [7, 8, 9]]), columns=[\"a\", \"b\", \"c\"]\n",
    "    )\n",
    "df2"
   ]
  },
  {
   "cell_type": "code",
   "execution_count": 16,
   "id": "fb671a27",
   "metadata": {},
   "outputs": [
    {
     "data": {
      "text/plain": [
       "[0, 2]"
      ]
     },
     "execution_count": 16,
     "metadata": {},
     "output_type": "execute_result"
    }
   ],
   "source": [
    "ordering_filter(df2, variables=\"a\", lower_percentile=0.4, upper_percentile=0.1)"
   ]
  },
  {
   "cell_type": "markdown",
   "id": "ef113fcb",
   "metadata": {},
   "source": [
    "## 3.0 Conclusion"
   ]
  },
  {
   "cell_type": "markdown",
   "id": "dee474a9",
   "metadata": {},
   "source": [
    "This implementation is an advantage for feature selection process during the development of ML models due to its standardzation. Basically, you are able to run several different methods for feature selection only specifying basic hyperparameters and the dataFrame to be used. This makes it very easy to run a lot of tests in order to get best set of features for the train/test phase."
   ]
  },
  {
   "cell_type": "markdown",
   "id": "6a09ebf4",
   "metadata": {},
   "source": [
    "## References"
   ]
  },
  {
   "cell_type": "markdown",
   "id": "d715de2d",
   "metadata": {},
   "source": [
    "[pandas](https://pandas.pydata.org/)\n",
    "\n",
    "\n",
    "[SelectKBest](https://scikit-learn.org/stable/modules/generated/sklearn.feature_selection.SelectKBest.html)\n",
    "\n",
    "\n",
    "[Chi2](https://scikit-learn.org/stable/modules/generated/sklearn.feature_selection.chi2.html?highlight=chi2#sklearn.feature_selection.chi2)\n",
    "\n",
    "\n",
    "[RFE](https://scikit-learn.org/stable/modules/generated/sklearn.feature_selection.RFE.html?highlight=rfe#sklearn.feature_selection.RFE)\n",
    "\n",
    "[f_regression](https://scikit-learn.org/stable/modules/generated/sklearn.feature_selection.f_regression.html?highlight=f_regre#sklearn.feature_selection.f_regression)\n",
    "\n",
    "\n",
    "\n",
    "[mutual_info_regression](https://scikit-learn.org/stable/modules/generated/sklearn.feature_selection.mutual_info_regression.html?highlight=mutual_info#sklearn.feature_selection.mutual_info_regression)\n",
    "\n",
    "\n",
    "[MinMaxScaler](https://scikit-learn.org/stable/modules/generated/sklearn.preprocessing.MinMaxScaler.html?highlight=minmax#sklearn.preprocessing.MinMaxScaler)\n",
    "\n",
    "\n",
    "[LogisticRegression](https://scikit-learn.org/stable/modules/generated/sklearn.linear_model.LogisticRegression.html)\n",
    "\n",
    "\n",
    "\n",
    "[LGBMClassifier](https://lightgbm.readthedocs.io/en/latest/pythonapi/lightgbm.LGBMClassifier.html)\n",
    "\n",
    "\n",
    "[statsmodel.api](https://www.statsmodels.org/stable/index.html)"
   ]
  }
 ],
 "metadata": {
  "kernelspec": {
   "display_name": "Python 3 (ipykernel)",
   "language": "python",
   "name": "python3"
  },
  "language_info": {
   "codemirror_mode": {
    "name": "ipython",
    "version": 3
   },
   "file_extension": ".py",
   "mimetype": "text/x-python",
   "name": "python",
   "nbconvert_exporter": "python",
   "pygments_lexer": "ipython3",
   "version": "3.8.8"
  }
 },
 "nbformat": 4,
 "nbformat_minor": 5
}
