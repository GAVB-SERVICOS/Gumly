{
 "cells": [
  {
   "cell_type": "markdown",
   "id": "d487b4db",
   "metadata": {},
   "source": [
    "## 1.0 Validation Check"
   ]
  },
  {
   "cell_type": "markdown",
   "id": "ccd63197",
   "metadata": {},
   "source": [
    "Here we present how to use these two functions meant to validate a numeric variable, considering both, its type (it must be a numerical type) and its range of values."
   ]
  },
  {
   "cell_type": "markdown",
   "id": "208c7120",
   "metadata": {},
   "source": [
    "## 1.1 Import modules"
   ]
  },
  {
   "cell_type": "code",
   "execution_count": 2,
   "id": "df2b9757",
   "metadata": {},
   "outputs": [],
   "source": [
    "#Check number\n",
    "from gumly.value_validation import check_number\n",
    "\n",
    "#Assert\n",
    "from gumly.value_validation import assert_check_number\n",
    "\n",
    "#Dtypes\n",
    "\n",
    "from gumly.value_validation import check_dtypes\n",
    "\n",
    "#Other\n",
    "import pandas as pd"
   ]
  },
  {
   "cell_type": "markdown",
   "id": "1bac7ea4",
   "metadata": {},
   "source": [
    "## 1.2 Check Number"
   ]
  },
  {
   "cell_type": "markdown",
   "id": "b5092661",
   "metadata": {},
   "source": [
    "#### This function returns True if the first argument is a number and it lies between the next two arguments. Othwerise, returns False."
   ]
  },
  {
   "cell_type": "code",
   "execution_count": 3,
   "id": "817bb00d",
   "metadata": {},
   "outputs": [
    {
     "data": {
      "text/plain": [
       "True"
      ]
     },
     "execution_count": 3,
     "metadata": {},
     "output_type": "execute_result"
    }
   ],
   "source": [
    "check_number(x=1,lower=0, upper=100) # True"
   ]
  },
  {
   "cell_type": "code",
   "execution_count": 4,
   "id": "e34ab13f",
   "metadata": {},
   "outputs": [
    {
     "data": {
      "text/plain": [
       "False"
      ]
     },
     "execution_count": 4,
     "metadata": {},
     "output_type": "execute_result"
    }
   ],
   "source": [
    "check_number(x=-1, lower=0, upper=100) # False"
   ]
  },
  {
   "cell_type": "markdown",
   "id": "5b236cb2",
   "metadata": {},
   "source": [
    "## 1.3  Assert Check Number"
   ]
  },
  {
   "cell_type": "markdown",
   "id": "0e308d27",
   "metadata": {},
   "source": [
    "#### This function uses the above function and it will raise an exception if check_number returns False."
   ]
  },
  {
   "cell_type": "code",
   "execution_count": 5,
   "id": "c1c66850",
   "metadata": {
    "scrolled": true
   },
   "outputs": [
    {
     "ename": "AssertionError",
     "evalue": "Check number of: lower_percentil (<class 'int'>)=-1, expected lower_percentil between 0 and 1.0",
     "output_type": "error",
     "traceback": [
      "\u001b[0;31m---------------------------------------------------------------------------\u001b[0m",
      "\u001b[0;31mAssertionError\u001b[0m                            Traceback (most recent call last)",
      "\u001b[0;32m/tmp/ipykernel_33470/3807514835.py\u001b[0m in \u001b[0;36m<module>\u001b[0;34m\u001b[0m\n\u001b[1;32m      2\u001b[0m \u001b[0mlower_percentil\u001b[0m \u001b[0;34m=\u001b[0m \u001b[0;34m-\u001b[0m\u001b[0;36m1\u001b[0m\u001b[0;34m\u001b[0m\u001b[0;34m\u001b[0m\u001b[0m\n\u001b[1;32m      3\u001b[0m \u001b[0;34m\u001b[0m\u001b[0m\n\u001b[0;32m----> 4\u001b[0;31m \u001b[0massert_check_number\u001b[0m\u001b[0;34m(\u001b[0m\u001b[0mx\u001b[0m\u001b[0;34m=\u001b[0m\u001b[0mlower_percentil\u001b[0m\u001b[0;34m,\u001b[0m \u001b[0mlower\u001b[0m\u001b[0;34m=\u001b[0m\u001b[0;36m0\u001b[0m\u001b[0;34m,\u001b[0m \u001b[0mupper\u001b[0m\u001b[0;34m=\u001b[0m\u001b[0;36m1.0\u001b[0m\u001b[0;34m,\u001b[0m \u001b[0mvarname\u001b[0m\u001b[0;34m=\u001b[0m\u001b[0;34m\"lower_percentil\"\u001b[0m\u001b[0;34m)\u001b[0m\u001b[0;34m\u001b[0m\u001b[0;34m\u001b[0m\u001b[0m\n\u001b[0m",
      "\u001b[0;32m~/anaconda3/lib/python3.8/site-packages/gumly/value_validation.py\u001b[0m in \u001b[0;36massert_check_number\u001b[0;34m(x, lower, upper, varname)\u001b[0m\n\u001b[1;32m     37\u001b[0m     \"\"\"\n\u001b[1;32m     38\u001b[0m     \u001b[0mvarname\u001b[0m \u001b[0;34m=\u001b[0m \u001b[0mvarname\u001b[0m \u001b[0;32mor\u001b[0m \u001b[0;34m\"x\"\u001b[0m\u001b[0;34m\u001b[0m\u001b[0;34m\u001b[0m\u001b[0m\n\u001b[0;32m---> 39\u001b[0;31m     assert check_number(\n\u001b[0m\u001b[1;32m     40\u001b[0m         \u001b[0mx\u001b[0m\u001b[0;34m=\u001b[0m\u001b[0mx\u001b[0m\u001b[0;34m,\u001b[0m \u001b[0mlower\u001b[0m\u001b[0;34m=\u001b[0m\u001b[0mlower\u001b[0m\u001b[0;34m,\u001b[0m \u001b[0mupper\u001b[0m\u001b[0;34m=\u001b[0m\u001b[0mupper\u001b[0m\u001b[0;34m\u001b[0m\u001b[0;34m\u001b[0m\u001b[0m\n\u001b[1;32m     41\u001b[0m     ), f\"Check number of: {varname} ({type(x)})={x}, expected {varname} between {lower} and {upper}\"\n",
      "\u001b[0;31mAssertionError\u001b[0m: Check number of: lower_percentil (<class 'int'>)=-1, expected lower_percentil between 0 and 1.0"
     ]
    }
   ],
   "source": [
    "#error\n",
    "lower_percentil = -1\n",
    "\n",
    "assert_check_number(x=lower_percentil, lower=0, upper=1.0, varname=\"lower_percentil\")"
   ]
  },
  {
   "cell_type": "markdown",
   "id": "6e221ff4",
   "metadata": {},
   "source": [
    "## 1.4  Check_dtypes"
   ]
  },
  {
   "cell_type": "markdown",
   "id": "996c1043",
   "metadata": {},
   "source": [
    "#### This function will raise ValueError if types are not permited in DataFrame."
   ]
  },
  {
   "cell_type": "code",
   "execution_count": 6,
   "id": "0b3409e9",
   "metadata": {},
   "outputs": [],
   "source": [
    "x = pd.DataFrame({'a': [1,2,3], 'b': ['1','2','3']})\n",
    "y = pd.DataFrame({'a': [1,2,3], 'b': [1.0,1.2,3.0]})"
   ]
  },
  {
   "cell_type": "code",
   "execution_count": 7,
   "id": "6b62ab97",
   "metadata": {},
   "outputs": [
    {
     "data": {
      "text/html": [
       "<div>\n",
       "<style scoped>\n",
       "    .dataframe tbody tr th:only-of-type {\n",
       "        vertical-align: middle;\n",
       "    }\n",
       "\n",
       "    .dataframe tbody tr th {\n",
       "        vertical-align: top;\n",
       "    }\n",
       "\n",
       "    .dataframe thead th {\n",
       "        text-align: right;\n",
       "    }\n",
       "</style>\n",
       "<table border=\"1\" class=\"dataframe\">\n",
       "  <thead>\n",
       "    <tr style=\"text-align: right;\">\n",
       "      <th></th>\n",
       "      <th>a</th>\n",
       "      <th>b</th>\n",
       "    </tr>\n",
       "  </thead>\n",
       "  <tbody>\n",
       "    <tr>\n",
       "      <th>0</th>\n",
       "      <td>1</td>\n",
       "      <td>1</td>\n",
       "    </tr>\n",
       "    <tr>\n",
       "      <th>1</th>\n",
       "      <td>2</td>\n",
       "      <td>2</td>\n",
       "    </tr>\n",
       "    <tr>\n",
       "      <th>2</th>\n",
       "      <td>3</td>\n",
       "      <td>3</td>\n",
       "    </tr>\n",
       "  </tbody>\n",
       "</table>\n",
       "</div>"
      ],
      "text/plain": [
       "   a  b\n",
       "0  1  1\n",
       "1  2  2\n",
       "2  3  3"
      ]
     },
     "execution_count": 7,
     "metadata": {},
     "output_type": "execute_result"
    }
   ],
   "source": [
    "x"
   ]
  },
  {
   "cell_type": "code",
   "execution_count": 9,
   "id": "62345dc6",
   "metadata": {},
   "outputs": [
    {
     "data": {
      "text/html": [
       "<div>\n",
       "<style scoped>\n",
       "    .dataframe tbody tr th:only-of-type {\n",
       "        vertical-align: middle;\n",
       "    }\n",
       "\n",
       "    .dataframe tbody tr th {\n",
       "        vertical-align: top;\n",
       "    }\n",
       "\n",
       "    .dataframe thead th {\n",
       "        text-align: right;\n",
       "    }\n",
       "</style>\n",
       "<table border=\"1\" class=\"dataframe\">\n",
       "  <thead>\n",
       "    <tr style=\"text-align: right;\">\n",
       "      <th></th>\n",
       "      <th>a</th>\n",
       "      <th>b</th>\n",
       "    </tr>\n",
       "  </thead>\n",
       "  <tbody>\n",
       "    <tr>\n",
       "      <th>0</th>\n",
       "      <td>1</td>\n",
       "      <td>1</td>\n",
       "    </tr>\n",
       "    <tr>\n",
       "      <th>1</th>\n",
       "      <td>2</td>\n",
       "      <td>2</td>\n",
       "    </tr>\n",
       "    <tr>\n",
       "      <th>2</th>\n",
       "      <td>3</td>\n",
       "      <td>3</td>\n",
       "    </tr>\n",
       "  </tbody>\n",
       "</table>\n",
       "</div>"
      ],
      "text/plain": [
       "   a  b\n",
       "0  1  1\n",
       "1  2  2\n",
       "2  3  3"
      ]
     },
     "execution_count": 9,
     "metadata": {},
     "output_type": "execute_result"
    }
   ],
   "source": [
    "pd.DataFrame(x, columns=['a', 'b'])"
   ]
  },
  {
   "cell_type": "code",
   "execution_count": 15,
   "id": "b59cc9de",
   "metadata": {},
   "outputs": [
    {
     "ename": "ValueError",
     "evalue": "Exists one or more type of df.columns not permitted ",
     "output_type": "error",
     "traceback": [
      "\u001b[0;31m---------------------------------------------------------------------------\u001b[0m",
      "\u001b[0;31mValueError\u001b[0m                                Traceback (most recent call last)",
      "\u001b[0;32m/tmp/ipykernel_33470/1321275562.py\u001b[0m in \u001b[0;36m<module>\u001b[0;34m\u001b[0m\n\u001b[0;32m----> 1\u001b[0;31m \u001b[0mcheck_dtypes\u001b[0m\u001b[0;34m(\u001b[0m\u001b[0mx\u001b[0m\u001b[0;34m,\u001b[0m \u001b[0;34m[\u001b[0m\u001b[0;34m'int64'\u001b[0m\u001b[0;34m]\u001b[0m\u001b[0;34m)\u001b[0m\u001b[0;34m\u001b[0m\u001b[0;34m\u001b[0m\u001b[0m\n\u001b[0m",
      "\u001b[0;32m~/anaconda3/lib/python3.8/site-packages/gumly/value_validation.py\u001b[0m in \u001b[0;36mcheck_dtypes\u001b[0;34m(df, types)\u001b[0m\n\u001b[1;32m     55\u001b[0m     \u001b[0;32mif\u001b[0m \u001b[0many\u001b[0m\u001b[0;34m(\u001b[0m\u001b[0mi\u001b[0m \u001b[0;32min\u001b[0m \u001b[0mdf\u001b[0m\u001b[0;34m.\u001b[0m\u001b[0mdtypes\u001b[0m\u001b[0;34m.\u001b[0m\u001b[0mto_list\u001b[0m\u001b[0;34m(\u001b[0m\u001b[0;34m)\u001b[0m \u001b[0;32mfor\u001b[0m \u001b[0mi\u001b[0m \u001b[0;32min\u001b[0m \u001b[0mtypes\u001b[0m\u001b[0;34m)\u001b[0m\u001b[0;34m:\u001b[0m\u001b[0;34m\u001b[0m\u001b[0;34m\u001b[0m\u001b[0m\n\u001b[1;32m     56\u001b[0m \u001b[0;34m\u001b[0m\u001b[0m\n\u001b[0;32m---> 57\u001b[0;31m         \u001b[0;32mraise\u001b[0m \u001b[0mValueError\u001b[0m\u001b[0;34m(\u001b[0m\u001b[0;34m\"Exists one or more type of df.columns not permitted \"\u001b[0m\u001b[0;34m)\u001b[0m\u001b[0;34m\u001b[0m\u001b[0;34m\u001b[0m\u001b[0m\n\u001b[0m",
      "\u001b[0;31mValueError\u001b[0m: Exists one or more type of df.columns not permitted "
     ]
    }
   ],
   "source": [
    "check_dtypes(x, ['int64'])"
   ]
  },
  {
   "cell_type": "code",
   "execution_count": 17,
   "id": "4a1ada30",
   "metadata": {},
   "outputs": [],
   "source": [
    "check_dtypes(y, ['object'])"
   ]
  }
 ],
 "metadata": {
  "kernelspec": {
   "display_name": "Python 3 (ipykernel)",
   "language": "python",
   "name": "python3"
  },
  "language_info": {
   "codemirror_mode": {
    "name": "ipython",
    "version": 3
   },
   "file_extension": ".py",
   "mimetype": "text/x-python",
   "name": "python",
   "nbconvert_exporter": "python",
   "pygments_lexer": "ipython3",
   "version": "3.8.8"
  }
 },
 "nbformat": 4,
 "nbformat_minor": 5
}
