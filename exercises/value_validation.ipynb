{
 "cells": [
  {
   "cell_type": "markdown",
   "id": "d487b4db",
   "metadata": {},
   "source": [
    "## 1.0 Validation Check"
   ]
  },
  {
   "cell_type": "markdown",
   "id": "ccd63197",
   "metadata": {},
   "source": [
    "Here we present how to use these two functions meant to validate a numeric variable, considering both, its type (it must be a numerical type) and its range of values."
   ]
  },
  {
   "cell_type": "markdown",
   "id": "208c7120",
   "metadata": {},
   "source": [
    "## 1.1 Import modules"
   ]
  },
  {
   "cell_type": "code",
   "execution_count": 1,
   "id": "df2b9757",
   "metadata": {},
   "outputs": [],
   "source": [
    "#Check number\n",
    "from gumly.value_validation import check_number\n",
    "\n",
    "#Assert\n",
    "from gumly.value_validation import assert_check_number\n",
    "from gumly.value_validation import assert_check_dtypes\n",
    "\n",
    "\n",
    "#Dtypes\n",
    "\n",
    "from gumly.value_validation import check_dtypes\n",
    "\n",
    "#Other\n",
    "import pandas as pd"
   ]
  },
  {
   "cell_type": "markdown",
   "id": "1bac7ea4",
   "metadata": {},
   "source": [
    "## 1.2 Check Number"
   ]
  },
  {
   "cell_type": "markdown",
   "id": "b5092661",
   "metadata": {},
   "source": [
    "#### This function returns True if the first argument is a number and it lies between the next two arguments. Othwerise, returns False."
   ]
  },
  {
   "cell_type": "code",
   "execution_count": 2,
   "id": "817bb00d",
   "metadata": {},
   "outputs": [
    {
     "data": {
      "text/plain": [
       "True"
      ]
     },
     "execution_count": 2,
     "metadata": {},
     "output_type": "execute_result"
    }
   ],
   "source": [
    "check_number(x=1,lower=0, upper=100) # True"
   ]
  },
  {
   "cell_type": "code",
   "execution_count": 3,
   "id": "e34ab13f",
   "metadata": {},
   "outputs": [
    {
     "data": {
      "text/plain": [
       "False"
      ]
     },
     "execution_count": 3,
     "metadata": {},
     "output_type": "execute_result"
    }
   ],
   "source": [
    "check_number(x=-1, lower=0, upper=100) # False"
   ]
  },
  {
   "cell_type": "markdown",
   "id": "5b236cb2",
   "metadata": {},
   "source": [
    "## 1.3  Assert Check Number"
   ]
  },
  {
   "cell_type": "markdown",
   "id": "0e308d27",
   "metadata": {},
   "source": [
    "#### This function uses the above function and it will raise an exception if check_number returns False."
   ]
  },
  {
   "cell_type": "code",
   "execution_count": 4,
   "id": "c1c66850",
   "metadata": {
    "scrolled": true
   },
   "outputs": [
    {
     "ename": "AssertionError",
     "evalue": "Check number of: lower_percentil (<class 'int'>)=-1, expected lower_percentil between 0 and 1.0",
     "output_type": "error",
     "traceback": [
      "\u001b[1;31m---------------------------------------------------------------------------\u001b[0m",
      "\u001b[1;31mAssertionError\u001b[0m                            Traceback (most recent call last)",
      "\u001b[1;32m<ipython-input-4-fe8f91204615>\u001b[0m in \u001b[0;36m<module>\u001b[1;34m\u001b[0m\n\u001b[0;32m      2\u001b[0m \u001b[0mlower_percentil\u001b[0m \u001b[1;33m=\u001b[0m \u001b[1;33m-\u001b[0m\u001b[1;36m1\u001b[0m\u001b[1;33m\u001b[0m\u001b[1;33m\u001b[0m\u001b[0m\n\u001b[0;32m      3\u001b[0m \u001b[1;33m\u001b[0m\u001b[0m\n\u001b[1;32m----> 4\u001b[1;33m \u001b[0massert_check_number\u001b[0m\u001b[1;33m(\u001b[0m\u001b[0mx\u001b[0m\u001b[1;33m=\u001b[0m\u001b[0mlower_percentil\u001b[0m\u001b[1;33m,\u001b[0m \u001b[0mlower\u001b[0m\u001b[1;33m=\u001b[0m\u001b[1;36m0\u001b[0m\u001b[1;33m,\u001b[0m \u001b[0mupper\u001b[0m\u001b[1;33m=\u001b[0m\u001b[1;36m1.0\u001b[0m\u001b[1;33m,\u001b[0m \u001b[0mvarname\u001b[0m\u001b[1;33m=\u001b[0m\u001b[1;34m\"lower_percentil\"\u001b[0m\u001b[1;33m)\u001b[0m\u001b[1;33m\u001b[0m\u001b[1;33m\u001b[0m\u001b[0m\n\u001b[0m",
      "\u001b[1;32m~\\Anaconda3\\lib\\site-packages\\gumly\\value_validation.py\u001b[0m in \u001b[0;36massert_check_number\u001b[1;34m(x, lower, upper, varname)\u001b[0m\n\u001b[0;32m     41\u001b[0m     \"\"\"\n\u001b[0;32m     42\u001b[0m     \u001b[0mvarname\u001b[0m \u001b[1;33m=\u001b[0m \u001b[0mvarname\u001b[0m \u001b[1;32mor\u001b[0m \u001b[1;34m\"x\"\u001b[0m\u001b[1;33m\u001b[0m\u001b[1;33m\u001b[0m\u001b[0m\n\u001b[1;32m---> 43\u001b[1;33m     assert check_number(\n\u001b[0m\u001b[0;32m     44\u001b[0m         \u001b[0mx\u001b[0m\u001b[1;33m=\u001b[0m\u001b[0mx\u001b[0m\u001b[1;33m,\u001b[0m \u001b[0mlower\u001b[0m\u001b[1;33m=\u001b[0m\u001b[0mlower\u001b[0m\u001b[1;33m,\u001b[0m \u001b[0mupper\u001b[0m\u001b[1;33m=\u001b[0m\u001b[0mupper\u001b[0m\u001b[1;33m\u001b[0m\u001b[1;33m\u001b[0m\u001b[0m\n\u001b[0;32m     45\u001b[0m     ), f\"Check number of: {varname} ({type(x)})={x}, expected {varname} between {lower} and {upper}\"\n",
      "\u001b[1;31mAssertionError\u001b[0m: Check number of: lower_percentil (<class 'int'>)=-1, expected lower_percentil between 0 and 1.0"
     ]
    }
   ],
   "source": [
    "#error\n",
    "lower_percentil = -1\n",
    "\n",
    "assert_check_number(x=lower_percentil, lower=0, upper=1.0, varname=\"lower_percentil\")"
   ]
  },
  {
   "cell_type": "markdown",
   "id": "6e221ff4",
   "metadata": {},
   "source": [
    "## 1.4  Check_dtypes"
   ]
  },
  {
   "cell_type": "markdown",
   "id": "996c1043",
   "metadata": {},
   "source": [
    "#### This function will error if the list of types has no items."
   ]
  },
  {
   "cell_type": "code",
   "execution_count": 5,
   "id": "0b3409e9",
   "metadata": {},
   "outputs": [],
   "source": [
    "x = pd.DataFrame({'a': [1,2,3], 'b': ['1','2','3']})\n",
    "y = pd.DataFrame({'a': [1,2,3], 'b': [1.0,1.2,3.0]})"
   ]
  },
  {
   "cell_type": "code",
   "execution_count": 6,
   "id": "6b62ab97",
   "metadata": {},
   "outputs": [
    {
     "data": {
      "text/html": [
       "<div>\n",
       "<style scoped>\n",
       "    .dataframe tbody tr th:only-of-type {\n",
       "        vertical-align: middle;\n",
       "    }\n",
       "\n",
       "    .dataframe tbody tr th {\n",
       "        vertical-align: top;\n",
       "    }\n",
       "\n",
       "    .dataframe thead th {\n",
       "        text-align: right;\n",
       "    }\n",
       "</style>\n",
       "<table border=\"1\" class=\"dataframe\">\n",
       "  <thead>\n",
       "    <tr style=\"text-align: right;\">\n",
       "      <th></th>\n",
       "      <th>a</th>\n",
       "      <th>b</th>\n",
       "    </tr>\n",
       "  </thead>\n",
       "  <tbody>\n",
       "    <tr>\n",
       "      <th>0</th>\n",
       "      <td>1</td>\n",
       "      <td>1</td>\n",
       "    </tr>\n",
       "    <tr>\n",
       "      <th>1</th>\n",
       "      <td>2</td>\n",
       "      <td>2</td>\n",
       "    </tr>\n",
       "    <tr>\n",
       "      <th>2</th>\n",
       "      <td>3</td>\n",
       "      <td>3</td>\n",
       "    </tr>\n",
       "  </tbody>\n",
       "</table>\n",
       "</div>"
      ],
      "text/plain": [
       "   a  b\n",
       "0  1  1\n",
       "1  2  2\n",
       "2  3  3"
      ]
     },
     "execution_count": 6,
     "metadata": {},
     "output_type": "execute_result"
    }
   ],
   "source": [
    "x"
   ]
  },
  {
   "cell_type": "code",
   "execution_count": 7,
   "id": "b59cc9de",
   "metadata": {},
   "outputs": [
    {
     "ename": "ValueError",
     "evalue": "The input is empty",
     "output_type": "error",
     "traceback": [
      "\u001b[1;31m---------------------------------------------------------------------------\u001b[0m",
      "\u001b[1;31mValueError\u001b[0m                                Traceback (most recent call last)",
      "\u001b[1;32m<ipython-input-7-c19cf4a4546c>\u001b[0m in \u001b[0;36m<module>\u001b[1;34m\u001b[0m\n\u001b[1;32m----> 1\u001b[1;33m \u001b[0mcheck_dtypes\u001b[0m\u001b[1;33m(\u001b[0m\u001b[0mx\u001b[0m\u001b[1;33m,\u001b[0m \u001b[1;33m[\u001b[0m\u001b[1;33m]\u001b[0m\u001b[1;33m)\u001b[0m\u001b[1;33m\u001b[0m\u001b[1;33m\u001b[0m\u001b[0m\n\u001b[0m",
      "\u001b[1;32m~\\Anaconda3\\lib\\site-packages\\gumly\\value_validation.py\u001b[0m in \u001b[0;36mcheck_dtypes\u001b[1;34m(df, types)\u001b[0m\n\u001b[0;32m     58\u001b[0m \u001b[1;33m\u001b[0m\u001b[0m\n\u001b[0;32m     59\u001b[0m     \u001b[1;32mif\u001b[0m \u001b[0mlen\u001b[0m\u001b[1;33m(\u001b[0m\u001b[0mtypes\u001b[0m\u001b[1;33m)\u001b[0m \u001b[1;33m==\u001b[0m \u001b[1;36m0\u001b[0m\u001b[1;33m:\u001b[0m\u001b[1;33m\u001b[0m\u001b[1;33m\u001b[0m\u001b[0m\n\u001b[1;32m---> 60\u001b[1;33m         \u001b[1;32mraise\u001b[0m \u001b[0mValueError\u001b[0m\u001b[1;33m(\u001b[0m\u001b[1;34m\"The input is empty\"\u001b[0m\u001b[1;33m)\u001b[0m\u001b[1;33m\u001b[0m\u001b[1;33m\u001b[0m\u001b[0m\n\u001b[0m\u001b[0;32m     61\u001b[0m \u001b[1;33m\u001b[0m\u001b[0m\n\u001b[0;32m     62\u001b[0m     \u001b[1;32mfor\u001b[0m \u001b[0mk\u001b[0m\u001b[1;33m,\u001b[0m \u001b[0mv\u001b[0m \u001b[1;32min\u001b[0m \u001b[0mdf\u001b[0m\u001b[1;33m.\u001b[0m\u001b[0mdtypes\u001b[0m\u001b[1;33m.\u001b[0m\u001b[0mto_dict\u001b[0m\u001b[1;33m(\u001b[0m\u001b[1;33m)\u001b[0m\u001b[1;33m.\u001b[0m\u001b[0mitems\u001b[0m\u001b[1;33m(\u001b[0m\u001b[1;33m)\u001b[0m\u001b[1;33m:\u001b[0m\u001b[1;33m\u001b[0m\u001b[1;33m\u001b[0m\u001b[0m\n",
      "\u001b[1;31mValueError\u001b[0m: The input is empty"
     ]
    }
   ],
   "source": [
    "check_dtypes(x, [])"
   ]
  },
  {
   "cell_type": "markdown",
   "id": "2accea49",
   "metadata": {},
   "source": [
    "## 1.5  Assert_check_dtypes"
   ]
  },
  {
   "cell_type": "code",
   "execution_count": 8,
   "id": "4a1ada30",
   "metadata": {},
   "outputs": [],
   "source": [
    "assert_check_dtypes(y, ['object'])"
   ]
  },
  {
   "cell_type": "code",
   "execution_count": 9,
   "id": "34570b5c",
   "metadata": {},
   "outputs": [
    {
     "ename": "AssertionError",
     "evalue": "type of column b is not permitted",
     "output_type": "error",
     "traceback": [
      "\u001b[1;31m---------------------------------------------------------------------------\u001b[0m",
      "\u001b[1;31mAssertionError\u001b[0m                            Traceback (most recent call last)",
      "\u001b[1;32m<ipython-input-9-f6cdfb7cf342>\u001b[0m in \u001b[0;36m<module>\u001b[1;34m\u001b[0m\n\u001b[1;32m----> 1\u001b[1;33m \u001b[0massert_check_dtypes\u001b[0m\u001b[1;33m(\u001b[0m\u001b[0my\u001b[0m\u001b[1;33m,\u001b[0m \u001b[1;33m[\u001b[0m\u001b[1;34m'float64'\u001b[0m\u001b[1;33m]\u001b[0m\u001b[1;33m)\u001b[0m\u001b[1;33m\u001b[0m\u001b[1;33m\u001b[0m\u001b[0m\n\u001b[0m",
      "\u001b[1;32m~\\Anaconda3\\lib\\site-packages\\gumly\\value_validation.py\u001b[0m in \u001b[0;36massert_check_dtypes\u001b[1;34m(df, types)\u001b[0m\n\u001b[0;32m     79\u001b[0m     \u001b[0mk\u001b[0m \u001b[1;33m=\u001b[0m \u001b[0mcheck_dtypes\u001b[0m\u001b[1;33m(\u001b[0m\u001b[0mdf\u001b[0m\u001b[1;33m,\u001b[0m \u001b[0mtypes\u001b[0m\u001b[1;33m)\u001b[0m\u001b[1;33m\u001b[0m\u001b[1;33m\u001b[0m\u001b[0m\n\u001b[0;32m     80\u001b[0m \u001b[1;33m\u001b[0m\u001b[0m\n\u001b[1;32m---> 81\u001b[1;33m     \u001b[1;32massert\u001b[0m \u001b[0mk\u001b[0m \u001b[1;32mis\u001b[0m \u001b[1;32mNone\u001b[0m\u001b[1;33m,\u001b[0m \u001b[1;34mf\"type of column {k} is not permitted\"\u001b[0m\u001b[1;33m\u001b[0m\u001b[1;33m\u001b[0m\u001b[0m\n\u001b[0m",
      "\u001b[1;31mAssertionError\u001b[0m: type of column b is not permitted"
     ]
    }
   ],
   "source": [
    "assert_check_dtypes(y, ['float64'])"
   ]
  }
 ],
 "metadata": {
  "kernelspec": {
   "display_name": "Python 3",
   "language": "python",
   "name": "python3"
  },
  "language_info": {
   "codemirror_mode": {
    "name": "ipython",
    "version": 3
   },
   "file_extension": ".py",
   "mimetype": "text/x-python",
   "name": "python",
   "nbconvert_exporter": "python",
   "pygments_lexer": "ipython3",
   "version": "3.8.8"
  }
 },
 "nbformat": 4,
 "nbformat_minor": 5
}
