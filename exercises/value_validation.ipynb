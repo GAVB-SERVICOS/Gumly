{
 "cells": [
  {
   "cell_type": "markdown",
   "id": "d487b4db",
   "metadata": {},
   "source": [
    "## 1.0 Validation Check"
   ]
  },
  {
   "cell_type": "markdown",
   "id": "ccd63197",
   "metadata": {},
   "source": [
    "Here we present how to use these two functions meant to validate a numeric variable, considering both, its type (it must be a numerical type) and its range of values."
   ]
  },
  {
   "cell_type": "markdown",
   "id": "208c7120",
   "metadata": {},
   "source": [
    "## 1.1 Import modules"
   ]
  },
  {
   "cell_type": "code",
   "execution_count": 2,
   "id": "df2b9757",
   "metadata": {},
   "outputs": [],
   "source": [
    "#Check number\n",
    "from mlutils.value_validation import check_number\n",
    "\n",
    "#Assert\n",
    "from mlutils.value_validation import assert_check_number"
   ]
  },
  {
   "cell_type": "markdown",
   "id": "1bac7ea4",
   "metadata": {},
   "source": [
    "## 1.2 Check Number"
   ]
  },
  {
   "cell_type": "markdown",
   "id": "b5092661",
   "metadata": {},
   "source": [
    "#### This function returns True if the first argument is a number and it lies between the next two arguments. Othwerise, returns False."
   ]
  },
  {
   "cell_type": "code",
   "execution_count": 3,
   "id": "817bb00d",
   "metadata": {},
   "outputs": [
    {
     "data": {
      "text/plain": [
       "True"
      ]
     },
     "execution_count": 3,
     "metadata": {},
     "output_type": "execute_result"
    }
   ],
   "source": [
    "check_number(x=1,lower=0, upper=100) # True"
   ]
  },
  {
   "cell_type": "code",
   "execution_count": 4,
   "id": "e34ab13f",
   "metadata": {},
   "outputs": [
    {
     "data": {
      "text/plain": [
       "False"
      ]
     },
     "execution_count": 4,
     "metadata": {},
     "output_type": "execute_result"
    }
   ],
   "source": [
    "check_number(x=-1, lower=0, upper=100) # False"
   ]
  },
  {
   "cell_type": "markdown",
   "id": "5b236cb2",
   "metadata": {},
   "source": [
    "## 1.3  Assert Check Number"
   ]
  },
  {
   "cell_type": "markdown",
   "id": "0e308d27",
   "metadata": {},
   "source": [
    "#### This function uses the above function and it will raise an exception if check_number returns False."
   ]
  },
  {
   "cell_type": "code",
   "execution_count": 5,
   "id": "c1c66850",
   "metadata": {},
   "outputs": [
    {
     "ename": "AssertionError",
     "evalue": "Check number of: lower_percentil (<class 'int'>)=-1, expected lower_percentil between 0 and 1.0",
     "output_type": "error",
     "traceback": [
      "\u001b[0;31m---------------------------------------------------------------------------\u001b[0m",
      "\u001b[0;31mAssertionError\u001b[0m                            Traceback (most recent call last)",
      "\u001b[0;32m/tmp/ipykernel_35231/1152108175.py\u001b[0m in \u001b[0;36m<module>\u001b[0;34m\u001b[0m\n\u001b[1;32m      2\u001b[0m \u001b[0mlower_percentil\u001b[0m \u001b[0;34m=\u001b[0m \u001b[0;34m-\u001b[0m\u001b[0;36m1\u001b[0m\u001b[0;34m\u001b[0m\u001b[0;34m\u001b[0m\u001b[0m\n\u001b[1;32m      3\u001b[0m \u001b[0;34m\u001b[0m\u001b[0m\n\u001b[0;32m----> 4\u001b[0;31m \u001b[0massert_check_number\u001b[0m\u001b[0;34m(\u001b[0m\u001b[0mlower_percentil\u001b[0m\u001b[0;34m,\u001b[0m \u001b[0;36m0\u001b[0m\u001b[0;34m,\u001b[0m \u001b[0;36m1.0\u001b[0m\u001b[0;34m,\u001b[0m \u001b[0;34m\"lower_percentil\"\u001b[0m\u001b[0;34m)\u001b[0m\u001b[0;34m\u001b[0m\u001b[0;34m\u001b[0m\u001b[0m\n\u001b[0m",
      "\u001b[0;32m~/anaconda3/lib/python3.8/site-packages/mlutils/attribute_validation.py\u001b[0m in \u001b[0;36massert_check_number\u001b[0;34m(x, lower, upper, varname)\u001b[0m\n\u001b[1;32m     45\u001b[0m     \"\"\"\n\u001b[1;32m     46\u001b[0m     \u001b[0mvarname\u001b[0m \u001b[0;34m=\u001b[0m \u001b[0mvarname\u001b[0m \u001b[0;32mor\u001b[0m \u001b[0;34m\"x\"\u001b[0m\u001b[0;34m\u001b[0m\u001b[0;34m\u001b[0m\u001b[0m\n\u001b[0;32m---> 47\u001b[0;31m     assert check_number(\n\u001b[0m\u001b[1;32m     48\u001b[0m         \u001b[0mx\u001b[0m\u001b[0;34m=\u001b[0m\u001b[0mx\u001b[0m\u001b[0;34m,\u001b[0m \u001b[0mlower\u001b[0m\u001b[0;34m=\u001b[0m\u001b[0mlower\u001b[0m\u001b[0;34m,\u001b[0m \u001b[0mupper\u001b[0m\u001b[0;34m=\u001b[0m\u001b[0mupper\u001b[0m\u001b[0;34m\u001b[0m\u001b[0;34m\u001b[0m\u001b[0m\n\u001b[1;32m     49\u001b[0m     ), f\"Check number of: {varname} ({type(x)})={x}, expected {varname} between {lower} and {upper}\"\n",
      "\u001b[0;31mAssertionError\u001b[0m: Check number of: lower_percentil (<class 'int'>)=-1, expected lower_percentil between 0 and 1.0"
     ]
    }
   ],
   "source": [
    "#error\n",
    "lower_percentil = -1\n",
    "\n",
    "assert_check_number(x=lower_percentil, lower=0, upper=1.0, varname=\"lower_percentil\")"
   ]
  }
 ],
 "metadata": {
  "kernelspec": {
   "display_name": "Python 3 (ipykernel)",
   "language": "python",
   "name": "python3"
  },
  "language_info": {
   "codemirror_mode": {
    "name": "ipython",
    "version": 3
   },
   "file_extension": ".py",
   "mimetype": "text/x-python",
   "name": "python",
   "nbconvert_exporter": "python",
   "pygments_lexer": "ipython3",
   "version": "3.8.8"
  }
 },
 "nbformat": 4,
 "nbformat_minor": 5
}
