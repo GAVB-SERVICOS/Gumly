{
 "cells": [
  {
   "cell_type": "code",
   "execution_count": 1,
   "id": "ad3baee7",
   "metadata": {},
   "outputs": [
    {
     "name": "stdout",
     "output_type": "stream",
     "text": [
      "Available kernels:\r\n",
      "  python3    /home/diego/.local/share/jupyter/kernels/python3\r\n"
     ]
    }
   ],
   "source": [
    "!jupyter kernelspec list"
   ]
  },
  {
   "cell_type": "code",
   "execution_count": 2,
   "id": "a3447398",
   "metadata": {},
   "outputs": [
    {
     "name": "stdout",
     "output_type": "stream",
     "text": [
      "{\r\n",
      "  \"kernelspecs\": {\r\n",
      "    \"python3\": {\r\n",
      "      \"resource_dir\": \"/home/diego/.local/share/jupyter/kernels/python3\",\r\n",
      "      \"spec\": {\r\n",
      "        \"argv\": [\r\n",
      "          \"python\",\r\n",
      "          \"-m\",\r\n",
      "          \"ipykernel_launcher\",\r\n",
      "          \"-f\",\r\n",
      "          \"{connection_file}\"\r\n",
      "        ],\r\n",
      "        \"env\": {},\r\n",
      "        \"display_name\": \"Python 3 (ipykernel)\",\r\n",
      "        \"language\": \"python\",\r\n",
      "        \"interrupt_mode\": \"signal\",\r\n",
      "        \"metadata\": {\r\n",
      "          \"debugger\": true\r\n",
      "        }\r\n",
      "      }\r\n",
      "    }\r\n",
      "  }\r\n",
      "}\r\n"
     ]
    }
   ],
   "source": [
    "!jupyter kernelspec list --json"
   ]
  },
  {
   "cell_type": "code",
   "execution_count": 6,
   "id": "78cf4132",
   "metadata": {},
   "outputs": [
    {
     "name": "stdout",
     "output_type": "stream",
     "text": [
      "/home/diego/anaconda3/bin/python\r\n"
     ]
    }
   ],
   "source": [
    "!which -a python"
   ]
  },
  {
   "cell_type": "code",
   "execution_count": 7,
   "id": "341ff011",
   "metadata": {},
   "outputs": [
    {
     "name": "stdout",
     "output_type": "stream",
     "text": [
      "Python 3.8.8\r\n"
     ]
    }
   ],
   "source": [
    "!/home/diego/anaconda3/bin/python --version"
   ]
  },
  {
   "cell_type": "code",
   "execution_count": 8,
   "id": "59c843d7",
   "metadata": {},
   "outputs": [
    {
     "name": "stdout",
     "output_type": "stream",
     "text": [
      "Requirement already satisfied: ipykernel in /home/diego/.local/lib/python3.8/site-packages (6.4.2)\n",
      "Requirement already satisfied: jupyter-client<8.0 in /home/diego/.local/lib/python3.8/site-packages (from ipykernel) (7.0.6)\n",
      "Requirement already satisfied: debugpy<2.0,>=1.0.0 in /home/diego/.local/lib/python3.8/site-packages (from ipykernel) (1.5.1)\n",
      "Requirement already satisfied: ipython-genutils in /home/diego/.local/lib/python3.8/site-packages (from ipykernel) (0.2.0)\n",
      "Requirement already satisfied: ipython<8.0,>=7.23.1 in /home/diego/.local/lib/python3.8/site-packages (from ipykernel) (7.28.0)\n",
      "Requirement already satisfied: matplotlib-inline<0.2.0,>=0.1.0 in /home/diego/.local/lib/python3.8/site-packages (from ipykernel) (0.1.3)\n",
      "Requirement already satisfied: traitlets<6.0,>=4.1.0 in /home/diego/.local/lib/python3.8/site-packages (from ipykernel) (5.1.1)\n",
      "Requirement already satisfied: tornado<7.0,>=4.2 in /home/diego/.local/lib/python3.8/site-packages (from ipykernel) (6.1)\n",
      "Requirement already satisfied: jedi>=0.16 in /home/diego/.local/lib/python3.8/site-packages (from ipython<8.0,>=7.23.1->ipykernel) (0.18.0)\n",
      "Requirement already satisfied: decorator in /home/diego/.local/lib/python3.8/site-packages (from ipython<8.0,>=7.23.1->ipykernel) (5.1.0)\n",
      "Requirement already satisfied: pygments in /home/diego/.local/lib/python3.8/site-packages (from ipython<8.0,>=7.23.1->ipykernel) (2.10.0)\n",
      "Requirement already satisfied: prompt-toolkit!=3.0.0,!=3.0.1,<3.1.0,>=2.0.0 in /home/diego/.local/lib/python3.8/site-packages (from ipython<8.0,>=7.23.1->ipykernel) (3.0.21)\n",
      "Requirement already satisfied: setuptools>=18.5 in /home/diego/anaconda3/lib/python3.8/site-packages (from ipython<8.0,>=7.23.1->ipykernel) (52.0.0.post20210125)\n",
      "Requirement already satisfied: pickleshare in /home/diego/.local/lib/python3.8/site-packages (from ipython<8.0,>=7.23.1->ipykernel) (0.7.5)\n",
      "Requirement already satisfied: pexpect>4.3 in /home/diego/anaconda3/lib/python3.8/site-packages (from ipython<8.0,>=7.23.1->ipykernel) (4.8.0)\n",
      "Requirement already satisfied: backcall in /home/diego/.local/lib/python3.8/site-packages (from ipython<8.0,>=7.23.1->ipykernel) (0.2.0)\n",
      "Requirement already satisfied: parso<0.9.0,>=0.8.0 in /home/diego/.local/lib/python3.8/site-packages (from jedi>=0.16->ipython<8.0,>=7.23.1->ipykernel) (0.8.2)\n",
      "Requirement already satisfied: pyzmq>=13 in /home/diego/.local/lib/python3.8/site-packages (from jupyter-client<8.0->ipykernel) (22.3.0)\n",
      "Requirement already satisfied: entrypoints in /home/diego/anaconda3/lib/python3.8/site-packages (from jupyter-client<8.0->ipykernel) (0.3)\n",
      "Requirement already satisfied: python-dateutil>=2.1 in /home/diego/.local/lib/python3.8/site-packages (from jupyter-client<8.0->ipykernel) (2.8.2)\n",
      "Requirement already satisfied: jupyter-core>=4.6.0 in /home/diego/.local/lib/python3.8/site-packages (from jupyter-client<8.0->ipykernel) (4.9.1)\n",
      "Requirement already satisfied: nest-asyncio>=1.5 in /home/diego/.local/lib/python3.8/site-packages (from jupyter-client<8.0->ipykernel) (1.5.1)\n",
      "Requirement already satisfied: ptyprocess>=0.5 in /home/diego/.local/lib/python3.8/site-packages (from pexpect>4.3->ipython<8.0,>=7.23.1->ipykernel) (0.7.0)\n",
      "Requirement already satisfied: wcwidth in /home/diego/.local/lib/python3.8/site-packages (from prompt-toolkit!=3.0.0,!=3.0.1,<3.1.0,>=2.0.0->ipython<8.0,>=7.23.1->ipykernel) (0.2.5)\n",
      "Requirement already satisfied: six>=1.5 in /home/diego/.local/lib/python3.8/site-packages (from python-dateutil>=2.1->jupyter-client<8.0->ipykernel) (1.15.0)\n"
     ]
    }
   ],
   "source": [
    "!/home/diego/anaconda3/bin/python -m pip install ipykernel"
   ]
  },
  {
   "cell_type": "code",
   "execution_count": null,
   "id": "8f529150",
   "metadata": {},
   "outputs": [],
   "source": [
    "python -m ipykernel install --user --name pyenv-382 --display-name "
   ]
  },
  {
   "cell_type": "code",
   "execution_count": null,
   "id": "a9f7a0d9",
   "metadata": {},
   "outputs": [],
   "source": []
  },
  {
   "cell_type": "code",
   "execution_count": null,
   "id": "b4e7b51d",
   "metadata": {},
   "outputs": [],
   "source": []
  },
  {
   "cell_type": "code",
   "execution_count": null,
   "id": "bf4fb4ac",
   "metadata": {},
   "outputs": [],
   "source": []
  },
  {
   "cell_type": "code",
   "execution_count": null,
   "id": "feffd880",
   "metadata": {},
   "outputs": [],
   "source": []
  },
  {
   "cell_type": "code",
   "execution_count": null,
   "id": "88a2ffe7",
   "metadata": {},
   "outputs": [],
   "source": []
  }
 ],
 "metadata": {
  "kernelspec": {
   "display_name": "Python 3 (ipykernel)",
   "language": "python",
   "name": "python3"
  },
  "language_info": {
   "codemirror_mode": {
    "name": "ipython",
    "version": 3
   },
   "file_extension": ".py",
   "mimetype": "text/x-python",
   "name": "python",
   "nbconvert_exporter": "python",
   "pygments_lexer": "ipython3",
   "version": "3.8.10"
  }
 },
 "nbformat": 4,
 "nbformat_minor": 5
}
