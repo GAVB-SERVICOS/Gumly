{
 "cells": [
  {
   "cell_type": "markdown",
   "id": "75e69525",
   "metadata": {},
   "source": [
    "# Tutorial for the use of Tuning Hyperparams and Feature Engineering for Classification Model\n",
    "\n",
    "This tutorial consists of the use of tuning_hyperparams and feature_engineering, both methods from mlutils. \n",
    "The process is to import modules and after that apply each function for its purpose"
   ]
  },
  {
   "cell_type": "code",
   "execution_count": null,
   "id": "c1e4a115",
   "metadata": {},
   "outputs": [],
   "source": [
    "!pip install mlutils"
   ]
  },
  {
   "cell_type": "code",
   "execution_count": 1,
   "id": "b629c357",
   "metadata": {},
   "outputs": [],
   "source": [
    "import pandas as pd\n",
    "\n",
    "from mlutils.feature_engineering import feature_selection_filter\n",
    "from mlutils.feature_engineering import feature_selection_wrapper\n",
    "from mlutils.feature_engineering import feature_selection_embedded\n",
    "\n",
    "from mlutils.tuning_hyperparams import tuning_hyperparams\n",
    "\n",
    "from sklearn.ensemble import RandomForestClassifier\n",
    "from sklearn.metrics import accuracy_score"
   ]
  },
  {
   "cell_type": "code",
   "execution_count": 2,
   "id": "fe5bdfe9",
   "metadata": {},
   "outputs": [
    {
     "data": {
      "text/html": [
       "<div>\n",
       "<style scoped>\n",
       "    .dataframe tbody tr th:only-of-type {\n",
       "        vertical-align: middle;\n",
       "    }\n",
       "\n",
       "    .dataframe tbody tr th {\n",
       "        vertical-align: top;\n",
       "    }\n",
       "\n",
       "    .dataframe thead th {\n",
       "        text-align: right;\n",
       "    }\n",
       "</style>\n",
       "<table border=\"1\" class=\"dataframe\">\n",
       "  <thead>\n",
       "    <tr style=\"text-align: right;\">\n",
       "      <th></th>\n",
       "      <th>preg</th>\n",
       "      <th>plas</th>\n",
       "      <th>pres</th>\n",
       "      <th>skin</th>\n",
       "      <th>test</th>\n",
       "      <th>mass</th>\n",
       "      <th>pedi</th>\n",
       "      <th>age</th>\n",
       "      <th>class</th>\n",
       "    </tr>\n",
       "  </thead>\n",
       "  <tbody>\n",
       "    <tr>\n",
       "      <th>0</th>\n",
       "      <td>6</td>\n",
       "      <td>148</td>\n",
       "      <td>72</td>\n",
       "      <td>35</td>\n",
       "      <td>0</td>\n",
       "      <td>33.6</td>\n",
       "      <td>0.627</td>\n",
       "      <td>50</td>\n",
       "      <td>1</td>\n",
       "    </tr>\n",
       "    <tr>\n",
       "      <th>1</th>\n",
       "      <td>1</td>\n",
       "      <td>85</td>\n",
       "      <td>66</td>\n",
       "      <td>29</td>\n",
       "      <td>0</td>\n",
       "      <td>26.6</td>\n",
       "      <td>0.351</td>\n",
       "      <td>31</td>\n",
       "      <td>0</td>\n",
       "    </tr>\n",
       "    <tr>\n",
       "      <th>2</th>\n",
       "      <td>8</td>\n",
       "      <td>183</td>\n",
       "      <td>64</td>\n",
       "      <td>0</td>\n",
       "      <td>0</td>\n",
       "      <td>23.3</td>\n",
       "      <td>0.672</td>\n",
       "      <td>32</td>\n",
       "      <td>1</td>\n",
       "    </tr>\n",
       "    <tr>\n",
       "      <th>3</th>\n",
       "      <td>1</td>\n",
       "      <td>89</td>\n",
       "      <td>66</td>\n",
       "      <td>23</td>\n",
       "      <td>94</td>\n",
       "      <td>28.1</td>\n",
       "      <td>0.167</td>\n",
       "      <td>21</td>\n",
       "      <td>0</td>\n",
       "    </tr>\n",
       "    <tr>\n",
       "      <th>4</th>\n",
       "      <td>0</td>\n",
       "      <td>137</td>\n",
       "      <td>40</td>\n",
       "      <td>35</td>\n",
       "      <td>168</td>\n",
       "      <td>43.1</td>\n",
       "      <td>2.288</td>\n",
       "      <td>33</td>\n",
       "      <td>1</td>\n",
       "    </tr>\n",
       "  </tbody>\n",
       "</table>\n",
       "</div>"
      ],
      "text/plain": [
       "   preg  plas  pres  skin  test  mass   pedi  age  class\n",
       "0     6   148    72    35     0  33.6  0.627   50      1\n",
       "1     1    85    66    29     0  26.6  0.351   31      0\n",
       "2     8   183    64     0     0  23.3  0.672   32      1\n",
       "3     1    89    66    23    94  28.1  0.167   21      0\n",
       "4     0   137    40    35   168  43.1  2.288   33      1"
      ]
     },
     "execution_count": 2,
     "metadata": {},
     "output_type": "execute_result"
    }
   ],
   "source": [
    "\n",
    "df = pd.read_csv('https://raw.githubusercontent.com/jbrownlee/Datasets/master/pima-indians-diabetes.csv', \n",
    "                          names=['preg', 'plas', 'pres', 'skin', 'test', 'mass', 'pedi', 'age', 'class'])\n",
    "df.head()"
   ]
  },
  {
   "cell_type": "markdown",
   "id": "f867e3b4",
   "metadata": {},
   "source": [
    "#### Applying Feature Selection for each method from feature_engineering"
   ]
  },
  {
   "cell_type": "code",
   "execution_count": 3,
   "id": "f8596dc4",
   "metadata": {
    "scrolled": true
   },
   "outputs": [
    {
     "data": {
      "text/plain": [
       "['preg', 'plas', 'pedi', 'age']"
      ]
     },
     "execution_count": 3,
     "metadata": {},
     "output_type": "execute_result"
    }
   ],
   "source": [
    "feature_selection_filter(df, 'class', num_feats= 4)"
   ]
  },
  {
   "cell_type": "code",
   "execution_count": 4,
   "id": "62f265ae",
   "metadata": {
    "scrolled": false
   },
   "outputs": [
    {
     "data": {
      "text/plain": [
       "['preg', 'plas', 'mass', 'pedi']"
      ]
     },
     "execution_count": 4,
     "metadata": {},
     "output_type": "execute_result"
    }
   ],
   "source": [
    "feature_selection_wrapper(df, 'class',num_feats = 4 , step = 10)"
   ]
  },
  {
   "cell_type": "code",
   "execution_count": 5,
   "id": "0b8bdd0e",
   "metadata": {},
   "outputs": [
    {
     "data": {
      "text/plain": [
       "['plas', 'mass', 'pedi', 'age']"
      ]
     },
     "execution_count": 5,
     "metadata": {},
     "output_type": "execute_result"
    }
   ],
   "source": [
    "feature_selection_embedded(df, 'class', num_feats=4 , n_estimators = 50)"
   ]
  },
  {
   "cell_type": "markdown",
   "id": "16a26ba6",
   "metadata": {},
   "source": [
    "#### Applying Tuning Hyperparams for a DataFrame with the relevant columns"
   ]
  },
  {
   "cell_type": "code",
   "execution_count": 6,
   "id": "0654d8bf",
   "metadata": {},
   "outputs": [
    {
     "data": {
      "text/html": [
       "<div>\n",
       "<style scoped>\n",
       "    .dataframe tbody tr th:only-of-type {\n",
       "        vertical-align: middle;\n",
       "    }\n",
       "\n",
       "    .dataframe tbody tr th {\n",
       "        vertical-align: top;\n",
       "    }\n",
       "\n",
       "    .dataframe thead th {\n",
       "        text-align: right;\n",
       "    }\n",
       "</style>\n",
       "<table border=\"1\" class=\"dataframe\">\n",
       "  <thead>\n",
       "    <tr style=\"text-align: right;\">\n",
       "      <th></th>\n",
       "      <th>plas</th>\n",
       "      <th>mass</th>\n",
       "      <th>pedi</th>\n",
       "      <th>age</th>\n",
       "      <th>class</th>\n",
       "    </tr>\n",
       "  </thead>\n",
       "  <tbody>\n",
       "    <tr>\n",
       "      <th>0</th>\n",
       "      <td>148</td>\n",
       "      <td>33.6</td>\n",
       "      <td>0.627</td>\n",
       "      <td>50</td>\n",
       "      <td>1</td>\n",
       "    </tr>\n",
       "    <tr>\n",
       "      <th>1</th>\n",
       "      <td>85</td>\n",
       "      <td>26.6</td>\n",
       "      <td>0.351</td>\n",
       "      <td>31</td>\n",
       "      <td>0</td>\n",
       "    </tr>\n",
       "    <tr>\n",
       "      <th>2</th>\n",
       "      <td>183</td>\n",
       "      <td>23.3</td>\n",
       "      <td>0.672</td>\n",
       "      <td>32</td>\n",
       "      <td>1</td>\n",
       "    </tr>\n",
       "    <tr>\n",
       "      <th>3</th>\n",
       "      <td>89</td>\n",
       "      <td>28.1</td>\n",
       "      <td>0.167</td>\n",
       "      <td>21</td>\n",
       "      <td>0</td>\n",
       "    </tr>\n",
       "    <tr>\n",
       "      <th>4</th>\n",
       "      <td>137</td>\n",
       "      <td>43.1</td>\n",
       "      <td>2.288</td>\n",
       "      <td>33</td>\n",
       "      <td>1</td>\n",
       "    </tr>\n",
       "  </tbody>\n",
       "</table>\n",
       "</div>"
      ],
      "text/plain": [
       "   plas  mass   pedi  age  class\n",
       "0   148  33.6  0.627   50      1\n",
       "1    85  26.6  0.351   31      0\n",
       "2   183  23.3  0.672   32      1\n",
       "3    89  28.1  0.167   21      0\n",
       "4   137  43.1  2.288   33      1"
      ]
     },
     "execution_count": 6,
     "metadata": {},
     "output_type": "execute_result"
    }
   ],
   "source": [
    "df = df[['plas', 'mass', 'pedi', 'age','class']]\n",
    "df.head()"
   ]
  },
  {
   "cell_type": "code",
   "execution_count": 7,
   "id": "01918a79",
   "metadata": {
    "scrolled": false
   },
   "outputs": [
    {
     "name": "stderr",
     "output_type": "stream",
     "text": [
      "\u001b[32m[I 2021-11-30 16:39:28,379]\u001b[0m A new study created in memory with name: no-name-6008e356-3c80-430d-b814-1819504f2e4c\u001b[0m\n",
      "\u001b[32m[I 2021-11-30 16:39:29,396]\u001b[0m Trial 0 finished with value: 0.7681305536568694 and parameters: {'min_samples_leaf': 59, 'max_depth': 24}. Best is trial 0 with value: 0.7681305536568694.\u001b[0m\n",
      "\u001b[32m[I 2021-11-30 16:39:30,374]\u001b[0m Trial 1 finished with value: 0.775974025974026 and parameters: {'min_samples_leaf': 69, 'max_depth': 19}. Best is trial 1 with value: 0.775974025974026.\u001b[0m\n",
      "\u001b[32m[I 2021-11-30 16:39:31,363]\u001b[0m Trial 2 finished with value: 0.7654818865345182 and parameters: {'min_samples_leaf': 54, 'max_depth': 14}. Best is trial 1 with value: 0.775974025974026.\u001b[0m\n",
      "\u001b[32m[I 2021-11-30 16:39:32,317]\u001b[0m Trial 3 finished with value: 0.7655160628844839 and parameters: {'min_samples_leaf': 51, 'max_depth': 23}. Best is trial 1 with value: 0.775974025974026.\u001b[0m\n",
      "\u001b[32m[I 2021-11-30 16:39:33,234]\u001b[0m Trial 4 finished with value: 0.7720779220779221 and parameters: {'min_samples_leaf': 65, 'max_depth': 21}. Best is trial 1 with value: 0.775974025974026.\u001b[0m\n",
      "\u001b[32m[I 2021-11-30 16:39:34,215]\u001b[0m Trial 5 finished with value: 0.7628673957621326 and parameters: {'min_samples_leaf': 50, 'max_depth': 24}. Best is trial 1 with value: 0.775974025974026.\u001b[0m\n",
      "\u001b[32m[I 2021-11-30 16:39:35,126]\u001b[0m Trial 6 finished with value: 0.7668318523581681 and parameters: {'min_samples_leaf': 71, 'max_depth': 14}. Best is trial 1 with value: 0.775974025974026.\u001b[0m\n",
      "\u001b[32m[I 2021-11-30 16:39:36,055]\u001b[0m Trial 7 finished with value: 0.7681305536568694 and parameters: {'min_samples_leaf': 54, 'max_depth': 14}. Best is trial 1 with value: 0.775974025974026.\u001b[0m\n",
      "\u001b[32m[I 2021-11-30 16:39:37,008]\u001b[0m Trial 8 finished with value: 0.7681305536568694 and parameters: {'min_samples_leaf': 57, 'max_depth': 18}. Best is trial 1 with value: 0.775974025974026.\u001b[0m\n",
      "\u001b[32m[I 2021-11-30 16:39:37,944]\u001b[0m Trial 9 finished with value: 0.7655502392344498 and parameters: {'min_samples_leaf': 61, 'max_depth': 15}. Best is trial 1 with value: 0.775974025974026.\u001b[0m\n",
      "\u001b[32m[I 2021-11-30 16:39:38,916]\u001b[0m Trial 10 finished with value: 0.7759911141490089 and parameters: {'min_samples_leaf': 65, 'max_depth': 13}. Best is trial 10 with value: 0.7759911141490089.\u001b[0m\n",
      "\u001b[32m[I 2021-11-30 16:39:39,799]\u001b[0m Trial 11 finished with value: 0.7642173615857827 and parameters: {'min_samples_leaf': 57, 'max_depth': 16}. Best is trial 10 with value: 0.7759911141490089.\u001b[0m\n",
      "\u001b[32m[I 2021-11-30 16:39:40,725]\u001b[0m Trial 12 finished with value: 0.7680963773069036 and parameters: {'min_samples_leaf': 61, 'max_depth': 22}. Best is trial 10 with value: 0.7759911141490089.\u001b[0m\n",
      "\u001b[32m[I 2021-11-30 16:39:41,653]\u001b[0m Trial 13 finished with value: 0.7629186602870813 and parameters: {'min_samples_leaf': 55, 'max_depth': 18}. Best is trial 10 with value: 0.7759911141490089.\u001b[0m\n",
      "\u001b[32m[I 2021-11-30 16:39:42,546]\u001b[0m Trial 14 finished with value: 0.7603041695146958 and parameters: {'min_samples_leaf': 65, 'max_depth': 12}. Best is trial 10 with value: 0.7759911141490089.\u001b[0m\n",
      "\u001b[32m[I 2021-11-30 16:39:43,494]\u001b[0m Trial 15 finished with value: 0.7655673274094326 and parameters: {'min_samples_leaf': 65, 'max_depth': 14}. Best is trial 10 with value: 0.7759911141490089.\u001b[0m\n",
      "\u001b[32m[I 2021-11-30 16:39:44,463]\u001b[0m Trial 16 finished with value: 0.7642002734107998 and parameters: {'min_samples_leaf': 51, 'max_depth': 24}. Best is trial 10 with value: 0.7759911141490089.\u001b[0m\n",
      "\u001b[32m[I 2021-11-30 16:39:45,368]\u001b[0m Trial 17 finished with value: 0.770727956254272 and parameters: {'min_samples_leaf': 75, 'max_depth': 22}. Best is trial 10 with value: 0.7759911141490089.\u001b[0m\n",
      "\u001b[32m[I 2021-11-30 16:39:46,310]\u001b[0m Trial 18 finished with value: 0.7694463431305537 and parameters: {'min_samples_leaf': 57, 'max_depth': 13}. Best is trial 10 with value: 0.7759911141490089.\u001b[0m\n",
      "\u001b[32m[I 2021-11-30 16:39:47,250]\u001b[0m Trial 19 finished with value: 0.7681647300068353 and parameters: {'min_samples_leaf': 67, 'max_depth': 17}. Best is trial 10 with value: 0.7759911141490089.\u001b[0m\n"
     ]
    },
    {
     "data": {
      "text/plain": [
       "{'min_samples_leaf': 65, 'max_depth': 13}"
      ]
     },
     "execution_count": 7,
     "metadata": {},
     "output_type": "execute_result"
    }
   ],
   "source": [
    "tuning_hyperparams(df=df,\n",
    "                   target='class',\n",
    "                   parameters= [{\"name\": \"min_samples_leaf\", \"type\": \"Integer\", \"low\": 50, \"high\": 75},\n",
    "                                {\"name\": \"max_depth\", \"type\": \"Integer\", \"low\": 12, \"high\": 24}],\n",
    "                   algorithm=RandomForestClassifier,\n",
    "                   metric=accuracy_score,\n",
    "                   scoring_option=\"maximize\",\n",
    "                   n_trials=20\n",
    "                  )"
   ]
  },
  {
   "cell_type": "code",
   "execution_count": null,
   "id": "0413cb6f",
   "metadata": {},
   "outputs": [],
   "source": []
  }
 ],
 "metadata": {
  "kernelspec": {
   "display_name": "Python 3",
   "language": "python",
   "name": "python3"
  },
  "language_info": {
   "codemirror_mode": {
    "name": "ipython",
    "version": 3
   },
   "file_extension": ".py",
   "mimetype": "text/x-python",
   "name": "python",
   "nbconvert_exporter": "python",
   "pygments_lexer": "ipython3",
   "version": "3.8.8"
  }
 },
 "nbformat": 4,
 "nbformat_minor": 5
}
