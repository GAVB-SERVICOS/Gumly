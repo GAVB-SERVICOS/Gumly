{
 "cells": [
  {
   "cell_type": "markdown",
   "id": "75e69525",
   "metadata": {},
   "source": [
    "# Tutorial Tuning Hyperparams and Feature Engineering for Classification Model"
   ]
  },
  {
   "cell_type": "markdown",
   "id": "b5e42345",
   "metadata": {},
   "source": [
    "## 1.0 Function Objective\n",
    "\n",
    "### Apply tunning hyperparams and feature engineering in the classification model"
   ]
  },
  {
   "cell_type": "markdown",
   "id": "b7467c33",
   "metadata": {},
   "source": [
    "## 1.1 References"
   ]
  },
  {
   "cell_type": "markdown",
   "id": "3618d9d7",
   "metadata": {},
   "source": [
    "[cross_val_score](https://scikit-learn.org/stable/modules/generated/sklearn.model_selection.cross_val_score.html)\n",
    "\n",
    "\n",
    "[KFold](https://scikit-learn.org/stable/modules/generated/sklearn.model_selection.KFold.html?highlight=kfold#sklearn.model_selection.KFold)\n",
    "\n",
    "\n",
    "[optuna](https://optuna.readthedocs.io/en/v0.19.0/)\n",
    "\n",
    "\n",
    "[RandomSampler](https://optuna.readthedocs.io/en/stable/reference/generated/optuna.samplers.RandomSampler.html)\n",
    "\n",
    "\n",
    "[make_scorer](https://scikit-learn.org/stable/modules/generated/sklearn.metrics.make_scorer.html)\n"
   ]
  },
  {
   "cell_type": "markdown",
   "id": "8fbe03ce",
   "metadata": {},
   "source": [
    "## 2.0 Library Import"
   ]
  },
  {
   "cell_type": "code",
   "execution_count": null,
   "id": "c1e4a115",
   "metadata": {},
   "outputs": [],
   "source": [
    "!pip install mlutils"
   ]
  },
  {
   "cell_type": "code",
   "execution_count": 6,
   "id": "b629c357",
   "metadata": {},
   "outputs": [],
   "source": [
    "from mlutils.tuning_hyperparams import uning_hyperparams"
   ]
  },
  {
   "cell_type": "markdown",
   "id": "dd5659b7",
   "metadata": {},
   "source": [
    "## 3.0 Treating the Data"
   ]
  },
  {
   "cell_type": "code",
   "execution_count": 7,
   "id": "ff27fc90",
   "metadata": {},
   "outputs": [],
   "source": [
    "import pandas as pd"
   ]
  },
  {
   "cell_type": "code",
   "execution_count": 8,
   "id": "fe5bdfe9",
   "metadata": {},
   "outputs": [
    {
     "data": {
      "text/html": [
       "<div>\n",
       "<style scoped>\n",
       "    .dataframe tbody tr th:only-of-type {\n",
       "        vertical-align: middle;\n",
       "    }\n",
       "\n",
       "    .dataframe tbody tr th {\n",
       "        vertical-align: top;\n",
       "    }\n",
       "\n",
       "    .dataframe thead th {\n",
       "        text-align: right;\n",
       "    }\n",
       "</style>\n",
       "<table border=\"1\" class=\"dataframe\">\n",
       "  <thead>\n",
       "    <tr style=\"text-align: right;\">\n",
       "      <th></th>\n",
       "      <th>preg</th>\n",
       "      <th>plas</th>\n",
       "      <th>pres</th>\n",
       "      <th>skin</th>\n",
       "      <th>test</th>\n",
       "      <th>mass</th>\n",
       "      <th>pedi</th>\n",
       "      <th>age</th>\n",
       "      <th>class</th>\n",
       "    </tr>\n",
       "  </thead>\n",
       "  <tbody>\n",
       "    <tr>\n",
       "      <th>0</th>\n",
       "      <td>6</td>\n",
       "      <td>148</td>\n",
       "      <td>72</td>\n",
       "      <td>35</td>\n",
       "      <td>0</td>\n",
       "      <td>33.6</td>\n",
       "      <td>0.627</td>\n",
       "      <td>50</td>\n",
       "      <td>1</td>\n",
       "    </tr>\n",
       "    <tr>\n",
       "      <th>1</th>\n",
       "      <td>1</td>\n",
       "      <td>85</td>\n",
       "      <td>66</td>\n",
       "      <td>29</td>\n",
       "      <td>0</td>\n",
       "      <td>26.6</td>\n",
       "      <td>0.351</td>\n",
       "      <td>31</td>\n",
       "      <td>0</td>\n",
       "    </tr>\n",
       "    <tr>\n",
       "      <th>2</th>\n",
       "      <td>8</td>\n",
       "      <td>183</td>\n",
       "      <td>64</td>\n",
       "      <td>0</td>\n",
       "      <td>0</td>\n",
       "      <td>23.3</td>\n",
       "      <td>0.672</td>\n",
       "      <td>32</td>\n",
       "      <td>1</td>\n",
       "    </tr>\n",
       "    <tr>\n",
       "      <th>3</th>\n",
       "      <td>1</td>\n",
       "      <td>89</td>\n",
       "      <td>66</td>\n",
       "      <td>23</td>\n",
       "      <td>94</td>\n",
       "      <td>28.1</td>\n",
       "      <td>0.167</td>\n",
       "      <td>21</td>\n",
       "      <td>0</td>\n",
       "    </tr>\n",
       "    <tr>\n",
       "      <th>4</th>\n",
       "      <td>0</td>\n",
       "      <td>137</td>\n",
       "      <td>40</td>\n",
       "      <td>35</td>\n",
       "      <td>168</td>\n",
       "      <td>43.1</td>\n",
       "      <td>2.288</td>\n",
       "      <td>33</td>\n",
       "      <td>1</td>\n",
       "    </tr>\n",
       "  </tbody>\n",
       "</table>\n",
       "</div>"
      ],
      "text/plain": [
       "   preg  plas  pres  skin  test  mass   pedi  age  class\n",
       "0     6   148    72    35     0  33.6  0.627   50      1\n",
       "1     1    85    66    29     0  26.6  0.351   31      0\n",
       "2     8   183    64     0     0  23.3  0.672   32      1\n",
       "3     1    89    66    23    94  28.1  0.167   21      0\n",
       "4     0   137    40    35   168  43.1  2.288   33      1"
      ]
     },
     "execution_count": 8,
     "metadata": {},
     "output_type": "execute_result"
    }
   ],
   "source": [
    "colnames = ['preg', 'plas', 'pres', 'skin', 'test', 'mass', 'pedi', 'age', 'class']\n",
    "\n",
    "df_diabetes = pd.read_csv('https://raw.githubusercontent.com/jbrownlee/Datasets/master/pima-indians-diabetes.csv', names=colnames)\n",
    "df_diabetes.head()"
   ]
  },
  {
   "cell_type": "markdown",
   "id": "332c4768",
   "metadata": {},
   "source": [
    "## 4.0 Import Feature Engineering"
   ]
  },
  {
   "cell_type": "code",
   "execution_count": 10,
   "id": "9a63f96a",
   "metadata": {},
   "outputs": [],
   "source": [
    "from mlutils.feature_engineering import feature_engineering"
   ]
  },
  {
   "cell_type": "markdown",
   "id": "f867e3b4",
   "metadata": {},
   "source": [
    "## 4.1 Applying Feature Selection Filter CHI2"
   ]
  },
  {
   "cell_type": "code",
   "execution_count": 11,
   "id": "f8596dc4",
   "metadata": {
    "scrolled": true
   },
   "outputs": [
    {
     "data": {
      "text/plain": [
       "['preg', 'plas', 'pedi', 'age']"
      ]
     },
     "execution_count": 11,
     "metadata": {},
     "output_type": "execute_result"
    }
   ],
   "source": [
    "feature_selection_filter(df_diabetes, 'class', num_feats= 4)"
   ]
  },
  {
   "cell_type": "markdown",
   "id": "021d8a40",
   "metadata": {},
   "source": [
    "## 4.2 Applying Feature Wrapper RFE"
   ]
  },
  {
   "cell_type": "code",
   "execution_count": 12,
   "id": "62f265ae",
   "metadata": {
    "scrolled": false
   },
   "outputs": [
    {
     "data": {
      "text/plain": [
       "['preg', 'plas', 'mass', 'pedi']"
      ]
     },
     "execution_count": 12,
     "metadata": {},
     "output_type": "execute_result"
    }
   ],
   "source": [
    "feature_selection_wrapper(df_diabetes, 'class',num_feats = 4 , step = 10)"
   ]
  },
  {
   "cell_type": "markdown",
   "id": "b09dfc0e",
   "metadata": {},
   "source": [
    "## 4.3 Applying Feature Embedded LGBMClassifier"
   ]
  },
  {
   "cell_type": "code",
   "execution_count": 13,
   "id": "0b8bdd0e",
   "metadata": {},
   "outputs": [
    {
     "data": {
      "text/plain": [
       "['plas', 'mass', 'pedi', 'age']"
      ]
     },
     "execution_count": 13,
     "metadata": {},
     "output_type": "execute_result"
    }
   ],
   "source": [
    "feature_selection_embedded(df_diabetes, 'class', num_feats=4 , n_estimators = 50)"
   ]
  },
  {
   "cell_type": "markdown",
   "id": "16a26ba6",
   "metadata": {},
   "source": [
    "## 5.0 Applying Tuning Hyperparams"
   ]
  },
  {
   "cell_type": "markdown",
   "id": "36a73f3e",
   "metadata": {},
   "source": [
    "## 5.1 Import Algorithm and Metrics for Classification Model"
   ]
  },
  {
   "cell_type": "code",
   "execution_count": 14,
   "id": "b32eeb1f",
   "metadata": {},
   "outputs": [],
   "source": [
    "from sklearn.ensemble import RandomForestClassifier\n",
    "from sklearn.metrics import accuracy_score"
   ]
  },
  {
   "cell_type": "markdown",
   "id": "238813ea",
   "metadata": {},
   "source": [
    "## 5.2 Selecting Colums and Params RF"
   ]
  },
  {
   "cell_type": "code",
   "execution_count": 15,
   "id": "0654d8bf",
   "metadata": {},
   "outputs": [],
   "source": [
    "df = df_diabetes[['plas', 'mass', 'pedi', 'age','class']]"
   ]
  },
  {
   "cell_type": "code",
   "execution_count": 16,
   "id": "fb876354",
   "metadata": {},
   "outputs": [
    {
     "data": {
      "text/html": [
       "<div>\n",
       "<style scoped>\n",
       "    .dataframe tbody tr th:only-of-type {\n",
       "        vertical-align: middle;\n",
       "    }\n",
       "\n",
       "    .dataframe tbody tr th {\n",
       "        vertical-align: top;\n",
       "    }\n",
       "\n",
       "    .dataframe thead th {\n",
       "        text-align: right;\n",
       "    }\n",
       "</style>\n",
       "<table border=\"1\" class=\"dataframe\">\n",
       "  <thead>\n",
       "    <tr style=\"text-align: right;\">\n",
       "      <th></th>\n",
       "      <th>plas</th>\n",
       "      <th>mass</th>\n",
       "      <th>pedi</th>\n",
       "      <th>age</th>\n",
       "      <th>class</th>\n",
       "    </tr>\n",
       "  </thead>\n",
       "  <tbody>\n",
       "    <tr>\n",
       "      <th>0</th>\n",
       "      <td>148</td>\n",
       "      <td>33.6</td>\n",
       "      <td>0.627</td>\n",
       "      <td>50</td>\n",
       "      <td>1</td>\n",
       "    </tr>\n",
       "    <tr>\n",
       "      <th>1</th>\n",
       "      <td>85</td>\n",
       "      <td>26.6</td>\n",
       "      <td>0.351</td>\n",
       "      <td>31</td>\n",
       "      <td>0</td>\n",
       "    </tr>\n",
       "    <tr>\n",
       "      <th>2</th>\n",
       "      <td>183</td>\n",
       "      <td>23.3</td>\n",
       "      <td>0.672</td>\n",
       "      <td>32</td>\n",
       "      <td>1</td>\n",
       "    </tr>\n",
       "    <tr>\n",
       "      <th>3</th>\n",
       "      <td>89</td>\n",
       "      <td>28.1</td>\n",
       "      <td>0.167</td>\n",
       "      <td>21</td>\n",
       "      <td>0</td>\n",
       "    </tr>\n",
       "    <tr>\n",
       "      <th>4</th>\n",
       "      <td>137</td>\n",
       "      <td>43.1</td>\n",
       "      <td>2.288</td>\n",
       "      <td>33</td>\n",
       "      <td>1</td>\n",
       "    </tr>\n",
       "  </tbody>\n",
       "</table>\n",
       "</div>"
      ],
      "text/plain": [
       "   plas  mass   pedi  age  class\n",
       "0   148  33.6  0.627   50      1\n",
       "1    85  26.6  0.351   31      0\n",
       "2   183  23.3  0.672   32      1\n",
       "3    89  28.1  0.167   21      0\n",
       "4   137  43.1  2.288   33      1"
      ]
     },
     "execution_count": 16,
     "metadata": {},
     "output_type": "execute_result"
    }
   ],
   "source": [
    "df.head()"
   ]
  },
  {
   "cell_type": "code",
   "execution_count": 17,
   "id": "c9c2f701",
   "metadata": {},
   "outputs": [],
   "source": [
    "param_RF = [\n",
    "        {\"name\": \"min_samples_leaf\", \"type\": \"Integer\", \"low\": 50, \"high\": 75},\n",
    "        {\"name\": \"max_depth\", \"type\": \"Integer\", \"low\": 12, \"high\": 24},\n",
    "    ]"
   ]
  },
  {
   "cell_type": "markdown",
   "id": "5de50115",
   "metadata": {},
   "source": [
    "## 5.3 Calling Tuning Hyperparams Function for Classificarion Model"
   ]
  },
  {
   "cell_type": "code",
   "execution_count": 18,
   "id": "01918a79",
   "metadata": {
    "scrolled": false
   },
   "outputs": [
    {
     "name": "stderr",
     "output_type": "stream",
     "text": [
      "\u001b[32m[I 2021-11-30 17:17:04,566]\u001b[0m A new study created in memory with name: no-name-17547d6e-bbeb-4b5d-a99d-74a1c7e319b2\u001b[0m\n",
      "\u001b[32m[I 2021-11-30 17:17:05,338]\u001b[0m Trial 0 finished with value: 0.7694634313055365 and parameters: {'min_samples_leaf': 59, 'max_depth': 24}. Best is trial 0 with value: 0.7694634313055365.\u001b[0m\n",
      "\u001b[32m[I 2021-11-30 17:17:06,076]\u001b[0m Trial 1 finished with value: 0.7681476418318524 and parameters: {'min_samples_leaf': 69, 'max_depth': 19}. Best is trial 0 with value: 0.7694634313055365.\u001b[0m\n",
      "\u001b[32m[I 2021-11-30 17:17:06,848]\u001b[0m Trial 2 finished with value: 0.7616370471633629 and parameters: {'min_samples_leaf': 54, 'max_depth': 14}. Best is trial 0 with value: 0.7694634313055365.\u001b[0m\n",
      "\u001b[32m[I 2021-11-30 17:17:07,619]\u001b[0m Trial 3 finished with value: 0.76161995898838 and parameters: {'min_samples_leaf': 51, 'max_depth': 23}. Best is trial 0 with value: 0.7694634313055365.\u001b[0m\n",
      "\u001b[32m[I 2021-11-30 17:17:08,360]\u001b[0m Trial 4 finished with value: 0.7655331510594668 and parameters: {'min_samples_leaf': 65, 'max_depth': 21}. Best is trial 0 with value: 0.7694634313055365.\u001b[0m\n",
      "\u001b[32m[I 2021-11-30 17:17:09,135]\u001b[0m Trial 5 finished with value: 0.7681476418318524 and parameters: {'min_samples_leaf': 50, 'max_depth': 24}. Best is trial 0 with value: 0.7694634313055365.\u001b[0m\n",
      "\u001b[32m[I 2021-11-30 17:17:09,865]\u001b[0m Trial 6 finished with value: 0.7681476418318524 and parameters: {'min_samples_leaf': 71, 'max_depth': 14}. Best is trial 0 with value: 0.7694634313055365.\u001b[0m\n",
      "\u001b[32m[I 2021-11-30 17:17:10,618]\u001b[0m Trial 7 finished with value: 0.7602870813397129 and parameters: {'min_samples_leaf': 54, 'max_depth': 14}. Best is trial 0 with value: 0.7694634313055365.\u001b[0m\n",
      "\u001b[32m[I 2021-11-30 17:17:11,367]\u001b[0m Trial 8 finished with value: 0.76161995898838 and parameters: {'min_samples_leaf': 57, 'max_depth': 18}. Best is trial 0 with value: 0.7694634313055365.\u001b[0m\n",
      "\u001b[32m[I 2021-11-30 17:17:12,112]\u001b[0m Trial 9 finished with value: 0.7667976760082024 and parameters: {'min_samples_leaf': 61, 'max_depth': 15}. Best is trial 0 with value: 0.7694634313055365.\u001b[0m\n",
      "\u001b[32m[I 2021-11-30 17:17:12,863]\u001b[0m Trial 10 finished with value: 0.7642002734107998 and parameters: {'min_samples_leaf': 65, 'max_depth': 13}. Best is trial 0 with value: 0.7694634313055365.\u001b[0m\n",
      "\u001b[32m[I 2021-11-30 17:17:13,605]\u001b[0m Trial 11 finished with value: 0.7680963773069036 and parameters: {'min_samples_leaf': 57, 'max_depth': 16}. Best is trial 0 with value: 0.7694634313055365.\u001b[0m\n",
      "\u001b[32m[I 2021-11-30 17:17:14,347]\u001b[0m Trial 12 finished with value: 0.7733424470266577 and parameters: {'min_samples_leaf': 61, 'max_depth': 22}. Best is trial 12 with value: 0.7733424470266577.\u001b[0m\n",
      "\u001b[32m[I 2021-11-30 17:17:15,092]\u001b[0m Trial 13 finished with value: 0.7642002734107998 and parameters: {'min_samples_leaf': 55, 'max_depth': 18}. Best is trial 12 with value: 0.7733424470266577.\u001b[0m\n",
      "\u001b[32m[I 2021-11-30 17:17:15,832]\u001b[0m Trial 14 finished with value: 0.7668147641831852 and parameters: {'min_samples_leaf': 65, 'max_depth': 12}. Best is trial 12 with value: 0.7733424470266577.\u001b[0m\n",
      "\u001b[32m[I 2021-11-30 17:17:16,582]\u001b[0m Trial 15 finished with value: 0.7707792207792208 and parameters: {'min_samples_leaf': 65, 'max_depth': 14}. Best is trial 12 with value: 0.7733424470266577.\u001b[0m\n",
      "\u001b[32m[I 2021-11-30 17:17:17,337]\u001b[0m Trial 16 finished with value: 0.7642002734107998 and parameters: {'min_samples_leaf': 51, 'max_depth': 24}. Best is trial 12 with value: 0.7733424470266577.\u001b[0m\n",
      "\u001b[32m[I 2021-11-30 17:17:18,059]\u001b[0m Trial 17 finished with value: 0.7667976760082024 and parameters: {'min_samples_leaf': 75, 'max_depth': 22}. Best is trial 12 with value: 0.7733424470266577.\u001b[0m\n",
      "\u001b[32m[I 2021-11-30 17:17:18,799]\u001b[0m Trial 18 finished with value: 0.7668318523581681 and parameters: {'min_samples_leaf': 57, 'max_depth': 13}. Best is trial 12 with value: 0.7733424470266577.\u001b[0m\n",
      "\u001b[32m[I 2021-11-30 17:17:19,558]\u001b[0m Trial 19 finished with value: 0.7681476418318524 and parameters: {'min_samples_leaf': 67, 'max_depth': 17}. Best is trial 12 with value: 0.7733424470266577.\u001b[0m\n"
     ]
    },
    {
     "data": {
      "text/plain": [
       "{'min_samples_leaf': 61, 'max_depth': 22}"
      ]
     },
     "execution_count": 18,
     "metadata": {},
     "output_type": "execute_result"
    }
   ],
   "source": [
    "tuning_hyperparams(\n",
    "        df=df,\n",
    "        target='class',\n",
    "        parameters=param_RF,\n",
    "        algorithm=RandomForestClassifier,\n",
    "        metric=accuracy_score,\n",
    "        scoring_option=\"maximize\",\n",
    "        n_trials=20,\n",
    "    )"
   ]
  }
 ],
 "metadata": {
  "kernelspec": {
   "display_name": "Python 3 (ipykernel)",
   "language": "python",
   "name": "python3"
  },
  "language_info": {
   "codemirror_mode": {
    "name": "ipython",
    "version": 3
   },
   "file_extension": ".py",
   "mimetype": "text/x-python",
   "name": "python",
   "nbconvert_exporter": "python",
   "pygments_lexer": "ipython3",
   "version": "3.8.8"
  }
 },
 "nbformat": 4,
 "nbformat_minor": 5
}
