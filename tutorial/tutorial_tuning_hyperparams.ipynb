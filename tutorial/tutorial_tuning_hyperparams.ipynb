{
 "cells": [
  {
   "cell_type": "markdown",
   "id": "38b9befc",
   "metadata": {},
   "source": [
    "# Tuning Hyperparams Tutorial"
   ]
  },
  {
   "cell_type": "markdown",
   "id": "fb96c212",
   "metadata": {},
   "source": [
    "## 1.0 Function Objective\n",
    "\n",
    "### Optimize the adjust metric and to show the best result to that model"
   ]
  },
  {
   "cell_type": "markdown",
   "id": "6db870b1",
   "metadata": {},
   "source": [
    "## 1.1 References\n",
    "\n",
    "\n",
    "[cross_val_score](https://scikit-learn.org/stable/modules/generated/sklearn.model_selection.cross_val_score.html)\n",
    "\n",
    "\n",
    "[KFold](https://scikit-learn.org/stable/modules/generated/sklearn.model_selection.KFold.html?highlight=kfold#sklearn.model_selection.KFold)\n",
    "\n",
    "\n",
    "[optuna](https://optuna.readthedocs.io/en/v0.19.0/)\n",
    "\n",
    "\n",
    "[RandomSampler](https://optuna.readthedocs.io/en/stable/reference/generated/optuna.samplers.RandomSampler.html)\n",
    "\n",
    "\n",
    "[make_scorer](https://scikit-learn.org/stable/modules/generated/sklearn.metrics.make_scorer.html)"
   ]
  },
  {
   "cell_type": "markdown",
   "id": "7cc43d17",
   "metadata": {},
   "source": [
    "## 2.0 Library Import"
   ]
  },
  {
   "cell_type": "code",
   "execution_count": null,
   "id": "0db300e7",
   "metadata": {},
   "outputs": [],
   "source": [
    "!pip install mlutils"
   ]
  },
  {
   "cell_type": "code",
   "execution_count": 1,
   "id": "3cf9e6df",
   "metadata": {},
   "outputs": [],
   "source": [
    "from mlutils.tuning_hyperparams import tuning_hyperparams"
   ]
  },
  {
   "cell_type": "markdown",
   "id": "8b4bf44c",
   "metadata": {},
   "source": [
    "## 3.0 Selecting Colums, Params RF and import Algorithm and Metrics for Classification Model"
   ]
  },
  {
   "cell_type": "code",
   "execution_count": 2,
   "id": "1c50aff6",
   "metadata": {},
   "outputs": [],
   "source": [
    "import pandas as pd\n",
    "from sklearn import datasets\n",
    "from sklearn.ensemble import RandomForestClassifier\n",
    "from sklearn.metrics import accuracy_score"
   ]
  },
  {
   "cell_type": "code",
   "execution_count": 3,
   "id": "a783239d",
   "metadata": {},
   "outputs": [],
   "source": [
    "iris_data = datasets.load_iris()\n",
    "df_iris = pd.DataFrame(data=iris_data.data, columns=iris_data.feature_names)\n",
    "df_iris[\"target\"] = iris_data.target\n",
    "\n",
    "param_RF = [\n",
    "        {\"name\": \"min_samples_leaf\", \"type\": \"Integer\", \"low\": 50, \"high\": 75},\n",
    "        {\"name\": \"max_depth\", \"type\": \"Integer\", \"low\": 12, \"high\": 24},\n",
    "    ]\n"
   ]
  },
  {
   "cell_type": "markdown",
   "id": "b5d6ce0a",
   "metadata": {},
   "source": [
    "## 3.1 Calling Tuning Hyperparams Function for Classificarion Model"
   ]
  },
  {
   "cell_type": "code",
   "execution_count": 4,
   "id": "ff253985",
   "metadata": {
    "scrolled": false
   },
   "outputs": [
    {
     "name": "stderr",
     "output_type": "stream",
     "text": [
      "\u001b[32m[I 2021-11-30 17:30:20,326]\u001b[0m A new study created in memory with name: no-name-d48a37cd-880b-4bb7-958a-4f2086d06f3a\u001b[0m\n",
      "\u001b[32m[I 2021-11-30 17:30:20,947]\u001b[0m Trial 0 finished with value: 0.22666666666666666 and parameters: {'min_samples_leaf': 59, 'max_depth': 24}. Best is trial 0 with value: 0.22666666666666666.\u001b[0m\n",
      "\u001b[32m[I 2021-11-30 17:30:21,575]\u001b[0m Trial 1 finished with value: 0.22666666666666666 and parameters: {'min_samples_leaf': 69, 'max_depth': 19}. Best is trial 0 with value: 0.22666666666666666.\u001b[0m\n",
      "\u001b[32m[I 2021-11-30 17:30:22,203]\u001b[0m Trial 2 finished with value: 0.23333333333333334 and parameters: {'min_samples_leaf': 54, 'max_depth': 14}. Best is trial 2 with value: 0.23333333333333334.\u001b[0m\n",
      "\u001b[32m[I 2021-11-30 17:30:22,800]\u001b[0m Trial 3 finished with value: 0.22666666666666666 and parameters: {'min_samples_leaf': 51, 'max_depth': 23}. Best is trial 2 with value: 0.23333333333333334.\u001b[0m\n",
      "\u001b[32m[I 2021-11-30 17:30:23,392]\u001b[0m Trial 4 finished with value: 0.22000000000000003 and parameters: {'min_samples_leaf': 65, 'max_depth': 21}. Best is trial 2 with value: 0.23333333333333334.\u001b[0m\n",
      "\u001b[32m[I 2021-11-30 17:30:23,991]\u001b[0m Trial 5 finished with value: 0.22666666666666666 and parameters: {'min_samples_leaf': 50, 'max_depth': 24}. Best is trial 2 with value: 0.23333333333333334.\u001b[0m\n",
      "\u001b[32m[I 2021-11-30 17:30:24,597]\u001b[0m Trial 6 finished with value: 0.22000000000000003 and parameters: {'min_samples_leaf': 71, 'max_depth': 14}. Best is trial 2 with value: 0.23333333333333334.\u001b[0m\n",
      "\u001b[32m[I 2021-11-30 17:30:25,217]\u001b[0m Trial 7 finished with value: 0.22666666666666666 and parameters: {'min_samples_leaf': 54, 'max_depth': 14}. Best is trial 2 with value: 0.23333333333333334.\u001b[0m\n",
      "\u001b[32m[I 2021-11-30 17:30:25,845]\u001b[0m Trial 8 finished with value: 0.24 and parameters: {'min_samples_leaf': 57, 'max_depth': 18}. Best is trial 8 with value: 0.24.\u001b[0m\n",
      "\u001b[32m[I 2021-11-30 17:30:26,454]\u001b[0m Trial 9 finished with value: 0.22666666666666666 and parameters: {'min_samples_leaf': 61, 'max_depth': 15}. Best is trial 8 with value: 0.24.\u001b[0m\n",
      "\u001b[32m[I 2021-11-30 17:30:27,069]\u001b[0m Trial 10 finished with value: 0.22666666666666666 and parameters: {'min_samples_leaf': 65, 'max_depth': 13}. Best is trial 8 with value: 0.24.\u001b[0m\n",
      "\u001b[32m[I 2021-11-30 17:30:27,658]\u001b[0m Trial 11 finished with value: 0.22000000000000003 and parameters: {'min_samples_leaf': 57, 'max_depth': 16}. Best is trial 8 with value: 0.24.\u001b[0m\n",
      "\u001b[32m[I 2021-11-30 17:30:28,250]\u001b[0m Trial 12 finished with value: 0.22000000000000003 and parameters: {'min_samples_leaf': 61, 'max_depth': 22}. Best is trial 8 with value: 0.24.\u001b[0m\n",
      "\u001b[32m[I 2021-11-30 17:30:28,839]\u001b[0m Trial 13 finished with value: 0.24 and parameters: {'min_samples_leaf': 55, 'max_depth': 18}. Best is trial 8 with value: 0.24.\u001b[0m\n",
      "\u001b[32m[I 2021-11-30 17:30:29,461]\u001b[0m Trial 14 finished with value: 0.22000000000000003 and parameters: {'min_samples_leaf': 65, 'max_depth': 12}. Best is trial 8 with value: 0.24.\u001b[0m\n",
      "\u001b[32m[I 2021-11-30 17:30:30,080]\u001b[0m Trial 15 finished with value: 0.22000000000000003 and parameters: {'min_samples_leaf': 65, 'max_depth': 14}. Best is trial 8 with value: 0.24.\u001b[0m\n",
      "\u001b[32m[I 2021-11-30 17:30:30,672]\u001b[0m Trial 16 finished with value: 0.22000000000000003 and parameters: {'min_samples_leaf': 51, 'max_depth': 24}. Best is trial 8 with value: 0.24.\u001b[0m\n",
      "\u001b[32m[I 2021-11-30 17:30:31,262]\u001b[0m Trial 17 finished with value: 0.22000000000000003 and parameters: {'min_samples_leaf': 75, 'max_depth': 22}. Best is trial 8 with value: 0.24.\u001b[0m\n",
      "\u001b[32m[I 2021-11-30 17:30:31,849]\u001b[0m Trial 18 finished with value: 0.22666666666666666 and parameters: {'min_samples_leaf': 57, 'max_depth': 13}. Best is trial 8 with value: 0.24.\u001b[0m\n",
      "\u001b[32m[I 2021-11-30 17:30:32,438]\u001b[0m Trial 19 finished with value: 0.22000000000000003 and parameters: {'min_samples_leaf': 67, 'max_depth': 17}. Best is trial 8 with value: 0.24.\u001b[0m\n",
      "\u001b[32m[I 2021-11-30 17:30:33,043]\u001b[0m Trial 20 finished with value: 0.22666666666666666 and parameters: {'min_samples_leaf': 53, 'max_depth': 18}. Best is trial 8 with value: 0.24.\u001b[0m\n",
      "\u001b[32m[I 2021-11-30 17:30:33,683]\u001b[0m Trial 21 finished with value: 0.23333333333333334 and parameters: {'min_samples_leaf': 50, 'max_depth': 23}. Best is trial 8 with value: 0.24.\u001b[0m\n",
      "\u001b[32m[I 2021-11-30 17:30:34,300]\u001b[0m Trial 22 finished with value: 0.22000000000000003 and parameters: {'min_samples_leaf': 56, 'max_depth': 20}. Best is trial 8 with value: 0.24.\u001b[0m\n",
      "\u001b[32m[I 2021-11-30 17:30:34,948]\u001b[0m Trial 23 finished with value: 0.22666666666666666 and parameters: {'min_samples_leaf': 58, 'max_depth': 18}. Best is trial 8 with value: 0.24.\u001b[0m\n",
      "\u001b[32m[I 2021-11-30 17:30:35,563]\u001b[0m Trial 24 finished with value: 0.22666666666666666 and parameters: {'min_samples_leaf': 64, 'max_depth': 14}. Best is trial 8 with value: 0.24.\u001b[0m\n",
      "\u001b[32m[I 2021-11-30 17:30:36,155]\u001b[0m Trial 25 finished with value: 0.22000000000000003 and parameters: {'min_samples_leaf': 75, 'max_depth': 22}. Best is trial 8 with value: 0.24.\u001b[0m\n",
      "\u001b[32m[I 2021-11-30 17:30:36,751]\u001b[0m Trial 26 finished with value: 0.22000000000000003 and parameters: {'min_samples_leaf': 74, 'max_depth': 23}. Best is trial 8 with value: 0.24.\u001b[0m\n",
      "\u001b[32m[I 2021-11-30 17:30:37,362]\u001b[0m Trial 27 finished with value: 0.22666666666666666 and parameters: {'min_samples_leaf': 65, 'max_depth': 23}. Best is trial 8 with value: 0.24.\u001b[0m\n",
      "\u001b[32m[I 2021-11-30 17:30:38,015]\u001b[0m Trial 28 finished with value: 0.22000000000000003 and parameters: {'min_samples_leaf': 52, 'max_depth': 14}. Best is trial 8 with value: 0.24.\u001b[0m\n",
      "\u001b[32m[I 2021-11-30 17:30:38,638]\u001b[0m Trial 29 finished with value: 0.22000000000000003 and parameters: {'min_samples_leaf': 51, 'max_depth': 16}. Best is trial 8 with value: 0.24.\u001b[0m\n"
     ]
    },
    {
     "data": {
      "text/plain": [
       "{'min_samples_leaf': 57, 'max_depth': 18}"
      ]
     },
     "execution_count": 4,
     "metadata": {},
     "output_type": "execute_result"
    }
   ],
   "source": [
    "tuning_hyperparams(\n",
    "        df=df_iris,\n",
    "        target=\"target\",\n",
    "        parameters=param_RF,\n",
    "        algorithm=RandomForestClassifier,\n",
    "        metric=accuracy_score,\n",
    "        scoring_option=\"maximize\",\n",
    "        n_trials=30,\n",
    "    )"
   ]
  },
  {
   "cell_type": "markdown",
   "id": "b4672642",
   "metadata": {},
   "source": [
    "## 4.0 Selecting Colums, Params RF and import Algorithm and Metrics for Regressor Model"
   ]
  },
  {
   "cell_type": "code",
   "execution_count": 5,
   "id": "e02f623c",
   "metadata": {},
   "outputs": [],
   "source": [
    "from sklearn.ensemble import RandomForestRegressor\n",
    "from sklearn.metrics import mean_absolute_error"
   ]
  },
  {
   "cell_type": "code",
   "execution_count": 6,
   "id": "bc13f01b",
   "metadata": {},
   "outputs": [
    {
     "name": "stderr",
     "output_type": "stream",
     "text": [
      "/home/diego.fan/.local/lib/python3.8/site-packages/sklearn/utils/deprecation.py:87: FutureWarning: Function load_boston is deprecated; `load_boston` is deprecated in 1.0 and will be removed in 1.2.\n",
      "\n",
      "    The Boston housing prices dataset has an ethical problem. You can refer to\n",
      "    the documentation of this function for further details.\n",
      "\n",
      "    The scikit-learn maintainers therefore strongly discourage the use of this\n",
      "    dataset unless the purpose of the code is to study and educate about\n",
      "    ethical issues in data science and machine learning.\n",
      "\n",
      "    In this special case, you can fetch the dataset from the original\n",
      "    source::\n",
      "\n",
      "        import pandas as pd\n",
      "        import numpy as np\n",
      "\n",
      "\n",
      "        data_url = \"http://lib.stat.cmu.edu/datasets/boston\"\n",
      "        raw_df = pd.read_csv(data_url, sep=\"\\s+\", skiprows=22, header=None)\n",
      "        data = np.hstack([raw_df.values[::2, :], raw_df.values[1::2, :2]])\n",
      "        target = raw_df.values[1::2, 2]\n",
      "\n",
      "    Alternative datasets include the California housing dataset (i.e.\n",
      "    :func:`~sklearn.datasets.fetch_california_housing`) and the Ames housing\n",
      "    dataset. You can load the datasets as follows::\n",
      "\n",
      "        from sklearn.datasets import fetch_california_housing\n",
      "        housing = fetch_california_housing()\n",
      "\n",
      "    for the California housing dataset and::\n",
      "\n",
      "        from sklearn.datasets import fetch_openml\n",
      "        housing = fetch_openml(name=\"house_prices\", as_frame=True)\n",
      "\n",
      "    for the Ames housing dataset.\n",
      "    \n",
      "  warnings.warn(msg, category=FutureWarning)\n"
     ]
    }
   ],
   "source": [
    "boston_data = datasets.load_boston()\n",
    "df_boston = pd.DataFrame(boston_data.data, columns=boston_data.feature_names)\n",
    "df_boston[\"target\"] = boston_data.target\n",
    "\n",
    "param_RF = [\n",
    "        {\"name\": \"min_samples_leaf\", \"type\": \"Integer\", \"low\": 50, \"high\": 75},\n",
    "        {\"name\": \"max_depth\", \"type\": \"Integer\", \"low\": 12, \"high\": 24},\n",
    "    ]"
   ]
  },
  {
   "cell_type": "markdown",
   "id": "8771b293",
   "metadata": {},
   "source": [
    "## 4.1 Calling Tuning Hyperparams Function for Regressor Model"
   ]
  },
  {
   "cell_type": "code",
   "execution_count": 7,
   "id": "de5bf787",
   "metadata": {},
   "outputs": [
    {
     "name": "stderr",
     "output_type": "stream",
     "text": [
      "\u001b[32m[I 2021-11-30 17:30:52,424]\u001b[0m A new study created in memory with name: no-name-c0143203-e4bd-4bb9-aba1-446b485ecf72\u001b[0m\n",
      "\u001b[32m[I 2021-11-30 17:30:53,175]\u001b[0m Trial 0 finished with value: 3.929938583771473 and parameters: {'min_samples_leaf': 59, 'max_depth': 24}. Best is trial 0 with value: 3.929938583771473.\u001b[0m\n",
      "\u001b[32m[I 2021-11-30 17:30:53,904]\u001b[0m Trial 1 finished with value: 4.346571452402723 and parameters: {'min_samples_leaf': 69, 'max_depth': 19}. Best is trial 0 with value: 3.929938583771473.\u001b[0m\n",
      "\u001b[32m[I 2021-11-30 17:30:54,690]\u001b[0m Trial 2 finished with value: 3.6920662261747097 and parameters: {'min_samples_leaf': 54, 'max_depth': 14}. Best is trial 2 with value: 3.6920662261747097.\u001b[0m\n",
      "\u001b[32m[I 2021-11-30 17:30:55,493]\u001b[0m Trial 3 finished with value: 3.6264533489000996 and parameters: {'min_samples_leaf': 51, 'max_depth': 23}. Best is trial 3 with value: 3.6264533489000996.\u001b[0m\n",
      "\u001b[32m[I 2021-11-30 17:30:56,224]\u001b[0m Trial 4 finished with value: 4.296140936212188 and parameters: {'min_samples_leaf': 65, 'max_depth': 21}. Best is trial 3 with value: 3.6264533489000996.\u001b[0m\n",
      "\u001b[32m[I 2021-11-30 17:30:57,023]\u001b[0m Trial 5 finished with value: 3.5553758926587546 and parameters: {'min_samples_leaf': 50, 'max_depth': 24}. Best is trial 5 with value: 3.5553758926587546.\u001b[0m\n",
      "\u001b[32m[I 2021-11-30 17:30:57,742]\u001b[0m Trial 6 finished with value: 4.409927693147798 and parameters: {'min_samples_leaf': 71, 'max_depth': 14}. Best is trial 5 with value: 3.5553758926587546.\u001b[0m\n",
      "\u001b[32m[I 2021-11-30 17:30:58,554]\u001b[0m Trial 7 finished with value: 3.7216521453803133 and parameters: {'min_samples_leaf': 54, 'max_depth': 14}. Best is trial 5 with value: 3.5553758926587546.\u001b[0m\n",
      "\u001b[32m[I 2021-11-30 17:30:59,317]\u001b[0m Trial 8 finished with value: 3.815671282770263 and parameters: {'min_samples_leaf': 57, 'max_depth': 18}. Best is trial 5 with value: 3.5553758926587546.\u001b[0m\n",
      "\u001b[32m[I 2021-11-30 17:31:00,069]\u001b[0m Trial 9 finished with value: 4.052756759572812 and parameters: {'min_samples_leaf': 61, 'max_depth': 15}. Best is trial 5 with value: 3.5553758926587546.\u001b[0m\n",
      "\u001b[32m[I 2021-11-30 17:31:00,802]\u001b[0m Trial 10 finished with value: 4.2996610000329625 and parameters: {'min_samples_leaf': 65, 'max_depth': 13}. Best is trial 5 with value: 3.5553758926587546.\u001b[0m\n",
      "\u001b[32m[I 2021-11-30 17:31:01,577]\u001b[0m Trial 11 finished with value: 3.7672830570456832 and parameters: {'min_samples_leaf': 57, 'max_depth': 16}. Best is trial 5 with value: 3.5553758926587546.\u001b[0m\n",
      "\u001b[32m[I 2021-11-30 17:31:02,348]\u001b[0m Trial 12 finished with value: 4.055310265040146 and parameters: {'min_samples_leaf': 61, 'max_depth': 22}. Best is trial 5 with value: 3.5553758926587546.\u001b[0m\n",
      "\u001b[32m[I 2021-11-30 17:31:03,124]\u001b[0m Trial 13 finished with value: 3.704270520079357 and parameters: {'min_samples_leaf': 55, 'max_depth': 18}. Best is trial 5 with value: 3.5553758926587546.\u001b[0m\n",
      "\u001b[32m[I 2021-11-30 17:31:03,867]\u001b[0m Trial 14 finished with value: 4.289861634212899 and parameters: {'min_samples_leaf': 65, 'max_depth': 12}. Best is trial 5 with value: 3.5553758926587546.\u001b[0m\n",
      "\u001b[32m[I 2021-11-30 17:31:04,601]\u001b[0m Trial 15 finished with value: 4.291146101153934 and parameters: {'min_samples_leaf': 65, 'max_depth': 14}. Best is trial 5 with value: 3.5553758926587546.\u001b[0m\n",
      "\u001b[32m[I 2021-11-30 17:31:05,394]\u001b[0m Trial 16 finished with value: 3.6078721545484256 and parameters: {'min_samples_leaf': 51, 'max_depth': 24}. Best is trial 5 with value: 3.5553758926587546.\u001b[0m\n",
      "\u001b[32m[I 2021-11-30 17:31:06,130]\u001b[0m Trial 17 finished with value: 4.454514889598105 and parameters: {'min_samples_leaf': 75, 'max_depth': 22}. Best is trial 5 with value: 3.5553758926587546.\u001b[0m\n",
      "\u001b[32m[I 2021-11-30 17:31:06,936]\u001b[0m Trial 18 finished with value: 3.8125384296559717 and parameters: {'min_samples_leaf': 57, 'max_depth': 13}. Best is trial 5 with value: 3.5553758926587546.\u001b[0m\n",
      "\u001b[32m[I 2021-11-30 17:31:07,675]\u001b[0m Trial 19 finished with value: 4.3136520083011085 and parameters: {'min_samples_leaf': 67, 'max_depth': 17}. Best is trial 5 with value: 3.5553758926587546.\u001b[0m\n",
      "\u001b[32m[I 2021-11-30 17:31:08,470]\u001b[0m Trial 20 finished with value: 3.654333151703439 and parameters: {'min_samples_leaf': 53, 'max_depth': 18}. Best is trial 5 with value: 3.5553758926587546.\u001b[0m\n",
      "\u001b[32m[I 2021-11-30 17:31:09,286]\u001b[0m Trial 21 finished with value: 3.573174151418255 and parameters: {'min_samples_leaf': 50, 'max_depth': 23}. Best is trial 5 with value: 3.5553758926587546.\u001b[0m\n",
      "\u001b[32m[I 2021-11-30 17:31:10,091]\u001b[0m Trial 22 finished with value: 3.756825545262367 and parameters: {'min_samples_leaf': 56, 'max_depth': 20}. Best is trial 5 with value: 3.5553758926587546.\u001b[0m\n",
      "\u001b[32m[I 2021-11-30 17:31:10,896]\u001b[0m Trial 23 finished with value: 3.8627394903486802 and parameters: {'min_samples_leaf': 58, 'max_depth': 18}. Best is trial 5 with value: 3.5553758926587546.\u001b[0m\n",
      "\u001b[32m[I 2021-11-30 17:31:11,660]\u001b[0m Trial 24 finished with value: 4.250035510589217 and parameters: {'min_samples_leaf': 64, 'max_depth': 14}. Best is trial 5 with value: 3.5553758926587546.\u001b[0m\n",
      "\u001b[32m[I 2021-11-30 17:31:12,392]\u001b[0m Trial 25 finished with value: 4.4618515316717 and parameters: {'min_samples_leaf': 75, 'max_depth': 22}. Best is trial 5 with value: 3.5553758926587546.\u001b[0m\n",
      "\u001b[32m[I 2021-11-30 17:31:13,135]\u001b[0m Trial 26 finished with value: 4.4677352904070755 and parameters: {'min_samples_leaf': 74, 'max_depth': 23}. Best is trial 5 with value: 3.5553758926587546.\u001b[0m\n",
      "\u001b[32m[I 2021-11-30 17:31:13,863]\u001b[0m Trial 27 finished with value: 4.296161994834712 and parameters: {'min_samples_leaf': 65, 'max_depth': 23}. Best is trial 5 with value: 3.5553758926587546.\u001b[0m\n",
      "\u001b[32m[I 2021-11-30 17:31:14,649]\u001b[0m Trial 28 finished with value: 3.6034783492841784 and parameters: {'min_samples_leaf': 52, 'max_depth': 14}. Best is trial 5 with value: 3.5553758926587546.\u001b[0m\n",
      "\u001b[32m[I 2021-11-30 17:31:15,442]\u001b[0m Trial 29 finished with value: 3.5826019591269 and parameters: {'min_samples_leaf': 51, 'max_depth': 16}. Best is trial 5 with value: 3.5553758926587546.\u001b[0m\n"
     ]
    },
    {
     "data": {
      "text/plain": [
       "{'min_samples_leaf': 50, 'max_depth': 24}"
      ]
     },
     "execution_count": 7,
     "metadata": {},
     "output_type": "execute_result"
    }
   ],
   "source": [
    "tuning_hyperparams(\n",
    "        df=df_boston,\n",
    "        target=\"target\",\n",
    "        parameters=param_RF,\n",
    "        algorithm=RandomForestRegressor,\n",
    "        metric=mean_absolute_error,\n",
    "        scoring_option=\"minimize\",\n",
    "        n_trials=30,\n",
    "    )"
   ]
  }
 ],
 "metadata": {
  "kernelspec": {
   "display_name": "Python 3 (ipykernel)",
   "language": "python",
   "name": "python3"
  },
  "language_info": {
   "codemirror_mode": {
    "name": "ipython",
    "version": 3
   },
   "file_extension": ".py",
   "mimetype": "text/x-python",
   "name": "python",
   "nbconvert_exporter": "python",
   "pygments_lexer": "ipython3",
   "version": "3.8.8"
  }
 },
 "nbformat": 4,
 "nbformat_minor": 5
}
