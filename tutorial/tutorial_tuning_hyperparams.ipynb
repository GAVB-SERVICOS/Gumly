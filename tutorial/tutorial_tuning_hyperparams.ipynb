{
 "cells": [
  {
   "cell_type": "markdown",
   "id": "38b9befc",
   "metadata": {},
   "source": [
    "# Tuning Hyperparams Tutorial"
   ]
  },
  {
   "cell_type": "markdown",
   "id": "fb96c212",
   "metadata": {},
   "source": [
    "## 1.0 Objetivo da Função.\n",
    "\n",
    "Otimizar a métrica de ajuste e mostrar qual será o resultado melhor para o modelo."
   ]
  },
  {
   "cell_type": "markdown",
   "id": "7cc43d17",
   "metadata": {},
   "source": [
    "## 2.0 Importes das Bibliotecas"
   ]
  },
  {
   "cell_type": "code",
   "execution_count": 1,
   "id": "3cf9e6df",
   "metadata": {},
   "outputs": [],
   "source": [
    "from sklearn.model_selection import cross_val_score\n",
    "from sklearn.model_selection import KFold\n",
    "from sklearn.ensemble import RandomForestClassifier\n",
    "from sklearn.ensemble import RandomForestRegressor\n",
    "import optuna\n",
    "from sklearn.metrics import mean_squared_error, mean_absolute_error, r2_score\n",
    "from sklearn.metrics import explained_variance_score, max_error\n",
    "from sklearn.metrics import mean_squared_log_error, median_absolute_error"
   ]
  },
  {
   "cell_type": "markdown",
   "id": "36d05fd3",
   "metadata": {},
   "source": [
    "## 3.0 Input e Output"
   ]
  },
  {
   "cell_type": "markdown",
   "id": "0d1cce69",
   "metadata": {},
   "source": [
    "Importando a função"
   ]
  },
  {
   "cell_type": "code",
   "execution_count": 2,
   "id": "539d757c",
   "metadata": {},
   "outputs": [],
   "source": [
    "import os\n",
    "root = '/'.join(os.getcwd().split('/')[:-1])\n",
    "os.chdir(root + '/mlutils')"
   ]
  },
  {
   "cell_type": "code",
   "execution_count": 3,
   "id": "941aba76",
   "metadata": {},
   "outputs": [],
   "source": [
    "from tuning_hyperparams import *\n",
    "from feature_engineering import *"
   ]
  },
  {
   "cell_type": "markdown",
   "id": "8b4bf44c",
   "metadata": {},
   "source": [
    "## 3.1 Exemplo de output Para Modelo de Classificação "
   ]
  },
  {
   "cell_type": "code",
   "execution_count": 4,
   "id": "1c50aff6",
   "metadata": {},
   "outputs": [],
   "source": [
    "import pandas as pd\n",
    "from sklearn import datasets"
   ]
  },
  {
   "cell_type": "code",
   "execution_count": 5,
   "id": "a783239d",
   "metadata": {},
   "outputs": [],
   "source": [
    "iris_data = datasets.load_iris()\n",
    "df_iris = pd.DataFrame(data=iris_data.data, columns=iris_data.feature_names)\n",
    "df_iris[\"target\"] = iris_data.target\n",
    "\n",
    "param_RF = [\n",
    "        {\"name\": \"min_samples_leaf\", \"type\": \"Integer\", \"low\": 50, \"high\": 75},\n",
    "        {\"name\": \"max_depth\", \"type\": \"Integer\", \"low\": 12, \"high\": 24},\n",
    "    ]\n"
   ]
  },
  {
   "cell_type": "code",
   "execution_count": 6,
   "id": "ff253985",
   "metadata": {},
   "outputs": [
    {
     "name": "stderr",
     "output_type": "stream",
     "text": [
      "\u001b[32m[I 2021-11-16 14:43:34,242]\u001b[0m A new study created in memory with name: no-name-a8def23d-1322-4335-a84e-15c20959d6ed\u001b[0m\n",
      "\u001b[32m[I 2021-11-16 14:43:35,216]\u001b[0m Trial 0 finished with value: 0.26666666666666666 and parameters: {'min_samples_leaf': 67, 'max_depth': 13}. Best is trial 0 with value: 0.26666666666666666.\u001b[0m\n",
      "\u001b[32m[I 2021-11-16 14:43:36,233]\u001b[0m Trial 1 finished with value: 0.26 and parameters: {'min_samples_leaf': 73, 'max_depth': 19}. Best is trial 0 with value: 0.26666666666666666.\u001b[0m\n",
      "\u001b[32m[I 2021-11-16 14:43:37,219]\u001b[0m Trial 2 finished with value: 0.26 and parameters: {'min_samples_leaf': 62, 'max_depth': 12}. Best is trial 0 with value: 0.26666666666666666.\u001b[0m\n",
      "\u001b[32m[I 2021-11-16 14:43:38,167]\u001b[0m Trial 3 finished with value: 0.26 and parameters: {'min_samples_leaf': 53, 'max_depth': 24}. Best is trial 0 with value: 0.26666666666666666.\u001b[0m\n",
      "\u001b[32m[I 2021-11-16 14:43:39,178]\u001b[0m Trial 4 finished with value: 0.26 and parameters: {'min_samples_leaf': 50, 'max_depth': 17}. Best is trial 0 with value: 0.26666666666666666.\u001b[0m\n",
      "\u001b[32m[I 2021-11-16 14:43:40,199]\u001b[0m Trial 5 finished with value: 0.26 and parameters: {'min_samples_leaf': 74, 'max_depth': 12}. Best is trial 0 with value: 0.26666666666666666.\u001b[0m\n",
      "\u001b[32m[I 2021-11-16 14:43:41,261]\u001b[0m Trial 6 finished with value: 0.26 and parameters: {'min_samples_leaf': 57, 'max_depth': 13}. Best is trial 0 with value: 0.26666666666666666.\u001b[0m\n",
      "\u001b[32m[I 2021-11-16 14:43:42,215]\u001b[0m Trial 7 finished with value: 0.26 and parameters: {'min_samples_leaf': 73, 'max_depth': 13}. Best is trial 0 with value: 0.26666666666666666.\u001b[0m\n",
      "\u001b[32m[I 2021-11-16 14:43:43,166]\u001b[0m Trial 8 finished with value: 0.26 and parameters: {'min_samples_leaf': 66, 'max_depth': 13}. Best is trial 0 with value: 0.26666666666666666.\u001b[0m\n",
      "\u001b[32m[I 2021-11-16 14:43:44,104]\u001b[0m Trial 9 finished with value: 0.26 and parameters: {'min_samples_leaf': 51, 'max_depth': 24}. Best is trial 0 with value: 0.26666666666666666.\u001b[0m\n",
      "\u001b[32m[I 2021-11-16 14:43:45,040]\u001b[0m Trial 10 finished with value: 0.26 and parameters: {'min_samples_leaf': 67, 'max_depth': 16}. Best is trial 0 with value: 0.26666666666666666.\u001b[0m\n",
      "\u001b[32m[I 2021-11-16 14:43:45,997]\u001b[0m Trial 11 finished with value: 0.26 and parameters: {'min_samples_leaf': 70, 'max_depth': 20}. Best is trial 0 with value: 0.26666666666666666.\u001b[0m\n",
      "\u001b[32m[I 2021-11-16 14:43:46,945]\u001b[0m Trial 12 finished with value: 0.26 and parameters: {'min_samples_leaf': 63, 'max_depth': 20}. Best is trial 0 with value: 0.26666666666666666.\u001b[0m\n",
      "\u001b[32m[I 2021-11-16 14:43:47,916]\u001b[0m Trial 13 finished with value: 0.26 and parameters: {'min_samples_leaf': 70, 'max_depth': 19}. Best is trial 0 with value: 0.26666666666666666.\u001b[0m\n",
      "\u001b[32m[I 2021-11-16 14:43:48,888]\u001b[0m Trial 14 finished with value: 0.26 and parameters: {'min_samples_leaf': 69, 'max_depth': 15}. Best is trial 0 with value: 0.26666666666666666.\u001b[0m\n",
      "\u001b[32m[I 2021-11-16 14:43:49,920]\u001b[0m Trial 15 finished with value: 0.26 and parameters: {'min_samples_leaf': 75, 'max_depth': 21}. Best is trial 0 with value: 0.26666666666666666.\u001b[0m\n",
      "\u001b[32m[I 2021-11-16 14:43:50,858]\u001b[0m Trial 16 finished with value: 0.26 and parameters: {'min_samples_leaf': 62, 'max_depth': 22}. Best is trial 0 with value: 0.26666666666666666.\u001b[0m\n",
      "\u001b[32m[I 2021-11-16 14:43:51,863]\u001b[0m Trial 17 finished with value: 0.26 and parameters: {'min_samples_leaf': 66, 'max_depth': 15}. Best is trial 0 with value: 0.26666666666666666.\u001b[0m\n",
      "\u001b[32m[I 2021-11-16 14:43:52,830]\u001b[0m Trial 18 finished with value: 0.26 and parameters: {'min_samples_leaf': 75, 'max_depth': 22}. Best is trial 0 with value: 0.26666666666666666.\u001b[0m\n",
      "\u001b[32m[I 2021-11-16 14:43:53,805]\u001b[0m Trial 19 finished with value: 0.26 and parameters: {'min_samples_leaf': 59, 'max_depth': 22}. Best is trial 0 with value: 0.26666666666666666.\u001b[0m\n"
     ]
    },
    {
     "data": {
      "text/plain": [
       "{'min_samples_leaf': 67, 'max_depth': 13}"
      ]
     },
     "execution_count": 6,
     "metadata": {},
     "output_type": "execute_result"
    }
   ],
   "source": [
    "tuning_hyperparams(\n",
    "        df=df_iris,\n",
    "        target=\"target\",\n",
    "        parameters=param_RF,\n",
    "        algorithm=RandomForestClassifier,\n",
    "        metric= accuracy_score,\n",
    "        scoring_option=\"maximize\",\n",
    "        n_trials=20,\n",
    "    )"
   ]
  },
  {
   "cell_type": "markdown",
   "id": "b4672642",
   "metadata": {},
   "source": [
    "## 3.2 Exemplo de output para Modelo de Regressão"
   ]
  },
  {
   "cell_type": "code",
   "execution_count": 7,
   "id": "bc13f01b",
   "metadata": {},
   "outputs": [
    {
     "name": "stderr",
     "output_type": "stream",
     "text": [
      "/home/diego/.local/lib/python3.8/site-packages/sklearn/utils/deprecation.py:87: FutureWarning: Function load_boston is deprecated; `load_boston` is deprecated in 1.0 and will be removed in 1.2.\n",
      "\n",
      "    The Boston housing prices dataset has an ethical problem. You can refer to\n",
      "    the documentation of this function for further details.\n",
      "\n",
      "    The scikit-learn maintainers therefore strongly discourage the use of this\n",
      "    dataset unless the purpose of the code is to study and educate about\n",
      "    ethical issues in data science and machine learning.\n",
      "\n",
      "    In this special case, you can fetch the dataset from the original\n",
      "    source::\n",
      "\n",
      "        import pandas as pd\n",
      "        import numpy as np\n",
      "\n",
      "\n",
      "        data_url = \"http://lib.stat.cmu.edu/datasets/boston\"\n",
      "        raw_df = pd.read_csv(data_url, sep=\"\\s+\", skiprows=22, header=None)\n",
      "        data = np.hstack([raw_df.values[::2, :], raw_df.values[1::2, :2]])\n",
      "        target = raw_df.values[1::2, 2]\n",
      "\n",
      "    Alternative datasets include the California housing dataset (i.e.\n",
      "    :func:`~sklearn.datasets.fetch_california_housing`) and the Ames housing\n",
      "    dataset. You can load the datasets as follows::\n",
      "\n",
      "        from sklearn.datasets import fetch_california_housing\n",
      "        housing = fetch_california_housing()\n",
      "\n",
      "    for the California housing dataset and::\n",
      "\n",
      "        from sklearn.datasets import fetch_openml\n",
      "        housing = fetch_openml(name=\"house_prices\", as_frame=True)\n",
      "\n",
      "    for the Ames housing dataset.\n",
      "    \n",
      "  warnings.warn(msg, category=FutureWarning)\n"
     ]
    }
   ],
   "source": [
    "boston_data = datasets.load_boston()\n",
    "df_boston = pd.DataFrame(boston_data.data, columns=boston_data.feature_names)\n",
    "df_boston[\"target\"] = boston_data.target\n",
    "\n",
    "param_RF = [\n",
    "        {\"name\": \"min_samples_leaf\", \"type\": \"Integer\", \"low\": 50, \"high\": 75},\n",
    "        {\"name\": \"max_depth\", \"type\": \"Integer\", \"low\": 12, \"high\": 24},\n",
    "    ]"
   ]
  },
  {
   "cell_type": "code",
   "execution_count": 10,
   "id": "de5bf787",
   "metadata": {},
   "outputs": [
    {
     "name": "stderr",
     "output_type": "stream",
     "text": [
      "\u001b[32m[I 2021-11-16 14:45:38,367]\u001b[0m A new study created in memory with name: no-name-5076557c-5e48-470a-acde-e1614f709e63\u001b[0m\n",
      "\u001b[32m[I 2021-11-16 14:45:39,435]\u001b[0m Trial 0 finished with value: 0.5518350114620284 and parameters: {'min_samples_leaf': 67, 'max_depth': 13}. Best is trial 0 with value: 0.5518350114620284.\u001b[0m\n",
      "\u001b[32m[I 2021-11-16 14:45:40,457]\u001b[0m Trial 1 finished with value: 0.5382326332090066 and parameters: {'min_samples_leaf': 72, 'max_depth': 17}. Best is trial 0 with value: 0.5518350114620284.\u001b[0m\n",
      "\u001b[32m[I 2021-11-16 14:45:41,503]\u001b[0m Trial 2 finished with value: 0.6024758347763676 and parameters: {'min_samples_leaf': 55, 'max_depth': 17}. Best is trial 2 with value: 0.6024758347763676.\u001b[0m\n",
      "\u001b[32m[I 2021-11-16 14:45:42,486]\u001b[0m Trial 3 finished with value: 0.5420755388285229 and parameters: {'min_samples_leaf': 73, 'max_depth': 15}. Best is trial 2 with value: 0.6024758347763676.\u001b[0m\n",
      "\u001b[32m[I 2021-11-16 14:45:43,471]\u001b[0m Trial 4 finished with value: 0.5507327500316133 and parameters: {'min_samples_leaf': 66, 'max_depth': 14}. Best is trial 2 with value: 0.6024758347763676.\u001b[0m\n",
      "\u001b[32m[I 2021-11-16 14:45:44,497]\u001b[0m Trial 5 finished with value: 0.551886861028364 and parameters: {'min_samples_leaf': 67, 'max_depth': 16}. Best is trial 2 with value: 0.6024758347763676.\u001b[0m\n",
      "\u001b[32m[I 2021-11-16 14:45:45,536]\u001b[0m Trial 6 finished with value: 0.576418675761464 and parameters: {'min_samples_leaf': 57, 'max_depth': 19}. Best is trial 2 with value: 0.6024758347763676.\u001b[0m\n",
      "\u001b[32m[I 2021-11-16 14:45:46,735]\u001b[0m Trial 7 finished with value: 0.5495028972152004 and parameters: {'min_samples_leaf': 68, 'max_depth': 13}. Best is trial 2 with value: 0.6024758347763676.\u001b[0m\n",
      "\u001b[32m[I 2021-11-16 14:45:47,853]\u001b[0m Trial 8 finished with value: 0.5650329964712604 and parameters: {'min_samples_leaf': 61, 'max_depth': 23}. Best is trial 2 with value: 0.6024758347763676.\u001b[0m\n",
      "\u001b[32m[I 2021-11-16 14:45:48,842]\u001b[0m Trial 9 finished with value: 0.5524399740633783 and parameters: {'min_samples_leaf': 63, 'max_depth': 18}. Best is trial 2 with value: 0.6024758347763676.\u001b[0m\n",
      "\u001b[32m[I 2021-11-16 14:45:49,905]\u001b[0m Trial 10 finished with value: 0.649218813593925 and parameters: {'min_samples_leaf': 50, 'max_depth': 21}. Best is trial 10 with value: 0.649218813593925.\u001b[0m\n",
      "\u001b[32m[I 2021-11-16 14:45:50,948]\u001b[0m Trial 11 finished with value: 0.6539429936075096 and parameters: {'min_samples_leaf': 50, 'max_depth': 21}. Best is trial 11 with value: 0.6539429936075096.\u001b[0m\n",
      "\u001b[32m[I 2021-11-16 14:45:52,002]\u001b[0m Trial 12 finished with value: 0.6329505930087189 and parameters: {'min_samples_leaf': 52, 'max_depth': 21}. Best is trial 11 with value: 0.6539429936075096.\u001b[0m\n",
      "\u001b[32m[I 2021-11-16 14:45:53,105]\u001b[0m Trial 13 finished with value: 0.6530281166252309 and parameters: {'min_samples_leaf': 50, 'max_depth': 24}. Best is trial 11 with value: 0.6539429936075096.\u001b[0m\n",
      "\u001b[32m[I 2021-11-16 14:45:54,126]\u001b[0m Trial 14 finished with value: 0.6038561122721695 and parameters: {'min_samples_leaf': 55, 'max_depth': 24}. Best is trial 11 with value: 0.6539429936075096.\u001b[0m\n",
      "\u001b[32m[I 2021-11-16 14:45:55,199]\u001b[0m Trial 15 finished with value: 0.6584975678273535 and parameters: {'min_samples_leaf': 50, 'max_depth': 22}. Best is trial 15 with value: 0.6584975678273535.\u001b[0m\n",
      "\u001b[32m[I 2021-11-16 14:45:56,256]\u001b[0m Trial 16 finished with value: 0.5675829716537268 and parameters: {'min_samples_leaf': 59, 'max_depth': 21}. Best is trial 15 with value: 0.6584975678273535.\u001b[0m\n",
      "\u001b[32m[I 2021-11-16 14:45:57,323]\u001b[0m Trial 17 finished with value: 0.5911662084919312 and parameters: {'min_samples_leaf': 56, 'max_depth': 20}. Best is trial 15 with value: 0.6584975678273535.\u001b[0m\n",
      "\u001b[32m[I 2021-11-16 14:45:58,452]\u001b[0m Trial 18 finished with value: 0.6185390553824824 and parameters: {'min_samples_leaf': 53, 'max_depth': 22}. Best is trial 15 with value: 0.6584975678273535.\u001b[0m\n",
      "\u001b[32m[I 2021-11-16 14:45:59,645]\u001b[0m Trial 19 finished with value: 0.6243384585254503 and parameters: {'min_samples_leaf': 53, 'max_depth': 22}. Best is trial 15 with value: 0.6584975678273535.\u001b[0m\n"
     ]
    },
    {
     "data": {
      "text/plain": [
       "{'min_samples_leaf': 50, 'max_depth': 22}"
      ]
     },
     "execution_count": 10,
     "metadata": {},
     "output_type": "execute_result"
    }
   ],
   "source": [
    "tuning_hyperparams(\n",
    "        df=df_boston,\n",
    "        target=\"target\",\n",
    "        parameters=param_RF,\n",
    "        algorithm=RandomForestRegressor,\n",
    "        metric=mean_squared_log_error,\n",
    "        scoring_option=\"maximize\",\n",
    "        n_trials=20,\n",
    "    )"
   ]
  },
  {
   "cell_type": "code",
   "execution_count": null,
   "id": "52c55a19",
   "metadata": {},
   "outputs": [],
   "source": []
  }
 ],
 "metadata": {
  "kernelspec": {
   "display_name": "3.8.2 (base)",
   "language": "python",
   "name": "pyenv-382"
  },
  "language_info": {
   "codemirror_mode": {
    "name": "ipython",
    "version": 3
   },
   "file_extension": ".py",
   "mimetype": "text/x-python",
   "name": "python",
   "nbconvert_exporter": "python",
   "pygments_lexer": "ipython3",
   "version": "3.8.8"
  }
 },
 "nbformat": 4,
 "nbformat_minor": 5
}
