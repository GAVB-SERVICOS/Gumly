{
 "cells": [
  {
   "cell_type": "code",
   "execution_count": null,
   "id": "ecb98149",
   "metadata": {},
   "outputs": [],
   "source": [
    "!pip install --force-reinstall C:\\Users\\lucasrc\\Documents\\Codes\\mlutils\\dist\\mlutils-1.0.0-py3-none-any.whl"
   ]
  },
  {
   "cell_type": "markdown",
   "id": "36a112b3",
   "metadata": {},
   "source": [
    "## 1.0 Introduction"
   ]
  },
  {
   "cell_type": "markdown",
   "id": "3330c2c6",
   "metadata": {},
   "source": [
    "The main objective of this feature is to implement the use of tuning hyperparameters process for the development of Machine Learning models. The tutorial consists of the use of iris and boston datasets from sklearn Datasets, where the Data Scientists can choose the parameters to be tested for the method that is a wrapper of optuna opimization framework.\n",
    "\n",
    "The params to be chosen are:\n",
    "- df: DataFrame pandas\n",
    "- target: target variable\n",
    "- parameters: Dict that contains all the threshold given for optimization testing\n",
    "- algorithm: Machine Learning algorithm used for fit the model (eg: RandomForestClassifier, RandomForestRegressor)\n",
    "- metric: Metric used for the evaluation of the tests (eg: accuracy_score, r2)\n",
    "- scoring_option: Maximize or minimize objectives\n",
    "-  n_trials: The of trials that the framework must perform"
   ]
  },
  {
   "cell_type": "markdown",
   "id": "7cc43d17",
   "metadata": {},
   "source": [
    "## 2.0 Import modules"
   ]
  },
  {
   "cell_type": "code",
<<<<<<< HEAD
   "execution_count": 5,
=======
   "execution_count": null,
   "id": "0db300e7",
   "metadata": {},
   "outputs": [],
   "source": [
    "!pip install mlutils"
   ]
  },
  {
   "cell_type": "code",
   "execution_count": 1,
>>>>>>> b4a0fe51c816734105f027e7691070dd7e00c469
   "id": "3cf9e6df",
   "metadata": {},
   "outputs": [],
   "source": [
    "import pandas as pd\n",
    "from sklearn import datasets\n",
    "from sklearn.ensemble import RandomForestClassifier\n",
    "from sklearn.ensemble import RandomForestRegressor\n",
    "from sklearn.metrics import accuracy_score\n",
    "from sklearn.metrics import mean_absolute_error\n",
    "from mlutils.tuning_hyperparams import tuning_hyperparams"
   ]
  },
  {
   "cell_type": "markdown",
   "id": "8b4bf44c",
   "metadata": {},
   "source": [
    "## 3.0 Gathering the datasets"
   ]
  },
  {
   "cell_type": "code",
<<<<<<< HEAD
   "execution_count": 8,
   "id": "a783239d",
=======
   "execution_count": 2,
   "id": "1c50aff6",
>>>>>>> b4a0fe51c816734105f027e7691070dd7e00c469
   "metadata": {},
   "outputs": [
    {
     "data": {
      "text/html": [
       "<div>\n",
       "<style scoped>\n",
       "    .dataframe tbody tr th:only-of-type {\n",
       "        vertical-align: middle;\n",
       "    }\n",
       "\n",
       "    .dataframe tbody tr th {\n",
       "        vertical-align: top;\n",
       "    }\n",
       "\n",
       "    .dataframe thead th {\n",
       "        text-align: right;\n",
       "    }\n",
       "</style>\n",
       "<table border=\"1\" class=\"dataframe\">\n",
       "  <thead>\n",
       "    <tr style=\"text-align: right;\">\n",
       "      <th></th>\n",
       "      <th>sepal length (cm)</th>\n",
       "      <th>sepal width (cm)</th>\n",
       "      <th>petal length (cm)</th>\n",
       "      <th>petal width (cm)</th>\n",
       "      <th>target</th>\n",
       "    </tr>\n",
       "  </thead>\n",
       "  <tbody>\n",
       "    <tr>\n",
       "      <th>0</th>\n",
       "      <td>5.1</td>\n",
       "      <td>3.5</td>\n",
       "      <td>1.4</td>\n",
       "      <td>0.2</td>\n",
       "      <td>0</td>\n",
       "    </tr>\n",
       "    <tr>\n",
       "      <th>1</th>\n",
       "      <td>4.9</td>\n",
       "      <td>3.0</td>\n",
       "      <td>1.4</td>\n",
       "      <td>0.2</td>\n",
       "      <td>0</td>\n",
       "    </tr>\n",
       "    <tr>\n",
       "      <th>2</th>\n",
       "      <td>4.7</td>\n",
       "      <td>3.2</td>\n",
       "      <td>1.3</td>\n",
       "      <td>0.2</td>\n",
       "      <td>0</td>\n",
       "    </tr>\n",
       "    <tr>\n",
       "      <th>3</th>\n",
       "      <td>4.6</td>\n",
       "      <td>3.1</td>\n",
       "      <td>1.5</td>\n",
       "      <td>0.2</td>\n",
       "      <td>0</td>\n",
       "    </tr>\n",
       "    <tr>\n",
       "      <th>4</th>\n",
       "      <td>5.0</td>\n",
       "      <td>3.6</td>\n",
       "      <td>1.4</td>\n",
       "      <td>0.2</td>\n",
       "      <td>0</td>\n",
       "    </tr>\n",
       "  </tbody>\n",
       "</table>\n",
       "</div>"
      ],
      "text/plain": [
       "   sepal length (cm)  sepal width (cm)  petal length (cm)  petal width (cm)  \\\n",
       "0                5.1               3.5                1.4               0.2   \n",
       "1                4.9               3.0                1.4               0.2   \n",
       "2                4.7               3.2                1.3               0.2   \n",
       "3                4.6               3.1                1.5               0.2   \n",
       "4                5.0               3.6                1.4               0.2   \n",
       "\n",
       "   target  \n",
       "0       0  \n",
       "1       0  \n",
       "2       0  \n",
       "3       0  \n",
       "4       0  "
      ]
     },
     "execution_count": 8,
     "metadata": {},
     "output_type": "execute_result"
    }
   ],
   "source": [
    "# for classification \n",
    "iris_data = datasets.load_iris()\n",
    "df_iris = pd.DataFrame(data=iris_data.data, columns=iris_data.feature_names)\n",
    "df_iris[\"target\"] = iris_data.target\n",
    "df_iris.head()"
   ]
  },
  {
   "cell_type": "code",
<<<<<<< HEAD
   "execution_count": 9,
   "id": "23855c50",
=======
   "execution_count": 3,
   "id": "a783239d",
>>>>>>> b4a0fe51c816734105f027e7691070dd7e00c469
   "metadata": {},
   "outputs": [
    {
     "data": {
      "text/html": [
       "<div>\n",
       "<style scoped>\n",
       "    .dataframe tbody tr th:only-of-type {\n",
       "        vertical-align: middle;\n",
       "    }\n",
       "\n",
       "    .dataframe tbody tr th {\n",
       "        vertical-align: top;\n",
       "    }\n",
       "\n",
       "    .dataframe thead th {\n",
       "        text-align: right;\n",
       "    }\n",
       "</style>\n",
       "<table border=\"1\" class=\"dataframe\">\n",
       "  <thead>\n",
       "    <tr style=\"text-align: right;\">\n",
       "      <th></th>\n",
       "      <th>CRIM</th>\n",
       "      <th>ZN</th>\n",
       "      <th>INDUS</th>\n",
       "      <th>CHAS</th>\n",
       "      <th>NOX</th>\n",
       "      <th>RM</th>\n",
       "      <th>AGE</th>\n",
       "      <th>DIS</th>\n",
       "      <th>RAD</th>\n",
       "      <th>TAX</th>\n",
       "      <th>PTRATIO</th>\n",
       "      <th>B</th>\n",
       "      <th>LSTAT</th>\n",
       "      <th>target</th>\n",
       "    </tr>\n",
       "  </thead>\n",
       "  <tbody>\n",
       "    <tr>\n",
       "      <th>0</th>\n",
       "      <td>0.00632</td>\n",
       "      <td>18.0</td>\n",
       "      <td>2.31</td>\n",
       "      <td>0.0</td>\n",
       "      <td>0.538</td>\n",
       "      <td>6.575</td>\n",
       "      <td>65.2</td>\n",
       "      <td>4.0900</td>\n",
       "      <td>1.0</td>\n",
       "      <td>296.0</td>\n",
       "      <td>15.3</td>\n",
       "      <td>396.90</td>\n",
       "      <td>4.98</td>\n",
       "      <td>24.0</td>\n",
       "    </tr>\n",
       "    <tr>\n",
       "      <th>1</th>\n",
       "      <td>0.02731</td>\n",
       "      <td>0.0</td>\n",
       "      <td>7.07</td>\n",
       "      <td>0.0</td>\n",
       "      <td>0.469</td>\n",
       "      <td>6.421</td>\n",
       "      <td>78.9</td>\n",
       "      <td>4.9671</td>\n",
       "      <td>2.0</td>\n",
       "      <td>242.0</td>\n",
       "      <td>17.8</td>\n",
       "      <td>396.90</td>\n",
       "      <td>9.14</td>\n",
       "      <td>21.6</td>\n",
       "    </tr>\n",
       "    <tr>\n",
       "      <th>2</th>\n",
       "      <td>0.02729</td>\n",
       "      <td>0.0</td>\n",
       "      <td>7.07</td>\n",
       "      <td>0.0</td>\n",
       "      <td>0.469</td>\n",
       "      <td>7.185</td>\n",
       "      <td>61.1</td>\n",
       "      <td>4.9671</td>\n",
       "      <td>2.0</td>\n",
       "      <td>242.0</td>\n",
       "      <td>17.8</td>\n",
       "      <td>392.83</td>\n",
       "      <td>4.03</td>\n",
       "      <td>34.7</td>\n",
       "    </tr>\n",
       "    <tr>\n",
       "      <th>3</th>\n",
       "      <td>0.03237</td>\n",
       "      <td>0.0</td>\n",
       "      <td>2.18</td>\n",
       "      <td>0.0</td>\n",
       "      <td>0.458</td>\n",
       "      <td>6.998</td>\n",
       "      <td>45.8</td>\n",
       "      <td>6.0622</td>\n",
       "      <td>3.0</td>\n",
       "      <td>222.0</td>\n",
       "      <td>18.7</td>\n",
       "      <td>394.63</td>\n",
       "      <td>2.94</td>\n",
       "      <td>33.4</td>\n",
       "    </tr>\n",
       "    <tr>\n",
       "      <th>4</th>\n",
       "      <td>0.06905</td>\n",
       "      <td>0.0</td>\n",
       "      <td>2.18</td>\n",
       "      <td>0.0</td>\n",
       "      <td>0.458</td>\n",
       "      <td>7.147</td>\n",
       "      <td>54.2</td>\n",
       "      <td>6.0622</td>\n",
       "      <td>3.0</td>\n",
       "      <td>222.0</td>\n",
       "      <td>18.7</td>\n",
       "      <td>396.90</td>\n",
       "      <td>5.33</td>\n",
       "      <td>36.2</td>\n",
       "    </tr>\n",
       "  </tbody>\n",
       "</table>\n",
       "</div>"
      ],
      "text/plain": [
       "      CRIM    ZN  INDUS  CHAS    NOX     RM   AGE     DIS  RAD    TAX  \\\n",
       "0  0.00632  18.0   2.31   0.0  0.538  6.575  65.2  4.0900  1.0  296.0   \n",
       "1  0.02731   0.0   7.07   0.0  0.469  6.421  78.9  4.9671  2.0  242.0   \n",
       "2  0.02729   0.0   7.07   0.0  0.469  7.185  61.1  4.9671  2.0  242.0   \n",
       "3  0.03237   0.0   2.18   0.0  0.458  6.998  45.8  6.0622  3.0  222.0   \n",
       "4  0.06905   0.0   2.18   0.0  0.458  7.147  54.2  6.0622  3.0  222.0   \n",
       "\n",
       "   PTRATIO       B  LSTAT  target  \n",
       "0     15.3  396.90   4.98    24.0  \n",
       "1     17.8  396.90   9.14    21.6  \n",
       "2     17.8  392.83   4.03    34.7  \n",
       "3     18.7  394.63   2.94    33.4  \n",
       "4     18.7  396.90   5.33    36.2  "
      ]
     },
     "execution_count": 9,
     "metadata": {},
     "output_type": "execute_result"
    }
   ],
   "source": [
    "# for regression\n",
    "boston_data = datasets.load_boston()\n",
    "df_boston = pd.DataFrame(boston_data.data, columns=boston_data.feature_names)\n",
    "df_boston[\"target\"] = boston_data.target\n",
    "df_boston.head()"
   ]
  },
  {
   "cell_type": "markdown",
   "id": "b5d6ce0a",
   "metadata": {},
   "source": [
    "## 4.0 Running tuning hyperparams for classification model"
   ]
  },
  {
   "cell_type": "code",
<<<<<<< HEAD
   "execution_count": 7,
=======
   "execution_count": 4,
>>>>>>> b4a0fe51c816734105f027e7691070dd7e00c469
   "id": "ff253985",
   "metadata": {
    "scrolled": false
   },
   "outputs": [
    {
     "name": "stderr",
     "output_type": "stream",
     "text": [
<<<<<<< HEAD
      "\u001b[32m[I 2021-12-02 15:50:40,664]\u001b[0m A new study created in memory with name: no-name-a64eb0f3-fa34-42d9-a393-9109ce1452b5\u001b[0m\n",
      "\u001b[32m[I 2021-12-02 15:50:41,449]\u001b[0m Trial 0 finished with value: 0.22666666666666666 and parameters: {'min_samples_leaf': 59, 'max_depth': 24}. Best is trial 0 with value: 0.22666666666666666.\u001b[0m\n",
      "\u001b[32m[I 2021-12-02 15:50:42,237]\u001b[0m Trial 1 finished with value: 0.22000000000000003 and parameters: {'min_samples_leaf': 69, 'max_depth': 19}. Best is trial 0 with value: 0.22666666666666666.\u001b[0m\n",
      "\u001b[32m[I 2021-12-02 15:50:42,998]\u001b[0m Trial 2 finished with value: 0.23333333333333334 and parameters: {'min_samples_leaf': 54, 'max_depth': 14}. Best is trial 2 with value: 0.23333333333333334.\u001b[0m\n",
      "\u001b[32m[I 2021-12-02 15:50:43,755]\u001b[0m Trial 3 finished with value: 0.22000000000000003 and parameters: {'min_samples_leaf': 51, 'max_depth': 23}. Best is trial 2 with value: 0.23333333333333334.\u001b[0m\n",
      "\u001b[32m[I 2021-12-02 15:50:44,504]\u001b[0m Trial 4 finished with value: 0.22666666666666666 and parameters: {'min_samples_leaf': 65, 'max_depth': 21}. Best is trial 2 with value: 0.23333333333333334.\u001b[0m\n",
      "\u001b[32m[I 2021-12-02 15:50:45,249]\u001b[0m Trial 5 finished with value: 0.22666666666666666 and parameters: {'min_samples_leaf': 50, 'max_depth': 24}. Best is trial 2 with value: 0.23333333333333334.\u001b[0m\n",
      "\u001b[32m[I 2021-12-02 15:50:46,006]\u001b[0m Trial 6 finished with value: 0.22000000000000003 and parameters: {'min_samples_leaf': 71, 'max_depth': 14}. Best is trial 2 with value: 0.23333333333333334.\u001b[0m\n",
      "\u001b[32m[I 2021-12-02 15:50:46,836]\u001b[0m Trial 7 finished with value: 0.22000000000000003 and parameters: {'min_samples_leaf': 54, 'max_depth': 14}. Best is trial 2 with value: 0.23333333333333334.\u001b[0m\n",
      "\u001b[32m[I 2021-12-02 15:50:47,615]\u001b[0m Trial 8 finished with value: 0.22000000000000003 and parameters: {'min_samples_leaf': 57, 'max_depth': 18}. Best is trial 2 with value: 0.23333333333333334.\u001b[0m\n",
      "\u001b[32m[I 2021-12-02 15:50:48,387]\u001b[0m Trial 9 finished with value: 0.22666666666666666 and parameters: {'min_samples_leaf': 61, 'max_depth': 15}. Best is trial 2 with value: 0.23333333333333334.\u001b[0m\n",
      "\u001b[32m[I 2021-12-02 15:50:49,089]\u001b[0m Trial 10 finished with value: 0.22666666666666666 and parameters: {'min_samples_leaf': 65, 'max_depth': 13}. Best is trial 2 with value: 0.23333333333333334.\u001b[0m\n",
      "\u001b[32m[I 2021-12-02 15:50:49,854]\u001b[0m Trial 11 finished with value: 0.23333333333333334 and parameters: {'min_samples_leaf': 57, 'max_depth': 16}. Best is trial 2 with value: 0.23333333333333334.\u001b[0m\n",
      "\u001b[32m[I 2021-12-02 15:50:50,642]\u001b[0m Trial 12 finished with value: 0.22000000000000003 and parameters: {'min_samples_leaf': 61, 'max_depth': 22}. Best is trial 2 with value: 0.23333333333333334.\u001b[0m\n",
      "\u001b[32m[I 2021-12-02 15:50:51,452]\u001b[0m Trial 13 finished with value: 0.22000000000000003 and parameters: {'min_samples_leaf': 55, 'max_depth': 18}. Best is trial 2 with value: 0.23333333333333334.\u001b[0m\n",
      "\u001b[32m[I 2021-12-02 15:50:52,239]\u001b[0m Trial 14 finished with value: 0.22000000000000003 and parameters: {'min_samples_leaf': 65, 'max_depth': 12}. Best is trial 2 with value: 0.23333333333333334.\u001b[0m\n",
      "\u001b[32m[I 2021-12-02 15:50:53,035]\u001b[0m Trial 15 finished with value: 0.22000000000000003 and parameters: {'min_samples_leaf': 65, 'max_depth': 14}. Best is trial 2 with value: 0.23333333333333334.\u001b[0m\n",
      "\u001b[32m[I 2021-12-02 15:50:53,825]\u001b[0m Trial 16 finished with value: 0.22000000000000003 and parameters: {'min_samples_leaf': 51, 'max_depth': 24}. Best is trial 2 with value: 0.23333333333333334.\u001b[0m\n",
      "\u001b[32m[I 2021-12-02 15:50:54,593]\u001b[0m Trial 17 finished with value: 0.22666666666666666 and parameters: {'min_samples_leaf': 75, 'max_depth': 22}. Best is trial 2 with value: 0.23333333333333334.\u001b[0m\n",
      "\u001b[32m[I 2021-12-02 15:50:55,338]\u001b[0m Trial 18 finished with value: 0.22000000000000003 and parameters: {'min_samples_leaf': 57, 'max_depth': 13}. Best is trial 2 with value: 0.23333333333333334.\u001b[0m\n",
      "\u001b[32m[I 2021-12-02 15:50:56,120]\u001b[0m Trial 19 finished with value: 0.22000000000000003 and parameters: {'min_samples_leaf': 67, 'max_depth': 17}. Best is trial 2 with value: 0.23333333333333334.\u001b[0m\n"
=======
      "\u001b[32m[I 2021-11-30 17:30:20,326]\u001b[0m A new study created in memory with name: no-name-d48a37cd-880b-4bb7-958a-4f2086d06f3a\u001b[0m\n",
      "\u001b[32m[I 2021-11-30 17:30:20,947]\u001b[0m Trial 0 finished with value: 0.22666666666666666 and parameters: {'min_samples_leaf': 59, 'max_depth': 24}. Best is trial 0 with value: 0.22666666666666666.\u001b[0m\n",
      "\u001b[32m[I 2021-11-30 17:30:21,575]\u001b[0m Trial 1 finished with value: 0.22666666666666666 and parameters: {'min_samples_leaf': 69, 'max_depth': 19}. Best is trial 0 with value: 0.22666666666666666.\u001b[0m\n",
      "\u001b[32m[I 2021-11-30 17:30:22,203]\u001b[0m Trial 2 finished with value: 0.23333333333333334 and parameters: {'min_samples_leaf': 54, 'max_depth': 14}. Best is trial 2 with value: 0.23333333333333334.\u001b[0m\n",
      "\u001b[32m[I 2021-11-30 17:30:22,800]\u001b[0m Trial 3 finished with value: 0.22666666666666666 and parameters: {'min_samples_leaf': 51, 'max_depth': 23}. Best is trial 2 with value: 0.23333333333333334.\u001b[0m\n",
      "\u001b[32m[I 2021-11-30 17:30:23,392]\u001b[0m Trial 4 finished with value: 0.22000000000000003 and parameters: {'min_samples_leaf': 65, 'max_depth': 21}. Best is trial 2 with value: 0.23333333333333334.\u001b[0m\n",
      "\u001b[32m[I 2021-11-30 17:30:23,991]\u001b[0m Trial 5 finished with value: 0.22666666666666666 and parameters: {'min_samples_leaf': 50, 'max_depth': 24}. Best is trial 2 with value: 0.23333333333333334.\u001b[0m\n",
      "\u001b[32m[I 2021-11-30 17:30:24,597]\u001b[0m Trial 6 finished with value: 0.22000000000000003 and parameters: {'min_samples_leaf': 71, 'max_depth': 14}. Best is trial 2 with value: 0.23333333333333334.\u001b[0m\n",
      "\u001b[32m[I 2021-11-30 17:30:25,217]\u001b[0m Trial 7 finished with value: 0.22666666666666666 and parameters: {'min_samples_leaf': 54, 'max_depth': 14}. Best is trial 2 with value: 0.23333333333333334.\u001b[0m\n",
      "\u001b[32m[I 2021-11-30 17:30:25,845]\u001b[0m Trial 8 finished with value: 0.24 and parameters: {'min_samples_leaf': 57, 'max_depth': 18}. Best is trial 8 with value: 0.24.\u001b[0m\n",
      "\u001b[32m[I 2021-11-30 17:30:26,454]\u001b[0m Trial 9 finished with value: 0.22666666666666666 and parameters: {'min_samples_leaf': 61, 'max_depth': 15}. Best is trial 8 with value: 0.24.\u001b[0m\n",
      "\u001b[32m[I 2021-11-30 17:30:27,069]\u001b[0m Trial 10 finished with value: 0.22666666666666666 and parameters: {'min_samples_leaf': 65, 'max_depth': 13}. Best is trial 8 with value: 0.24.\u001b[0m\n",
      "\u001b[32m[I 2021-11-30 17:30:27,658]\u001b[0m Trial 11 finished with value: 0.22000000000000003 and parameters: {'min_samples_leaf': 57, 'max_depth': 16}. Best is trial 8 with value: 0.24.\u001b[0m\n",
      "\u001b[32m[I 2021-11-30 17:30:28,250]\u001b[0m Trial 12 finished with value: 0.22000000000000003 and parameters: {'min_samples_leaf': 61, 'max_depth': 22}. Best is trial 8 with value: 0.24.\u001b[0m\n",
      "\u001b[32m[I 2021-11-30 17:30:28,839]\u001b[0m Trial 13 finished with value: 0.24 and parameters: {'min_samples_leaf': 55, 'max_depth': 18}. Best is trial 8 with value: 0.24.\u001b[0m\n",
      "\u001b[32m[I 2021-11-30 17:30:29,461]\u001b[0m Trial 14 finished with value: 0.22000000000000003 and parameters: {'min_samples_leaf': 65, 'max_depth': 12}. Best is trial 8 with value: 0.24.\u001b[0m\n",
      "\u001b[32m[I 2021-11-30 17:30:30,080]\u001b[0m Trial 15 finished with value: 0.22000000000000003 and parameters: {'min_samples_leaf': 65, 'max_depth': 14}. Best is trial 8 with value: 0.24.\u001b[0m\n",
      "\u001b[32m[I 2021-11-30 17:30:30,672]\u001b[0m Trial 16 finished with value: 0.22000000000000003 and parameters: {'min_samples_leaf': 51, 'max_depth': 24}. Best is trial 8 with value: 0.24.\u001b[0m\n",
      "\u001b[32m[I 2021-11-30 17:30:31,262]\u001b[0m Trial 17 finished with value: 0.22000000000000003 and parameters: {'min_samples_leaf': 75, 'max_depth': 22}. Best is trial 8 with value: 0.24.\u001b[0m\n",
      "\u001b[32m[I 2021-11-30 17:30:31,849]\u001b[0m Trial 18 finished with value: 0.22666666666666666 and parameters: {'min_samples_leaf': 57, 'max_depth': 13}. Best is trial 8 with value: 0.24.\u001b[0m\n",
      "\u001b[32m[I 2021-11-30 17:30:32,438]\u001b[0m Trial 19 finished with value: 0.22000000000000003 and parameters: {'min_samples_leaf': 67, 'max_depth': 17}. Best is trial 8 with value: 0.24.\u001b[0m\n",
      "\u001b[32m[I 2021-11-30 17:30:33,043]\u001b[0m Trial 20 finished with value: 0.22666666666666666 and parameters: {'min_samples_leaf': 53, 'max_depth': 18}. Best is trial 8 with value: 0.24.\u001b[0m\n",
      "\u001b[32m[I 2021-11-30 17:30:33,683]\u001b[0m Trial 21 finished with value: 0.23333333333333334 and parameters: {'min_samples_leaf': 50, 'max_depth': 23}. Best is trial 8 with value: 0.24.\u001b[0m\n",
      "\u001b[32m[I 2021-11-30 17:30:34,300]\u001b[0m Trial 22 finished with value: 0.22000000000000003 and parameters: {'min_samples_leaf': 56, 'max_depth': 20}. Best is trial 8 with value: 0.24.\u001b[0m\n",
      "\u001b[32m[I 2021-11-30 17:30:34,948]\u001b[0m Trial 23 finished with value: 0.22666666666666666 and parameters: {'min_samples_leaf': 58, 'max_depth': 18}. Best is trial 8 with value: 0.24.\u001b[0m\n",
      "\u001b[32m[I 2021-11-30 17:30:35,563]\u001b[0m Trial 24 finished with value: 0.22666666666666666 and parameters: {'min_samples_leaf': 64, 'max_depth': 14}. Best is trial 8 with value: 0.24.\u001b[0m\n",
      "\u001b[32m[I 2021-11-30 17:30:36,155]\u001b[0m Trial 25 finished with value: 0.22000000000000003 and parameters: {'min_samples_leaf': 75, 'max_depth': 22}. Best is trial 8 with value: 0.24.\u001b[0m\n",
      "\u001b[32m[I 2021-11-30 17:30:36,751]\u001b[0m Trial 26 finished with value: 0.22000000000000003 and parameters: {'min_samples_leaf': 74, 'max_depth': 23}. Best is trial 8 with value: 0.24.\u001b[0m\n",
      "\u001b[32m[I 2021-11-30 17:30:37,362]\u001b[0m Trial 27 finished with value: 0.22666666666666666 and parameters: {'min_samples_leaf': 65, 'max_depth': 23}. Best is trial 8 with value: 0.24.\u001b[0m\n",
      "\u001b[32m[I 2021-11-30 17:30:38,015]\u001b[0m Trial 28 finished with value: 0.22000000000000003 and parameters: {'min_samples_leaf': 52, 'max_depth': 14}. Best is trial 8 with value: 0.24.\u001b[0m\n",
      "\u001b[32m[I 2021-11-30 17:30:38,638]\u001b[0m Trial 29 finished with value: 0.22000000000000003 and parameters: {'min_samples_leaf': 51, 'max_depth': 16}. Best is trial 8 with value: 0.24.\u001b[0m\n"
>>>>>>> b4a0fe51c816734105f027e7691070dd7e00c469
     ]
    },
    {
     "data": {
      "text/plain": [
<<<<<<< HEAD
       "{'min_samples_leaf': 54, 'max_depth': 14}"
      ]
     },
     "execution_count": 7,
=======
       "{'min_samples_leaf': 57, 'max_depth': 18}"
      ]
     },
     "execution_count": 4,
>>>>>>> b4a0fe51c816734105f027e7691070dd7e00c469
     "metadata": {},
     "output_type": "execute_result"
    }
   ],
   "source": [
    "tuning_hyperparams(\n",
    "        df=df_iris,\n",
    "        target=\"target\",\n",
    "        parameters=[\n",
    "        {\"name\": \"min_samples_leaf\", \"type\": \"Integer\", \"low\": 50, \"high\": 75},\n",
    "        {\"name\": \"max_depth\", \"type\": \"Integer\", \"low\": 12, \"high\": 24},\n",
    "    ],\n",
    "        algorithm=RandomForestClassifier,\n",
    "        metric=accuracy_score,\n",
    "        scoring_option=\"maximize\",\n",
    "        n_trials=20,\n",
    "    )"
   ]
  },
  {
   "cell_type": "markdown",
<<<<<<< HEAD
=======
   "id": "b4672642",
   "metadata": {},
   "source": [
    "## 4.0 Selecting Colums, Params RF and import Algorithm and Metrics for Regressor Model"
   ]
  },
  {
   "cell_type": "code",
   "execution_count": 5,
   "id": "e02f623c",
   "metadata": {},
   "outputs": [],
   "source": [
    "from sklearn.ensemble import RandomForestRegressor\n",
    "from sklearn.metrics import mean_absolute_error"
   ]
  },
  {
   "cell_type": "code",
   "execution_count": 6,
   "id": "bc13f01b",
   "metadata": {},
   "outputs": [
    {
     "name": "stderr",
     "output_type": "stream",
     "text": [
      "/home/diego.fan/.local/lib/python3.8/site-packages/sklearn/utils/deprecation.py:87: FutureWarning: Function load_boston is deprecated; `load_boston` is deprecated in 1.0 and will be removed in 1.2.\n",
      "\n",
      "    The Boston housing prices dataset has an ethical problem. You can refer to\n",
      "    the documentation of this function for further details.\n",
      "\n",
      "    The scikit-learn maintainers therefore strongly discourage the use of this\n",
      "    dataset unless the purpose of the code is to study and educate about\n",
      "    ethical issues in data science and machine learning.\n",
      "\n",
      "    In this special case, you can fetch the dataset from the original\n",
      "    source::\n",
      "\n",
      "        import pandas as pd\n",
      "        import numpy as np\n",
      "\n",
      "\n",
      "        data_url = \"http://lib.stat.cmu.edu/datasets/boston\"\n",
      "        raw_df = pd.read_csv(data_url, sep=\"\\s+\", skiprows=22, header=None)\n",
      "        data = np.hstack([raw_df.values[::2, :], raw_df.values[1::2, :2]])\n",
      "        target = raw_df.values[1::2, 2]\n",
      "\n",
      "    Alternative datasets include the California housing dataset (i.e.\n",
      "    :func:`~sklearn.datasets.fetch_california_housing`) and the Ames housing\n",
      "    dataset. You can load the datasets as follows::\n",
      "\n",
      "        from sklearn.datasets import fetch_california_housing\n",
      "        housing = fetch_california_housing()\n",
      "\n",
      "    for the California housing dataset and::\n",
      "\n",
      "        from sklearn.datasets import fetch_openml\n",
      "        housing = fetch_openml(name=\"house_prices\", as_frame=True)\n",
      "\n",
      "    for the Ames housing dataset.\n",
      "    \n",
      "  warnings.warn(msg, category=FutureWarning)\n"
     ]
    }
   ],
   "source": [
    "boston_data = datasets.load_boston()\n",
    "df_boston = pd.DataFrame(boston_data.data, columns=boston_data.feature_names)\n",
    "df_boston[\"target\"] = boston_data.target\n",
    "\n",
    "param_RF = [\n",
    "        {\"name\": \"min_samples_leaf\", \"type\": \"Integer\", \"low\": 50, \"high\": 75},\n",
    "        {\"name\": \"max_depth\", \"type\": \"Integer\", \"low\": 12, \"high\": 24},\n",
    "    ]"
   ]
  },
  {
   "cell_type": "markdown",
>>>>>>> b4a0fe51c816734105f027e7691070dd7e00c469
   "id": "8771b293",
   "metadata": {},
   "source": [
    "## 5.0 Running tuning hyperparams for regression model"
   ]
  },
  {
   "cell_type": "code",
<<<<<<< HEAD
   "execution_count": 10,
=======
   "execution_count": 7,
>>>>>>> b4a0fe51c816734105f027e7691070dd7e00c469
   "id": "de5bf787",
   "metadata": {},
   "outputs": [
    {
     "name": "stderr",
     "output_type": "stream",
     "text": [
<<<<<<< HEAD
      "\u001b[32m[I 2021-12-02 15:53:51,656]\u001b[0m A new study created in memory with name: no-name-1a92ca0e-c40b-4473-b7fc-c06282fda408\u001b[0m\n",
      "\u001b[32m[I 2021-12-02 15:53:52,755]\u001b[0m Trial 0 finished with value: 3.934712910316242 and parameters: {'min_samples_leaf': 59, 'max_depth': 24}. Best is trial 0 with value: 3.934712910316242.\u001b[0m\n",
      "\u001b[32m[I 2021-12-02 15:53:53,668]\u001b[0m Trial 1 finished with value: 4.380138278591843 and parameters: {'min_samples_leaf': 69, 'max_depth': 19}. Best is trial 0 with value: 3.934712910316242.\u001b[0m\n",
      "\u001b[32m[I 2021-12-02 15:53:54,605]\u001b[0m Trial 2 finished with value: 3.6962152164620776 and parameters: {'min_samples_leaf': 54, 'max_depth': 14}. Best is trial 2 with value: 3.6962152164620776.\u001b[0m\n",
      "\u001b[32m[I 2021-12-02 15:53:55,589]\u001b[0m Trial 3 finished with value: 3.6082649821206525 and parameters: {'min_samples_leaf': 51, 'max_depth': 23}. Best is trial 3 with value: 3.6082649821206525.\u001b[0m\n",
      "\u001b[32m[I 2021-12-02 15:53:56,498]\u001b[0m Trial 4 finished with value: 4.314665346155726 and parameters: {'min_samples_leaf': 65, 'max_depth': 21}. Best is trial 3 with value: 3.6082649821206525.\u001b[0m\n",
      "\u001b[32m[I 2021-12-02 15:53:57,524]\u001b[0m Trial 5 finished with value: 3.6091943561960513 and parameters: {'min_samples_leaf': 50, 'max_depth': 24}. Best is trial 3 with value: 3.6082649821206525.\u001b[0m\n",
      "\u001b[32m[I 2021-12-02 15:53:58,480]\u001b[0m Trial 6 finished with value: 4.40793405435325 and parameters: {'min_samples_leaf': 71, 'max_depth': 14}. Best is trial 3 with value: 3.6082649821206525.\u001b[0m\n",
      "\u001b[32m[I 2021-12-02 15:53:59,460]\u001b[0m Trial 7 finished with value: 3.6649256171725755 and parameters: {'min_samples_leaf': 54, 'max_depth': 14}. Best is trial 3 with value: 3.6082649821206525.\u001b[0m\n",
      "\u001b[32m[I 2021-12-02 15:54:00,420]\u001b[0m Trial 8 finished with value: 3.8422675553525707 and parameters: {'min_samples_leaf': 57, 'max_depth': 18}. Best is trial 3 with value: 3.6082649821206525.\u001b[0m\n",
      "\u001b[32m[I 2021-12-02 15:54:01,334]\u001b[0m Trial 9 finished with value: 4.059314701417921 and parameters: {'min_samples_leaf': 61, 'max_depth': 15}. Best is trial 3 with value: 3.6082649821206525.\u001b[0m\n",
      "\u001b[32m[I 2021-12-02 15:54:02,263]\u001b[0m Trial 10 finished with value: 4.2673286903426435 and parameters: {'min_samples_leaf': 65, 'max_depth': 13}. Best is trial 3 with value: 3.6082649821206525.\u001b[0m\n",
      "\u001b[32m[I 2021-12-02 15:54:03,180]\u001b[0m Trial 11 finished with value: 3.798407747763104 and parameters: {'min_samples_leaf': 57, 'max_depth': 16}. Best is trial 3 with value: 3.6082649821206525.\u001b[0m\n",
      "\u001b[32m[I 2021-12-02 15:54:04,108]\u001b[0m Trial 12 finished with value: 4.05695655922035 and parameters: {'min_samples_leaf': 61, 'max_depth': 22}. Best is trial 3 with value: 3.6082649821206525.\u001b[0m\n",
      "\u001b[32m[I 2021-12-02 15:54:05,772]\u001b[0m Trial 13 finished with value: 3.7222467494628475 and parameters: {'min_samples_leaf': 55, 'max_depth': 18}. Best is trial 3 with value: 3.6082649821206525.\u001b[0m\n",
      "\u001b[32m[I 2021-12-02 15:54:07,566]\u001b[0m Trial 14 finished with value: 4.3010529589596915 and parameters: {'min_samples_leaf': 65, 'max_depth': 12}. Best is trial 3 with value: 3.6082649821206525.\u001b[0m\n",
      "\u001b[32m[I 2021-12-02 15:54:08,662]\u001b[0m Trial 15 finished with value: 4.285399788045865 and parameters: {'min_samples_leaf': 65, 'max_depth': 14}. Best is trial 3 with value: 3.6082649821206525.\u001b[0m\n",
      "\u001b[32m[I 2021-12-02 15:54:09,727]\u001b[0m Trial 16 finished with value: 3.6251252457555254 and parameters: {'min_samples_leaf': 51, 'max_depth': 24}. Best is trial 3 with value: 3.6082649821206525.\u001b[0m\n",
      "\u001b[32m[I 2021-12-02 15:54:10,634]\u001b[0m Trial 17 finished with value: 4.4447493454261195 and parameters: {'min_samples_leaf': 75, 'max_depth': 22}. Best is trial 3 with value: 3.6082649821206525.\u001b[0m\n",
      "\u001b[32m[I 2021-12-02 15:54:11,606]\u001b[0m Trial 18 finished with value: 3.7890634247817347 and parameters: {'min_samples_leaf': 57, 'max_depth': 13}. Best is trial 3 with value: 3.6082649821206525.\u001b[0m\n",
      "\u001b[32m[I 2021-12-02 15:54:12,597]\u001b[0m Trial 19 finished with value: 4.352297543828199 and parameters: {'min_samples_leaf': 67, 'max_depth': 17}. Best is trial 3 with value: 3.6082649821206525.\u001b[0m\n",
      "\u001b[32m[I 2021-12-02 15:54:13,668]\u001b[0m Trial 20 finished with value: 3.6511938585679453 and parameters: {'min_samples_leaf': 53, 'max_depth': 18}. Best is trial 3 with value: 3.6082649821206525.\u001b[0m\n",
      "\u001b[32m[I 2021-12-02 15:54:14,737]\u001b[0m Trial 21 finished with value: 3.555293312869305 and parameters: {'min_samples_leaf': 50, 'max_depth': 23}. Best is trial 21 with value: 3.555293312869305.\u001b[0m\n",
      "\u001b[32m[I 2021-12-02 15:54:15,713]\u001b[0m Trial 22 finished with value: 3.758639953024969 and parameters: {'min_samples_leaf': 56, 'max_depth': 20}. Best is trial 21 with value: 3.555293312869305.\u001b[0m\n",
      "\u001b[32m[I 2021-12-02 15:54:16,683]\u001b[0m Trial 23 finished with value: 3.8600468118474835 and parameters: {'min_samples_leaf': 58, 'max_depth': 18}. Best is trial 21 with value: 3.555293312869305.\u001b[0m\n",
      "\u001b[32m[I 2021-12-02 15:54:17,620]\u001b[0m Trial 24 finished with value: 4.231826114153614 and parameters: {'min_samples_leaf': 64, 'max_depth': 14}. Best is trial 21 with value: 3.555293312869305.\u001b[0m\n",
      "\u001b[32m[I 2021-12-02 15:54:18,582]\u001b[0m Trial 25 finished with value: 4.435170530668808 and parameters: {'min_samples_leaf': 75, 'max_depth': 22}. Best is trial 21 with value: 3.555293312869305.\u001b[0m\n",
      "\u001b[32m[I 2021-12-02 15:54:19,516]\u001b[0m Trial 26 finished with value: 4.423211270901513 and parameters: {'min_samples_leaf': 74, 'max_depth': 23}. Best is trial 21 with value: 3.555293312869305.\u001b[0m\n",
      "\u001b[32m[I 2021-12-02 15:54:20,436]\u001b[0m Trial 27 finished with value: 4.281225540312432 and parameters: {'min_samples_leaf': 65, 'max_depth': 23}. Best is trial 21 with value: 3.555293312869305.\u001b[0m\n",
      "\u001b[32m[I 2021-12-02 15:54:21,384]\u001b[0m Trial 28 finished with value: 3.6205180019954177 and parameters: {'min_samples_leaf': 52, 'max_depth': 14}. Best is trial 21 with value: 3.555293312869305.\u001b[0m\n",
      "\u001b[32m[I 2021-12-02 15:54:22,383]\u001b[0m Trial 29 finished with value: 3.6251988965140334 and parameters: {'min_samples_leaf': 51, 'max_depth': 16}. Best is trial 21 with value: 3.555293312869305.\u001b[0m\n"
=======
      "\u001b[32m[I 2021-11-30 17:30:52,424]\u001b[0m A new study created in memory with name: no-name-c0143203-e4bd-4bb9-aba1-446b485ecf72\u001b[0m\n",
      "\u001b[32m[I 2021-11-30 17:30:53,175]\u001b[0m Trial 0 finished with value: 3.929938583771473 and parameters: {'min_samples_leaf': 59, 'max_depth': 24}. Best is trial 0 with value: 3.929938583771473.\u001b[0m\n",
      "\u001b[32m[I 2021-11-30 17:30:53,904]\u001b[0m Trial 1 finished with value: 4.346571452402723 and parameters: {'min_samples_leaf': 69, 'max_depth': 19}. Best is trial 0 with value: 3.929938583771473.\u001b[0m\n",
      "\u001b[32m[I 2021-11-30 17:30:54,690]\u001b[0m Trial 2 finished with value: 3.6920662261747097 and parameters: {'min_samples_leaf': 54, 'max_depth': 14}. Best is trial 2 with value: 3.6920662261747097.\u001b[0m\n",
      "\u001b[32m[I 2021-11-30 17:30:55,493]\u001b[0m Trial 3 finished with value: 3.6264533489000996 and parameters: {'min_samples_leaf': 51, 'max_depth': 23}. Best is trial 3 with value: 3.6264533489000996.\u001b[0m\n",
      "\u001b[32m[I 2021-11-30 17:30:56,224]\u001b[0m Trial 4 finished with value: 4.296140936212188 and parameters: {'min_samples_leaf': 65, 'max_depth': 21}. Best is trial 3 with value: 3.6264533489000996.\u001b[0m\n",
      "\u001b[32m[I 2021-11-30 17:30:57,023]\u001b[0m Trial 5 finished with value: 3.5553758926587546 and parameters: {'min_samples_leaf': 50, 'max_depth': 24}. Best is trial 5 with value: 3.5553758926587546.\u001b[0m\n",
      "\u001b[32m[I 2021-11-30 17:30:57,742]\u001b[0m Trial 6 finished with value: 4.409927693147798 and parameters: {'min_samples_leaf': 71, 'max_depth': 14}. Best is trial 5 with value: 3.5553758926587546.\u001b[0m\n",
      "\u001b[32m[I 2021-11-30 17:30:58,554]\u001b[0m Trial 7 finished with value: 3.7216521453803133 and parameters: {'min_samples_leaf': 54, 'max_depth': 14}. Best is trial 5 with value: 3.5553758926587546.\u001b[0m\n",
      "\u001b[32m[I 2021-11-30 17:30:59,317]\u001b[0m Trial 8 finished with value: 3.815671282770263 and parameters: {'min_samples_leaf': 57, 'max_depth': 18}. Best is trial 5 with value: 3.5553758926587546.\u001b[0m\n",
      "\u001b[32m[I 2021-11-30 17:31:00,069]\u001b[0m Trial 9 finished with value: 4.052756759572812 and parameters: {'min_samples_leaf': 61, 'max_depth': 15}. Best is trial 5 with value: 3.5553758926587546.\u001b[0m\n",
      "\u001b[32m[I 2021-11-30 17:31:00,802]\u001b[0m Trial 10 finished with value: 4.2996610000329625 and parameters: {'min_samples_leaf': 65, 'max_depth': 13}. Best is trial 5 with value: 3.5553758926587546.\u001b[0m\n",
      "\u001b[32m[I 2021-11-30 17:31:01,577]\u001b[0m Trial 11 finished with value: 3.7672830570456832 and parameters: {'min_samples_leaf': 57, 'max_depth': 16}. Best is trial 5 with value: 3.5553758926587546.\u001b[0m\n",
      "\u001b[32m[I 2021-11-30 17:31:02,348]\u001b[0m Trial 12 finished with value: 4.055310265040146 and parameters: {'min_samples_leaf': 61, 'max_depth': 22}. Best is trial 5 with value: 3.5553758926587546.\u001b[0m\n",
      "\u001b[32m[I 2021-11-30 17:31:03,124]\u001b[0m Trial 13 finished with value: 3.704270520079357 and parameters: {'min_samples_leaf': 55, 'max_depth': 18}. Best is trial 5 with value: 3.5553758926587546.\u001b[0m\n",
      "\u001b[32m[I 2021-11-30 17:31:03,867]\u001b[0m Trial 14 finished with value: 4.289861634212899 and parameters: {'min_samples_leaf': 65, 'max_depth': 12}. Best is trial 5 with value: 3.5553758926587546.\u001b[0m\n",
      "\u001b[32m[I 2021-11-30 17:31:04,601]\u001b[0m Trial 15 finished with value: 4.291146101153934 and parameters: {'min_samples_leaf': 65, 'max_depth': 14}. Best is trial 5 with value: 3.5553758926587546.\u001b[0m\n",
      "\u001b[32m[I 2021-11-30 17:31:05,394]\u001b[0m Trial 16 finished with value: 3.6078721545484256 and parameters: {'min_samples_leaf': 51, 'max_depth': 24}. Best is trial 5 with value: 3.5553758926587546.\u001b[0m\n",
      "\u001b[32m[I 2021-11-30 17:31:06,130]\u001b[0m Trial 17 finished with value: 4.454514889598105 and parameters: {'min_samples_leaf': 75, 'max_depth': 22}. Best is trial 5 with value: 3.5553758926587546.\u001b[0m\n",
      "\u001b[32m[I 2021-11-30 17:31:06,936]\u001b[0m Trial 18 finished with value: 3.8125384296559717 and parameters: {'min_samples_leaf': 57, 'max_depth': 13}. Best is trial 5 with value: 3.5553758926587546.\u001b[0m\n",
      "\u001b[32m[I 2021-11-30 17:31:07,675]\u001b[0m Trial 19 finished with value: 4.3136520083011085 and parameters: {'min_samples_leaf': 67, 'max_depth': 17}. Best is trial 5 with value: 3.5553758926587546.\u001b[0m\n",
      "\u001b[32m[I 2021-11-30 17:31:08,470]\u001b[0m Trial 20 finished with value: 3.654333151703439 and parameters: {'min_samples_leaf': 53, 'max_depth': 18}. Best is trial 5 with value: 3.5553758926587546.\u001b[0m\n",
      "\u001b[32m[I 2021-11-30 17:31:09,286]\u001b[0m Trial 21 finished with value: 3.573174151418255 and parameters: {'min_samples_leaf': 50, 'max_depth': 23}. Best is trial 5 with value: 3.5553758926587546.\u001b[0m\n",
      "\u001b[32m[I 2021-11-30 17:31:10,091]\u001b[0m Trial 22 finished with value: 3.756825545262367 and parameters: {'min_samples_leaf': 56, 'max_depth': 20}. Best is trial 5 with value: 3.5553758926587546.\u001b[0m\n",
      "\u001b[32m[I 2021-11-30 17:31:10,896]\u001b[0m Trial 23 finished with value: 3.8627394903486802 and parameters: {'min_samples_leaf': 58, 'max_depth': 18}. Best is trial 5 with value: 3.5553758926587546.\u001b[0m\n",
      "\u001b[32m[I 2021-11-30 17:31:11,660]\u001b[0m Trial 24 finished with value: 4.250035510589217 and parameters: {'min_samples_leaf': 64, 'max_depth': 14}. Best is trial 5 with value: 3.5553758926587546.\u001b[0m\n",
      "\u001b[32m[I 2021-11-30 17:31:12,392]\u001b[0m Trial 25 finished with value: 4.4618515316717 and parameters: {'min_samples_leaf': 75, 'max_depth': 22}. Best is trial 5 with value: 3.5553758926587546.\u001b[0m\n",
      "\u001b[32m[I 2021-11-30 17:31:13,135]\u001b[0m Trial 26 finished with value: 4.4677352904070755 and parameters: {'min_samples_leaf': 74, 'max_depth': 23}. Best is trial 5 with value: 3.5553758926587546.\u001b[0m\n",
      "\u001b[32m[I 2021-11-30 17:31:13,863]\u001b[0m Trial 27 finished with value: 4.296161994834712 and parameters: {'min_samples_leaf': 65, 'max_depth': 23}. Best is trial 5 with value: 3.5553758926587546.\u001b[0m\n",
      "\u001b[32m[I 2021-11-30 17:31:14,649]\u001b[0m Trial 28 finished with value: 3.6034783492841784 and parameters: {'min_samples_leaf': 52, 'max_depth': 14}. Best is trial 5 with value: 3.5553758926587546.\u001b[0m\n",
      "\u001b[32m[I 2021-11-30 17:31:15,442]\u001b[0m Trial 29 finished with value: 3.5826019591269 and parameters: {'min_samples_leaf': 51, 'max_depth': 16}. Best is trial 5 with value: 3.5553758926587546.\u001b[0m\n"
>>>>>>> b4a0fe51c816734105f027e7691070dd7e00c469
     ]
    },
    {
     "data": {
      "text/plain": [
       "{'min_samples_leaf': 50, 'max_depth': 24}"
      ]
     },
<<<<<<< HEAD
     "execution_count": 10,
=======
     "execution_count": 7,
>>>>>>> b4a0fe51c816734105f027e7691070dd7e00c469
     "metadata": {},
     "output_type": "execute_result"
    }
   ],
   "source": [
    "tuning_hyperparams(\n",
    "        df=df_boston,\n",
    "        target=\"target\",\n",
    "        parameters=param_RF,\n",
    "        algorithm=RandomForestRegressor,\n",
    "        metric=mean_absolute_error,\n",
    "        scoring_option=\"minimize\",\n",
    "        n_trials=30,\n",
    "    )"
   ]
  },
  {
   "cell_type": "markdown",
   "id": "45212dcf",
   "metadata": {},
   "source": [
    "## 6.0 Conclusion and library advantages"
   ]
  },
  {
   "cell_type": "markdown",
   "id": "a760222e",
   "metadata": {},
   "source": [
    "This implementation is an advantage for feature selection process during the development of ML models due to its standardzation. Basically, you are able to run several different methods for feature select only specifying basic hyperparams and the dataFrame to be used. This makes very to run a lot of tests in order to get best set of features for the train/test phase."
   ]
  },
  {
   "cell_type": "markdown",
   "id": "95bfae33",
   "metadata": {},
   "source": [
    "## References"
   ]
  },
  {
   "cell_type": "markdown",
   "id": "657de6c7",
   "metadata": {},
   "source": [
    "[cross_val_score](https://scikit-learn.org/stable/modules/generated/sklearn.model_selection.cross_val_score.html)\n",
    "\n",
    "\n",
    "[KFold](https://scikit-learn.org/stable/modules/generated/sklearn.model_selection.KFold.html?highlight=kfold#sklearn.model_selection.KFold)\n",
    "\n",
    "\n",
    "[optuna](https://optuna.readthedocs.io/en/v0.19.0/)\n",
    "\n",
    "\n",
    "[RandomSampler](https://optuna.readthedocs.io/en/stable/reference/generated/optuna.samplers.RandomSampler.html)\n",
    "\n",
    "\n",
    "[make_scorer](https://scikit-learn.org/stable/modules/generated/sklearn.metrics.make_scorer.html)"
   ]
  },
  {
   "cell_type": "code",
   "execution_count": null,
   "id": "e9628478",
   "metadata": {},
   "outputs": [],
   "source": []
  }
 ],
 "metadata": {
  "kernelspec": {
   "display_name": "Python 3",
   "language": "python",
   "name": "python3"
  },
  "language_info": {
   "codemirror_mode": {
    "name": "ipython",
    "version": 3
   },
   "file_extension": ".py",
   "mimetype": "text/x-python",
   "name": "python",
   "nbconvert_exporter": "python",
   "pygments_lexer": "ipython3",
   "version": "3.8.8"
  }
 },
 "nbformat": 4,
 "nbformat_minor": 5
}
