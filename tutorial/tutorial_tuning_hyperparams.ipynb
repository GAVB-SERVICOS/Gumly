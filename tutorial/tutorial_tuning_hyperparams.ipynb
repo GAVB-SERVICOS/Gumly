{
 "cells": [
  {
   "cell_type": "markdown",
   "id": "38b9befc",
   "metadata": {},
   "source": [
    "# Tuning Hyperparams Tutorial"
   ]
  },
  {
   "cell_type": "markdown",
   "id": "fb96c212",
   "metadata": {},
   "source": [
    "## 1.0 Objetivo da Função.\n",
    "\n",
    "Otimizar a métrica de ajuste e mostrar qual seria o resultado melhor para o modelo."
   ]
  },
  {
   "cell_type": "markdown",
   "id": "7cc43d17",
   "metadata": {},
   "source": [
    "## 2.0 Importes das Bibliotecas"
   ]
  },
  {
   "cell_type": "code",
   "execution_count": null,
   "id": "0db300e7",
   "metadata": {},
   "outputs": [],
   "source": [
    "!pip install mlutils"
   ]
  },
  {
   "cell_type": "code",
   "execution_count": 3,
   "id": "3cf9e6df",
   "metadata": {},
   "outputs": [],
   "source": [
    "from optuna.samplers import RandomSampler\n",
    "from sklearn.metrics import make_scorer\n",
    "from sklearn.ensemble import *\n",
    "from sklearn.metrics import *\n",
    "from mlutils.tuning_hyperparams import *\n",
    "from mlutils.feature_engineering import *"
   ]
  },
  {
   "cell_type": "markdown",
   "id": "36d05fd3",
   "metadata": {},
   "source": [
    "## 3.0 Input e Output"
   ]
  },
  {
   "cell_type": "markdown",
   "id": "8b4bf44c",
   "metadata": {},
   "source": [
    "## 3.1 Exemplo do output Para Modelo de Classificação "
   ]
  },
  {
   "cell_type": "code",
   "execution_count": 4,
   "id": "1c50aff6",
   "metadata": {},
   "outputs": [],
   "source": [
    "import pandas as pd\n",
    "from sklearn import datasets"
   ]
  },
  {
   "cell_type": "code",
   "execution_count": 5,
   "id": "a783239d",
   "metadata": {},
   "outputs": [],
   "source": [
    "iris_data = datasets.load_iris()\n",
    "df_iris = pd.DataFrame(data=iris_data.data, columns=iris_data.feature_names)\n",
    "df_iris[\"target\"] = iris_data.target\n",
    "\n",
    "param_RF = [\n",
    "        {\"name\": \"min_samples_leaf\", \"type\": \"Integer\", \"low\": 50, \"high\": 75},\n",
    "        {\"name\": \"max_depth\", \"type\": \"Integer\", \"low\": 12, \"high\": 24},\n",
    "    ]\n"
   ]
  },
  {
   "cell_type": "code",
   "execution_count": 6,
   "id": "ff253985",
   "metadata": {
    "scrolled": false
   },
   "outputs": [
    {
     "name": "stderr",
     "output_type": "stream",
     "text": [
      "\u001b[32m[I 2021-11-19 16:24:09,703]\u001b[0m A new study created in memory with name: no-name-44519289-fed6-4f22-a037-870fae1471fa\u001b[0m\n",
      "\u001b[32m[I 2021-11-19 16:24:10,618]\u001b[0m Trial 0 finished with value: 0.22666666666666666 and parameters: {'min_samples_leaf': 59, 'max_depth': 24}. Best is trial 0 with value: 0.22666666666666666.\u001b[0m\n",
      "\u001b[32m[I 2021-11-19 16:24:11,433]\u001b[0m Trial 1 finished with value: 0.23333333333333334 and parameters: {'min_samples_leaf': 69, 'max_depth': 19}. Best is trial 1 with value: 0.23333333333333334.\u001b[0m\n",
      "\u001b[32m[I 2021-11-19 16:24:12,232]\u001b[0m Trial 2 finished with value: 0.22666666666666666 and parameters: {'min_samples_leaf': 54, 'max_depth': 14}. Best is trial 1 with value: 0.23333333333333334.\u001b[0m\n",
      "\u001b[32m[I 2021-11-19 16:24:13,056]\u001b[0m Trial 3 finished with value: 0.22666666666666666 and parameters: {'min_samples_leaf': 51, 'max_depth': 23}. Best is trial 1 with value: 0.23333333333333334.\u001b[0m\n",
      "\u001b[32m[I 2021-11-19 16:24:13,902]\u001b[0m Trial 4 finished with value: 0.22000000000000003 and parameters: {'min_samples_leaf': 65, 'max_depth': 21}. Best is trial 1 with value: 0.23333333333333334.\u001b[0m\n",
      "\u001b[32m[I 2021-11-19 16:24:14,744]\u001b[0m Trial 5 finished with value: 0.22000000000000003 and parameters: {'min_samples_leaf': 50, 'max_depth': 24}. Best is trial 1 with value: 0.23333333333333334.\u001b[0m\n",
      "\u001b[32m[I 2021-11-19 16:24:15,615]\u001b[0m Trial 6 finished with value: 0.22666666666666666 and parameters: {'min_samples_leaf': 71, 'max_depth': 14}. Best is trial 1 with value: 0.23333333333333334.\u001b[0m\n",
      "\u001b[32m[I 2021-11-19 16:24:16,415]\u001b[0m Trial 7 finished with value: 0.22000000000000003 and parameters: {'min_samples_leaf': 54, 'max_depth': 14}. Best is trial 1 with value: 0.23333333333333334.\u001b[0m\n",
      "\u001b[32m[I 2021-11-19 16:24:17,205]\u001b[0m Trial 8 finished with value: 0.23333333333333334 and parameters: {'min_samples_leaf': 57, 'max_depth': 18}. Best is trial 1 with value: 0.23333333333333334.\u001b[0m\n",
      "\u001b[32m[I 2021-11-19 16:24:18,018]\u001b[0m Trial 9 finished with value: 0.22000000000000003 and parameters: {'min_samples_leaf': 61, 'max_depth': 15}. Best is trial 1 with value: 0.23333333333333334.\u001b[0m\n",
      "\u001b[32m[I 2021-11-19 16:24:18,840]\u001b[0m Trial 10 finished with value: 0.22666666666666666 and parameters: {'min_samples_leaf': 65, 'max_depth': 13}. Best is trial 1 with value: 0.23333333333333334.\u001b[0m\n",
      "\u001b[32m[I 2021-11-19 16:24:19,665]\u001b[0m Trial 11 finished with value: 0.22000000000000003 and parameters: {'min_samples_leaf': 57, 'max_depth': 16}. Best is trial 1 with value: 0.23333333333333334.\u001b[0m\n",
      "\u001b[32m[I 2021-11-19 16:24:20,558]\u001b[0m Trial 12 finished with value: 0.22000000000000003 and parameters: {'min_samples_leaf': 61, 'max_depth': 22}. Best is trial 1 with value: 0.23333333333333334.\u001b[0m\n",
      "\u001b[32m[I 2021-11-19 16:24:21,457]\u001b[0m Trial 13 finished with value: 0.22666666666666666 and parameters: {'min_samples_leaf': 55, 'max_depth': 18}. Best is trial 1 with value: 0.23333333333333334.\u001b[0m\n",
      "\u001b[32m[I 2021-11-19 16:24:22,302]\u001b[0m Trial 14 finished with value: 0.22000000000000003 and parameters: {'min_samples_leaf': 65, 'max_depth': 12}. Best is trial 1 with value: 0.23333333333333334.\u001b[0m\n",
      "\u001b[32m[I 2021-11-19 16:24:23,156]\u001b[0m Trial 15 finished with value: 0.22000000000000003 and parameters: {'min_samples_leaf': 65, 'max_depth': 14}. Best is trial 1 with value: 0.23333333333333334.\u001b[0m\n",
      "\u001b[32m[I 2021-11-19 16:24:23,975]\u001b[0m Trial 16 finished with value: 0.22000000000000003 and parameters: {'min_samples_leaf': 51, 'max_depth': 24}. Best is trial 1 with value: 0.23333333333333334.\u001b[0m\n",
      "\u001b[32m[I 2021-11-19 16:24:24,789]\u001b[0m Trial 17 finished with value: 0.23333333333333334 and parameters: {'min_samples_leaf': 75, 'max_depth': 22}. Best is trial 1 with value: 0.23333333333333334.\u001b[0m\n",
      "\u001b[32m[I 2021-11-19 16:24:25,637]\u001b[0m Trial 18 finished with value: 0.22666666666666666 and parameters: {'min_samples_leaf': 57, 'max_depth': 13}. Best is trial 1 with value: 0.23333333333333334.\u001b[0m\n",
      "\u001b[32m[I 2021-11-19 16:24:26,457]\u001b[0m Trial 19 finished with value: 0.22000000000000003 and parameters: {'min_samples_leaf': 67, 'max_depth': 17}. Best is trial 1 with value: 0.23333333333333334.\u001b[0m\n",
      "\u001b[32m[I 2021-11-19 16:24:27,298]\u001b[0m Trial 20 finished with value: 0.22666666666666666 and parameters: {'min_samples_leaf': 53, 'max_depth': 18}. Best is trial 1 with value: 0.23333333333333334.\u001b[0m\n",
      "\u001b[32m[I 2021-11-19 16:24:28,099]\u001b[0m Trial 21 finished with value: 0.23333333333333334 and parameters: {'min_samples_leaf': 50, 'max_depth': 23}. Best is trial 1 with value: 0.23333333333333334.\u001b[0m\n",
      "\u001b[32m[I 2021-11-19 16:24:28,933]\u001b[0m Trial 22 finished with value: 0.22000000000000003 and parameters: {'min_samples_leaf': 56, 'max_depth': 20}. Best is trial 1 with value: 0.23333333333333334.\u001b[0m\n",
      "\u001b[32m[I 2021-11-19 16:24:29,755]\u001b[0m Trial 23 finished with value: 0.22666666666666666 and parameters: {'min_samples_leaf': 58, 'max_depth': 18}. Best is trial 1 with value: 0.23333333333333334.\u001b[0m\n",
      "\u001b[32m[I 2021-11-19 16:24:30,672]\u001b[0m Trial 24 finished with value: 0.22000000000000003 and parameters: {'min_samples_leaf': 64, 'max_depth': 14}. Best is trial 1 with value: 0.23333333333333334.\u001b[0m\n",
      "\u001b[32m[I 2021-11-19 16:24:31,519]\u001b[0m Trial 25 finished with value: 0.22666666666666666 and parameters: {'min_samples_leaf': 75, 'max_depth': 22}. Best is trial 1 with value: 0.23333333333333334.\u001b[0m\n",
      "\u001b[32m[I 2021-11-19 16:24:32,344]\u001b[0m Trial 26 finished with value: 0.22666666666666666 and parameters: {'min_samples_leaf': 74, 'max_depth': 23}. Best is trial 1 with value: 0.23333333333333334.\u001b[0m\n",
      "\u001b[32m[I 2021-11-19 16:24:33,198]\u001b[0m Trial 27 finished with value: 0.22000000000000003 and parameters: {'min_samples_leaf': 65, 'max_depth': 23}. Best is trial 1 with value: 0.23333333333333334.\u001b[0m\n",
      "\u001b[32m[I 2021-11-19 16:24:34,040]\u001b[0m Trial 28 finished with value: 0.22666666666666666 and parameters: {'min_samples_leaf': 52, 'max_depth': 14}. Best is trial 1 with value: 0.23333333333333334.\u001b[0m\n",
      "\u001b[32m[I 2021-11-19 16:24:34,850]\u001b[0m Trial 29 finished with value: 0.24000000000000005 and parameters: {'min_samples_leaf': 51, 'max_depth': 16}. Best is trial 29 with value: 0.24000000000000005.\u001b[0m\n"
     ]
    },
    {
     "data": {
      "text/plain": [
       "{'min_samples_leaf': 51, 'max_depth': 16}"
      ]
     },
     "execution_count": 6,
     "metadata": {},
     "output_type": "execute_result"
    }
   ],
   "source": [
    "tuning_hyperparams(\n",
    "        df=df_iris,\n",
    "        target=\"target\",\n",
    "        parameters=param_RF,\n",
    "        algorithm=RandomForestClassifier,\n",
    "        metric=accuracy_score,\n",
    "        scoring_option=\"maximize\",\n",
    "        n_trials=30,\n",
    "    )"
   ]
  },
  {
   "cell_type": "markdown",
   "id": "b4672642",
   "metadata": {},
   "source": [
    "## 3.2 Exemplo do output para Modelo de Regressão"
   ]
  },
  {
   "cell_type": "code",
   "execution_count": 7,
   "id": "bc13f01b",
   "metadata": {},
   "outputs": [],
   "source": [
    "boston_data = datasets.load_boston()\n",
    "df_boston = pd.DataFrame(boston_data.data, columns=boston_data.feature_names)\n",
    "df_boston[\"target\"] = boston_data.target\n",
    "\n",
    "param_RF = [\n",
    "        {\"name\": \"min_samples_leaf\", \"type\": \"Integer\", \"low\": 50, \"high\": 75},\n",
    "        {\"name\": \"max_depth\", \"type\": \"Integer\", \"low\": 12, \"high\": 24},\n",
    "    ]"
   ]
  },
  {
   "cell_type": "code",
   "execution_count": 8,
   "id": "de5bf787",
   "metadata": {},
   "outputs": [
    {
     "name": "stderr",
     "output_type": "stream",
     "text": [
      "\u001b[32m[I 2021-11-19 16:24:38,744]\u001b[0m A new study created in memory with name: no-name-e02416b6-2ab7-41d9-9462-6cdb5f848acd\u001b[0m\n",
      "\u001b[32m[I 2021-11-19 16:24:39,718]\u001b[0m Trial 0 finished with value: 3.925439197952194 and parameters: {'min_samples_leaf': 59, 'max_depth': 24}. Best is trial 0 with value: 3.925439197952194.\u001b[0m\n",
      "\u001b[32m[I 2021-11-19 16:24:40,722]\u001b[0m Trial 1 finished with value: 4.416665250288507 and parameters: {'min_samples_leaf': 69, 'max_depth': 19}. Best is trial 0 with value: 3.925439197952194.\u001b[0m\n",
      "\u001b[32m[I 2021-11-19 16:24:41,744]\u001b[0m Trial 2 finished with value: 3.689945581326609 and parameters: {'min_samples_leaf': 54, 'max_depth': 14}. Best is trial 2 with value: 3.689945581326609.\u001b[0m\n",
      "\u001b[32m[I 2021-11-19 16:24:42,777]\u001b[0m Trial 3 finished with value: 3.6209166805841426 and parameters: {'min_samples_leaf': 51, 'max_depth': 23}. Best is trial 3 with value: 3.6209166805841426.\u001b[0m\n",
      "\u001b[32m[I 2021-11-19 16:24:43,735]\u001b[0m Trial 4 finished with value: 4.31294264946271 and parameters: {'min_samples_leaf': 65, 'max_depth': 21}. Best is trial 3 with value: 3.6209166805841426.\u001b[0m\n",
      "\u001b[32m[I 2021-11-19 16:24:44,791]\u001b[0m Trial 5 finished with value: 3.5887431341693317 and parameters: {'min_samples_leaf': 50, 'max_depth': 24}. Best is trial 5 with value: 3.5887431341693317.\u001b[0m\n",
      "\u001b[32m[I 2021-11-19 16:24:45,807]\u001b[0m Trial 6 finished with value: 4.437012959816031 and parameters: {'min_samples_leaf': 71, 'max_depth': 14}. Best is trial 5 with value: 3.5887431341693317.\u001b[0m\n",
      "\u001b[32m[I 2021-11-19 16:24:46,917]\u001b[0m Trial 7 finished with value: 3.673456517938231 and parameters: {'min_samples_leaf': 54, 'max_depth': 14}. Best is trial 5 with value: 3.5887431341693317.\u001b[0m\n",
      "\u001b[32m[I 2021-11-19 16:24:48,148]\u001b[0m Trial 8 finished with value: 3.804817769938225 and parameters: {'min_samples_leaf': 57, 'max_depth': 18}. Best is trial 5 with value: 3.5887431341693317.\u001b[0m\n",
      "\u001b[32m[I 2021-11-19 16:24:49,643]\u001b[0m Trial 9 finished with value: 4.0497696670812084 and parameters: {'min_samples_leaf': 61, 'max_depth': 15}. Best is trial 5 with value: 3.5887431341693317.\u001b[0m\n",
      "\u001b[32m[I 2021-11-19 16:24:50,691]\u001b[0m Trial 10 finished with value: 4.293438949158689 and parameters: {'min_samples_leaf': 65, 'max_depth': 13}. Best is trial 5 with value: 3.5887431341693317.\u001b[0m\n",
      "\u001b[32m[I 2021-11-19 16:24:51,755]\u001b[0m Trial 11 finished with value: 3.784533666618855 and parameters: {'min_samples_leaf': 57, 'max_depth': 16}. Best is trial 5 with value: 3.5887431341693317.\u001b[0m\n",
      "\u001b[32m[I 2021-11-19 16:24:52,757]\u001b[0m Trial 12 finished with value: 4.06227128489415 and parameters: {'min_samples_leaf': 61, 'max_depth': 22}. Best is trial 5 with value: 3.5887431341693317.\u001b[0m\n",
      "\u001b[32m[I 2021-11-19 16:24:53,827]\u001b[0m Trial 13 finished with value: 3.745531778570354 and parameters: {'min_samples_leaf': 55, 'max_depth': 18}. Best is trial 5 with value: 3.5887431341693317.\u001b[0m\n",
      "\u001b[32m[I 2021-11-19 16:24:54,832]\u001b[0m Trial 14 finished with value: 4.329619564709957 and parameters: {'min_samples_leaf': 65, 'max_depth': 12}. Best is trial 5 with value: 3.5887431341693317.\u001b[0m\n",
      "\u001b[32m[I 2021-11-19 16:24:55,949]\u001b[0m Trial 15 finished with value: 4.292254589867356 and parameters: {'min_samples_leaf': 65, 'max_depth': 14}. Best is trial 5 with value: 3.5887431341693317.\u001b[0m\n",
      "\u001b[32m[I 2021-11-19 16:24:57,066]\u001b[0m Trial 16 finished with value: 3.6112747758406507 and parameters: {'min_samples_leaf': 51, 'max_depth': 24}. Best is trial 5 with value: 3.5887431341693317.\u001b[0m\n",
      "\u001b[32m[I 2021-11-19 16:24:58,055]\u001b[0m Trial 17 finished with value: 4.444857186616406 and parameters: {'min_samples_leaf': 75, 'max_depth': 22}. Best is trial 5 with value: 3.5887431341693317.\u001b[0m\n",
      "\u001b[32m[I 2021-11-19 16:24:59,076]\u001b[0m Trial 18 finished with value: 3.8048503621350975 and parameters: {'min_samples_leaf': 57, 'max_depth': 13}. Best is trial 5 with value: 3.5887431341693317.\u001b[0m\n",
      "\u001b[32m[I 2021-11-19 16:25:00,081]\u001b[0m Trial 19 finished with value: 4.390155331565396 and parameters: {'min_samples_leaf': 67, 'max_depth': 17}. Best is trial 5 with value: 3.5887431341693317.\u001b[0m\n",
      "\u001b[32m[I 2021-11-19 16:25:01,175]\u001b[0m Trial 20 finished with value: 3.645588226182761 and parameters: {'min_samples_leaf': 53, 'max_depth': 18}. Best is trial 5 with value: 3.5887431341693317.\u001b[0m\n",
      "\u001b[32m[I 2021-11-19 16:25:02,216]\u001b[0m Trial 21 finished with value: 3.551637375068482 and parameters: {'min_samples_leaf': 50, 'max_depth': 23}. Best is trial 21 with value: 3.551637375068482.\u001b[0m\n",
      "\u001b[32m[I 2021-11-19 16:25:03,281]\u001b[0m Trial 22 finished with value: 3.7614003335503328 and parameters: {'min_samples_leaf': 56, 'max_depth': 20}. Best is trial 21 with value: 3.551637375068482.\u001b[0m\n",
      "\u001b[32m[I 2021-11-19 16:25:04,342]\u001b[0m Trial 23 finished with value: 3.8630863412052534 and parameters: {'min_samples_leaf': 58, 'max_depth': 18}. Best is trial 21 with value: 3.551637375068482.\u001b[0m\n",
      "\u001b[32m[I 2021-11-19 16:25:05,430]\u001b[0m Trial 24 finished with value: 4.228599959826895 and parameters: {'min_samples_leaf': 64, 'max_depth': 14}. Best is trial 21 with value: 3.551637375068482.\u001b[0m\n",
      "\u001b[32m[I 2021-11-19 16:25:06,396]\u001b[0m Trial 25 finished with value: 4.441936083410111 and parameters: {'min_samples_leaf': 75, 'max_depth': 22}. Best is trial 21 with value: 3.551637375068482.\u001b[0m\n",
      "\u001b[32m[I 2021-11-19 16:25:07,384]\u001b[0m Trial 26 finished with value: 4.43055466804097 and parameters: {'min_samples_leaf': 74, 'max_depth': 23}. Best is trial 21 with value: 3.551637375068482.\u001b[0m\n",
      "\u001b[32m[I 2021-11-19 16:25:08,437]\u001b[0m Trial 27 finished with value: 4.26622157790645 and parameters: {'min_samples_leaf': 65, 'max_depth': 23}. Best is trial 21 with value: 3.551637375068482.\u001b[0m\n",
      "\u001b[32m[I 2021-11-19 16:25:09,495]\u001b[0m Trial 28 finished with value: 3.618962097769952 and parameters: {'min_samples_leaf': 52, 'max_depth': 14}. Best is trial 21 with value: 3.551637375068482.\u001b[0m\n",
      "\u001b[32m[I 2021-11-19 16:25:10,594]\u001b[0m Trial 29 finished with value: 3.5888827147989937 and parameters: {'min_samples_leaf': 51, 'max_depth': 16}. Best is trial 21 with value: 3.551637375068482.\u001b[0m\n"
     ]
    },
    {
     "data": {
      "text/plain": [
       "{'min_samples_leaf': 50, 'max_depth': 23}"
      ]
     },
     "execution_count": 8,
     "metadata": {},
     "output_type": "execute_result"
    }
   ],
   "source": [
    "tuning_hyperparams(\n",
    "        df=df_boston,\n",
    "        target=\"target\",\n",
    "        parameters=param_RF,\n",
    "        algorithm=RandomForestRegressor,\n",
    "        metric=mean_absolute_error,\n",
    "        scoring_option=\"minimize\",\n",
    "        n_trials=30,\n",
    "    )"
   ]
  }
 ],
 "metadata": {
  "kernelspec": {
   "display_name": "Python 3",
   "language": "python",
   "name": "python3"
  },
  "language_info": {
   "codemirror_mode": {
    "name": "ipython",
    "version": 3
   },
   "file_extension": ".py",
   "mimetype": "text/x-python",
   "name": "python",
   "nbconvert_exporter": "python",
   "pygments_lexer": "ipython3",
   "version": "3.8.8"
  }
 },
 "nbformat": 4,
 "nbformat_minor": 5
}
