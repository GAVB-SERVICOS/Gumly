{
 "cells": [
  {
   "cell_type": "markdown",
   "id": "38b9befc",
   "metadata": {},
   "source": [
    "# Tuning Hyperparams Tutorial"
   ]
  },
  {
   "cell_type": "markdown",
   "id": "fb96c212",
   "metadata": {},
   "source": [
    "## 1.0 Objetivo da Função.\n",
    "\n",
    "Otimizar a métrica de ajuste e mostrar qual seria o resultado melhor para o modelo."
   ]
  },
  {
   "cell_type": "markdown",
   "id": "7cc43d17",
   "metadata": {},
   "source": [
    "## 2.0 Importes das Bibliotecas"
   ]
  },
  {
   "cell_type": "code",
   "execution_count": 1,
   "id": "3cf9e6df",
   "metadata": {},
   "outputs": [],
   "source": [
    "from sklearn.model_selection import cross_val_score\n",
    "from sklearn.model_selection import KFold\n",
    "from sklearn.ensemble import RandomForestClassifier\n",
    "from sklearn.ensemble import RandomForestRegressor\n",
    "import optuna\n",
    "from sklearn.metrics import mean_squared_error, mean_absolute_error, r2_score\n",
    "from sklearn.metrics import explained_variance_score, max_error\n",
    "from sklearn.metrics import mean_squared_log_error, median_absolute_error"
   ]
  },
  {
   "cell_type": "markdown",
   "id": "36d05fd3",
   "metadata": {},
   "source": [
    "## 3.0 Input e Output"
   ]
  },
  {
   "cell_type": "markdown",
   "id": "0d1cce69",
   "metadata": {},
   "source": [
    "Importando a função"
   ]
  },
  {
   "cell_type": "code",
   "execution_count": 2,
   "id": "539d757c",
   "metadata": {},
   "outputs": [],
   "source": [
    "import os\n",
    "root = '/'.join(os.getcwd().split('/')[:-1])\n",
    "os.chdir(root + '/mlutils')"
   ]
  },
  {
   "cell_type": "code",
   "execution_count": 3,
   "id": "941aba76",
   "metadata": {},
   "outputs": [],
   "source": [
    "from tuning_hyperparams import *\n",
    "from feature_engineering import *"
   ]
  },
  {
   "cell_type": "markdown",
   "id": "8b4bf44c",
   "metadata": {},
   "source": [
    "## 3.1 Exemplo do output Para Modelo de Classificação "
   ]
  },
  {
   "cell_type": "code",
   "execution_count": 4,
   "id": "1c50aff6",
   "metadata": {},
   "outputs": [],
   "source": [
    "import pandas as pd\n",
    "from sklearn import datasets"
   ]
  },
  {
   "cell_type": "code",
   "execution_count": 5,
   "id": "a783239d",
   "metadata": {},
   "outputs": [],
   "source": [
    "iris_data = datasets.load_iris()\n",
    "df_iris = pd.DataFrame(data=iris_data.data, columns=iris_data.feature_names)\n",
    "df_iris[\"target\"] = iris_data.target\n",
    "\n",
    "param_RF = [\n",
    "        {\"name\": \"min_samples_leaf\", \"type\": \"Integer\", \"low\": 50, \"high\": 75},\n",
    "        {\"name\": \"max_depth\", \"type\": \"Integer\", \"low\": 12, \"high\": 24},\n",
    "    ]\n"
   ]
  },
  {
   "cell_type": "code",
   "execution_count": 9,
   "id": "ff253985",
   "metadata": {},
   "outputs": [
    {
     "name": "stderr",
     "output_type": "stream",
     "text": [
      "\u001b[32m[I 2021-11-11 12:15:18,449]\u001b[0m A new study created in memory with name: no-name-98d88ab4-87b3-45e2-bb27-4d31bd658c8a\u001b[0m\n",
      "\u001b[32m[I 2021-11-11 12:15:19,796]\u001b[0m Trial 0 finished with value: 0.26 and parameters: {'min_samples_leaf': 70, 'max_depth': 18}. Best is trial 0 with value: 0.26.\u001b[0m\n",
      "\u001b[32m[I 2021-11-11 12:15:21,041]\u001b[0m Trial 1 finished with value: 0.26 and parameters: {'min_samples_leaf': 50, 'max_depth': 15}. Best is trial 0 with value: 0.26.\u001b[0m\n",
      "\u001b[32m[I 2021-11-11 12:15:22,288]\u001b[0m Trial 2 finished with value: 0.26 and parameters: {'min_samples_leaf': 67, 'max_depth': 13}. Best is trial 0 with value: 0.26.\u001b[0m\n",
      "\u001b[32m[I 2021-11-11 12:15:23,629]\u001b[0m Trial 3 finished with value: 0.26 and parameters: {'min_samples_leaf': 67, 'max_depth': 18}. Best is trial 0 with value: 0.26.\u001b[0m\n",
      "\u001b[32m[I 2021-11-11 12:15:24,798]\u001b[0m Trial 4 finished with value: 0.26 and parameters: {'min_samples_leaf': 52, 'max_depth': 23}. Best is trial 0 with value: 0.26.\u001b[0m\n",
      "\u001b[32m[I 2021-11-11 12:15:25,951]\u001b[0m Trial 5 finished with value: 0.26 and parameters: {'min_samples_leaf': 52, 'max_depth': 16}. Best is trial 0 with value: 0.26.\u001b[0m\n",
      "\u001b[32m[I 2021-11-11 12:15:27,270]\u001b[0m Trial 6 finished with value: 0.26 and parameters: {'min_samples_leaf': 70, 'max_depth': 23}. Best is trial 0 with value: 0.26.\u001b[0m\n",
      "\u001b[32m[I 2021-11-11 12:15:28,798]\u001b[0m Trial 7 finished with value: 0.26666666666666666 and parameters: {'min_samples_leaf': 59, 'max_depth': 23}. Best is trial 7 with value: 0.26666666666666666.\u001b[0m\n",
      "\u001b[32m[I 2021-11-11 12:15:30,897]\u001b[0m Trial 8 finished with value: 0.26 and parameters: {'min_samples_leaf': 56, 'max_depth': 22}. Best is trial 7 with value: 0.26666666666666666.\u001b[0m\n",
      "\u001b[32m[I 2021-11-11 12:15:32,945]\u001b[0m Trial 9 finished with value: 0.26 and parameters: {'min_samples_leaf': 57, 'max_depth': 21}. Best is trial 7 with value: 0.26666666666666666.\u001b[0m\n",
      "\u001b[32m[I 2021-11-11 12:15:34,282]\u001b[0m Trial 10 finished with value: 0.26 and parameters: {'min_samples_leaf': 61, 'max_depth': 20}. Best is trial 7 with value: 0.26666666666666666.\u001b[0m\n",
      "\u001b[32m[I 2021-11-11 12:15:35,609]\u001b[0m Trial 11 finished with value: 0.26 and parameters: {'min_samples_leaf': 74, 'max_depth': 19}. Best is trial 7 with value: 0.26666666666666666.\u001b[0m\n",
      "\u001b[32m[I 2021-11-11 12:15:36,875]\u001b[0m Trial 12 finished with value: 0.26 and parameters: {'min_samples_leaf': 62, 'max_depth': 18}. Best is trial 7 with value: 0.26666666666666666.\u001b[0m\n",
      "\u001b[32m[I 2021-11-11 12:15:38,143]\u001b[0m Trial 13 finished with value: 0.26 and parameters: {'min_samples_leaf': 75, 'max_depth': 16}. Best is trial 7 with value: 0.26666666666666666.\u001b[0m\n",
      "\u001b[32m[I 2021-11-11 12:15:39,420]\u001b[0m Trial 14 finished with value: 0.26 and parameters: {'min_samples_leaf': 66, 'max_depth': 24}. Best is trial 7 with value: 0.26666666666666666.\u001b[0m\n",
      "\u001b[32m[I 2021-11-11 12:15:41,468]\u001b[0m Trial 15 finished with value: 0.26666666666666666 and parameters: {'min_samples_leaf': 58, 'max_depth': 13}. Best is trial 7 with value: 0.26666666666666666.\u001b[0m\n",
      "\u001b[32m[I 2021-11-11 12:15:43,642]\u001b[0m Trial 16 finished with value: 0.26 and parameters: {'min_samples_leaf': 58, 'max_depth': 12}. Best is trial 7 with value: 0.26666666666666666.\u001b[0m\n",
      "\u001b[32m[I 2021-11-11 12:15:45,201]\u001b[0m Trial 17 finished with value: 0.26 and parameters: {'min_samples_leaf': 59, 'max_depth': 14}. Best is trial 7 with value: 0.26666666666666666.\u001b[0m\n",
      "\u001b[32m[I 2021-11-11 12:15:46,463]\u001b[0m Trial 18 finished with value: 0.26 and parameters: {'min_samples_leaf': 55, 'max_depth': 12}. Best is trial 7 with value: 0.26666666666666666.\u001b[0m\n",
      "\u001b[32m[I 2021-11-11 12:15:47,750]\u001b[0m Trial 19 finished with value: 0.26666666666666666 and parameters: {'min_samples_leaf': 64, 'max_depth': 16}. Best is trial 7 with value: 0.26666666666666666.\u001b[0m\n"
     ]
    },
    {
     "data": {
      "text/plain": [
       "{'min_samples_leaf': 59, 'max_depth': 23}"
      ]
     },
     "execution_count": 9,
     "metadata": {},
     "output_type": "execute_result"
    }
   ],
   "source": [
    "tuning_hyperparams(\n",
    "        df=df_iris,\n",
    "        target=\"target\",\n",
    "        parameters=param_RF,\n",
    "        algorithm=RandomForestClassifier,\n",
    "        metric= accuracy_score,\n",
    "        scoring_option=\"maximize\",\n",
    "        n_trials=20,\n",
    "    )"
   ]
  },
  {
   "cell_type": "markdown",
   "id": "b4672642",
   "metadata": {},
   "source": [
    "## 3.2 Exemplo do output para Modelo de Regressão"
   ]
  },
  {
   "cell_type": "code",
   "execution_count": null,
   "id": "bc13f01b",
   "metadata": {},
   "outputs": [],
   "source": [
    "boston_data = datasets.load_boston()\n",
    "df_boston = pd.DataFrame(boston_data.data, columns=boston_data.feature_names)\n",
    "df_boston[\"target\"] = boston_data.target\n",
    "\n",
    "param_RF = [\n",
    "        {\"name\": \"min_samples_leaf\", \"type\": \"Integer\", \"low\": 50, \"high\": 75},\n",
    "        {\"name\": \"max_depth\", \"type\": \"Integer\", \"low\": 12, \"high\": 24},\n",
    "    ]"
   ]
  },
  {
   "cell_type": "code",
   "execution_count": null,
   "id": "de5bf787",
   "metadata": {},
   "outputs": [],
   "source": [
    "tuning_hyperparams(\n",
    "        df=df_boston,\n",
    "        target=\"target\",\n",
    "        parameters=param_RF,\n",
    "        algorithm=RandomForestRegressor,\n",
    "        metric=median_absolute_error,\n",
    "        scoring_option=\"maximize\",\n",
    "        n_trials=10,\n",
    "    )"
   ]
  },
  {
   "cell_type": "code",
   "execution_count": null,
   "id": "52c55a19",
   "metadata": {},
   "outputs": [],
   "source": []
  }
 ],
 "metadata": {
  "kernelspec": {
   "display_name": "3.8.2 (base)",
   "language": "python",
   "name": "pyenv-382"
  },
  "language_info": {
   "codemirror_mode": {
    "name": "ipython",
    "version": 3
   },
   "file_extension": ".py",
   "mimetype": "text/x-python",
   "name": "python",
   "nbconvert_exporter": "python",
   "pygments_lexer": "ipython3",
   "version": "3.8.8"
  }
 },
 "nbformat": 4,
 "nbformat_minor": 5
}
