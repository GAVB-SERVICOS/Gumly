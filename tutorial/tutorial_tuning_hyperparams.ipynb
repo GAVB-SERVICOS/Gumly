{
 "cells": [
  {
   "cell_type": "markdown",
   "id": "38b9befc",
   "metadata": {},
   "source": [
    "# Tuning Hyperparams Tutorial"
   ]
  },
  {
   "cell_type": "markdown",
   "id": "fb96c212",
   "metadata": {},
   "source": [
    "## 1.0 Objetivo da Função.\n",
    "\n",
    "Otimizar a métrica de ajuste e mostrar qual será o resultado melhor para o modelo."
   ]
  },
  {
   "cell_type": "markdown",
   "id": "7cc43d17",
   "metadata": {},
   "source": [
    "## 2.0 Importes das Bibliotecas"
   ]
  },
  {
   "cell_type": "code",
   "execution_count": 51,
   "id": "7660dad7",
   "metadata": {},
   "outputs": [
    {
     "name": "stdout",
     "output_type": "stream",
     "text": [
      "Processing c:\\users\\lucasrc\\documents\\codes\\mlutils\\dist\\mlutils-0.1.0-py3-none-any.whl"
     ]
    },
    {
     "name": "stderr",
     "output_type": "stream",
     "text": [
      "WARNING: Ignoring invalid distribution -fi (c:\\users\\lucasrc\\anaconda3\\lib\\site-packages)\n",
      "WARNING: Ignoring invalid distribution -9fi (c:\\users\\lucasrc\\anaconda3\\lib\\site-packages)\n",
      "WARNING: Ignoring invalid distribution -8fi (c:\\users\\lucasrc\\anaconda3\\lib\\site-packages)\n",
      "WARNING: Ignoring invalid distribution -7fi (c:\\users\\lucasrc\\anaconda3\\lib\\site-packages)\n",
      "WARNING: Ignoring invalid distribution -6fi (c:\\users\\lucasrc\\anaconda3\\lib\\site-packages)\n",
      "WARNING: Ignoring invalid distribution -5fi (c:\\users\\lucasrc\\anaconda3\\lib\\site-packages)\n",
      "WARNING: Ignoring invalid distribution -4fi (c:\\users\\lucasrc\\anaconda3\\lib\\site-packages)\n",
      "WARNING: Ignoring invalid distribution -3fi (c:\\users\\lucasrc\\anaconda3\\lib\\site-packages)\n",
      "WARNING: Ignoring invalid distribution -2fi (c:\\users\\lucasrc\\anaconda3\\lib\\site-packages)\n",
      "WARNING: Ignoring invalid distribution -1fi (c:\\users\\lucasrc\\anaconda3\\lib\\site-packages)\n",
      "WARNING: Ignoring invalid distribution - (c:\\users\\lucasrc\\anaconda3\\lib\\site-packages)\n",
      "WARNING: Ignoring invalid distribution -fi (c:\\users\\lucasrc\\anaconda3\\lib\\site-packages)\n",
      "WARNING: Ignoring invalid distribution -0fi (c:\\users\\lucasrc\\anaconda3\\lib\\site-packages)\n",
      "WARNING: Ignoring invalid distribution -ffi (c:\\users\\lucasrc\\anaconda3\\lib\\site-packages)\n",
      "WARNING: Ignoring invalid distribution -fi (c:\\users\\lucasrc\\anaconda3\\lib\\site-packages)\n",
      "WARNING: Ignoring invalid distribution -9fi (c:\\users\\lucasrc\\anaconda3\\lib\\site-packages)\n",
      "WARNING: Ignoring invalid distribution -8fi (c:\\users\\lucasrc\\anaconda3\\lib\\site-packages)\n",
      "WARNING: Ignoring invalid distribution -7fi (c:\\users\\lucasrc\\anaconda3\\lib\\site-packages)\n",
      "WARNING: Ignoring invalid distribution -6fi (c:\\users\\lucasrc\\anaconda3\\lib\\site-packages)\n",
      "WARNING: Ignoring invalid distribution -5fi (c:\\users\\lucasrc\\anaconda3\\lib\\site-packages)\n",
      "WARNING: Ignoring invalid distribution -4fi (c:\\users\\lucasrc\\anaconda3\\lib\\site-packages)\n",
      "WARNING: Ignoring invalid distribution -3fi (c:\\users\\lucasrc\\anaconda3\\lib\\site-packages)\n"
     ]
    },
    {
     "name": "stdout",
     "output_type": "stream",
     "text": [
      "\n",
      "Collecting pluggy==0.13.1\n",
      "  Using cached pluggy-0.13.1-py2.py3-none-any.whl (18 kB)\n",
      "Collecting pytest==6.2.4\n",
      "  Using cached pytest-6.2.4-py3-none-any.whl (280 kB)\n",
      "Collecting importlib-metadata==4.5.0\n",
      "  Using cached importlib_metadata-4.5.0-py3-none-any.whl (17 kB)\n",
      "Collecting jeepney==0.6.0\n",
      "  Using cached jeepney-0.6.0-py3-none-any.whl (45 kB)\n",
      "Collecting six==1.16.0\n",
      "  Using cached six-1.16.0-py2.py3-none-any.whl (11 kB)\n",
      "Collecting cryptography==3.4.7\n",
      "  Using cached cryptography-3.4.7-cp36-abi3-win_amd64.whl (1.6 MB)\n",
      "Collecting toml==0.10.2\n",
      "  Using cached toml-0.10.2-py2.py3-none-any.whl (16 kB)\n",
      "Collecting idna==2.10\n",
      "  Using cached idna-2.10-py2.py3-none-any.whl (58 kB)\n",
      "Collecting colorama==0.4.4\n",
      "  Using cached colorama-0.4.4-py2.py3-none-any.whl (16 kB)\n",
      "Collecting bleach==3.3.0\n",
      "  Using cached bleach-3.3.0-py2.py3-none-any.whl (283 kB)\n",
      "Collecting twine==3.4.1\n",
      "  Using cached twine-3.4.1-py3-none-any.whl (34 kB)\n",
      "Collecting pkginfo==1.7.0\n",
      "  Using cached pkginfo-1.7.0-py2.py3-none-any.whl (25 kB)\n",
      "Collecting requests-toolbelt==0.9.1\n",
      "  Using cached requests_toolbelt-0.9.1-py2.py3-none-any.whl (54 kB)\n",
      "Collecting chardet==4.0.0\n",
      "  Using cached chardet-4.0.0-py2.py3-none-any.whl (178 kB)\n",
      "Collecting urllib3==1.26.5\n",
      "  Using cached urllib3-1.26.5-py2.py3-none-any.whl (138 kB)\n",
      "Collecting cffi==1.14.5\n"
     ]
    },
    {
     "name": "stderr",
     "output_type": "stream",
     "text": [
      "WARNING: Ignoring invalid distribution -2fi (c:\\users\\lucasrc\\anaconda3\\lib\\site-packages)\n",
      "WARNING: Ignoring invalid distribution -1fi (c:\\users\\lucasrc\\anaconda3\\lib\\site-packages)\n",
      "WARNING: Ignoring invalid distribution - (c:\\users\\lucasrc\\anaconda3\\lib\\site-packages)\n",
      "WARNING: Ignoring invalid distribution -fi (c:\\users\\lucasrc\\anaconda3\\lib\\site-packages)\n",
      "WARNING: Ignoring invalid distribution -0fi (c:\\users\\lucasrc\\anaconda3\\lib\\site-packages)\n",
      "WARNING: Ignoring invalid distribution -ffi (c:\\users\\lucasrc\\anaconda3\\lib\\site-packages)\n",
      "WARNING: Ignoring invalid distribution -fi (c:\\users\\lucasrc\\anaconda3\\lib\\site-packages)\n",
      "WARNING: Ignoring invalid distribution -9fi (c:\\users\\lucasrc\\anaconda3\\lib\\site-packages)\n",
      "WARNING: Ignoring invalid distribution -8fi (c:\\users\\lucasrc\\anaconda3\\lib\\site-packages)\n",
      "WARNING: Ignoring invalid distribution -7fi (c:\\users\\lucasrc\\anaconda3\\lib\\site-packages)\n",
      "WARNING: Ignoring invalid distribution -6fi (c:\\users\\lucasrc\\anaconda3\\lib\\site-packages)\n",
      "WARNING: Ignoring invalid distribution -5fi (c:\\users\\lucasrc\\anaconda3\\lib\\site-packages)\n",
      "WARNING: Ignoring invalid distribution -4fi (c:\\users\\lucasrc\\anaconda3\\lib\\site-packages)\n",
      "WARNING: Ignoring invalid distribution -3fi (c:\\users\\lucasrc\\anaconda3\\lib\\site-packages)\n",
      "WARNING: Ignoring invalid distribution -2fi (c:\\users\\lucasrc\\anaconda3\\lib\\site-packages)\n",
      "WARNING: Ignoring invalid distribution -1fi (c:\\users\\lucasrc\\anaconda3\\lib\\site-packages)\n",
      "WARNING: Ignoring invalid distribution - (c:\\users\\lucasrc\\anaconda3\\lib\\site-packages)\n",
      "WARNING: Ignoring invalid distribution -fi (c:\\users\\lucasrc\\anaconda3\\lib\\site-packages)\n",
      "WARNING: Ignoring invalid distribution -0fi (c:\\users\\lucasrc\\anaconda3\\lib\\site-packages)\n",
      "WARNING: Ignoring invalid distribution -ffi (c:\\users\\lucasrc\\anaconda3\\lib\\site-packages)\n",
      "    WARNING: Ignoring invalid distribution -fi (c:\\users\\lucasrc\\anaconda3\\lib\\site-packages)\n",
      "    WARNING: Ignoring invalid distribution -9fi (c:\\users\\lucasrc\\anaconda3\\lib\\site-packages)\n",
      "    WARNING: Ignoring invalid distribution -8fi (c:\\users\\lucasrc\\anaconda3\\lib\\site-packages)\n",
      "    WARNING: Ignoring invalid distribution -7fi (c:\\users\\lucasrc\\anaconda3\\lib\\site-packages)\n",
      "    WARNING: Ignoring invalid distribution -6fi (c:\\users\\lucasrc\\anaconda3\\lib\\site-packages)\n",
      "    WARNING: Ignoring invalid distribution -5fi (c:\\users\\lucasrc\\anaconda3\\lib\\site-packages)\n",
      "    WARNING: Ignoring invalid distribution -4fi (c:\\users\\lucasrc\\anaconda3\\lib\\site-packages)\n",
      "    WARNING: Ignoring invalid distribution -3fi (c:\\users\\lucasrc\\anaconda3\\lib\\site-packages)\n",
      "    WARNING: Ignoring invalid distribution -2fi (c:\\users\\lucasrc\\anaconda3\\lib\\site-packages)\n",
      "    WARNING: Ignoring invalid distribution -1fi (c:\\users\\lucasrc\\anaconda3\\lib\\site-packages)\n",
      "    WARNING: Ignoring invalid distribution - (c:\\users\\lucasrc\\anaconda3\\lib\\site-packages)\n",
      "    WARNING: Ignoring invalid distribution -fi (c:\\users\\lucasrc\\anaconda3\\lib\\site-packages)\n",
      "    WARNING: Ignoring invalid distribution -0fi (c:\\users\\lucasrc\\anaconda3\\lib\\site-packages)\n",
      "    WARNING: Ignoring invalid distribution -ffi (c:\\users\\lucasrc\\anaconda3\\lib\\site-packages)\n",
      "    WARNING: Ignoring invalid distribution -fi (c:\\users\\lucasrc\\anaconda3\\lib\\site-packages)\n",
      "    WARNING: Ignoring invalid distribution -9fi (c:\\users\\lucasrc\\anaconda3\\lib\\site-packages)\n",
      "    WARNING: Ignoring invalid distribution -8fi (c:\\users\\lucasrc\\anaconda3\\lib\\site-packages)\n",
      "    WARNING: Ignoring invalid distribution -7fi (c:\\users\\lucasrc\\anaconda3\\lib\\site-packages)\n",
      "    WARNING: Ignoring invalid distribution -6fi (c:\\users\\lucasrc\\anaconda3\\lib\\site-packages)\n",
      "    WARNING: Ignoring invalid distribution -5fi (c:\\users\\lucasrc\\anaconda3\\lib\\site-packages)\n",
      "    WARNING: Ignoring invalid distribution -4fi (c:\\users\\lucasrc\\anaconda3\\lib\\site-packages)\n",
      "    WARNING: Ignoring invalid distribution -3fi (c:\\users\\lucasrc\\anaconda3\\lib\\site-packages)\n",
      "    WARNING: Ignoring invalid distribution -2fi (c:\\users\\lucasrc\\anaconda3\\lib\\site-packages)\n",
      "    WARNING: Ignoring invalid distribution -1fi (c:\\users\\lucasrc\\anaconda3\\lib\\site-packages)\n",
      "    WARNING: Ignoring invalid distribution - (c:\\users\\lucasrc\\anaconda3\\lib\\site-packages)\n",
      "    WARNING: Ignoring invalid distribution -fi (c:\\users\\lucasrc\\anaconda3\\lib\\site-packages)\n",
      "    WARNING: Ignoring invalid distribution -0fi (c:\\users\\lucasrc\\anaconda3\\lib\\site-packages)\n",
      "    WARNING: Ignoring invalid distribution -ffi (c:\\users\\lucasrc\\anaconda3\\lib\\site-packages)\n",
      "    WARNING: Ignoring invalid distribution -fi (c:\\users\\lucasrc\\anaconda3\\lib\\site-packages)\n",
      "    WARNING: Ignoring invalid distribution -9fi (c:\\users\\lucasrc\\anaconda3\\lib\\site-packages)\n",
      "    WARNING: Ignoring invalid distribution -8fi (c:\\users\\lucasrc\\anaconda3\\lib\\site-packages)\n",
      "    WARNING: Ignoring invalid distribution -7fi (c:\\users\\lucasrc\\anaconda3\\lib\\site-packages)\n",
      "    WARNING: Ignoring invalid distribution -6fi (c:\\users\\lucasrc\\anaconda3\\lib\\site-packages)\n",
      "    WARNING: Ignoring invalid distribution -5fi (c:\\users\\lucasrc\\anaconda3\\lib\\site-packages)\n",
      "    WARNING: Ignoring invalid distribution -4fi (c:\\users\\lucasrc\\anaconda3\\lib\\site-packages)\n",
      "    WARNING: Ignoring invalid distribution -3fi (c:\\users\\lucasrc\\anaconda3\\lib\\site-packages)\n",
      "    WARNING: Ignoring invalid distribution -2fi (c:\\users\\lucasrc\\anaconda3\\lib\\site-packages)\n",
      "    WARNING: Ignoring invalid distribution -1fi (c:\\users\\lucasrc\\anaconda3\\lib\\site-packages)\n",
      "    WARNING: Ignoring invalid distribution - (c:\\users\\lucasrc\\anaconda3\\lib\\site-packages)\n",
      "    WARNING: Ignoring invalid distribution -fi (c:\\users\\lucasrc\\anaconda3\\lib\\site-packages)\n",
      "    WARNING: Ignoring invalid distribution -0fi (c:\\users\\lucasrc\\anaconda3\\lib\\site-packages)\n",
      "    WARNING: Ignoring invalid distribution -ffi (c:\\users\\lucasrc\\anaconda3\\lib\\site-packages)\n",
      "    WARNING: Ignoring invalid distribution -fi (c:\\users\\lucasrc\\anaconda3\\lib\\site-packages)\n",
      "    WARNING: Ignoring invalid distribution -9fi (c:\\users\\lucasrc\\anaconda3\\lib\\site-packages)\n",
      "    WARNING: Ignoring invalid distribution -8fi (c:\\users\\lucasrc\\anaconda3\\lib\\site-packages)\n",
      "    WARNING: Ignoring invalid distribution -7fi (c:\\users\\lucasrc\\anaconda3\\lib\\site-packages)\n",
      "    WARNING: Ignoring invalid distribution -6fi (c:\\users\\lucasrc\\anaconda3\\lib\\site-packages)\n",
      "    WARNING: Ignoring invalid distribution -5fi (c:\\users\\lucasrc\\anaconda3\\lib\\site-packages)\n",
      "    WARNING: Ignoring invalid distribution -4fi (c:\\users\\lucasrc\\anaconda3\\lib\\site-packages)\n",
      "    WARNING: Ignoring invalid distribution -3fi (c:\\users\\lucasrc\\anaconda3\\lib\\site-packages)\n",
      "    WARNING: Ignoring invalid distribution -2fi (c:\\users\\lucasrc\\anaconda3\\lib\\site-packages)\n",
      "    WARNING: Ignoring invalid distribution -1fi (c:\\users\\lucasrc\\anaconda3\\lib\\site-packages)\n",
      "    WARNING: Ignoring invalid distribution - (c:\\users\\lucasrc\\anaconda3\\lib\\site-packages)\n",
      "    WARNING: Ignoring invalid distribution -fi (c:\\users\\lucasrc\\anaconda3\\lib\\site-packages)\n",
      "    WARNING: Ignoring invalid distribution -0fi (c:\\users\\lucasrc\\anaconda3\\lib\\site-packages)\n",
      "    WARNING: Ignoring invalid distribution -ffi (c:\\users\\lucasrc\\anaconda3\\lib\\site-packages)\n",
      "    WARNING: Ignoring invalid distribution -fi (c:\\users\\lucasrc\\anaconda3\\lib\\site-packages)\n",
      "    WARNING: Ignoring invalid distribution -9fi (c:\\users\\lucasrc\\anaconda3\\lib\\site-packages)\n",
      "    WARNING: Ignoring invalid distribution -8fi (c:\\users\\lucasrc\\anaconda3\\lib\\site-packages)\n",
      "    WARNING: Ignoring invalid distribution -7fi (c:\\users\\lucasrc\\anaconda3\\lib\\site-packages)\n",
      "    WARNING: Ignoring invalid distribution -6fi (c:\\users\\lucasrc\\anaconda3\\lib\\site-packages)\n",
      "    WARNING: Ignoring invalid distribution -5fi (c:\\users\\lucasrc\\anaconda3\\lib\\site-packages)\n",
      "    WARNING: Ignoring invalid distribution -4fi (c:\\users\\lucasrc\\anaconda3\\lib\\site-packages)\n",
      "    WARNING: Ignoring invalid distribution -3fi (c:\\users\\lucasrc\\anaconda3\\lib\\site-packages)\n",
      "    WARNING: Ignoring invalid distribution -2fi (c:\\users\\lucasrc\\anaconda3\\lib\\site-packages)\n",
      "    WARNING: Ignoring invalid distribution -1fi (c:\\users\\lucasrc\\anaconda3\\lib\\site-packages)\n",
      "    WARNING: Ignoring invalid distribution - (c:\\users\\lucasrc\\anaconda3\\lib\\site-packages)\n",
      "    WARNING: Ignoring invalid distribution -fi (c:\\users\\lucasrc\\anaconda3\\lib\\site-packages)\n",
      "    WARNING: Ignoring invalid distribution -0fi (c:\\users\\lucasrc\\anaconda3\\lib\\site-packages)\n",
      "    WARNING: Ignoring invalid distribution -ffi (c:\\users\\lucasrc\\anaconda3\\lib\\site-packages)\n",
      "    WARNING: Ignoring invalid distribution -fi (c:\\users\\lucasrc\\anaconda3\\lib\\site-packages)\n",
      "    WARNING: Ignoring invalid distribution -9fi (c:\\users\\lucasrc\\anaconda3\\lib\\site-packages)\n",
      "    WARNING: Ignoring invalid distribution -8fi (c:\\users\\lucasrc\\anaconda3\\lib\\site-packages)\n",
      "    WARNING: Ignoring invalid distribution -7fi (c:\\users\\lucasrc\\anaconda3\\lib\\site-packages)\n",
      "    WARNING: Ignoring invalid distribution -6fi (c:\\users\\lucasrc\\anaconda3\\lib\\site-packages)\n",
      "    WARNING: Ignoring invalid distribution -5fi (c:\\users\\lucasrc\\anaconda3\\lib\\site-packages)\n",
      "    WARNING: Ignoring invalid distribution -4fi (c:\\users\\lucasrc\\anaconda3\\lib\\site-packages)\n",
      "    WARNING: Ignoring invalid distribution -3fi (c:\\users\\lucasrc\\anaconda3\\lib\\site-packages)\n",
      "    WARNING: Ignoring invalid distribution -2fi (c:\\users\\lucasrc\\anaconda3\\lib\\site-packages)\n",
      "    WARNING: Ignoring invalid distribution -1fi (c:\\users\\lucasrc\\anaconda3\\lib\\site-packages)\n",
      "    WARNING: Ignoring invalid distribution - (c:\\users\\lucasrc\\anaconda3\\lib\\site-packages)\n",
      "    WARNING: Ignoring invalid distribution -fi (c:\\users\\lucasrc\\anaconda3\\lib\\site-packages)\n",
      "    WARNING: Ignoring invalid distribution -0fi (c:\\users\\lucasrc\\anaconda3\\lib\\site-packages)\n",
      "    WARNING: Ignoring invalid distribution -ffi (c:\\users\\lucasrc\\anaconda3\\lib\\site-packages)\n",
      "    WARNING: Ignoring invalid distribution -fi (c:\\users\\lucasrc\\anaconda3\\lib\\site-packages)\n",
      "    WARNING: Ignoring invalid distribution -9fi (c:\\users\\lucasrc\\anaconda3\\lib\\site-packages)\n",
      "    WARNING: Ignoring invalid distribution -8fi (c:\\users\\lucasrc\\anaconda3\\lib\\site-packages)\n",
      "    WARNING: Ignoring invalid distribution -7fi (c:\\users\\lucasrc\\anaconda3\\lib\\site-packages)\n",
      "    WARNING: Ignoring invalid distribution -6fi (c:\\users\\lucasrc\\anaconda3\\lib\\site-packages)\n",
      "    WARNING: Ignoring invalid distribution -5fi (c:\\users\\lucasrc\\anaconda3\\lib\\site-packages)\n",
      "    WARNING: Ignoring invalid distribution -4fi (c:\\users\\lucasrc\\anaconda3\\lib\\site-packages)\n",
      "    WARNING: Ignoring invalid distribution -3fi (c:\\users\\lucasrc\\anaconda3\\lib\\site-packages)\n",
      "    WARNING: Ignoring invalid distribution -2fi (c:\\users\\lucasrc\\anaconda3\\lib\\site-packages)\n",
      "    WARNING: Ignoring invalid distribution -1fi (c:\\users\\lucasrc\\anaconda3\\lib\\site-packages)\n",
      "    WARNING: Ignoring invalid distribution - (c:\\users\\lucasrc\\anaconda3\\lib\\site-packages)\n",
      "    WARNING: Ignoring invalid distribution -fi (c:\\users\\lucasrc\\anaconda3\\lib\\site-packages)\n",
      "    WARNING: Ignoring invalid distribution -0fi (c:\\users\\lucasrc\\anaconda3\\lib\\site-packages)\n",
      "    WARNING: Ignoring invalid distribution -ffi (c:\\users\\lucasrc\\anaconda3\\lib\\site-packages)\n",
      "    WARNING: Ignoring invalid distribution -fi (c:\\users\\lucasrc\\anaconda3\\lib\\site-packages)\n",
      "    WARNING: Ignoring invalid distribution -9fi (c:\\users\\lucasrc\\anaconda3\\lib\\site-packages)\n",
      "    WARNING: Ignoring invalid distribution -8fi (c:\\users\\lucasrc\\anaconda3\\lib\\site-packages)\n",
      "    WARNING: Ignoring invalid distribution -7fi (c:\\users\\lucasrc\\anaconda3\\lib\\site-packages)\n",
      "    WARNING: Ignoring invalid distribution -6fi (c:\\users\\lucasrc\\anaconda3\\lib\\site-packages)\n",
      "    WARNING: Ignoring invalid distribution -5fi (c:\\users\\lucasrc\\anaconda3\\lib\\site-packages)\n",
      "    WARNING: Ignoring invalid distribution -4fi (c:\\users\\lucasrc\\anaconda3\\lib\\site-packages)\n",
      "    WARNING: Ignoring invalid distribution -3fi (c:\\users\\lucasrc\\anaconda3\\lib\\site-packages)\n",
      "    WARNING: Ignoring invalid distribution -2fi (c:\\users\\lucasrc\\anaconda3\\lib\\site-packages)\n",
      "    WARNING: Ignoring invalid distribution -1fi (c:\\users\\lucasrc\\anaconda3\\lib\\site-packages)\n",
      "    WARNING: Ignoring invalid distribution - (c:\\users\\lucasrc\\anaconda3\\lib\\site-packages)\n",
      "    WARNING: Ignoring invalid distribution -fi (c:\\users\\lucasrc\\anaconda3\\lib\\site-packages)\n",
      "    WARNING: Ignoring invalid distribution -0fi (c:\\users\\lucasrc\\anaconda3\\lib\\site-packages)\n",
      "    WARNING: Ignoring invalid distribution -ffi (c:\\users\\lucasrc\\anaconda3\\lib\\site-packages)\n",
      "    WARNING: Ignoring invalid distribution -fi (c:\\users\\lucasrc\\anaconda3\\lib\\site-packages)\n",
      "    WARNING: Ignoring invalid distribution -9fi (c:\\users\\lucasrc\\anaconda3\\lib\\site-packages)\n",
      "    WARNING: Ignoring invalid distribution -8fi (c:\\users\\lucasrc\\anaconda3\\lib\\site-packages)\n",
      "    WARNING: Ignoring invalid distribution -7fi (c:\\users\\lucasrc\\anaconda3\\lib\\site-packages)\n"
     ]
    }
   ],
   "source": [
    "!pip install --force-reinstall C:\\Users\\lucasrc\\Documents\\Codes\\mlutils\\dist\\mlutils-0.1.0-py3-none-any.whl"
   ]
  },
  {
   "cell_type": "code",
   "execution_count": 52,
   "id": "3cf9e6df",
   "metadata": {},
   "outputs": [
    {
     "name": "stdout",
     "output_type": "stream",
     "text": [
      "  Using cached cffi-1.14.5-cp38-cp38-win_amd64.whl (179 kB)\n",
      "Collecting keyring==23.0.1\n",
      "  Using cached keyring-23.0.1-py3-none-any.whl (33 kB)\n",
      "Collecting pycparser==2.20\n",
      "  Using cached pycparser-2.20-py2.py3-none-any.whl (112 kB)\n",
      "Collecting iniconfig==1.1.1\n",
      "  Using cached iniconfig-1.1.1-py2.py3-none-any.whl (5.0 kB)\n",
      "Collecting SecretStorage==3.3.1\n",
      "  Using cached SecretStorage-3.3.1-py3-none-any.whl (15 kB)\n",
      "Collecting packaging==20.9\n",
      "  Using cached packaging-20.9-py2.py3-none-any.whl (40 kB)\n",
      "Collecting rfc3986==1.5.0\n",
      "  Using cached rfc3986-1.5.0-py2.py3-none-any.whl (31 kB)\n",
      "Collecting numpy==1.20.3\n",
      "  Using cached numpy-1.20.3-cp38-cp38-win_amd64.whl (13.7 MB)\n",
      "Collecting readme-renderer==29.0\n",
      "  Using cached readme_renderer-29.0-py2.py3-none-any.whl (15 kB)\n",
      "Collecting webencodings==0.5.1\n",
      "  Using cached webencodings-0.5.1-py2.py3-none-any.whl (11 kB)\n",
      "Collecting docutils==0.17.1\n",
      "  Using cached docutils-0.17.1-py2.py3-none-any.whl (575 kB)\n",
      "Collecting attrs==21.2.0\n",
      "  Using cached attrs-21.2.0-py2.py3-none-any.whl (53 kB)\n",
      "Collecting requests==2.25.1\n",
      "  Using cached requests-2.25.1-py2.py3-none-any.whl (61 kB)\n",
      "Collecting pytest-runner==5.3.1\n",
      "  Using cached pytest_runner-5.3.1-py3-none-any.whl (7.1 kB)\n",
      "Collecting tqdm==4.61.1\n",
      "  Using cached tqdm-4.61.1-py2.py3-none-any.whl (75 kB)\n",
      "Collecting zipp==3.4.1\n",
      "  Using cached zipp-3.4.1-py3-none-any.whl (5.2 kB)\n",
      "Collecting pyparsing==2.4.7\n",
      "  Using cached pyparsing-2.4.7-py2.py3-none-any.whl (67 kB)\n",
      "Collecting Pygments==2.9.0\n",
      "  Using cached Pygments-2.9.0-py3-none-any.whl (1.0 MB)\n",
      "Collecting py==1.10.0\n",
      "  Using cached py-1.10.0-py2.py3-none-any.whl (97 kB)\n",
      "Collecting certifi==2021.5.30\n",
      "  Using cached certifi-2021.5.30-py2.py3-none-any.whl (145 kB)\n",
      "Collecting pywin32-ctypes!=0.1.0,!=0.1.1\n",
      "  Using cached pywin32_ctypes-0.2.0-py2.py3-none-any.whl (28 kB)\n",
      "Collecting atomicwrites>=1.0\n",
      "  Using cached atomicwrites-1.4.0-py2.py3-none-any.whl (6.8 kB)\n",
      "Installing collected packages: pyparsing, zipp, webencodings, urllib3, six, pycparser, packaging, idna, chardet, certifi, requests, pywin32-ctypes, Pygments, importlib-metadata, docutils, cffi, bleach, tqdm, toml, rfc3986, requests-toolbelt, readme-renderer, py, pluggy, pkginfo, keyring, jeepney, iniconfig, cryptography, colorama, attrs, atomicwrites, twine, SecretStorage, pytest-runner, pytest, numpy, mlutils\n",
      "  Attempting uninstall: pyparsing\n",
      "    Found existing installation: pyparsing 2.4.7\n",
      "    Uninstalling pyparsing-2.4.7:\n",
      "      Successfully uninstalled pyparsing-2.4.7\n",
      "  Attempting uninstall: zipp\n",
      "    Found existing installation: zipp 3.4.1\n",
      "    Uninstalling zipp-3.4.1:\n",
      "      Successfully uninstalled zipp-3.4.1\n",
      "  Attempting uninstall: webencodings\n",
      "    Found existing installation: webencodings 0.5.1\n",
      "    Uninstalling webencodings-0.5.1:\n",
      "      Successfully uninstalled webencodings-0.5.1\n",
      "  Attempting uninstall: urllib3\n",
      "    Found existing installation: urllib3 1.26.5\n",
      "    Uninstalling urllib3-1.26.5:\n",
      "      Successfully uninstalled urllib3-1.26.5\n",
      "  Attempting uninstall: six\n",
      "    Found existing installation: six 1.16.0\n",
      "    Uninstalling six-1.16.0:\n",
      "      Successfully uninstalled six-1.16.0\n",
      "  Attempting uninstall: pycparser\n",
      "    Found existing installation: pycparser 2.20\n",
      "    Uninstalling pycparser-2.20:\n",
      "      Successfully uninstalled pycparser-2.20\n",
      "  Attempting uninstall: packaging\n",
      "    Found existing installation: packaging 20.9\n",
      "    Uninstalling packaging-20.9:\n",
      "      Successfully uninstalled packaging-20.9\n",
      "  Attempting uninstall: idna\n",
      "    Found existing installation: idna 2.10\n",
      "    Uninstalling idna-2.10:\n",
      "      Successfully uninstalled idna-2.10\n",
      "  Attempting uninstall: chardet\n",
      "    Found existing installation: chardet 4.0.0\n",
      "    Uninstalling chardet-4.0.0:\n",
      "      Successfully uninstalled chardet-4.0.0\n",
      "  Attempting uninstall: certifi\n",
      "    Found existing installation: certifi 2021.5.30\n",
      "    Uninstalling certifi-2021.5.30:\n",
      "      Successfully uninstalled certifi-2021.5.30\n",
      "  Attempting uninstall: requests\n",
      "    Found existing installation: requests 2.25.1\n",
      "    Uninstalling requests-2.25.1:\n",
      "      Successfully uninstalled requests-2.25.1\n",
      "  Attempting uninstall: pywin32-ctypes\n",
      "    Found existing installation: pywin32-ctypes 0.2.0\n",
      "    Uninstalling pywin32-ctypes-0.2.0:\n",
      "      Successfully uninstalled pywin32-ctypes-0.2.0\n",
      "  Attempting uninstall: Pygments\n",
      "    Found existing installation: Pygments 2.9.0\n",
      "    Uninstalling Pygments-2.9.0:\n",
      "      Successfully uninstalled Pygments-2.9.0\n",
      "  Attempting uninstall: importlib-metadata\n",
      "    Found existing installation: importlib-metadata 4.5.0\n",
      "    Uninstalling importlib-metadata-4.5.0:\n",
      "      Successfully uninstalled importlib-metadata-4.5.0\n",
      "  Attempting uninstall: docutils\n",
      "    Found existing installation: docutils 0.17.1\n",
      "    Uninstalling docutils-0.17.1:\n",
      "      Successfully uninstalled docutils-0.17.1\n",
      "  Attempting uninstall: cffi\n",
      "    Found existing installation: cffi 1.14.5\n",
      "    Uninstalling cffi-1.14.5:\n",
      "      Successfully uninstalled cffi-1.14.5\n"
     ]
    },
    {
     "name": "stderr",
     "output_type": "stream",
     "text": [
      "    WARNING: Ignoring invalid distribution -6fi (c:\\users\\lucasrc\\anaconda3\\lib\\site-packages)\n",
      "    WARNING: Ignoring invalid distribution -5fi (c:\\users\\lucasrc\\anaconda3\\lib\\site-packages)\n",
      "    WARNING: Ignoring invalid distribution -4fi (c:\\users\\lucasrc\\anaconda3\\lib\\site-packages)\n",
      "    WARNING: Ignoring invalid distribution -3fi (c:\\users\\lucasrc\\anaconda3\\lib\\site-packages)\n",
      "    WARNING: Ignoring invalid distribution -2fi (c:\\users\\lucasrc\\anaconda3\\lib\\site-packages)\n",
      "    WARNING: Ignoring invalid distribution -1fi (c:\\users\\lucasrc\\anaconda3\\lib\\site-packages)\n",
      "    WARNING: Ignoring invalid distribution - (c:\\users\\lucasrc\\anaconda3\\lib\\site-packages)\n",
      "    WARNING: Ignoring invalid distribution -fi (c:\\users\\lucasrc\\anaconda3\\lib\\site-packages)\n",
      "    WARNING: Ignoring invalid distribution -0fi (c:\\users\\lucasrc\\anaconda3\\lib\\site-packages)\n",
      "    WARNING: Ignoring invalid distribution -ffi (c:\\users\\lucasrc\\anaconda3\\lib\\site-packages)\n",
      "    WARNING: Ignoring invalid distribution -fi (c:\\users\\lucasrc\\anaconda3\\lib\\site-packages)\n",
      "    WARNING: Ignoring invalid distribution -9fi (c:\\users\\lucasrc\\anaconda3\\lib\\site-packages)\n",
      "    WARNING: Ignoring invalid distribution -8fi (c:\\users\\lucasrc\\anaconda3\\lib\\site-packages)\n",
      "    WARNING: Ignoring invalid distribution -7fi (c:\\users\\lucasrc\\anaconda3\\lib\\site-packages)\n",
      "    WARNING: Ignoring invalid distribution -6fi (c:\\users\\lucasrc\\anaconda3\\lib\\site-packages)\n",
      "    WARNING: Ignoring invalid distribution -5fi (c:\\users\\lucasrc\\anaconda3\\lib\\site-packages)\n",
      "    WARNING: Ignoring invalid distribution -4fi (c:\\users\\lucasrc\\anaconda3\\lib\\site-packages)\n",
      "    WARNING: Ignoring invalid distribution -3fi (c:\\users\\lucasrc\\anaconda3\\lib\\site-packages)\n",
      "    WARNING: Ignoring invalid distribution -2fi (c:\\users\\lucasrc\\anaconda3\\lib\\site-packages)\n",
      "    WARNING: Ignoring invalid distribution -1fi (c:\\users\\lucasrc\\anaconda3\\lib\\site-packages)\n",
      "    WARNING: Ignoring invalid distribution - (c:\\users\\lucasrc\\anaconda3\\lib\\site-packages)\n",
      "    WARNING: Ignoring invalid distribution -fi (c:\\users\\lucasrc\\anaconda3\\lib\\site-packages)\n",
      "    WARNING: Ignoring invalid distribution -0fi (c:\\users\\lucasrc\\anaconda3\\lib\\site-packages)\n",
      "    WARNING: Ignoring invalid distribution -ffi (c:\\users\\lucasrc\\anaconda3\\lib\\site-packages)\n",
      "    WARNING: Ignoring invalid distribution -fi (c:\\users\\lucasrc\\anaconda3\\lib\\site-packages)\n",
      "    WARNING: Ignoring invalid distribution -9fi (c:\\users\\lucasrc\\anaconda3\\lib\\site-packages)\n",
      "    WARNING: Ignoring invalid distribution -8fi (c:\\users\\lucasrc\\anaconda3\\lib\\site-packages)\n",
      "    WARNING: Ignoring invalid distribution -7fi (c:\\users\\lucasrc\\anaconda3\\lib\\site-packages)\n",
      "    WARNING: Ignoring invalid distribution -6fi (c:\\users\\lucasrc\\anaconda3\\lib\\site-packages)\n",
      "    WARNING: Ignoring invalid distribution -5fi (c:\\users\\lucasrc\\anaconda3\\lib\\site-packages)\n",
      "    WARNING: Ignoring invalid distribution -4fi (c:\\users\\lucasrc\\anaconda3\\lib\\site-packages)\n",
      "    WARNING: Ignoring invalid distribution -3fi (c:\\users\\lucasrc\\anaconda3\\lib\\site-packages)\n",
      "    WARNING: Ignoring invalid distribution -2fi (c:\\users\\lucasrc\\anaconda3\\lib\\site-packages)\n",
      "    WARNING: Ignoring invalid distribution -1fi (c:\\users\\lucasrc\\anaconda3\\lib\\site-packages)\n",
      "    WARNING: Ignoring invalid distribution - (c:\\users\\lucasrc\\anaconda3\\lib\\site-packages)\n",
      "    WARNING: Ignoring invalid distribution -fi (c:\\users\\lucasrc\\anaconda3\\lib\\site-packages)\n",
      "    WARNING: Ignoring invalid distribution -0fi (c:\\users\\lucasrc\\anaconda3\\lib\\site-packages)\n",
      "    WARNING: Ignoring invalid distribution -ffi (c:\\users\\lucasrc\\anaconda3\\lib\\site-packages)\n",
      "    WARNING: Ignoring invalid distribution -fi (c:\\users\\lucasrc\\anaconda3\\lib\\site-packages)\n",
      "    WARNING: Ignoring invalid distribution -9fi (c:\\users\\lucasrc\\anaconda3\\lib\\site-packages)\n",
      "    WARNING: Ignoring invalid distribution -8fi (c:\\users\\lucasrc\\anaconda3\\lib\\site-packages)\n",
      "    WARNING: Ignoring invalid distribution -7fi (c:\\users\\lucasrc\\anaconda3\\lib\\site-packages)\n",
      "    WARNING: Ignoring invalid distribution -6fi (c:\\users\\lucasrc\\anaconda3\\lib\\site-packages)\n",
      "    WARNING: Ignoring invalid distribution -5fi (c:\\users\\lucasrc\\anaconda3\\lib\\site-packages)\n",
      "    WARNING: Ignoring invalid distribution -4fi (c:\\users\\lucasrc\\anaconda3\\lib\\site-packages)\n",
      "    WARNING: Ignoring invalid distribution -3fi (c:\\users\\lucasrc\\anaconda3\\lib\\site-packages)\n",
      "    WARNING: Ignoring invalid distribution -2fi (c:\\users\\lucasrc\\anaconda3\\lib\\site-packages)\n",
      "    WARNING: Ignoring invalid distribution -1fi (c:\\users\\lucasrc\\anaconda3\\lib\\site-packages)\n",
      "    WARNING: Ignoring invalid distribution - (c:\\users\\lucasrc\\anaconda3\\lib\\site-packages)\n",
      "    WARNING: Ignoring invalid distribution -fi (c:\\users\\lucasrc\\anaconda3\\lib\\site-packages)\n",
      "    WARNING: Ignoring invalid distribution -0fi (c:\\users\\lucasrc\\anaconda3\\lib\\site-packages)\n",
      "    WARNING: Ignoring invalid distribution -ffi (c:\\users\\lucasrc\\anaconda3\\lib\\site-packages)\n",
      "    WARNING: Ignoring invalid distribution -fi (c:\\users\\lucasrc\\anaconda3\\lib\\site-packages)\n",
      "    WARNING: Ignoring invalid distribution -9fi (c:\\users\\lucasrc\\anaconda3\\lib\\site-packages)\n",
      "    WARNING: Ignoring invalid distribution -8fi (c:\\users\\lucasrc\\anaconda3\\lib\\site-packages)\n",
      "    WARNING: Ignoring invalid distribution -7fi (c:\\users\\lucasrc\\anaconda3\\lib\\site-packages)\n",
      "    WARNING: Ignoring invalid distribution -6fi (c:\\users\\lucasrc\\anaconda3\\lib\\site-packages)\n",
      "    WARNING: Ignoring invalid distribution -5fi (c:\\users\\lucasrc\\anaconda3\\lib\\site-packages)\n",
      "    WARNING: Ignoring invalid distribution -4fi (c:\\users\\lucasrc\\anaconda3\\lib\\site-packages)\n",
      "    WARNING: Ignoring invalid distribution -3fi (c:\\users\\lucasrc\\anaconda3\\lib\\site-packages)\n",
      "    WARNING: Ignoring invalid distribution -2fi (c:\\users\\lucasrc\\anaconda3\\lib\\site-packages)\n",
      "    WARNING: Ignoring invalid distribution -1fi (c:\\users\\lucasrc\\anaconda3\\lib\\site-packages)\n",
      "    WARNING: Ignoring invalid distribution - (c:\\users\\lucasrc\\anaconda3\\lib\\site-packages)\n",
      "    WARNING: Ignoring invalid distribution -fi (c:\\users\\lucasrc\\anaconda3\\lib\\site-packages)\n",
      "    WARNING: Ignoring invalid distribution -0fi (c:\\users\\lucasrc\\anaconda3\\lib\\site-packages)\n",
      "    WARNING: Ignoring invalid distribution -ffi (c:\\users\\lucasrc\\anaconda3\\lib\\site-packages)\n",
      "    WARNING: Ignoring invalid distribution -fi (c:\\users\\lucasrc\\anaconda3\\lib\\site-packages)\n",
      "    WARNING: Ignoring invalid distribution -9fi (c:\\users\\lucasrc\\anaconda3\\lib\\site-packages)\n",
      "    WARNING: Ignoring invalid distribution -8fi (c:\\users\\lucasrc\\anaconda3\\lib\\site-packages)\n",
      "    WARNING: Ignoring invalid distribution -7fi (c:\\users\\lucasrc\\anaconda3\\lib\\site-packages)\n",
      "    WARNING: Ignoring invalid distribution -6fi (c:\\users\\lucasrc\\anaconda3\\lib\\site-packages)\n",
      "    WARNING: Ignoring invalid distribution -5fi (c:\\users\\lucasrc\\anaconda3\\lib\\site-packages)\n",
      "    WARNING: Ignoring invalid distribution -4fi (c:\\users\\lucasrc\\anaconda3\\lib\\site-packages)\n",
      "    WARNING: Ignoring invalid distribution -3fi (c:\\users\\lucasrc\\anaconda3\\lib\\site-packages)\n",
      "    WARNING: Ignoring invalid distribution -2fi (c:\\users\\lucasrc\\anaconda3\\lib\\site-packages)\n",
      "    WARNING: Ignoring invalid distribution -1fi (c:\\users\\lucasrc\\anaconda3\\lib\\site-packages)\n",
      "    WARNING: Ignoring invalid distribution - (c:\\users\\lucasrc\\anaconda3\\lib\\site-packages)\n",
      "    WARNING: Ignoring invalid distribution -fi (c:\\users\\lucasrc\\anaconda3\\lib\\site-packages)\n",
      "    WARNING: Ignoring invalid distribution -0fi (c:\\users\\lucasrc\\anaconda3\\lib\\site-packages)\n",
      "    WARNING: Ignoring invalid distribution -ffi (c:\\users\\lucasrc\\anaconda3\\lib\\site-packages)\n",
      "    WARNING: Ignoring invalid distribution -fi (c:\\users\\lucasrc\\anaconda3\\lib\\site-packages)\n",
      "    WARNING: Ignoring invalid distribution -9fi (c:\\users\\lucasrc\\anaconda3\\lib\\site-packages)\n",
      "    WARNING: Ignoring invalid distribution -8fi (c:\\users\\lucasrc\\anaconda3\\lib\\site-packages)\n",
      "    WARNING: Ignoring invalid distribution -7fi (c:\\users\\lucasrc\\anaconda3\\lib\\site-packages)\n",
      "    WARNING: Ignoring invalid distribution -6fi (c:\\users\\lucasrc\\anaconda3\\lib\\site-packages)\n",
      "    WARNING: Ignoring invalid distribution -5fi (c:\\users\\lucasrc\\anaconda3\\lib\\site-packages)\n",
      "    WARNING: Ignoring invalid distribution -4fi (c:\\users\\lucasrc\\anaconda3\\lib\\site-packages)\n",
      "    WARNING: Ignoring invalid distribution -3fi (c:\\users\\lucasrc\\anaconda3\\lib\\site-packages)\n",
      "    WARNING: Ignoring invalid distribution -2fi (c:\\users\\lucasrc\\anaconda3\\lib\\site-packages)\n",
      "    WARNING: Ignoring invalid distribution -1fi (c:\\users\\lucasrc\\anaconda3\\lib\\site-packages)\n",
      "    WARNING: Ignoring invalid distribution - (c:\\users\\lucasrc\\anaconda3\\lib\\site-packages)\n",
      "    WARNING: Ignoring invalid distribution -fi (c:\\users\\lucasrc\\anaconda3\\lib\\site-packages)\n",
      "    WARNING: Ignoring invalid distribution -0fi (c:\\users\\lucasrc\\anaconda3\\lib\\site-packages)\n",
      "    WARNING: Ignoring invalid distribution -ffi (c:\\users\\lucasrc\\anaconda3\\lib\\site-packages)\n",
      "    WARNING: Ignoring invalid distribution -fi (c:\\users\\lucasrc\\anaconda3\\lib\\site-packages)\n",
      "    WARNING: Ignoring invalid distribution -9fi (c:\\users\\lucasrc\\anaconda3\\lib\\site-packages)\n",
      "    WARNING: Ignoring invalid distribution -8fi (c:\\users\\lucasrc\\anaconda3\\lib\\site-packages)\n",
      "    WARNING: Ignoring invalid distribution -7fi (c:\\users\\lucasrc\\anaconda3\\lib\\site-packages)\n",
      "    WARNING: Ignoring invalid distribution -6fi (c:\\users\\lucasrc\\anaconda3\\lib\\site-packages)\n",
      "    WARNING: Ignoring invalid distribution -5fi (c:\\users\\lucasrc\\anaconda3\\lib\\site-packages)\n",
      "    WARNING: Ignoring invalid distribution -4fi (c:\\users\\lucasrc\\anaconda3\\lib\\site-packages)\n",
      "    WARNING: Ignoring invalid distribution -3fi (c:\\users\\lucasrc\\anaconda3\\lib\\site-packages)\n",
      "    WARNING: Ignoring invalid distribution -2fi (c:\\users\\lucasrc\\anaconda3\\lib\\site-packages)\n",
      "    WARNING: Ignoring invalid distribution -1fi (c:\\users\\lucasrc\\anaconda3\\lib\\site-packages)\n",
      "    WARNING: Ignoring invalid distribution - (c:\\users\\lucasrc\\anaconda3\\lib\\site-packages)\n",
      "    WARNING: Ignoring invalid distribution -fi (c:\\users\\lucasrc\\anaconda3\\lib\\site-packages)\n",
      "    WARNING: Ignoring invalid distribution -0fi (c:\\users\\lucasrc\\anaconda3\\lib\\site-packages)\n",
      "    WARNING: Ignoring invalid distribution -ffi (c:\\users\\lucasrc\\anaconda3\\lib\\site-packages)\n",
      "ERROR: Could not install packages due to an OSError: [WinError 5] Acesso negado: 'C:\\\\Users\\\\lucasrc\\\\AppData\\\\Local\\\\Temp\\\\pip-uninstall-hwdlh8w3\\\\_cffi_backend.cp38-win_amd64.pyd'\n",
      "Consider using the `--user` option or check the permissions.\n",
      "\n",
      "WARNING: Ignoring invalid distribution -fi (c:\\users\\lucasrc\\anaconda3\\lib\\site-packages)\n",
      "WARNING: Ignoring invalid distribution -9fi (c:\\users\\lucasrc\\anaconda3\\lib\\site-packages)\n",
      "WARNING: Ignoring invalid distribution -8fi (c:\\users\\lucasrc\\anaconda3\\lib\\site-packages)\n",
      "WARNING: Ignoring invalid distribution -7fi (c:\\users\\lucasrc\\anaconda3\\lib\\site-packages)\n",
      "WARNING: Ignoring invalid distribution -6fi (c:\\users\\lucasrc\\anaconda3\\lib\\site-packages)\n",
      "WARNING: Ignoring invalid distribution -5fi (c:\\users\\lucasrc\\anaconda3\\lib\\site-packages)\n",
      "WARNING: Ignoring invalid distribution -4fi (c:\\users\\lucasrc\\anaconda3\\lib\\site-packages)\n",
      "WARNING: Ignoring invalid distribution -3fi (c:\\users\\lucasrc\\anaconda3\\lib\\site-packages)\n",
      "WARNING: Ignoring invalid distribution -2fi (c:\\users\\lucasrc\\anaconda3\\lib\\site-packages)\n",
      "WARNING: Ignoring invalid distribution -1fi (c:\\users\\lucasrc\\anaconda3\\lib\\site-packages)\n",
      "WARNING: Ignoring invalid distribution - (c:\\users\\lucasrc\\anaconda3\\lib\\site-packages)\n",
      "WARNING: Ignoring invalid distribution -fi (c:\\users\\lucasrc\\anaconda3\\lib\\site-packages)\n",
      "WARNING: Ignoring invalid distribution -0fi (c:\\users\\lucasrc\\anaconda3\\lib\\site-packages)\n",
      "WARNING: Ignoring invalid distribution -ffi (c:\\users\\lucasrc\\anaconda3\\lib\\site-packages)\n",
      "WARNING: Ignoring invalid distribution -fi (c:\\users\\lucasrc\\anaconda3\\lib\\site-packages)\n",
      "WARNING: Ignoring invalid distribution -9fi (c:\\users\\lucasrc\\anaconda3\\lib\\site-packages)\n",
      "WARNING: Ignoring invalid distribution -8fi (c:\\users\\lucasrc\\anaconda3\\lib\\site-packages)\n",
      "WARNING: Ignoring invalid distribution -7fi (c:\\users\\lucasrc\\anaconda3\\lib\\site-packages)\n",
      "WARNING: Ignoring invalid distribution -6fi (c:\\users\\lucasrc\\anaconda3\\lib\\site-packages)\n",
      "WARNING: Ignoring invalid distribution -5fi (c:\\users\\lucasrc\\anaconda3\\lib\\site-packages)\n",
      "WARNING: Ignoring invalid distribution -4fi (c:\\users\\lucasrc\\anaconda3\\lib\\site-packages)\n",
      "WARNING: Ignoring invalid distribution -3fi (c:\\users\\lucasrc\\anaconda3\\lib\\site-packages)\n",
      "WARNING: Ignoring invalid distribution -2fi (c:\\users\\lucasrc\\anaconda3\\lib\\site-packages)\n",
      "WARNING: Ignoring invalid distribution -1fi (c:\\users\\lucasrc\\anaconda3\\lib\\site-packages)\n",
      "WARNING: Ignoring invalid distribution - (c:\\users\\lucasrc\\anaconda3\\lib\\site-packages)\n",
      "WARNING: Ignoring invalid distribution -fi (c:\\users\\lucasrc\\anaconda3\\lib\\site-packages)\n",
      "WARNING: Ignoring invalid distribution -0fi (c:\\users\\lucasrc\\anaconda3\\lib\\site-packages)\n",
      "WARNING: Ignoring invalid distribution -ffi (c:\\users\\lucasrc\\anaconda3\\lib\\site-packages)\n",
      "WARNING: Ignoring invalid distribution -fi (c:\\users\\lucasrc\\anaconda3\\lib\\site-packages)\n",
      "WARNING: Ignoring invalid distribution -9fi (c:\\users\\lucasrc\\anaconda3\\lib\\site-packages)\n",
      "WARNING: Ignoring invalid distribution -8fi (c:\\users\\lucasrc\\anaconda3\\lib\\site-packages)\n",
      "WARNING: Ignoring invalid distribution -7fi (c:\\users\\lucasrc\\anaconda3\\lib\\site-packages)\n",
      "WARNING: Ignoring invalid distribution -6fi (c:\\users\\lucasrc\\anaconda3\\lib\\site-packages)\n",
      "WARNING: Ignoring invalid distribution -5fi (c:\\users\\lucasrc\\anaconda3\\lib\\site-packages)\n",
      "WARNING: Ignoring invalid distribution -4fi (c:\\users\\lucasrc\\anaconda3\\lib\\site-packages)\n",
      "WARNING: Ignoring invalid distribution -3fi (c:\\users\\lucasrc\\anaconda3\\lib\\site-packages)\n",
      "WARNING: Ignoring invalid distribution -2fi (c:\\users\\lucasrc\\anaconda3\\lib\\site-packages)\n",
      "WARNING: Ignoring invalid distribution -1fi (c:\\users\\lucasrc\\anaconda3\\lib\\site-packages)\n",
      "WARNING: Ignoring invalid distribution - (c:\\users\\lucasrc\\anaconda3\\lib\\site-packages)\n",
      "WARNING: Ignoring invalid distribution -fi (c:\\users\\lucasrc\\anaconda3\\lib\\site-packages)\n",
      "WARNING: Ignoring invalid distribution -0fi (c:\\users\\lucasrc\\anaconda3\\lib\\site-packages)\n",
      "WARNING: Ignoring invalid distribution -ffi (c:\\users\\lucasrc\\anaconda3\\lib\\site-packages)\n",
      "WARNING: You are using pip version 21.2.4; however, version 21.3.1 is available.\n",
      "You should consider upgrading via the 'c:\\users\\lucasrc\\anaconda3\\python.exe -m pip install --upgrade pip' command.\n"
     ]
    }
   ],
   "source": [
    "from sklearn.model_selection import cross_val_score\n",
    "from sklearn.model_selection import KFold\n",
    "from sklearn.ensemble import RandomForestClassifier\n",
    "from sklearn.ensemble import RandomForestRegressor\n",
    "import optuna\n",
    "from sklearn.metrics import mean_squared_error, mean_absolute_error, r2_score\n",
    "from sklearn.metrics import explained_variance_score, max_error\n",
    "from sklearn.metrics import mean_squared_log_error, median_absolute_error\n",
    "from sklearn.metrics import accuracy_score\n",
    "from mlutils.tuning_hyperparams import *\n",
    "from mlutils.feature_engineering import *"
   ]
  },
  {
   "cell_type": "code",
   "execution_count": null,
   "id": "982e599b",
   "metadata": {},
   "outputs": [],
   "source": [
    "from scipy.sparse.construct import random\n",
    "from sklearn.model_selection import cross_val_score\n",
    "from sklearn.model_selection import KFold\n",
    "from sklearn.ensemble import RandomForestClassifier\n",
    "from sklearn.ensemble import RandomForestRegressor\n",
    "import optuna\n",
    "from optuna.samplers import RandomSampler\n",
    "from sklearn.metrics import mean_squared_error, mean_absolute_error, r2_score\n",
    "from sklearn.metrics import explained_variance_score, max_error\n",
    "from sklearn.metrics import mean_squared_log_error, median_absolute_error\n",
    "from sklearn.metrics import make_scorer\n",
    "from sklearn.metrics import (\n",
    "    accuracy_score,\n",
    "    roc_auc_score,\n",
    "    precision_score,\n",
    "    f1_score,\n",
    "    recall_score,\n",
    ")\n",
    "\n",
    "from mlutils.feature_engineering import select_data\n",
    "\n",
    "\n",
    "def tuning_hyperparams(\n",
    "    df,\n",
    "    target: str,\n",
    "    parameters: dict,\n",
    "    algorithm,\n",
    "    metric,\n",
    "    scoring_option: str,\n",
    "    n_trials: int,\n",
    "):\n",
    "\n",
    "    \"\"\"\n",
    "    Perform hyperparameters optimization using optuna framework for the chosen technique.\n",
    "\n",
    "    :param df: DataFrame pandas\n",
    "    :type: DataFrame\n",
    "    :param target: target variable\n",
    "    :type: str\n",
    "    :param parameters: Dict that contains all the threshold given for optimization testing\n",
    "    :type: dict\n",
    "    :param algorithm: Machine Learning algorithm used for fit the model\n",
    "    :type: class\n",
    "    :param metric: Metric used for the evaluation of the tests\n",
    "    :type: function\n",
    "    :param scoring_option: Maximize or minimize objectives\n",
    "    :type: str\n",
    "    :param n_trials: The of trials that the framework must perform\n",
    "    :type: int\n",
    "    :raise exception: The optimization method couldn't be processed\n",
    "    :return: Best hyperparameter features chosen by the technique \n",
    "    :rtype: dict\n",
    "\n",
    "    \"\"\"\n",
    "    x, y = select_data(df=df, target=target)\n",
    "\n",
    "    parameters_dict = {}\n",
    "\n",
    "    def objective(trial=n_trials, parameters=parameters, metric=metric, x=x, y=y):\n",
    "\n",
    "        if parameters:\n",
    "            for i, param in enumerate(parameters):\n",
    "\n",
    "                if param[\"type\"] == \"Real\":\n",
    "                    parameters_dict[param[\"name\"]] = trial.suggest_uniform(\n",
    "                        name=param[\"name\"], low=param[\"low\"], high=param[\"high\"]\n",
    "                    )\n",
    "                elif param[\"type\"] == \"Categorical\":\n",
    "                    parameters_dict[param[\"name\"]] = trial.suggest_categorical(\n",
    "                        name=param[\"name\"], choices=param[\"choices\"]\n",
    "                    )\n",
    "\n",
    "                elif param[\"type\"] == \"Integer\":\n",
    "                    parameters_dict[param[\"name\"]] = trial.suggest_int(\n",
    "                        name=param[\"name\"], low=param[\"low\"], high=param[\"high\"]\n",
    "                    )\n",
    "                else:\n",
    "                    raise NotImplemented(\"Not implemented yet\")\n",
    "\n",
    "        my_model = algorithm(**parameters_dict)\n",
    "        cv = KFold(n_splits=10, shuffle=True, random_state=42)\n",
    "        metric_cv = cross_val_score(estimator=my_model, X=x, y=y, scoring=make_scorer(metric), cv=cv)\n",
    "        print(make_scorer(metric))\n",
    "        result = abs(metric_cv.mean())\n",
    "\n",
    "        return result\n",
    "\n",
    "    study = optuna.create_study(\n",
    "        direction=scoring_option, sampler=RandomSampler(seed=42)\n",
    "    )\n",
    "    study.optimize(objective, n_trials=n_trials)\n",
    "\n",
    "    return study.best_params"
   ]
  },
  {
   "cell_type": "code",
   "execution_count": null,
   "id": "e5bc8c68",
   "metadata": {},
   "outputs": [],
   "source": []
  },
  {
   "cell_type": "markdown",
   "id": "36d05fd3",
   "metadata": {},
   "source": [
    "## 3.0 Input e Output"
   ]
  },
  {
   "cell_type": "markdown",
   "id": "8b4bf44c",
   "metadata": {},
   "source": [
    "## 3.1 Exemplo do output Para Modelo de Classificação "
   ]
  },
  {
   "cell_type": "code",
   "execution_count": 53,
   "id": "1c50aff6",
   "metadata": {},
   "outputs": [],
   "source": [
    "import pandas as pd\n",
    "from sklearn import datasets"
   ]
  },
  {
   "cell_type": "code",
   "execution_count": 54,
   "id": "a783239d",
   "metadata": {},
   "outputs": [],
   "source": [
    "iris_data = datasets.load_iris()\n",
    "df_iris = pd.DataFrame(data=iris_data.data, columns=iris_data.feature_names)\n",
    "df_iris[\"target\"] = iris_data.target\n",
    "\n",
    "param_RF = [\n",
    "        {\"name\": \"min_samples_leaf\", \"type\": \"Integer\", \"low\": 50, \"high\": 75},\n",
    "        {\"name\": \"max_depth\", \"type\": \"Integer\", \"low\": 12, \"high\": 24},\n",
    "    ]\n"
   ]
  },
  {
   "cell_type": "code",
   "execution_count": 55,
   "id": "8cce518a",
   "metadata": {},
   "outputs": [
    {
     "data": {
      "text/plain": [
       "[{'name': 'min_samples_leaf', 'type': 'Integer', 'low': 50, 'high': 75},\n",
       " {'name': 'max_depth', 'type': 'Integer', 'low': 12, 'high': 24}]"
      ]
     },
     "execution_count": 55,
     "metadata": {},
     "output_type": "execute_result"
    }
   ],
   "source": [
    "param_RF"
   ]
  },
  {
   "cell_type": "code",
   "execution_count": 73,
   "id": "ff253985",
   "metadata": {
    "scrolled": false
   },
   "outputs": [
    {
     "name": "stderr",
     "output_type": "stream",
     "text": [
      "\u001b[32m[I 2021-11-17 10:15:21,696]\u001b[0m A new study created in memory with name: no-name-9c49d448-f786-4c0d-b25c-980ba251f0ee\u001b[0m\n",
      "\u001b[32m[I 2021-11-17 10:15:22,500]\u001b[0m Trial 0 finished with value: 0.22666666666666666 and parameters: {'min_samples_leaf': 59, 'max_depth': 24}. Best is trial 0 with value: 0.22666666666666666.\u001b[0m\n"
     ]
    },
    {
     "name": "stdout",
     "output_type": "stream",
     "text": [
      "<function accuracy_score at 0x00000131277FD160>\n"
     ]
    },
    {
     "name": "stderr",
     "output_type": "stream",
     "text": [
      "\u001b[32m[I 2021-11-17 10:15:23,352]\u001b[0m Trial 1 finished with value: 0.23333333333333334 and parameters: {'min_samples_leaf': 69, 'max_depth': 19}. Best is trial 1 with value: 0.23333333333333334.\u001b[0m\n"
     ]
    },
    {
     "name": "stdout",
     "output_type": "stream",
     "text": [
      "<function accuracy_score at 0x00000131277FD160>\n"
     ]
    },
    {
     "name": "stderr",
     "output_type": "stream",
     "text": [
      "\u001b[32m[I 2021-11-17 10:15:24,166]\u001b[0m Trial 2 finished with value: 0.22000000000000003 and parameters: {'min_samples_leaf': 54, 'max_depth': 14}. Best is trial 1 with value: 0.23333333333333334.\u001b[0m\n"
     ]
    },
    {
     "name": "stdout",
     "output_type": "stream",
     "text": [
      "<function accuracy_score at 0x00000131277FD160>\n"
     ]
    },
    {
     "name": "stderr",
     "output_type": "stream",
     "text": [
      "\u001b[32m[I 2021-11-17 10:15:24,964]\u001b[0m Trial 3 finished with value: 0.22666666666666666 and parameters: {'min_samples_leaf': 51, 'max_depth': 23}. Best is trial 1 with value: 0.23333333333333334.\u001b[0m\n"
     ]
    },
    {
     "name": "stdout",
     "output_type": "stream",
     "text": [
      "<function accuracy_score at 0x00000131277FD160>\n"
     ]
    },
    {
     "name": "stderr",
     "output_type": "stream",
     "text": [
      "\u001b[32m[I 2021-11-17 10:15:25,854]\u001b[0m Trial 4 finished with value: 0.22000000000000003 and parameters: {'min_samples_leaf': 65, 'max_depth': 21}. Best is trial 1 with value: 0.23333333333333334.\u001b[0m\n"
     ]
    },
    {
     "name": "stdout",
     "output_type": "stream",
     "text": [
      "<function accuracy_score at 0x00000131277FD160>\n"
     ]
    },
    {
     "name": "stderr",
     "output_type": "stream",
     "text": [
      "\u001b[32m[I 2021-11-17 10:15:26,725]\u001b[0m Trial 5 finished with value: 0.22000000000000003 and parameters: {'min_samples_leaf': 50, 'max_depth': 24}. Best is trial 1 with value: 0.23333333333333334.\u001b[0m\n"
     ]
    },
    {
     "name": "stdout",
     "output_type": "stream",
     "text": [
      "<function accuracy_score at 0x00000131277FD160>\n"
     ]
    },
    {
     "name": "stderr",
     "output_type": "stream",
     "text": [
      "\u001b[32m[I 2021-11-17 10:15:27,503]\u001b[0m Trial 6 finished with value: 0.22000000000000003 and parameters: {'min_samples_leaf': 71, 'max_depth': 14}. Best is trial 1 with value: 0.23333333333333334.\u001b[0m\n"
     ]
    },
    {
     "name": "stdout",
     "output_type": "stream",
     "text": [
      "<function accuracy_score at 0x00000131277FD160>\n"
     ]
    },
    {
     "name": "stderr",
     "output_type": "stream",
     "text": [
      "\u001b[32m[I 2021-11-17 10:15:28,315]\u001b[0m Trial 7 finished with value: 0.22000000000000003 and parameters: {'min_samples_leaf': 54, 'max_depth': 14}. Best is trial 1 with value: 0.23333333333333334.\u001b[0m\n"
     ]
    },
    {
     "name": "stdout",
     "output_type": "stream",
     "text": [
      "<function accuracy_score at 0x00000131277FD160>\n"
     ]
    },
    {
     "name": "stderr",
     "output_type": "stream",
     "text": [
      "\u001b[32m[I 2021-11-17 10:15:29,097]\u001b[0m Trial 8 finished with value: 0.22000000000000003 and parameters: {'min_samples_leaf': 57, 'max_depth': 18}. Best is trial 1 with value: 0.23333333333333334.\u001b[0m\n"
     ]
    },
    {
     "name": "stdout",
     "output_type": "stream",
     "text": [
      "<function accuracy_score at 0x00000131277FD160>\n"
     ]
    },
    {
     "name": "stderr",
     "output_type": "stream",
     "text": [
      "\u001b[32m[I 2021-11-17 10:15:29,905]\u001b[0m Trial 9 finished with value: 0.23333333333333334 and parameters: {'min_samples_leaf': 61, 'max_depth': 15}. Best is trial 1 with value: 0.23333333333333334.\u001b[0m\n"
     ]
    },
    {
     "name": "stdout",
     "output_type": "stream",
     "text": [
      "<function accuracy_score at 0x00000131277FD160>\n"
     ]
    },
    {
     "name": "stderr",
     "output_type": "stream",
     "text": [
      "\u001b[32m[I 2021-11-17 10:15:30,720]\u001b[0m Trial 10 finished with value: 0.22000000000000003 and parameters: {'min_samples_leaf': 65, 'max_depth': 13}. Best is trial 1 with value: 0.23333333333333334.\u001b[0m\n"
     ]
    },
    {
     "name": "stdout",
     "output_type": "stream",
     "text": [
      "<function accuracy_score at 0x00000131277FD160>\n"
     ]
    },
    {
     "name": "stderr",
     "output_type": "stream",
     "text": [
      "\u001b[32m[I 2021-11-17 10:15:31,534]\u001b[0m Trial 11 finished with value: 0.22000000000000003 and parameters: {'min_samples_leaf': 57, 'max_depth': 16}. Best is trial 1 with value: 0.23333333333333334.\u001b[0m\n"
     ]
    },
    {
     "name": "stdout",
     "output_type": "stream",
     "text": [
      "<function accuracy_score at 0x00000131277FD160>\n"
     ]
    },
    {
     "name": "stderr",
     "output_type": "stream",
     "text": [
      "\u001b[32m[I 2021-11-17 10:15:32,329]\u001b[0m Trial 12 finished with value: 0.23333333333333334 and parameters: {'min_samples_leaf': 61, 'max_depth': 22}. Best is trial 1 with value: 0.23333333333333334.\u001b[0m\n"
     ]
    },
    {
     "name": "stdout",
     "output_type": "stream",
     "text": [
      "<function accuracy_score at 0x00000131277FD160>\n"
     ]
    },
    {
     "name": "stderr",
     "output_type": "stream",
     "text": [
      "\u001b[32m[I 2021-11-17 10:15:33,126]\u001b[0m Trial 13 finished with value: 0.22000000000000003 and parameters: {'min_samples_leaf': 55, 'max_depth': 18}. Best is trial 1 with value: 0.23333333333333334.\u001b[0m\n"
     ]
    },
    {
     "name": "stdout",
     "output_type": "stream",
     "text": [
      "<function accuracy_score at 0x00000131277FD160>\n"
     ]
    },
    {
     "name": "stderr",
     "output_type": "stream",
     "text": [
      "\u001b[32m[I 2021-11-17 10:15:33,964]\u001b[0m Trial 14 finished with value: 0.22000000000000003 and parameters: {'min_samples_leaf': 65, 'max_depth': 12}. Best is trial 1 with value: 0.23333333333333334.\u001b[0m\n"
     ]
    },
    {
     "name": "stdout",
     "output_type": "stream",
     "text": [
      "<function accuracy_score at 0x00000131277FD160>\n"
     ]
    },
    {
     "name": "stderr",
     "output_type": "stream",
     "text": [
      "\u001b[32m[I 2021-11-17 10:15:34,781]\u001b[0m Trial 15 finished with value: 0.22666666666666666 and parameters: {'min_samples_leaf': 65, 'max_depth': 14}. Best is trial 1 with value: 0.23333333333333334.\u001b[0m\n"
     ]
    },
    {
     "name": "stdout",
     "output_type": "stream",
     "text": [
      "<function accuracy_score at 0x00000131277FD160>\n"
     ]
    },
    {
     "name": "stderr",
     "output_type": "stream",
     "text": [
      "\u001b[32m[I 2021-11-17 10:15:35,622]\u001b[0m Trial 16 finished with value: 0.22000000000000003 and parameters: {'min_samples_leaf': 51, 'max_depth': 24}. Best is trial 1 with value: 0.23333333333333334.\u001b[0m\n"
     ]
    },
    {
     "name": "stdout",
     "output_type": "stream",
     "text": [
      "<function accuracy_score at 0x00000131277FD160>\n"
     ]
    },
    {
     "name": "stderr",
     "output_type": "stream",
     "text": [
      "\u001b[32m[I 2021-11-17 10:15:36,465]\u001b[0m Trial 17 finished with value: 0.22000000000000003 and parameters: {'min_samples_leaf': 75, 'max_depth': 22}. Best is trial 1 with value: 0.23333333333333334.\u001b[0m\n"
     ]
    },
    {
     "name": "stdout",
     "output_type": "stream",
     "text": [
      "<function accuracy_score at 0x00000131277FD160>\n"
     ]
    },
    {
     "name": "stderr",
     "output_type": "stream",
     "text": [
      "\u001b[32m[I 2021-11-17 10:15:37,338]\u001b[0m Trial 18 finished with value: 0.22000000000000003 and parameters: {'min_samples_leaf': 57, 'max_depth': 13}. Best is trial 1 with value: 0.23333333333333334.\u001b[0m\n"
     ]
    },
    {
     "name": "stdout",
     "output_type": "stream",
     "text": [
      "<function accuracy_score at 0x00000131277FD160>\n"
     ]
    },
    {
     "name": "stderr",
     "output_type": "stream",
     "text": [
      "\u001b[32m[I 2021-11-17 10:15:38,177]\u001b[0m Trial 19 finished with value: 0.22666666666666666 and parameters: {'min_samples_leaf': 67, 'max_depth': 17}. Best is trial 1 with value: 0.23333333333333334.\u001b[0m\n"
     ]
    },
    {
     "name": "stdout",
     "output_type": "stream",
     "text": [
      "<function accuracy_score at 0x00000131277FD160>\n"
     ]
    },
    {
     "name": "stderr",
     "output_type": "stream",
     "text": [
      "\u001b[32m[I 2021-11-17 10:15:38,958]\u001b[0m Trial 20 finished with value: 0.22666666666666666 and parameters: {'min_samples_leaf': 53, 'max_depth': 18}. Best is trial 1 with value: 0.23333333333333334.\u001b[0m\n"
     ]
    },
    {
     "name": "stdout",
     "output_type": "stream",
     "text": [
      "<function accuracy_score at 0x00000131277FD160>\n"
     ]
    },
    {
     "name": "stderr",
     "output_type": "stream",
     "text": [
      "\u001b[32m[I 2021-11-17 10:15:39,704]\u001b[0m Trial 21 finished with value: 0.22000000000000003 and parameters: {'min_samples_leaf': 50, 'max_depth': 23}. Best is trial 1 with value: 0.23333333333333334.\u001b[0m\n"
     ]
    },
    {
     "name": "stdout",
     "output_type": "stream",
     "text": [
      "<function accuracy_score at 0x00000131277FD160>\n"
     ]
    },
    {
     "name": "stderr",
     "output_type": "stream",
     "text": [
      "\u001b[32m[I 2021-11-17 10:15:40,551]\u001b[0m Trial 22 finished with value: 0.22000000000000003 and parameters: {'min_samples_leaf': 56, 'max_depth': 20}. Best is trial 1 with value: 0.23333333333333334.\u001b[0m\n"
     ]
    },
    {
     "name": "stdout",
     "output_type": "stream",
     "text": [
      "<function accuracy_score at 0x00000131277FD160>\n"
     ]
    },
    {
     "name": "stderr",
     "output_type": "stream",
     "text": [
      "\u001b[32m[I 2021-11-17 10:15:41,378]\u001b[0m Trial 23 finished with value: 0.22000000000000003 and parameters: {'min_samples_leaf': 58, 'max_depth': 18}. Best is trial 1 with value: 0.23333333333333334.\u001b[0m\n"
     ]
    },
    {
     "name": "stdout",
     "output_type": "stream",
     "text": [
      "<function accuracy_score at 0x00000131277FD160>\n"
     ]
    },
    {
     "name": "stderr",
     "output_type": "stream",
     "text": [
      "\u001b[32m[I 2021-11-17 10:15:42,186]\u001b[0m Trial 24 finished with value: 0.22666666666666666 and parameters: {'min_samples_leaf': 64, 'max_depth': 14}. Best is trial 1 with value: 0.23333333333333334.\u001b[0m\n"
     ]
    },
    {
     "name": "stdout",
     "output_type": "stream",
     "text": [
      "<function accuracy_score at 0x00000131277FD160>\n"
     ]
    },
    {
     "name": "stderr",
     "output_type": "stream",
     "text": [
      "\u001b[32m[I 2021-11-17 10:15:42,975]\u001b[0m Trial 25 finished with value: 0.22000000000000003 and parameters: {'min_samples_leaf': 75, 'max_depth': 22}. Best is trial 1 with value: 0.23333333333333334.\u001b[0m\n"
     ]
    },
    {
     "name": "stdout",
     "output_type": "stream",
     "text": [
      "<function accuracy_score at 0x00000131277FD160>\n"
     ]
    },
    {
     "name": "stderr",
     "output_type": "stream",
     "text": [
      "\u001b[32m[I 2021-11-17 10:15:43,749]\u001b[0m Trial 26 finished with value: 0.22666666666666666 and parameters: {'min_samples_leaf': 74, 'max_depth': 23}. Best is trial 1 with value: 0.23333333333333334.\u001b[0m\n"
     ]
    },
    {
     "name": "stdout",
     "output_type": "stream",
     "text": [
      "<function accuracy_score at 0x00000131277FD160>\n"
     ]
    },
    {
     "name": "stderr",
     "output_type": "stream",
     "text": [
      "\u001b[32m[I 2021-11-17 10:15:44,532]\u001b[0m Trial 27 finished with value: 0.22000000000000003 and parameters: {'min_samples_leaf': 65, 'max_depth': 23}. Best is trial 1 with value: 0.23333333333333334.\u001b[0m\n"
     ]
    },
    {
     "name": "stdout",
     "output_type": "stream",
     "text": [
      "<function accuracy_score at 0x00000131277FD160>\n"
     ]
    },
    {
     "name": "stderr",
     "output_type": "stream",
     "text": [
      "\u001b[32m[I 2021-11-17 10:15:45,317]\u001b[0m Trial 28 finished with value: 0.22000000000000003 and parameters: {'min_samples_leaf': 52, 'max_depth': 14}. Best is trial 1 with value: 0.23333333333333334.\u001b[0m\n"
     ]
    },
    {
     "name": "stdout",
     "output_type": "stream",
     "text": [
      "<function accuracy_score at 0x00000131277FD160>\n"
     ]
    },
    {
     "name": "stderr",
     "output_type": "stream",
     "text": [
      "\u001b[32m[I 2021-11-17 10:15:46,156]\u001b[0m Trial 29 finished with value: 0.22666666666666666 and parameters: {'min_samples_leaf': 51, 'max_depth': 16}. Best is trial 1 with value: 0.23333333333333334.\u001b[0m\n"
     ]
    },
    {
     "name": "stdout",
     "output_type": "stream",
     "text": [
      "<function accuracy_score at 0x00000131277FD160>\n"
     ]
    },
    {
     "data": {
      "text/plain": [
       "{'min_samples_leaf': 69, 'max_depth': 19}"
      ]
     },
     "execution_count": 73,
     "metadata": {},
     "output_type": "execute_result"
    }
   ],
   "source": [
    "tuning_hyperparams(\n",
    "        df=df_iris,\n",
    "        target=\"target\",\n",
    "        parameters=param_RF,\n",
    "        algorithm=RandomForestClassifier,\n",
    "        metric=accuracy_score,\n",
    "        scoring_option=\"maximize\",\n",
    "        n_trials=30,\n",
    "    )"
   ]
  },
  {
   "cell_type": "code",
   "execution_count": 57,
   "id": "6e376321",
   "metadata": {},
   "outputs": [
    {
     "name": "stderr",
     "output_type": "stream",
     "text": [
      "\u001b[32m[I 2021-11-17 10:08:16,004]\u001b[0m A new study created in memory with name: no-name-bb146ac4-90e4-4093-a136-1d1362aba1cc\u001b[0m\n",
      "\u001b[32m[I 2021-11-17 10:08:16,442]\u001b[0m Trial 0 finished with value: 0.26 and parameters: {'min_samples_leaf': 59, 'max_depth': 24}. Best is trial 0 with value: 0.26.\u001b[0m\n",
      "\u001b[32m[I 2021-11-17 10:08:16,890]\u001b[0m Trial 1 finished with value: 0.26 and parameters: {'min_samples_leaf': 69, 'max_depth': 19}. Best is trial 0 with value: 0.26.\u001b[0m\n",
      "\u001b[32m[I 2021-11-17 10:08:17,362]\u001b[0m Trial 2 finished with value: 0.26 and parameters: {'min_samples_leaf': 54, 'max_depth': 14}. Best is trial 0 with value: 0.26.\u001b[0m\n",
      "\u001b[32m[I 2021-11-17 10:08:17,879]\u001b[0m Trial 3 finished with value: 0.26 and parameters: {'min_samples_leaf': 51, 'max_depth': 23}. Best is trial 0 with value: 0.26.\u001b[0m\n",
      "\u001b[32m[I 2021-11-17 10:08:18,309]\u001b[0m Trial 4 finished with value: 0.26 and parameters: {'min_samples_leaf': 65, 'max_depth': 21}. Best is trial 0 with value: 0.26.\u001b[0m\n",
      "\u001b[32m[I 2021-11-17 10:08:18,799]\u001b[0m Trial 5 finished with value: 0.26 and parameters: {'min_samples_leaf': 50, 'max_depth': 24}. Best is trial 0 with value: 0.26.\u001b[0m\n",
      "\u001b[32m[I 2021-11-17 10:08:19,285]\u001b[0m Trial 6 finished with value: 0.26 and parameters: {'min_samples_leaf': 71, 'max_depth': 14}. Best is trial 0 with value: 0.26.\u001b[0m\n",
      "\u001b[32m[I 2021-11-17 10:08:19,694]\u001b[0m Trial 7 finished with value: 0.26 and parameters: {'min_samples_leaf': 54, 'max_depth': 14}. Best is trial 0 with value: 0.26.\u001b[0m\n",
      "\u001b[32m[I 2021-11-17 10:08:20,093]\u001b[0m Trial 8 finished with value: 0.26 and parameters: {'min_samples_leaf': 57, 'max_depth': 18}. Best is trial 0 with value: 0.26.\u001b[0m\n",
      "\u001b[32m[I 2021-11-17 10:08:20,532]\u001b[0m Trial 9 finished with value: 0.26 and parameters: {'min_samples_leaf': 61, 'max_depth': 15}. Best is trial 0 with value: 0.26.\u001b[0m\n",
      "\u001b[32m[I 2021-11-17 10:08:20,938]\u001b[0m Trial 10 finished with value: 0.26 and parameters: {'min_samples_leaf': 65, 'max_depth': 13}. Best is trial 0 with value: 0.26.\u001b[0m\n",
      "\u001b[32m[I 2021-11-17 10:08:21,341]\u001b[0m Trial 11 finished with value: 0.26 and parameters: {'min_samples_leaf': 57, 'max_depth': 16}. Best is trial 0 with value: 0.26.\u001b[0m\n",
      "\u001b[32m[I 2021-11-17 10:08:21,769]\u001b[0m Trial 12 finished with value: 0.26 and parameters: {'min_samples_leaf': 61, 'max_depth': 22}. Best is trial 0 with value: 0.26.\u001b[0m\n",
      "\u001b[32m[I 2021-11-17 10:08:22,190]\u001b[0m Trial 13 finished with value: 0.26 and parameters: {'min_samples_leaf': 55, 'max_depth': 18}. Best is trial 0 with value: 0.26.\u001b[0m\n",
      "\u001b[32m[I 2021-11-17 10:08:22,656]\u001b[0m Trial 14 finished with value: 0.26 and parameters: {'min_samples_leaf': 65, 'max_depth': 12}. Best is trial 0 with value: 0.26.\u001b[0m\n",
      "\u001b[32m[I 2021-11-17 10:08:23,060]\u001b[0m Trial 15 finished with value: 0.26 and parameters: {'min_samples_leaf': 65, 'max_depth': 14}. Best is trial 0 with value: 0.26.\u001b[0m\n",
      "\u001b[32m[I 2021-11-17 10:08:23,471]\u001b[0m Trial 16 finished with value: 0.26 and parameters: {'min_samples_leaf': 51, 'max_depth': 24}. Best is trial 0 with value: 0.26.\u001b[0m\n",
      "\u001b[32m[I 2021-11-17 10:08:23,880]\u001b[0m Trial 17 finished with value: 0.26 and parameters: {'min_samples_leaf': 75, 'max_depth': 22}. Best is trial 0 with value: 0.26.\u001b[0m\n",
      "\u001b[32m[I 2021-11-17 10:08:24,306]\u001b[0m Trial 18 finished with value: 0.26666666666666666 and parameters: {'min_samples_leaf': 57, 'max_depth': 13}. Best is trial 18 with value: 0.26666666666666666.\u001b[0m\n",
      "\u001b[32m[I 2021-11-17 10:08:24,719]\u001b[0m Trial 19 finished with value: 0.2733333333333333 and parameters: {'min_samples_leaf': 67, 'max_depth': 17}. Best is trial 19 with value: 0.2733333333333333.\u001b[0m\n",
      "\u001b[32m[I 2021-11-17 10:08:25,148]\u001b[0m Trial 20 finished with value: 0.26 and parameters: {'min_samples_leaf': 53, 'max_depth': 18}. Best is trial 19 with value: 0.2733333333333333.\u001b[0m\n",
      "\u001b[32m[I 2021-11-17 10:08:25,571]\u001b[0m Trial 21 finished with value: 0.26 and parameters: {'min_samples_leaf': 50, 'max_depth': 23}. Best is trial 19 with value: 0.2733333333333333.\u001b[0m\n",
      "\u001b[32m[I 2021-11-17 10:08:25,970]\u001b[0m Trial 22 finished with value: 0.26 and parameters: {'min_samples_leaf': 56, 'max_depth': 20}. Best is trial 19 with value: 0.2733333333333333.\u001b[0m\n",
      "\u001b[32m[I 2021-11-17 10:08:26,389]\u001b[0m Trial 23 finished with value: 0.26 and parameters: {'min_samples_leaf': 58, 'max_depth': 18}. Best is trial 19 with value: 0.2733333333333333.\u001b[0m\n",
      "\u001b[32m[I 2021-11-17 10:08:26,843]\u001b[0m Trial 24 finished with value: 0.26666666666666666 and parameters: {'min_samples_leaf': 64, 'max_depth': 14}. Best is trial 19 with value: 0.2733333333333333.\u001b[0m\n",
      "\u001b[32m[I 2021-11-17 10:08:27,229]\u001b[0m Trial 25 finished with value: 0.26 and parameters: {'min_samples_leaf': 75, 'max_depth': 22}. Best is trial 19 with value: 0.2733333333333333.\u001b[0m\n",
      "\u001b[32m[I 2021-11-17 10:08:27,625]\u001b[0m Trial 26 finished with value: 0.26 and parameters: {'min_samples_leaf': 74, 'max_depth': 23}. Best is trial 19 with value: 0.2733333333333333.\u001b[0m\n",
      "\u001b[32m[I 2021-11-17 10:08:28,019]\u001b[0m Trial 27 finished with value: 0.26 and parameters: {'min_samples_leaf': 65, 'max_depth': 23}. Best is trial 19 with value: 0.2733333333333333.\u001b[0m\n",
      "\u001b[32m[I 2021-11-17 10:08:28,426]\u001b[0m Trial 28 finished with value: 0.26 and parameters: {'min_samples_leaf': 52, 'max_depth': 14}. Best is trial 19 with value: 0.2733333333333333.\u001b[0m\n",
      "\u001b[32m[I 2021-11-17 10:08:28,823]\u001b[0m Trial 29 finished with value: 0.26666666666666666 and parameters: {'min_samples_leaf': 51, 'max_depth': 16}. Best is trial 19 with value: 0.2733333333333333.\u001b[0m\n"
     ]
    },
    {
     "data": {
      "text/plain": [
       "{'min_samples_leaf': 67, 'max_depth': 17}"
      ]
     },
     "execution_count": 57,
     "metadata": {},
     "output_type": "execute_result"
    }
   ],
   "source": [
    "tuning_hyperparams(\n",
    "        df=df_iris,\n",
    "        target=\"target\",\n",
    "        parameters=param_RF,\n",
    "        algorithm=RandomForestClassifier,\n",
    "        metric=accuracy_score,\n",
    "        scoring_option=\"maximize\",\n",
    "        n_trials=30,\n",
    "    )"
   ]
  },
  {
   "cell_type": "code",
   "execution_count": 58,
   "id": "4e9724ae",
   "metadata": {},
   "outputs": [
    {
     "name": "stderr",
     "output_type": "stream",
     "text": [
      "\u001b[32m[I 2021-11-17 10:08:28,832]\u001b[0m A new study created in memory with name: no-name-b1cc8cad-b2c5-414e-8d0f-e31400bfe6bf\u001b[0m\n",
      "\u001b[32m[I 2021-11-17 10:08:29,238]\u001b[0m Trial 0 finished with value: 0.26 and parameters: {'min_samples_leaf': 59, 'max_depth': 24}. Best is trial 0 with value: 0.26.\u001b[0m\n",
      "\u001b[32m[I 2021-11-17 10:08:29,626]\u001b[0m Trial 1 finished with value: 0.26 and parameters: {'min_samples_leaf': 69, 'max_depth': 19}. Best is trial 0 with value: 0.26.\u001b[0m\n",
      "\u001b[32m[I 2021-11-17 10:08:30,030]\u001b[0m Trial 2 finished with value: 0.26666666666666666 and parameters: {'min_samples_leaf': 54, 'max_depth': 14}. Best is trial 2 with value: 0.26666666666666666.\u001b[0m\n",
      "\u001b[32m[I 2021-11-17 10:08:30,429]\u001b[0m Trial 3 finished with value: 0.26 and parameters: {'min_samples_leaf': 51, 'max_depth': 23}. Best is trial 2 with value: 0.26666666666666666.\u001b[0m\n",
      "\u001b[32m[I 2021-11-17 10:08:30,829]\u001b[0m Trial 4 finished with value: 0.26 and parameters: {'min_samples_leaf': 65, 'max_depth': 21}. Best is trial 2 with value: 0.26666666666666666.\u001b[0m\n",
      "\u001b[32m[I 2021-11-17 10:08:31,226]\u001b[0m Trial 5 finished with value: 0.26 and parameters: {'min_samples_leaf': 50, 'max_depth': 24}. Best is trial 2 with value: 0.26666666666666666.\u001b[0m\n",
      "\u001b[32m[I 2021-11-17 10:08:31,646]\u001b[0m Trial 6 finished with value: 0.26 and parameters: {'min_samples_leaf': 71, 'max_depth': 14}. Best is trial 2 with value: 0.26666666666666666.\u001b[0m\n",
      "\u001b[32m[I 2021-11-17 10:08:32,043]\u001b[0m Trial 7 finished with value: 0.26 and parameters: {'min_samples_leaf': 54, 'max_depth': 14}. Best is trial 2 with value: 0.26666666666666666.\u001b[0m\n",
      "\u001b[32m[I 2021-11-17 10:08:32,459]\u001b[0m Trial 8 finished with value: 0.26 and parameters: {'min_samples_leaf': 57, 'max_depth': 18}. Best is trial 2 with value: 0.26666666666666666.\u001b[0m\n",
      "\u001b[32m[I 2021-11-17 10:08:32,846]\u001b[0m Trial 9 finished with value: 0.26 and parameters: {'min_samples_leaf': 61, 'max_depth': 15}. Best is trial 2 with value: 0.26666666666666666.\u001b[0m\n",
      "\u001b[32m[I 2021-11-17 10:08:33,235]\u001b[0m Trial 10 finished with value: 0.26 and parameters: {'min_samples_leaf': 65, 'max_depth': 13}. Best is trial 2 with value: 0.26666666666666666.\u001b[0m\n",
      "\u001b[32m[I 2021-11-17 10:08:33,662]\u001b[0m Trial 11 finished with value: 0.26 and parameters: {'min_samples_leaf': 57, 'max_depth': 16}. Best is trial 2 with value: 0.26666666666666666.\u001b[0m\n",
      "\u001b[32m[I 2021-11-17 10:08:34,062]\u001b[0m Trial 12 finished with value: 0.26 and parameters: {'min_samples_leaf': 61, 'max_depth': 22}. Best is trial 2 with value: 0.26666666666666666.\u001b[0m\n",
      "\u001b[32m[I 2021-11-17 10:08:34,467]\u001b[0m Trial 13 finished with value: 0.26666666666666666 and parameters: {'min_samples_leaf': 55, 'max_depth': 18}. Best is trial 2 with value: 0.26666666666666666.\u001b[0m\n",
      "\u001b[32m[I 2021-11-17 10:08:34,873]\u001b[0m Trial 14 finished with value: 0.26666666666666666 and parameters: {'min_samples_leaf': 65, 'max_depth': 12}. Best is trial 2 with value: 0.26666666666666666.\u001b[0m\n",
      "\u001b[32m[I 2021-11-17 10:08:35,287]\u001b[0m Trial 15 finished with value: 0.26 and parameters: {'min_samples_leaf': 65, 'max_depth': 14}. Best is trial 2 with value: 0.26666666666666666.\u001b[0m\n",
      "\u001b[32m[I 2021-11-17 10:08:35,677]\u001b[0m Trial 16 finished with value: 0.26 and parameters: {'min_samples_leaf': 51, 'max_depth': 24}. Best is trial 2 with value: 0.26666666666666666.\u001b[0m\n",
      "\u001b[32m[I 2021-11-17 10:08:36,078]\u001b[0m Trial 17 finished with value: 0.26666666666666666 and parameters: {'min_samples_leaf': 75, 'max_depth': 22}. Best is trial 2 with value: 0.26666666666666666.\u001b[0m\n",
      "\u001b[32m[I 2021-11-17 10:08:36,499]\u001b[0m Trial 18 finished with value: 0.26 and parameters: {'min_samples_leaf': 57, 'max_depth': 13}. Best is trial 2 with value: 0.26666666666666666.\u001b[0m\n",
      "\u001b[32m[I 2021-11-17 10:08:36,909]\u001b[0m Trial 19 finished with value: 0.26666666666666666 and parameters: {'min_samples_leaf': 67, 'max_depth': 17}. Best is trial 2 with value: 0.26666666666666666.\u001b[0m\n",
      "\u001b[32m[I 2021-11-17 10:08:37,325]\u001b[0m Trial 20 finished with value: 0.26 and parameters: {'min_samples_leaf': 53, 'max_depth': 18}. Best is trial 2 with value: 0.26666666666666666.\u001b[0m\n",
      "\u001b[32m[I 2021-11-17 10:08:37,722]\u001b[0m Trial 21 finished with value: 0.26 and parameters: {'min_samples_leaf': 50, 'max_depth': 23}. Best is trial 2 with value: 0.26666666666666666.\u001b[0m\n",
      "\u001b[32m[I 2021-11-17 10:08:38,196]\u001b[0m Trial 22 finished with value: 0.26 and parameters: {'min_samples_leaf': 56, 'max_depth': 20}. Best is trial 2 with value: 0.26666666666666666.\u001b[0m\n",
      "\u001b[32m[I 2021-11-17 10:08:38,631]\u001b[0m Trial 23 finished with value: 0.26 and parameters: {'min_samples_leaf': 58, 'max_depth': 18}. Best is trial 2 with value: 0.26666666666666666.\u001b[0m\n",
      "\u001b[32m[I 2021-11-17 10:08:39,028]\u001b[0m Trial 24 finished with value: 0.26 and parameters: {'min_samples_leaf': 64, 'max_depth': 14}. Best is trial 2 with value: 0.26666666666666666.\u001b[0m\n",
      "\u001b[32m[I 2021-11-17 10:08:39,456]\u001b[0m Trial 25 finished with value: 0.26666666666666666 and parameters: {'min_samples_leaf': 75, 'max_depth': 22}. Best is trial 2 with value: 0.26666666666666666.\u001b[0m\n",
      "\u001b[32m[I 2021-11-17 10:08:39,880]\u001b[0m Trial 26 finished with value: 0.26666666666666666 and parameters: {'min_samples_leaf': 74, 'max_depth': 23}. Best is trial 2 with value: 0.26666666666666666.\u001b[0m\n",
      "\u001b[32m[I 2021-11-17 10:08:40,282]\u001b[0m Trial 27 finished with value: 0.26 and parameters: {'min_samples_leaf': 65, 'max_depth': 23}. Best is trial 2 with value: 0.26666666666666666.\u001b[0m\n",
      "\u001b[32m[I 2021-11-17 10:08:40,676]\u001b[0m Trial 28 finished with value: 0.26666666666666666 and parameters: {'min_samples_leaf': 52, 'max_depth': 14}. Best is trial 2 with value: 0.26666666666666666.\u001b[0m\n",
      "\u001b[32m[I 2021-11-17 10:08:41,075]\u001b[0m Trial 29 finished with value: 0.26 and parameters: {'min_samples_leaf': 51, 'max_depth': 16}. Best is trial 2 with value: 0.26666666666666666.\u001b[0m\n"
     ]
    },
    {
     "data": {
      "text/plain": [
       "{'min_samples_leaf': 54, 'max_depth': 14}"
      ]
     },
     "execution_count": 58,
     "metadata": {},
     "output_type": "execute_result"
    }
   ],
   "source": [
    "tuning_hyperparams(\n",
    "        df=df_iris,\n",
    "        target=\"target\",\n",
    "        parameters=param_RF,\n",
    "        algorithm=RandomForestClassifier,\n",
    "        metric=accuracy_score,\n",
    "        scoring_option=\"maximize\",\n",
    "        n_trials=30,\n",
    "    )"
   ]
  },
  {
   "cell_type": "markdown",
<<<<<<< HEAD
   "id": "b4672642",
=======
   "id": "8b4bf44c",
   "metadata": {},
   "source": [
    "## 3.1 Exemplo de output Para Modelo de Classificação "
   ]
  },
  {
   "cell_type": "code",
   "execution_count": 4,
   "id": "1c50aff6",
>>>>>>> 59f2113658a021f00270f49af601a0192ecc6ba8
   "metadata": {},
   "source": [
    "## 3.2 Exemplo do output para Modelo de Regressão"
   ]
  },
  {
   "cell_type": "code",
   "execution_count": 22,
   "id": "bc13f01b",
   "metadata": {},
   "outputs": [],
   "source": [
    "boston_data = datasets.load_boston()\n",
    "df_boston = pd.DataFrame(boston_data.data, columns=boston_data.feature_names)\n",
    "df_boston[\"target\"] = boston_data.target\n",
    "\n",
    "param_RF = [\n",
    "        {\"name\": \"min_samples_leaf\", \"type\": \"Integer\", \"low\": 50, \"high\": 75},\n",
    "        {\"name\": \"max_depth\", \"type\": \"Integer\", \"low\": 12, \"high\": 24},\n",
    "    ]"
   ]
  },
  {
   "cell_type": "code",
<<<<<<< HEAD
   "execution_count": 36,
   "id": "de5bf787",
=======
   "execution_count": 6,
   "id": "ff253985",
>>>>>>> 59f2113658a021f00270f49af601a0192ecc6ba8
   "metadata": {},
   "outputs": [
    {
     "name": "stderr",
     "output_type": "stream",
     "text": [
<<<<<<< HEAD
      "\u001b[32m[I 2021-11-16 15:40:41,135]\u001b[0m A new study created in memory with name: no-name-26254a56-846f-46f0-9b77-d7219d15eab6\u001b[0m\n",
      "\u001b[32m[I 2021-11-16 15:40:41,564]\u001b[0m Trial 0 finished with value: 0.5698825637345853 and parameters: {'min_samples_leaf': 59, 'max_depth': 24}. Best is trial 0 with value: 0.5698825637345853.\u001b[0m\n",
      "\u001b[32m[I 2021-11-16 15:40:42,001]\u001b[0m Trial 1 finished with value: 0.5453859606817169 and parameters: {'min_samples_leaf': 69, 'max_depth': 19}. Best is trial 1 with value: 0.5453859606817169.\u001b[0m\n",
      "\u001b[32m[I 2021-11-16 15:40:42,464]\u001b[0m Trial 2 finished with value: 0.615857585409503 and parameters: {'min_samples_leaf': 54, 'max_depth': 14}. Best is trial 1 with value: 0.5453859606817169.\u001b[0m\n",
      "\u001b[32m[I 2021-11-16 15:40:42,967]\u001b[0m Trial 3 finished with value: 0.6511682234705782 and parameters: {'min_samples_leaf': 51, 'max_depth': 23}. Best is trial 1 with value: 0.5453859606817169.\u001b[0m\n",
      "\u001b[32m[I 2021-11-16 15:40:43,413]\u001b[0m Trial 4 finished with value: 0.5509005537417755 and parameters: {'min_samples_leaf': 65, 'max_depth': 21}. Best is trial 1 with value: 0.5453859606817169.\u001b[0m\n",
      "\u001b[32m[I 2021-11-16 15:40:43,873]\u001b[0m Trial 5 finished with value: 0.6481340314738935 and parameters: {'min_samples_leaf': 50, 'max_depth': 24}. Best is trial 1 with value: 0.5453859606817169.\u001b[0m\n",
      "\u001b[32m[I 2021-11-16 15:40:44,284]\u001b[0m Trial 6 finished with value: 0.5446944733062467 and parameters: {'min_samples_leaf': 71, 'max_depth': 14}. Best is trial 6 with value: 0.5446944733062467.\u001b[0m\n",
      "\u001b[32m[I 2021-11-16 15:40:44,719]\u001b[0m Trial 7 finished with value: 0.6157137382674606 and parameters: {'min_samples_leaf': 54, 'max_depth': 14}. Best is trial 6 with value: 0.5446944733062467.\u001b[0m\n",
      "\u001b[32m[I 2021-11-16 15:40:45,188]\u001b[0m Trial 8 finished with value: 0.5846153118833787 and parameters: {'min_samples_leaf': 57, 'max_depth': 18}. Best is trial 6 with value: 0.5446944733062467.\u001b[0m\n",
      "\u001b[32m[I 2021-11-16 15:40:45,665]\u001b[0m Trial 9 finished with value: 0.5639346293320037 and parameters: {'min_samples_leaf': 61, 'max_depth': 15}. Best is trial 6 with value: 0.5446944733062467.\u001b[0m\n",
      "\u001b[32m[I 2021-11-16 15:40:46,076]\u001b[0m Trial 10 finished with value: 0.5525451837097133 and parameters: {'min_samples_leaf': 65, 'max_depth': 13}. Best is trial 6 with value: 0.5446944733062467.\u001b[0m\n",
      "\u001b[32m[I 2021-11-16 15:40:46,525]\u001b[0m Trial 11 finished with value: 0.5866766856405297 and parameters: {'min_samples_leaf': 57, 'max_depth': 16}. Best is trial 6 with value: 0.5446944733062467.\u001b[0m\n",
      "\u001b[32m[I 2021-11-16 15:40:46,954]\u001b[0m Trial 12 finished with value: 0.5673487634805247 and parameters: {'min_samples_leaf': 61, 'max_depth': 22}. Best is trial 6 with value: 0.5446944733062467.\u001b[0m\n",
      "\u001b[32m[I 2021-11-16 15:40:47,379]\u001b[0m Trial 13 finished with value: 0.6002210216299193 and parameters: {'min_samples_leaf': 55, 'max_depth': 18}. Best is trial 6 with value: 0.5446944733062467.\u001b[0m\n",
      "\u001b[32m[I 2021-11-16 15:40:47,835]\u001b[0m Trial 14 finished with value: 0.5537715872656556 and parameters: {'min_samples_leaf': 65, 'max_depth': 12}. Best is trial 6 with value: 0.5446944733062467.\u001b[0m\n",
      "\u001b[32m[I 2021-11-16 15:40:48,290]\u001b[0m Trial 15 finished with value: 0.5528625166044951 and parameters: {'min_samples_leaf': 65, 'max_depth': 14}. Best is trial 6 with value: 0.5446944733062467.\u001b[0m\n",
      "\u001b[32m[I 2021-11-16 15:40:48,740]\u001b[0m Trial 16 finished with value: 0.6413439870948852 and parameters: {'min_samples_leaf': 51, 'max_depth': 24}. Best is trial 6 with value: 0.5446944733062467.\u001b[0m\n",
      "\u001b[32m[I 2021-11-16 15:40:49,172]\u001b[0m Trial 17 finished with value: 0.5356051972453835 and parameters: {'min_samples_leaf': 75, 'max_depth': 22}. Best is trial 17 with value: 0.5356051972453835.\u001b[0m\n",
      "\u001b[32m[I 2021-11-16 15:40:49,621]\u001b[0m Trial 18 finished with value: 0.5860395967335975 and parameters: {'min_samples_leaf': 57, 'max_depth': 13}. Best is trial 17 with value: 0.5356051972453835.\u001b[0m\n",
      "\u001b[32m[I 2021-11-16 15:40:50,093]\u001b[0m Trial 19 finished with value: 0.547835856692874 and parameters: {'min_samples_leaf': 67, 'max_depth': 17}. Best is trial 17 with value: 0.5356051972453835.\u001b[0m\n",
      "\u001b[32m[I 2021-11-16 15:40:50,558]\u001b[0m Trial 20 finished with value: 0.6242462946651713 and parameters: {'min_samples_leaf': 53, 'max_depth': 18}. Best is trial 17 with value: 0.5356051972453835.\u001b[0m\n",
      "\u001b[32m[I 2021-11-16 15:40:51,017]\u001b[0m Trial 21 finished with value: 0.6529168645481668 and parameters: {'min_samples_leaf': 50, 'max_depth': 23}. Best is trial 17 with value: 0.5356051972453835.\u001b[0m\n",
      "\u001b[32m[I 2021-11-16 15:40:51,452]\u001b[0m Trial 22 finished with value: 0.5899526143160598 and parameters: {'min_samples_leaf': 56, 'max_depth': 20}. Best is trial 17 with value: 0.5356051972453835.\u001b[0m\n",
      "\u001b[32m[I 2021-11-16 15:40:51,884]\u001b[0m Trial 23 finished with value: 0.5770585955122705 and parameters: {'min_samples_leaf': 58, 'max_depth': 18}. Best is trial 17 with value: 0.5356051972453835.\u001b[0m\n",
      "\u001b[32m[I 2021-11-16 15:40:52,331]\u001b[0m Trial 24 finished with value: 0.5592846415335609 and parameters: {'min_samples_leaf': 64, 'max_depth': 14}. Best is trial 17 with value: 0.5356051972453835.\u001b[0m\n",
      "\u001b[32m[I 2021-11-16 15:40:52,785]\u001b[0m Trial 25 finished with value: 0.5356185239879332 and parameters: {'min_samples_leaf': 75, 'max_depth': 22}. Best is trial 17 with value: 0.5356051972453835.\u001b[0m\n",
      "\u001b[32m[I 2021-11-16 15:40:53,232]\u001b[0m Trial 26 finished with value: 0.5405701769656198 and parameters: {'min_samples_leaf': 74, 'max_depth': 23}. Best is trial 17 with value: 0.5356051972453835.\u001b[0m\n",
      "\u001b[32m[I 2021-11-16 15:40:53,661]\u001b[0m Trial 27 finished with value: 0.5544951508581704 and parameters: {'min_samples_leaf': 65, 'max_depth': 23}. Best is trial 17 with value: 0.5356051972453835.\u001b[0m\n",
      "\u001b[32m[I 2021-11-16 15:40:54,132]\u001b[0m Trial 28 finished with value: 0.6355365921294578 and parameters: {'min_samples_leaf': 52, 'max_depth': 14}. Best is trial 17 with value: 0.5356051972453835.\u001b[0m\n",
      "\u001b[32m[I 2021-11-16 15:40:54,621]\u001b[0m Trial 29 finished with value: 0.6467743454379413 and parameters: {'min_samples_leaf': 51, 'max_depth': 16}. Best is trial 17 with value: 0.5356051972453835.\u001b[0m\n"
=======
      "\u001b[32m[I 2021-11-16 14:43:34,242]\u001b[0m A new study created in memory with name: no-name-a8def23d-1322-4335-a84e-15c20959d6ed\u001b[0m\n",
      "\u001b[32m[I 2021-11-16 14:43:35,216]\u001b[0m Trial 0 finished with value: 0.26666666666666666 and parameters: {'min_samples_leaf': 67, 'max_depth': 13}. Best is trial 0 with value: 0.26666666666666666.\u001b[0m\n",
      "\u001b[32m[I 2021-11-16 14:43:36,233]\u001b[0m Trial 1 finished with value: 0.26 and parameters: {'min_samples_leaf': 73, 'max_depth': 19}. Best is trial 0 with value: 0.26666666666666666.\u001b[0m\n",
      "\u001b[32m[I 2021-11-16 14:43:37,219]\u001b[0m Trial 2 finished with value: 0.26 and parameters: {'min_samples_leaf': 62, 'max_depth': 12}. Best is trial 0 with value: 0.26666666666666666.\u001b[0m\n",
      "\u001b[32m[I 2021-11-16 14:43:38,167]\u001b[0m Trial 3 finished with value: 0.26 and parameters: {'min_samples_leaf': 53, 'max_depth': 24}. Best is trial 0 with value: 0.26666666666666666.\u001b[0m\n",
      "\u001b[32m[I 2021-11-16 14:43:39,178]\u001b[0m Trial 4 finished with value: 0.26 and parameters: {'min_samples_leaf': 50, 'max_depth': 17}. Best is trial 0 with value: 0.26666666666666666.\u001b[0m\n",
      "\u001b[32m[I 2021-11-16 14:43:40,199]\u001b[0m Trial 5 finished with value: 0.26 and parameters: {'min_samples_leaf': 74, 'max_depth': 12}. Best is trial 0 with value: 0.26666666666666666.\u001b[0m\n",
      "\u001b[32m[I 2021-11-16 14:43:41,261]\u001b[0m Trial 6 finished with value: 0.26 and parameters: {'min_samples_leaf': 57, 'max_depth': 13}. Best is trial 0 with value: 0.26666666666666666.\u001b[0m\n",
      "\u001b[32m[I 2021-11-16 14:43:42,215]\u001b[0m Trial 7 finished with value: 0.26 and parameters: {'min_samples_leaf': 73, 'max_depth': 13}. Best is trial 0 with value: 0.26666666666666666.\u001b[0m\n",
      "\u001b[32m[I 2021-11-16 14:43:43,166]\u001b[0m Trial 8 finished with value: 0.26 and parameters: {'min_samples_leaf': 66, 'max_depth': 13}. Best is trial 0 with value: 0.26666666666666666.\u001b[0m\n",
      "\u001b[32m[I 2021-11-16 14:43:44,104]\u001b[0m Trial 9 finished with value: 0.26 and parameters: {'min_samples_leaf': 51, 'max_depth': 24}. Best is trial 0 with value: 0.26666666666666666.\u001b[0m\n",
      "\u001b[32m[I 2021-11-16 14:43:45,040]\u001b[0m Trial 10 finished with value: 0.26 and parameters: {'min_samples_leaf': 67, 'max_depth': 16}. Best is trial 0 with value: 0.26666666666666666.\u001b[0m\n",
      "\u001b[32m[I 2021-11-16 14:43:45,997]\u001b[0m Trial 11 finished with value: 0.26 and parameters: {'min_samples_leaf': 70, 'max_depth': 20}. Best is trial 0 with value: 0.26666666666666666.\u001b[0m\n",
      "\u001b[32m[I 2021-11-16 14:43:46,945]\u001b[0m Trial 12 finished with value: 0.26 and parameters: {'min_samples_leaf': 63, 'max_depth': 20}. Best is trial 0 with value: 0.26666666666666666.\u001b[0m\n",
      "\u001b[32m[I 2021-11-16 14:43:47,916]\u001b[0m Trial 13 finished with value: 0.26 and parameters: {'min_samples_leaf': 70, 'max_depth': 19}. Best is trial 0 with value: 0.26666666666666666.\u001b[0m\n",
      "\u001b[32m[I 2021-11-16 14:43:48,888]\u001b[0m Trial 14 finished with value: 0.26 and parameters: {'min_samples_leaf': 69, 'max_depth': 15}. Best is trial 0 with value: 0.26666666666666666.\u001b[0m\n",
      "\u001b[32m[I 2021-11-16 14:43:49,920]\u001b[0m Trial 15 finished with value: 0.26 and parameters: {'min_samples_leaf': 75, 'max_depth': 21}. Best is trial 0 with value: 0.26666666666666666.\u001b[0m\n",
      "\u001b[32m[I 2021-11-16 14:43:50,858]\u001b[0m Trial 16 finished with value: 0.26 and parameters: {'min_samples_leaf': 62, 'max_depth': 22}. Best is trial 0 with value: 0.26666666666666666.\u001b[0m\n",
      "\u001b[32m[I 2021-11-16 14:43:51,863]\u001b[0m Trial 17 finished with value: 0.26 and parameters: {'min_samples_leaf': 66, 'max_depth': 15}. Best is trial 0 with value: 0.26666666666666666.\u001b[0m\n",
      "\u001b[32m[I 2021-11-16 14:43:52,830]\u001b[0m Trial 18 finished with value: 0.26 and parameters: {'min_samples_leaf': 75, 'max_depth': 22}. Best is trial 0 with value: 0.26666666666666666.\u001b[0m\n",
      "\u001b[32m[I 2021-11-16 14:43:53,805]\u001b[0m Trial 19 finished with value: 0.26 and parameters: {'min_samples_leaf': 59, 'max_depth': 22}. Best is trial 0 with value: 0.26666666666666666.\u001b[0m\n"
>>>>>>> 59f2113658a021f00270f49af601a0192ecc6ba8
     ]
    },
    {
     "data": {
      "text/plain": [
<<<<<<< HEAD
       "{'min_samples_leaf': 75, 'max_depth': 22}"
      ]
     },
     "execution_count": 36,
=======
       "{'min_samples_leaf': 67, 'max_depth': 13}"
      ]
     },
     "execution_count": 6,
>>>>>>> 59f2113658a021f00270f49af601a0192ecc6ba8
     "metadata": {},
     "output_type": "execute_result"
    }
   ],
   "source": [
    "tuning_hyperparams(\n",
    "        df=df_boston,\n",
    "        target=\"target\",\n",
    "        parameters=param_RF,\n",
    "        algorithm=RandomForestRegressor,\n",
    "        metric=mean_absolute_error,\n",
    "        scoring_option=\"minimize\",\n",
    "        n_trials=30,\n",
    "    )"
   ]
  },
  {
<<<<<<< HEAD
   "cell_type": "code",
   "execution_count": 37,
   "id": "52c55a19",
=======
   "cell_type": "markdown",
   "id": "b4672642",
   "metadata": {},
   "source": [
    "## 3.2 Exemplo de output para Modelo de Regressão"
   ]
  },
  {
   "cell_type": "code",
   "execution_count": 7,
   "id": "bc13f01b",
>>>>>>> 59f2113658a021f00270f49af601a0192ecc6ba8
   "metadata": {},
   "outputs": [
    {
     "name": "stderr",
     "output_type": "stream",
     "text": [
<<<<<<< HEAD
      "\u001b[32m[I 2021-11-16 15:40:54,628]\u001b[0m A new study created in memory with name: no-name-1f283bc1-69ff-4d39-b838-51b48ce829e5\u001b[0m\n",
      "\u001b[32m[I 2021-11-16 15:40:55,077]\u001b[0m Trial 0 finished with value: 0.5676591857212556 and parameters: {'min_samples_leaf': 59, 'max_depth': 24}. Best is trial 0 with value: 0.5676591857212556.\u001b[0m\n",
      "\u001b[32m[I 2021-11-16 15:40:55,554]\u001b[0m Trial 1 finished with value: 0.5511410682201233 and parameters: {'min_samples_leaf': 69, 'max_depth': 19}. Best is trial 1 with value: 0.5511410682201233.\u001b[0m\n",
      "\u001b[32m[I 2021-11-16 15:40:56,009]\u001b[0m Trial 2 finished with value: 0.6120112627065366 and parameters: {'min_samples_leaf': 54, 'max_depth': 14}. Best is trial 1 with value: 0.5511410682201233.\u001b[0m\n",
      "\u001b[32m[I 2021-11-16 15:40:56,437]\u001b[0m Trial 3 finished with value: 0.6460140054809221 and parameters: {'min_samples_leaf': 51, 'max_depth': 23}. Best is trial 1 with value: 0.5511410682201233.\u001b[0m\n",
      "\u001b[32m[I 2021-11-16 15:40:56,885]\u001b[0m Trial 4 finished with value: 0.5512166080026467 and parameters: {'min_samples_leaf': 65, 'max_depth': 21}. Best is trial 1 with value: 0.5511410682201233.\u001b[0m\n",
      "\u001b[32m[I 2021-11-16 15:40:57,340]\u001b[0m Trial 5 finished with value: 0.650043232032302 and parameters: {'min_samples_leaf': 50, 'max_depth': 24}. Best is trial 1 with value: 0.5511410682201233.\u001b[0m\n",
      "\u001b[32m[I 2021-11-16 15:40:57,780]\u001b[0m Trial 6 finished with value: 0.5449732264599283 and parameters: {'min_samples_leaf': 71, 'max_depth': 14}. Best is trial 6 with value: 0.5449732264599283.\u001b[0m\n",
      "\u001b[32m[I 2021-11-16 15:40:58,216]\u001b[0m Trial 7 finished with value: 0.6143525053714078 and parameters: {'min_samples_leaf': 54, 'max_depth': 14}. Best is trial 6 with value: 0.5449732264599283.\u001b[0m\n",
      "\u001b[32m[I 2021-11-16 15:40:58,658]\u001b[0m Trial 8 finished with value: 0.5850222090794062 and parameters: {'min_samples_leaf': 57, 'max_depth': 18}. Best is trial 6 with value: 0.5449732264599283.\u001b[0m\n",
      "\u001b[32m[I 2021-11-16 15:40:59,100]\u001b[0m Trial 9 finished with value: 0.5615601368449296 and parameters: {'min_samples_leaf': 61, 'max_depth': 15}. Best is trial 6 with value: 0.5449732264599283.\u001b[0m\n",
      "\u001b[32m[I 2021-11-16 15:40:59,558]\u001b[0m Trial 10 finished with value: 0.5576431304518528 and parameters: {'min_samples_leaf': 65, 'max_depth': 13}. Best is trial 6 with value: 0.5449732264599283.\u001b[0m\n",
      "\u001b[32m[I 2021-11-16 15:41:00,035]\u001b[0m Trial 11 finished with value: 0.5817408106229524 and parameters: {'min_samples_leaf': 57, 'max_depth': 16}. Best is trial 6 with value: 0.5449732264599283.\u001b[0m\n",
      "\u001b[32m[I 2021-11-16 15:41:00,474]\u001b[0m Trial 12 finished with value: 0.5650418631156138 and parameters: {'min_samples_leaf': 61, 'max_depth': 22}. Best is trial 6 with value: 0.5449732264599283.\u001b[0m\n",
      "\u001b[32m[I 2021-11-16 15:41:00,907]\u001b[0m Trial 13 finished with value: 0.612780525034599 and parameters: {'min_samples_leaf': 55, 'max_depth': 18}. Best is trial 6 with value: 0.5449732264599283.\u001b[0m\n",
      "\u001b[32m[I 2021-11-16 15:41:01,344]\u001b[0m Trial 14 finished with value: 0.5539260159439776 and parameters: {'min_samples_leaf': 65, 'max_depth': 12}. Best is trial 6 with value: 0.5449732264599283.\u001b[0m\n",
      "\u001b[32m[I 2021-11-16 15:41:01,780]\u001b[0m Trial 15 finished with value: 0.5585744877120582 and parameters: {'min_samples_leaf': 65, 'max_depth': 14}. Best is trial 6 with value: 0.5449732264599283.\u001b[0m\n",
      "\u001b[32m[I 2021-11-16 15:41:02,246]\u001b[0m Trial 16 finished with value: 0.6470310203791569 and parameters: {'min_samples_leaf': 51, 'max_depth': 24}. Best is trial 6 with value: 0.5449732264599283.\u001b[0m\n",
      "\u001b[32m[I 2021-11-16 15:41:02,691]\u001b[0m Trial 17 finished with value: 0.5326288398825326 and parameters: {'min_samples_leaf': 75, 'max_depth': 22}. Best is trial 17 with value: 0.5326288398825326.\u001b[0m\n",
      "\u001b[32m[I 2021-11-16 15:41:03,156]\u001b[0m Trial 18 finished with value: 0.5882776222959814 and parameters: {'min_samples_leaf': 57, 'max_depth': 13}. Best is trial 17 with value: 0.5326288398825326.\u001b[0m\n",
      "\u001b[32m[I 2021-11-16 15:41:03,619]\u001b[0m Trial 19 finished with value: 0.5468869583115513 and parameters: {'min_samples_leaf': 67, 'max_depth': 17}. Best is trial 17 with value: 0.5326288398825326.\u001b[0m\n",
      "\u001b[32m[I 2021-11-16 15:41:04,071]\u001b[0m Trial 20 finished with value: 0.6203998595353116 and parameters: {'min_samples_leaf': 53, 'max_depth': 18}. Best is trial 17 with value: 0.5326288398825326.\u001b[0m\n",
      "\u001b[32m[I 2021-11-16 15:41:04,545]\u001b[0m Trial 21 finished with value: 0.6540443805158092 and parameters: {'min_samples_leaf': 50, 'max_depth': 23}. Best is trial 17 with value: 0.5326288398825326.\u001b[0m\n",
      "\u001b[32m[I 2021-11-16 15:41:05,016]\u001b[0m Trial 22 finished with value: 0.5921160982904918 and parameters: {'min_samples_leaf': 56, 'max_depth': 20}. Best is trial 17 with value: 0.5326288398825326.\u001b[0m\n",
      "\u001b[32m[I 2021-11-16 15:41:05,465]\u001b[0m Trial 23 finished with value: 0.572829499512989 and parameters: {'min_samples_leaf': 58, 'max_depth': 18}. Best is trial 17 with value: 0.5326288398825326.\u001b[0m\n",
      "\u001b[32m[I 2021-11-16 15:41:05,939]\u001b[0m Trial 24 finished with value: 0.5564191785101025 and parameters: {'min_samples_leaf': 64, 'max_depth': 14}. Best is trial 17 with value: 0.5326288398825326.\u001b[0m\n",
      "\u001b[32m[I 2021-11-16 15:41:06,370]\u001b[0m Trial 25 finished with value: 0.530580050536531 and parameters: {'min_samples_leaf': 75, 'max_depth': 22}. Best is trial 25 with value: 0.530580050536531.\u001b[0m\n",
      "\u001b[32m[I 2021-11-16 15:41:06,801]\u001b[0m Trial 26 finished with value: 0.5350471907357615 and parameters: {'min_samples_leaf': 74, 'max_depth': 23}. Best is trial 25 with value: 0.530580050536531.\u001b[0m\n",
      "\u001b[32m[I 2021-11-16 15:41:07,255]\u001b[0m Trial 27 finished with value: 0.5593435767662139 and parameters: {'min_samples_leaf': 65, 'max_depth': 23}. Best is trial 25 with value: 0.530580050536531.\u001b[0m\n",
      "\u001b[32m[I 2021-11-16 15:41:07,713]\u001b[0m Trial 28 finished with value: 0.6367265399047939 and parameters: {'min_samples_leaf': 52, 'max_depth': 14}. Best is trial 25 with value: 0.530580050536531.\u001b[0m\n",
      "\u001b[32m[I 2021-11-16 15:41:08,148]\u001b[0m Trial 29 finished with value: 0.6398003163836634 and parameters: {'min_samples_leaf': 51, 'max_depth': 16}. Best is trial 25 with value: 0.530580050536531.\u001b[0m\n"
     ]
    },
    {
     "data": {
      "text/plain": [
       "{'min_samples_leaf': 75, 'max_depth': 22}"
      ]
     },
     "execution_count": 37,
     "metadata": {},
     "output_type": "execute_result"
=======
      "/home/diego/.local/lib/python3.8/site-packages/sklearn/utils/deprecation.py:87: FutureWarning: Function load_boston is deprecated; `load_boston` is deprecated in 1.0 and will be removed in 1.2.\n",
      "\n",
      "    The Boston housing prices dataset has an ethical problem. You can refer to\n",
      "    the documentation of this function for further details.\n",
      "\n",
      "    The scikit-learn maintainers therefore strongly discourage the use of this\n",
      "    dataset unless the purpose of the code is to study and educate about\n",
      "    ethical issues in data science and machine learning.\n",
      "\n",
      "    In this special case, you can fetch the dataset from the original\n",
      "    source::\n",
      "\n",
      "        import pandas as pd\n",
      "        import numpy as np\n",
      "\n",
      "\n",
      "        data_url = \"http://lib.stat.cmu.edu/datasets/boston\"\n",
      "        raw_df = pd.read_csv(data_url, sep=\"\\s+\", skiprows=22, header=None)\n",
      "        data = np.hstack([raw_df.values[::2, :], raw_df.values[1::2, :2]])\n",
      "        target = raw_df.values[1::2, 2]\n",
      "\n",
      "    Alternative datasets include the California housing dataset (i.e.\n",
      "    :func:`~sklearn.datasets.fetch_california_housing`) and the Ames housing\n",
      "    dataset. You can load the datasets as follows::\n",
      "\n",
      "        from sklearn.datasets import fetch_california_housing\n",
      "        housing = fetch_california_housing()\n",
      "\n",
      "    for the California housing dataset and::\n",
      "\n",
      "        from sklearn.datasets import fetch_openml\n",
      "        housing = fetch_openml(name=\"house_prices\", as_frame=True)\n",
      "\n",
      "    for the Ames housing dataset.\n",
      "    \n",
      "  warnings.warn(msg, category=FutureWarning)\n"
     ]
>>>>>>> 59f2113658a021f00270f49af601a0192ecc6ba8
    }
   ],
   "source": [
    "tuning_hyperparams(\n",
    "        df=df_boston,\n",
    "        target=\"target\",\n",
    "        parameters=param_RF,\n",
    "        algorithm=RandomForestRegressor,\n",
    "        metric=mean_absolute_error,\n",
    "        scoring_option=\"minimize\",\n",
    "        n_trials=30,\n",
    "    )"
   ]
  },
  {
   "cell_type": "code",
<<<<<<< HEAD
   "execution_count": 38,
   "id": "9959ab0b",
=======
   "execution_count": 10,
   "id": "de5bf787",
>>>>>>> 59f2113658a021f00270f49af601a0192ecc6ba8
   "metadata": {},
   "outputs": [
    {
     "name": "stderr",
     "output_type": "stream",
     "text": [
<<<<<<< HEAD
      "\u001b[32m[I 2021-11-16 15:41:08,158]\u001b[0m A new study created in memory with name: no-name-5bedf26a-8c7e-47fb-9f81-55e5c2fbb9f8\u001b[0m\n",
      "\u001b[32m[I 2021-11-16 15:41:08,598]\u001b[0m Trial 0 finished with value: 0.5711363668972254 and parameters: {'min_samples_leaf': 59, 'max_depth': 24}. Best is trial 0 with value: 0.5711363668972254.\u001b[0m\n",
      "\u001b[32m[I 2021-11-16 15:41:09,026]\u001b[0m Trial 1 finished with value: 0.5510422449673255 and parameters: {'min_samples_leaf': 69, 'max_depth': 19}. Best is trial 1 with value: 0.5510422449673255.\u001b[0m\n",
      "\u001b[32m[I 2021-11-16 15:41:09,468]\u001b[0m Trial 2 finished with value: 0.6137313428767943 and parameters: {'min_samples_leaf': 54, 'max_depth': 14}. Best is trial 1 with value: 0.5510422449673255.\u001b[0m\n",
      "\u001b[32m[I 2021-11-16 15:41:09,930]\u001b[0m Trial 3 finished with value: 0.6384289743401099 and parameters: {'min_samples_leaf': 51, 'max_depth': 23}. Best is trial 1 with value: 0.5510422449673255.\u001b[0m\n",
      "\u001b[32m[I 2021-11-16 15:41:10,353]\u001b[0m Trial 4 finished with value: 0.5523781192071251 and parameters: {'min_samples_leaf': 65, 'max_depth': 21}. Best is trial 1 with value: 0.5510422449673255.\u001b[0m\n",
      "\u001b[32m[I 2021-11-16 15:41:10,798]\u001b[0m Trial 5 finished with value: 0.6487979716033658 and parameters: {'min_samples_leaf': 50, 'max_depth': 24}. Best is trial 1 with value: 0.5510422449673255.\u001b[0m\n",
      "\u001b[32m[I 2021-11-16 15:41:11,249]\u001b[0m Trial 6 finished with value: 0.5411220039694443 and parameters: {'min_samples_leaf': 71, 'max_depth': 14}. Best is trial 6 with value: 0.5411220039694443.\u001b[0m\n",
      "\u001b[32m[I 2021-11-16 15:41:11,710]\u001b[0m Trial 7 finished with value: 0.6089436172451926 and parameters: {'min_samples_leaf': 54, 'max_depth': 14}. Best is trial 6 with value: 0.5411220039694443.\u001b[0m\n",
      "\u001b[32m[I 2021-11-16 15:41:12,151]\u001b[0m Trial 8 finished with value: 0.5815551104443939 and parameters: {'min_samples_leaf': 57, 'max_depth': 18}. Best is trial 6 with value: 0.5411220039694443.\u001b[0m\n",
      "\u001b[32m[I 2021-11-16 15:41:12,592]\u001b[0m Trial 9 finished with value: 0.5625328772750027 and parameters: {'min_samples_leaf': 61, 'max_depth': 15}. Best is trial 6 with value: 0.5411220039694443.\u001b[0m\n",
      "\u001b[32m[I 2021-11-16 15:41:13,028]\u001b[0m Trial 10 finished with value: 0.5562077050669745 and parameters: {'min_samples_leaf': 65, 'max_depth': 13}. Best is trial 6 with value: 0.5411220039694443.\u001b[0m\n",
      "\u001b[32m[I 2021-11-16 15:41:13,450]\u001b[0m Trial 11 finished with value: 0.5789899119593247 and parameters: {'min_samples_leaf': 57, 'max_depth': 16}. Best is trial 6 with value: 0.5411220039694443.\u001b[0m\n",
      "\u001b[32m[I 2021-11-16 15:41:13,904]\u001b[0m Trial 12 finished with value: 0.5656296763654878 and parameters: {'min_samples_leaf': 61, 'max_depth': 22}. Best is trial 6 with value: 0.5411220039694443.\u001b[0m\n",
      "\u001b[32m[I 2021-11-16 15:41:14,375]\u001b[0m Trial 13 finished with value: 0.6075566418765124 and parameters: {'min_samples_leaf': 55, 'max_depth': 18}. Best is trial 6 with value: 0.5411220039694443.\u001b[0m\n",
      "\u001b[32m[I 2021-11-16 15:41:14,845]\u001b[0m Trial 14 finished with value: 0.553256182217185 and parameters: {'min_samples_leaf': 65, 'max_depth': 12}. Best is trial 6 with value: 0.5411220039694443.\u001b[0m\n",
      "\u001b[32m[I 2021-11-16 15:41:15,281]\u001b[0m Trial 15 finished with value: 0.5560357348746288 and parameters: {'min_samples_leaf': 65, 'max_depth': 14}. Best is trial 6 with value: 0.5411220039694443.\u001b[0m\n",
      "\u001b[32m[I 2021-11-16 15:41:15,732]\u001b[0m Trial 16 finished with value: 0.6524917567450264 and parameters: {'min_samples_leaf': 51, 'max_depth': 24}. Best is trial 6 with value: 0.5411220039694443.\u001b[0m\n",
      "\u001b[32m[I 2021-11-16 15:41:16,166]\u001b[0m Trial 17 finished with value: 0.5323698731052545 and parameters: {'min_samples_leaf': 75, 'max_depth': 22}. Best is trial 17 with value: 0.5323698731052545.\u001b[0m\n",
      "\u001b[32m[I 2021-11-16 15:41:16,604]\u001b[0m Trial 18 finished with value: 0.5853534425494253 and parameters: {'min_samples_leaf': 57, 'max_depth': 13}. Best is trial 17 with value: 0.5323698731052545.\u001b[0m\n",
      "\u001b[32m[I 2021-11-16 15:41:17,041]\u001b[0m Trial 19 finished with value: 0.5516763969666708 and parameters: {'min_samples_leaf': 67, 'max_depth': 17}. Best is trial 17 with value: 0.5323698731052545.\u001b[0m\n",
      "\u001b[32m[I 2021-11-16 15:41:17,479]\u001b[0m Trial 20 finished with value: 0.6269079667497973 and parameters: {'min_samples_leaf': 53, 'max_depth': 18}. Best is trial 17 with value: 0.5323698731052545.\u001b[0m\n",
      "\u001b[32m[I 2021-11-16 15:41:17,933]\u001b[0m Trial 21 finished with value: 0.653227925047842 and parameters: {'min_samples_leaf': 50, 'max_depth': 23}. Best is trial 17 with value: 0.5323698731052545.\u001b[0m\n",
      "\u001b[32m[I 2021-11-16 15:41:18,382]\u001b[0m Trial 22 finished with value: 0.6013276704096271 and parameters: {'min_samples_leaf': 56, 'max_depth': 20}. Best is trial 17 with value: 0.5323698731052545.\u001b[0m\n",
      "\u001b[32m[I 2021-11-16 15:41:18,819]\u001b[0m Trial 23 finished with value: 0.5765631096767964 and parameters: {'min_samples_leaf': 58, 'max_depth': 18}. Best is trial 17 with value: 0.5323698731052545.\u001b[0m\n",
      "\u001b[32m[I 2021-11-16 15:41:19,264]\u001b[0m Trial 24 finished with value: 0.5549532697010467 and parameters: {'min_samples_leaf': 64, 'max_depth': 14}. Best is trial 17 with value: 0.5323698731052545.\u001b[0m\n",
      "\u001b[32m[I 2021-11-16 15:41:19,700]\u001b[0m Trial 25 finished with value: 0.5322427897735403 and parameters: {'min_samples_leaf': 75, 'max_depth': 22}. Best is trial 25 with value: 0.5322427897735403.\u001b[0m\n",
      "\u001b[32m[I 2021-11-16 15:41:20,143]\u001b[0m Trial 26 finished with value: 0.5383888392163947 and parameters: {'min_samples_leaf': 74, 'max_depth': 23}. Best is trial 25 with value: 0.5322427897735403.\u001b[0m\n",
      "\u001b[32m[I 2021-11-16 15:41:20,563]\u001b[0m Trial 27 finished with value: 0.5541693102166038 and parameters: {'min_samples_leaf': 65, 'max_depth': 23}. Best is trial 25 with value: 0.5322427897735403.\u001b[0m\n",
      "\u001b[32m[I 2021-11-16 15:41:21,024]\u001b[0m Trial 28 finished with value: 0.6404836998078164 and parameters: {'min_samples_leaf': 52, 'max_depth': 14}. Best is trial 25 with value: 0.5322427897735403.\u001b[0m\n",
      "\u001b[32m[I 2021-11-16 15:41:21,505]\u001b[0m Trial 29 finished with value: 0.650289421954931 and parameters: {'min_samples_leaf': 51, 'max_depth': 16}. Best is trial 25 with value: 0.5322427897735403.\u001b[0m\n"
=======
      "\u001b[32m[I 2021-11-16 14:45:38,367]\u001b[0m A new study created in memory with name: no-name-5076557c-5e48-470a-acde-e1614f709e63\u001b[0m\n",
      "\u001b[32m[I 2021-11-16 14:45:39,435]\u001b[0m Trial 0 finished with value: 0.5518350114620284 and parameters: {'min_samples_leaf': 67, 'max_depth': 13}. Best is trial 0 with value: 0.5518350114620284.\u001b[0m\n",
      "\u001b[32m[I 2021-11-16 14:45:40,457]\u001b[0m Trial 1 finished with value: 0.5382326332090066 and parameters: {'min_samples_leaf': 72, 'max_depth': 17}. Best is trial 0 with value: 0.5518350114620284.\u001b[0m\n",
      "\u001b[32m[I 2021-11-16 14:45:41,503]\u001b[0m Trial 2 finished with value: 0.6024758347763676 and parameters: {'min_samples_leaf': 55, 'max_depth': 17}. Best is trial 2 with value: 0.6024758347763676.\u001b[0m\n",
      "\u001b[32m[I 2021-11-16 14:45:42,486]\u001b[0m Trial 3 finished with value: 0.5420755388285229 and parameters: {'min_samples_leaf': 73, 'max_depth': 15}. Best is trial 2 with value: 0.6024758347763676.\u001b[0m\n",
      "\u001b[32m[I 2021-11-16 14:45:43,471]\u001b[0m Trial 4 finished with value: 0.5507327500316133 and parameters: {'min_samples_leaf': 66, 'max_depth': 14}. Best is trial 2 with value: 0.6024758347763676.\u001b[0m\n",
      "\u001b[32m[I 2021-11-16 14:45:44,497]\u001b[0m Trial 5 finished with value: 0.551886861028364 and parameters: {'min_samples_leaf': 67, 'max_depth': 16}. Best is trial 2 with value: 0.6024758347763676.\u001b[0m\n",
      "\u001b[32m[I 2021-11-16 14:45:45,536]\u001b[0m Trial 6 finished with value: 0.576418675761464 and parameters: {'min_samples_leaf': 57, 'max_depth': 19}. Best is trial 2 with value: 0.6024758347763676.\u001b[0m\n",
      "\u001b[32m[I 2021-11-16 14:45:46,735]\u001b[0m Trial 7 finished with value: 0.5495028972152004 and parameters: {'min_samples_leaf': 68, 'max_depth': 13}. Best is trial 2 with value: 0.6024758347763676.\u001b[0m\n",
      "\u001b[32m[I 2021-11-16 14:45:47,853]\u001b[0m Trial 8 finished with value: 0.5650329964712604 and parameters: {'min_samples_leaf': 61, 'max_depth': 23}. Best is trial 2 with value: 0.6024758347763676.\u001b[0m\n",
      "\u001b[32m[I 2021-11-16 14:45:48,842]\u001b[0m Trial 9 finished with value: 0.5524399740633783 and parameters: {'min_samples_leaf': 63, 'max_depth': 18}. Best is trial 2 with value: 0.6024758347763676.\u001b[0m\n",
      "\u001b[32m[I 2021-11-16 14:45:49,905]\u001b[0m Trial 10 finished with value: 0.649218813593925 and parameters: {'min_samples_leaf': 50, 'max_depth': 21}. Best is trial 10 with value: 0.649218813593925.\u001b[0m\n",
      "\u001b[32m[I 2021-11-16 14:45:50,948]\u001b[0m Trial 11 finished with value: 0.6539429936075096 and parameters: {'min_samples_leaf': 50, 'max_depth': 21}. Best is trial 11 with value: 0.6539429936075096.\u001b[0m\n",
      "\u001b[32m[I 2021-11-16 14:45:52,002]\u001b[0m Trial 12 finished with value: 0.6329505930087189 and parameters: {'min_samples_leaf': 52, 'max_depth': 21}. Best is trial 11 with value: 0.6539429936075096.\u001b[0m\n",
      "\u001b[32m[I 2021-11-16 14:45:53,105]\u001b[0m Trial 13 finished with value: 0.6530281166252309 and parameters: {'min_samples_leaf': 50, 'max_depth': 24}. Best is trial 11 with value: 0.6539429936075096.\u001b[0m\n",
      "\u001b[32m[I 2021-11-16 14:45:54,126]\u001b[0m Trial 14 finished with value: 0.6038561122721695 and parameters: {'min_samples_leaf': 55, 'max_depth': 24}. Best is trial 11 with value: 0.6539429936075096.\u001b[0m\n",
      "\u001b[32m[I 2021-11-16 14:45:55,199]\u001b[0m Trial 15 finished with value: 0.6584975678273535 and parameters: {'min_samples_leaf': 50, 'max_depth': 22}. Best is trial 15 with value: 0.6584975678273535.\u001b[0m\n",
      "\u001b[32m[I 2021-11-16 14:45:56,256]\u001b[0m Trial 16 finished with value: 0.5675829716537268 and parameters: {'min_samples_leaf': 59, 'max_depth': 21}. Best is trial 15 with value: 0.6584975678273535.\u001b[0m\n",
      "\u001b[32m[I 2021-11-16 14:45:57,323]\u001b[0m Trial 17 finished with value: 0.5911662084919312 and parameters: {'min_samples_leaf': 56, 'max_depth': 20}. Best is trial 15 with value: 0.6584975678273535.\u001b[0m\n",
      "\u001b[32m[I 2021-11-16 14:45:58,452]\u001b[0m Trial 18 finished with value: 0.6185390553824824 and parameters: {'min_samples_leaf': 53, 'max_depth': 22}. Best is trial 15 with value: 0.6584975678273535.\u001b[0m\n",
      "\u001b[32m[I 2021-11-16 14:45:59,645]\u001b[0m Trial 19 finished with value: 0.6243384585254503 and parameters: {'min_samples_leaf': 53, 'max_depth': 22}. Best is trial 15 with value: 0.6584975678273535.\u001b[0m\n"
>>>>>>> 59f2113658a021f00270f49af601a0192ecc6ba8
     ]
    },
    {
     "data": {
      "text/plain": [
<<<<<<< HEAD
       "{'min_samples_leaf': 75, 'max_depth': 22}"
      ]
     },
     "execution_count": 38,
=======
       "{'min_samples_leaf': 50, 'max_depth': 22}"
      ]
     },
     "execution_count": 10,
>>>>>>> 59f2113658a021f00270f49af601a0192ecc6ba8
     "metadata": {},
     "output_type": "execute_result"
    }
   ],
   "source": [
    "tuning_hyperparams(\n",
    "        df=df_boston,\n",
    "        target=\"target\",\n",
    "        parameters=param_RF,\n",
    "        algorithm=RandomForestRegressor,\n",
<<<<<<< HEAD
    "        metric=mean_absolute_error,\n",
    "        scoring_option=\"minimize\",\n",
    "        n_trials=30,\n",
=======
    "        metric=mean_squared_log_error,\n",
    "        scoring_option=\"maximize\",\n",
    "        n_trials=20,\n",
>>>>>>> 59f2113658a021f00270f49af601a0192ecc6ba8
    "    )"
   ]
  },
  {
   "cell_type": "code",
   "execution_count": null,
   "id": "0f533eb9",
   "metadata": {},
   "outputs": [],
   "source": []
  },
  {
   "cell_type": "code",
   "execution_count": null,
   "id": "9e43bac6",
   "metadata": {},
   "outputs": [],
   "source": []
  }
 ],
 "metadata": {
  "kernelspec": {
   "display_name": "Python 3",
   "language": "python",
   "name": "python3"
  },
  "language_info": {
   "codemirror_mode": {
    "name": "ipython",
    "version": 3
   },
   "file_extension": ".py",
   "mimetype": "text/x-python",
   "name": "python",
   "nbconvert_exporter": "python",
   "pygments_lexer": "ipython3",
   "version": "3.8.8"
  }
 },
 "nbformat": 4,
 "nbformat_minor": 5
}
