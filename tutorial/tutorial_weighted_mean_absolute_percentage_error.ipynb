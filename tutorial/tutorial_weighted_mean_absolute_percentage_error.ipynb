{
 "cells": [
  {
   "cell_type": "markdown",
   "id": "e1f21e45",
   "metadata": {},
   "source": [
    "## 1.0 Introduction"
   ]
  },
  {
   "cell_type": "markdown",
   "id": "7ee1560c",
   "metadata": {},
   "source": [
    "The main objective of this function is calculate the metric weight mean absolute percentage error. The tutorial consists in use  simple lists passing y_true, y_pred and the wheights(into the params) showing the algorithm result."
   ]
  },
  {
   "cell_type": "markdown",
   "id": "c3d3607f",
   "metadata": {},
   "source": [
    "## 2.0 Library installation & modules import"
   ]
  },
  {
   "cell_type": "code",
   "execution_count": 2,
   "id": "bc258001",
   "metadata": {},
   "outputs": [],
   "source": [
    "!pip install mlutils"
   ]
  },
  {
   "cell_type": "code",
   "execution_count": 2,
   "id": "39cdb5e3",
   "metadata": {},
   "outputs": [],
   "source": [
    "from mlutils.weighted_mean_absolute_percentage_error import weighted_mean_absolute_percentage_error"
   ]
  },
  {
   "cell_type": "markdown",
   "id": "f90718d1",
   "metadata": {},
   "source": [
    "## 3.0 Weighted Mean Absolute Percentage Error Exemplo "
   ]
  },
  {
   "cell_type": "code",
   "execution_count": 3,
   "id": "eb078f32",
   "metadata": {},
   "outputs": [],
   "source": [
    "y_true = [3, -0.5, 2, 7]\n",
    "y_pred = [2.5, 0.0, 2, 8]"
   ]
  },
  {
   "cell_type": "code",
   "execution_count": 4,
   "id": "5e9ccada",
   "metadata": {},
   "outputs": [
    {
     "data": {
      "text/plain": [
       "0.15789473684210525"
      ]
     },
     "execution_count": 4,
     "metadata": {},
     "output_type": "execute_result"
    }
   ],
   "source": [
    "weighted_mean_absolute_percentage_error(y_true, y_pred, weights=[2, 1, 1, 3])"
   ]
  },
  {
   "cell_type": "markdown",
   "id": "1bce2ae3",
   "metadata": {},
   "source": [
    "## Conclusion and library advantages"
   ]
  },
  {
   "cell_type": "markdown",
   "id": "818623fc",
   "metadata": {},
   "source": [
    "This implementation is an advantage because this metric hasn't been published by any library and the scientists might enjoy without need to write any code only calling the function."
   ]
  },
  {
   "cell_type": "markdown",
   "id": "689f63f9",
   "metadata": {},
   "source": [
    "## Reference\n",
    "\n",
    "[numpy](https://numpy.org/doc/stable/)"
   ]
  }
 ],
 "metadata": {
  "kernelspec": {
   "display_name": "Python 3 (ipykernel)",
   "language": "python",
   "name": "python3"
  },
  "language_info": {
   "codemirror_mode": {
    "name": "ipython",
    "version": 3
   },
   "file_extension": ".py",
   "mimetype": "text/x-python",
   "name": "python",
   "nbconvert_exporter": "python",
   "pygments_lexer": "ipython3",
   "version": "3.8.8"
  }
 },
 "nbformat": 4,
 "nbformat_minor": 5
}
