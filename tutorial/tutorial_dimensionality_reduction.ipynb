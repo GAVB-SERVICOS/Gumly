{
 "cells": [
  {
   "cell_type": "markdown",
   "id": "bf8d6ef3",
   "metadata": {},
   "source": [
    "# Dimencionality Reduction Function Turotial"
   ]
  },
  {
   "cell_type": "markdown",
   "id": "bc3f5b9f",
   "metadata": {},
   "source": [
    "## 1.0 Objetivo da Função.\n",
    "\n",
    "Fazer com que os dois métodos tanto o PCA quanto o SVD possam ser chamados e testado para o modelo.\n",
    "\n",
    "\n"
   ]
  },
  {
   "cell_type": "markdown",
   "id": "34e80756",
   "metadata": {},
   "source": [
    "## 2.0 Importes das Bibliotecas\n",
    "\n",
    "Basicamente a função vai importar as bibliotecas do SVD que é a do Sypy e o PCA que é pelo scikit-learn."
   ]
  },
  {
   "cell_type": "code",
   "execution_count": 2,
   "id": "f9259004",
   "metadata": {},
   "outputs": [],
   "source": [
    "from sklearn.decomposition import PCA\n",
    "from scipy.sparse.linalg import svds"
   ]
  },
  {
   "cell_type": "markdown",
   "id": "abc9108e",
   "metadata": {},
   "source": [
    "## 3.0 Input e Output\n",
    "\n",
    "A função receberá uma matriz esparsa e devolverá um array com a dimenção reduzida para o método que for chamado através do parâmetro \"decoponsition_method\" sendo ele uma string que pode chamar tando o \"SVD\"\n",
    " quanto o \"PCA\"."
   ]
  },
  {
   "cell_type": "code",
   "execution_count": 3,
   "id": "31dd1056",
   "metadata": {},
   "outputs": [],
   "source": [
    "def dimensionality_reduction(\n",
    "    df_input,\n",
    "    decomposition_method: str = None,\n",
    "    k: int = None,\n",
    "    explained_variance: float = None,\n",
    "):\n",
    "    \"\"\"\n",
    "    Implements methods for dimensionality reduction.\n",
    "    \n",
    "    :param df_input: sparse matrix\n",
    "    :type: Array to compute SVD and PCA on, of shape (M,N)\n",
    "    :param decomposition_method: Choice of method\n",
    "    :type: str, default = None \n",
    "    :param K: Number of singular values(SVD) and principal component analyis(PCA) to compute. \n",
    "        Must be 1 <= k < min(A.shape)\n",
    "    :type: int, default = None\n",
    "    :param explained_variance: 0 < n_components < 1, select the number of components such that the \n",
    "        amount of variance that needs to be explained is greater than the percentage \n",
    "        specified by n_components\n",
    "    :type: float, default = None\n",
    "    :raise ValueError: K and explained_variance must be defined.\n",
    "    :raise TypeError: explained_variance must be a float.\n",
    "    :raise ValueError : explained_variance must be in the interval (0..1) and k \n",
    "        or explained_variance must be defined\n",
    "    :raise NotImplementedError: Model implemented yet. Available names: 'SVD', 'PCA'\n",
    "    :return: Input data with reduced dimensions\n",
    "    :rtype: numpy.ndarray\n",
    "\n",
    "    \"\"\"\n",
    "    if k is None and explained_variance is None:\n",
    "        raise ValueError(f\"k and explained_variance must be defined\")\n",
    "\n",
    "    if decomposition_method == \"SVD\":\n",
    "        # Implements SVD for reducing dimensionality\n",
    "        u, s, vt = svds(df_input, k=k)\n",
    "        return u\n",
    "\n",
    "    elif decomposition_method == \"PCA\":\n",
    "        if k is not None:\n",
    "            # Implements PCA for reducing dimensionality\n",
    "            u = PCA(k).fit_transform(df_input)\n",
    "        elif explained_variance is not None:\n",
    "\n",
    "            if not isinstance(explained_variance, float):\n",
    "                raise TypeError(\n",
    "                    f\"explained_variance must be a float, but its value passed was {explained_variance}.\"\n",
    "                )\n",
    "            if explained_variance <= 0 or explained_variance >= 1:\n",
    "                raise ValueError(f\"explained_variance must be in the interval (0..1)\")\n",
    "\n",
    "            u = PCA(explained_variance).fit_transform(df_input)\n",
    "        return u\n",
    "\n",
    "    else:\n",
    "        raise NotImplementedError(\n",
    "            \"Model implemented yet. Available names: 'SVD', 'PCA'.\"\n",
    "        )"
   ]
  },
  {
   "cell_type": "markdown",
   "id": "c1699222",
   "metadata": {},
   "source": [
    "## 3.1 Exemplo do output SVD"
   ]
  },
  {
   "cell_type": "markdown",
   "id": "8c927287",
   "metadata": {},
   "source": [
    "Recebendo uma Matriz esparsa aplicando um np.array:"
   ]
  },
  {
   "cell_type": "code",
   "execution_count": 5,
   "id": "c9e61b9d",
   "metadata": {},
   "outputs": [],
   "source": [
    "import numpy as np"
   ]
  },
  {
   "cell_type": "code",
   "execution_count": 12,
   "id": "d34def37",
   "metadata": {},
   "outputs": [],
   "source": [
    "    df = np.array(\n",
    "        [\n",
    "            [-1, -1, 2, -2],\n",
    "            [-2, -1, 3, -1],\n",
    "            [-3, -2, 5, 1],\n",
    "            [1, 1, 6, 1],\n",
    "            [2, 1, 7, 1],\n",
    "            [3, 2, 8, 1],\n",
    "        ],\n",
    "        dtype=np.float32,\n",
    "    )"
   ]
  },
  {
   "cell_type": "markdown",
   "id": "df1f6f2d",
   "metadata": {},
   "source": [
    "Chamando a função com os parâmetros, recependo a matriz esparsa, o método e o \"k\" como o número a ser reduzido :"
   ]
  },
  {
   "cell_type": "code",
   "execution_count": 13,
   "id": "b661e5e8",
   "metadata": {},
   "outputs": [
    {
     "data": {
      "text/plain": [
       "array([[ 0.34073317,  0.10864144],\n",
       "       [ 0.47650996,  0.17692444],\n",
       "       [ 0.7011086 ,  0.31684482],\n",
       "       [-0.06755795,  0.44724497],\n",
       "       [-0.17133306,  0.52770823],\n",
       "       [-0.36244583,  0.61481714]], dtype=float32)"
      ]
     },
     "execution_count": 13,
     "metadata": {},
     "output_type": "execute_result"
    }
   ],
   "source": [
    "dimensionality_reduction(df, decomposition_method= \"SVD\", k=2)"
   ]
  },
  {
   "cell_type": "markdown",
   "id": "b49f4bf4",
   "metadata": {},
   "source": [
    "Trabalhando o SVD com dataframe"
   ]
  },
  {
   "cell_type": "code",
   "execution_count": 17,
   "id": "5aeb2511",
   "metadata": {},
   "outputs": [],
   "source": [
    "import pandas as pd"
   ]
  },
  {
   "cell_type": "code",
   "execution_count": 18,
   "id": "2bace5e0",
   "metadata": {},
   "outputs": [],
   "source": [
    "def get_df(m, n):\n",
    "    df = pd.DataFrame(np.random.rand(m,n))\n",
    "    return df"
   ]
  },
  {
   "cell_type": "code",
   "execution_count": 20,
   "id": "59ed6e72",
   "metadata": {},
   "outputs": [
    {
     "data": {
      "text/html": [
       "<div>\n",
       "<style scoped>\n",
       "    .dataframe tbody tr th:only-of-type {\n",
       "        vertical-align: middle;\n",
       "    }\n",
       "\n",
       "    .dataframe tbody tr th {\n",
       "        vertical-align: top;\n",
       "    }\n",
       "\n",
       "    .dataframe thead th {\n",
       "        text-align: right;\n",
       "    }\n",
       "</style>\n",
       "<table border=\"1\" class=\"dataframe\">\n",
       "  <thead>\n",
       "    <tr style=\"text-align: right;\">\n",
       "      <th></th>\n",
       "      <th>0</th>\n",
       "      <th>1</th>\n",
       "      <th>2</th>\n",
       "      <th>3</th>\n",
       "      <th>4</th>\n",
       "    </tr>\n",
       "  </thead>\n",
       "  <tbody>\n",
       "    <tr>\n",
       "      <th>0</th>\n",
       "      <td>0.800836</td>\n",
       "      <td>0.669391</td>\n",
       "      <td>0.408557</td>\n",
       "      <td>0.837190</td>\n",
       "      <td>0.055235</td>\n",
       "    </tr>\n",
       "    <tr>\n",
       "      <th>1</th>\n",
       "      <td>0.001072</td>\n",
       "      <td>0.169011</td>\n",
       "      <td>0.405014</td>\n",
       "      <td>0.774019</td>\n",
       "      <td>0.329619</td>\n",
       "    </tr>\n",
       "    <tr>\n",
       "      <th>2</th>\n",
       "      <td>0.755557</td>\n",
       "      <td>0.321485</td>\n",
       "      <td>0.429555</td>\n",
       "      <td>0.288146</td>\n",
       "      <td>0.446964</td>\n",
       "    </tr>\n",
       "    <tr>\n",
       "      <th>3</th>\n",
       "      <td>0.912103</td>\n",
       "      <td>0.883492</td>\n",
       "      <td>0.153328</td>\n",
       "      <td>0.243961</td>\n",
       "      <td>0.750254</td>\n",
       "    </tr>\n",
       "    <tr>\n",
       "      <th>4</th>\n",
       "      <td>0.399057</td>\n",
       "      <td>0.259895</td>\n",
       "      <td>0.398195</td>\n",
       "      <td>0.735860</td>\n",
       "      <td>0.617795</td>\n",
       "    </tr>\n",
       "    <tr>\n",
       "      <th>5</th>\n",
       "      <td>0.965679</td>\n",
       "      <td>0.715160</td>\n",
       "      <td>0.512099</td>\n",
       "      <td>0.398048</td>\n",
       "      <td>0.354085</td>\n",
       "    </tr>\n",
       "  </tbody>\n",
       "</table>\n",
       "</div>"
      ],
      "text/plain": [
       "          0         1         2         3         4\n",
       "0  0.800836  0.669391  0.408557  0.837190  0.055235\n",
       "1  0.001072  0.169011  0.405014  0.774019  0.329619\n",
       "2  0.755557  0.321485  0.429555  0.288146  0.446964\n",
       "3  0.912103  0.883492  0.153328  0.243961  0.750254\n",
       "4  0.399057  0.259895  0.398195  0.735860  0.617795\n",
       "5  0.965679  0.715160  0.512099  0.398048  0.354085"
      ]
     },
     "execution_count": 20,
     "metadata": {},
     "output_type": "execute_result"
    }
   ],
   "source": [
    "df = get_df(6, 5)\n",
    "df"
   ]
  },
  {
   "cell_type": "code",
   "execution_count": 28,
   "id": "aca0e716",
   "metadata": {},
   "outputs": [
    {
     "data": {
      "text/plain": [
       "array([[-0.27882797,  0.7226522 ,  0.18870167, -0.46029838],\n",
       "       [-0.15486814, -0.17888954,  0.68342389, -0.23462217],\n",
       "       [ 0.70840188, -0.12869914, -0.12085638, -0.36062803],\n",
       "       [-0.54870519, -0.42397015, -0.49923854, -0.48682442],\n",
       "       [ 0.09320274, -0.43399306,  0.42215305, -0.36293365],\n",
       "       [ 0.29440359,  0.24720075, -0.23508485, -0.48405207]])"
      ]
     },
     "execution_count": 28,
     "metadata": {},
     "output_type": "execute_result"
    }
   ],
   "source": [
    "dimensionality_reduction(df, decomposition_method= \"SVD\", k=4)"
   ]
  },
  {
   "cell_type": "markdown",
   "id": "9e903bbf",
   "metadata": {},
   "source": [
    "## 3.1 Exemplo do output PCA"
   ]
  },
  {
   "cell_type": "code",
   "execution_count": 29,
   "id": "6c04295a",
   "metadata": {},
   "outputs": [],
   "source": [
    " df = np.array(\n",
    "        [\n",
    "            [-1, -1, 2, -2],\n",
    "            [-2, -1, 3, -1],\n",
    "            [-3, -2, 5, 1],\n",
    "            [1, 1, 6, 1],\n",
    "            [2, 1, 7, 1],\n",
    "            [3, 2, 8, 1],\n",
    "        ],\n",
    "    )"
   ]
  },
  {
   "cell_type": "code",
   "execution_count": 30,
   "id": "a283682d",
   "metadata": {},
   "outputs": [
    {
     "data": {
      "text/plain": [
       "array([[-3.55416303, -2.01120392],\n",
       "       [-3.29181646, -0.37102401],\n",
       "       [-2.55517195,  2.67830462],\n",
       "       [ 1.76504972,  0.04940415],\n",
       "       [ 2.9974995 ,  0.00646722],\n",
       "       [ 4.63860223, -0.35194805]])"
      ]
     },
     "execution_count": 30,
     "metadata": {},
     "output_type": "execute_result"
    }
   ],
   "source": [
    "dimensionality_reduction(df, decomposition_method= \"PCA\", k=2)"
   ]
  },
  {
   "cell_type": "markdown",
   "id": "4cb5cec8",
   "metadata": {},
   "source": [
    "3.1.1 Trabalhando o PCA com DataFrame"
   ]
  },
  {
   "cell_type": "markdown",
   "id": "7ec983ec",
   "metadata": {},
   "source": [
    "Como mencionado na função para trabalahr com DataFrame no PCA é preciso setar o \".values\" após o df_imput abaixo segue a função alterada:"
   ]
  },
  {
   "cell_type": "code",
   "execution_count": 31,
   "id": "1e5ba6e4",
   "metadata": {},
   "outputs": [],
   "source": [
    "def dimensionality_reduction(\n",
    "    df_input,\n",
    "    decomposition_method: str = None,\n",
    "    k: int = None,\n",
    "    explained_variance: float = None,\n",
    "):\n",
    "    \"\"\"\n",
    "    Implements methods for dimensionality reduction.\n",
    "    \n",
    "    :param df_input: sparse matrix\n",
    "    :type: Array to compute SVD and PCA on, of shape (M,N)\n",
    "    :param decomposition_method: Choice of method\n",
    "    :type: str, default = None \n",
    "    :param K: Number of singular values(SVD) and principal component analyis(PCA) to compute. \n",
    "        Must be 1 <= k < min(A.shape)\n",
    "    :type: int, default = None\n",
    "    :param explained_variance: 0 < n_components < 1, select the number of components such that the \n",
    "        amount of variance that needs to be explained is greater than the percentage \n",
    "        specified by n_components\n",
    "    :type: float, default = None\n",
    "    :raise ValueError: K and explained_variance must be defined.\n",
    "    :raise TypeError: explained_variance must be a float.\n",
    "    :raise ValueError : explained_variance must be in the interval (0..1) and k \n",
    "        or explained_variance must be defined\n",
    "    :raise NotImplementedError: Model implemented yet. Available names: 'SVD', 'PCA'\n",
    "    :return: Input data with reduced dimensions\n",
    "    :rtype: numpy.ndarray\n",
    "\n",
    "    \"\"\"\n",
    "    if k is None and explained_variance is None:\n",
    "        raise ValueError(f\"k and explained_variance must be defined\")\n",
    "\n",
    "    if decomposition_method == \"SVD\":\n",
    "        # Implements SVD for reducing dimensionality\n",
    "        u, s, vt = svds(df_input, k=k)\n",
    "        return u\n",
    "\n",
    "    elif decomposition_method == \"PCA\":\n",
    "        if k is not None:\n",
    "            # Implements PCA for reducing dimensionality\n",
    "            u = PCA(k).fit_transform(df_input.values)\n",
    "        elif explained_variance is not None:\n",
    "\n",
    "            if not isinstance(explained_variance, float):\n",
    "                raise TypeError(\n",
    "                    f\"explained_variance must be a float, but its value passed was {explained_variance}.\"\n",
    "                )\n",
    "            if explained_variance <= 0 or explained_variance >= 1:\n",
    "                raise ValueError(f\"explained_variance must be in the interval (0..1)\")\n",
    "\n",
    "            u = PCA(explained_variance).fit_transform(df_input.values)\n",
    "        return u\n",
    "\n",
    "    else:\n",
    "        raise NotImplementedError(\n",
    "            \"Model implemented yet. Available names: 'SVD', 'PCA'.\"\n",
    "        )"
   ]
  },
  {
   "cell_type": "code",
   "execution_count": 32,
   "id": "3d600b62",
   "metadata": {},
   "outputs": [],
   "source": [
    "def get_df(m, n):\n",
    "    df = pd.DataFrame(np.random.rand(m,n))\n",
    "    return df"
   ]
  },
  {
   "cell_type": "code",
   "execution_count": 33,
   "id": "9f5bbd59",
   "metadata": {},
   "outputs": [
    {
     "data": {
      "text/html": [
       "<div>\n",
       "<style scoped>\n",
       "    .dataframe tbody tr th:only-of-type {\n",
       "        vertical-align: middle;\n",
       "    }\n",
       "\n",
       "    .dataframe tbody tr th {\n",
       "        vertical-align: top;\n",
       "    }\n",
       "\n",
       "    .dataframe thead th {\n",
       "        text-align: right;\n",
       "    }\n",
       "</style>\n",
       "<table border=\"1\" class=\"dataframe\">\n",
       "  <thead>\n",
       "    <tr style=\"text-align: right;\">\n",
       "      <th></th>\n",
       "      <th>0</th>\n",
       "      <th>1</th>\n",
       "      <th>2</th>\n",
       "      <th>3</th>\n",
       "      <th>4</th>\n",
       "    </tr>\n",
       "  </thead>\n",
       "  <tbody>\n",
       "    <tr>\n",
       "      <th>0</th>\n",
       "      <td>0.437756</td>\n",
       "      <td>0.066781</td>\n",
       "      <td>0.964135</td>\n",
       "      <td>0.553633</td>\n",
       "      <td>0.790037</td>\n",
       "    </tr>\n",
       "    <tr>\n",
       "      <th>1</th>\n",
       "      <td>0.367796</td>\n",
       "      <td>0.732573</td>\n",
       "      <td>0.764866</td>\n",
       "      <td>0.562353</td>\n",
       "      <td>0.755449</td>\n",
       "    </tr>\n",
       "    <tr>\n",
       "      <th>2</th>\n",
       "      <td>0.403880</td>\n",
       "      <td>0.418870</td>\n",
       "      <td>0.930407</td>\n",
       "      <td>0.654264</td>\n",
       "      <td>0.214346</td>\n",
       "    </tr>\n",
       "    <tr>\n",
       "      <th>3</th>\n",
       "      <td>0.702962</td>\n",
       "      <td>0.400857</td>\n",
       "      <td>0.057568</td>\n",
       "      <td>0.624704</td>\n",
       "      <td>0.299899</td>\n",
       "    </tr>\n",
       "    <tr>\n",
       "      <th>4</th>\n",
       "      <td>0.514132</td>\n",
       "      <td>0.558977</td>\n",
       "      <td>0.093727</td>\n",
       "      <td>0.299503</td>\n",
       "      <td>0.796508</td>\n",
       "    </tr>\n",
       "    <tr>\n",
       "      <th>5</th>\n",
       "      <td>0.883130</td>\n",
       "      <td>0.021541</td>\n",
       "      <td>0.577477</td>\n",
       "      <td>0.058158</td>\n",
       "      <td>0.426417</td>\n",
       "    </tr>\n",
       "  </tbody>\n",
       "</table>\n",
       "</div>"
      ],
      "text/plain": [
       "          0         1         2         3         4\n",
       "0  0.437756  0.066781  0.964135  0.553633  0.790037\n",
       "1  0.367796  0.732573  0.764866  0.562353  0.755449\n",
       "2  0.403880  0.418870  0.930407  0.654264  0.214346\n",
       "3  0.702962  0.400857  0.057568  0.624704  0.299899\n",
       "4  0.514132  0.558977  0.093727  0.299503  0.796508\n",
       "5  0.883130  0.021541  0.577477  0.058158  0.426417"
      ]
     },
     "execution_count": 33,
     "metadata": {},
     "output_type": "execute_result"
    }
   ],
   "source": [
    "df = get_df(6, 5)\n",
    "df"
   ]
  },
  {
   "cell_type": "code",
   "execution_count": 41,
   "id": "c135a079",
   "metadata": {},
   "outputs": [
    {
     "data": {
      "text/plain": [
       "array([[-0.46726287,  0.13219022, -0.21369465,  0.22122619],\n",
       "       [-0.23578174, -0.41607618, -0.11447279, -0.12626969],\n",
       "       [-0.39799175, -0.03072337,  0.37207247, -0.07933675],\n",
       "       [ 0.4961718 , -0.0416109 ,  0.31764444,  0.13969046],\n",
       "       [ 0.46463338, -0.24004234, -0.26407372, -0.01697833],\n",
       "       [ 0.14023119,  0.59626256, -0.09747575, -0.13833187]])"
      ]
     },
     "execution_count": 41,
     "metadata": {},
     "output_type": "execute_result"
    }
   ],
   "source": [
    "dimensionality_reduction(df, decomposition_method= \"PCA\", k=4)"
   ]
  },
  {
   "cell_type": "code",
   "execution_count": null,
   "id": "e550ad2a",
   "metadata": {},
   "outputs": [],
   "source": []
  },
  {
   "cell_type": "code",
   "execution_count": null,
   "id": "f5cf1a33",
   "metadata": {},
   "outputs": [],
   "source": []
  }
 ],
 "metadata": {
  "kernelspec": {
   "display_name": "Python 3",
   "language": "python",
   "name": "python3"
  },
  "language_info": {
   "codemirror_mode": {
    "name": "ipython",
    "version": 3
   },
   "file_extension": ".py",
   "mimetype": "text/x-python",
   "name": "python",
   "nbconvert_exporter": "python",
   "pygments_lexer": "ipython3",
   "version": "3.8.8"
  }
 },
 "nbformat": 4,
 "nbformat_minor": 5
}
