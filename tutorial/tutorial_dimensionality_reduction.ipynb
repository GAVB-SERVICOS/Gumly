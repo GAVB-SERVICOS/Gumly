{
 "cells": [
  {
   "cell_type": "markdown",
   "id": "9fc210d1",
   "metadata": {},
   "source": [
    "## 1.0 Introduction"
   ]
  },
  {
   "cell_type": "markdown",
   "id": "03b1fc9a",
   "metadata": {},
   "source": [
    "The main objective of this function is use methods for dimentionality reduction(PCA and SVD) in the same function, to test the model without import the library. The tutorial consists in use simple array with numpy and ramdom DataFrame with pandas and show the algorithm result."
   ]
  },
  {
   "cell_type": "markdown",
   "id": "faa66ad3",
   "metadata": {},
   "source": [
    "## 2.0 Library installation & modules import"
   ]
  },
  {
   "cell_type": "code",
   "execution_count": null,
   "id": "fc33bc3e",
   "metadata": {},
   "outputs": [],
   "source": [
    "!pip install mlutils"
   ]
  },
  {
   "cell_type": "code",
   "execution_count": 5,
   "id": "d54fad94",
   "metadata": {},
   "outputs": [],
   "source": [
    "# For dimencionality reduction\n",
    "from mlutils.dimensionality_reduction import dimensionality_reduction\n",
    "\n",
    "#Others\n",
    "import numpy as np\n",
    "import pandas as pd"
   ]
  },
  {
   "cell_type": "markdown",
   "id": "322c2622",
   "metadata": {},
   "source": [
    "## 3.0 Using SVD  with Numpy Array"
   ]
  },
  {
   "cell_type": "code",
   "execution_count": 7,
   "id": "df3ff7d5",
   "metadata": {},
   "outputs": [],
   "source": [
    "\n",
    "    df = np.array(\n",
    "        [\n",
    "            [-1, -1, 2, -2],\n",
    "            [-2, -1, 3, -1],\n",
    "            [-3, -2, 5, 1],\n",
    "            [1, 1, 6, 1],\n",
    "            [2, 1, 7, 1],\n",
    "            [3, 2, 8, 1],\n",
    "        ],\n",
    "    )\n",
    "    "
   ]
  },
  {
   "cell_type": "code",
   "execution_count": 8,
   "id": "f322dc7c",
   "metadata": {
    "scrolled": true
   },
   "outputs": [
    {
     "data": {
      "text/plain": [
       "array([[ 0.34073313,  0.10864144],\n",
       "       [ 0.47650997,  0.17692445],\n",
       "       [ 0.70110855,  0.31684481],\n",
       "       [-0.0675579 ,  0.44724498],\n",
       "       [-0.17133298,  0.52770822],\n",
       "       [-0.36244574,  0.61481713]])"
      ]
     },
     "execution_count": 8,
     "metadata": {},
     "output_type": "execute_result"
    }
   ],
   "source": [
    "df_out = dimensionality_reduction(df, decomposition_method= \"SVD\", k=2)\n",
    "df_out"
   ]
  },
  {
   "cell_type": "markdown",
   "id": "755984de",
   "metadata": {},
   "source": [
    "## 4.0 Using SVD  SVD with Pandas DataFrame"
   ]
  },
  {
   "cell_type": "code",
   "execution_count": 10,
   "id": "442cec59",
   "metadata": {},
   "outputs": [],
   "source": [
    "def get_df(m, n):\n",
    "    df = pd.DataFrame(np.random.rand(m,n))\n",
    "    return df"
   ]
  },
  {
   "cell_type": "code",
   "execution_count": 11,
   "id": "9de37afc",
   "metadata": {
    "scrolled": true
   },
   "outputs": [
    {
     "data": {
      "text/html": [
       "<div>\n",
       "<style scoped>\n",
       "    .dataframe tbody tr th:only-of-type {\n",
       "        vertical-align: middle;\n",
       "    }\n",
       "\n",
       "    .dataframe tbody tr th {\n",
       "        vertical-align: top;\n",
       "    }\n",
       "\n",
       "    .dataframe thead th {\n",
       "        text-align: right;\n",
       "    }\n",
       "</style>\n",
       "<table border=\"1\" class=\"dataframe\">\n",
       "  <thead>\n",
       "    <tr style=\"text-align: right;\">\n",
       "      <th></th>\n",
       "      <th>0</th>\n",
       "      <th>1</th>\n",
       "      <th>2</th>\n",
       "      <th>3</th>\n",
       "      <th>4</th>\n",
       "    </tr>\n",
       "  </thead>\n",
       "  <tbody>\n",
       "    <tr>\n",
       "      <th>0</th>\n",
       "      <td>0.674835</td>\n",
       "      <td>0.615498</td>\n",
       "      <td>0.799142</td>\n",
       "      <td>0.795237</td>\n",
       "      <td>0.387473</td>\n",
       "    </tr>\n",
       "    <tr>\n",
       "      <th>1</th>\n",
       "      <td>0.674154</td>\n",
       "      <td>0.369868</td>\n",
       "      <td>0.597868</td>\n",
       "      <td>0.592795</td>\n",
       "      <td>0.465473</td>\n",
       "    </tr>\n",
       "    <tr>\n",
       "      <th>2</th>\n",
       "      <td>0.702094</td>\n",
       "      <td>0.073258</td>\n",
       "      <td>0.469521</td>\n",
       "      <td>0.724243</td>\n",
       "      <td>0.071271</td>\n",
       "    </tr>\n",
       "    <tr>\n",
       "      <th>3</th>\n",
       "      <td>0.333447</td>\n",
       "      <td>0.772505</td>\n",
       "      <td>0.494894</td>\n",
       "      <td>0.728895</td>\n",
       "      <td>0.305274</td>\n",
       "    </tr>\n",
       "    <tr>\n",
       "      <th>4</th>\n",
       "      <td>0.578056</td>\n",
       "      <td>0.121787</td>\n",
       "      <td>0.033067</td>\n",
       "      <td>0.466799</td>\n",
       "      <td>0.125408</td>\n",
       "    </tr>\n",
       "    <tr>\n",
       "      <th>5</th>\n",
       "      <td>0.455962</td>\n",
       "      <td>0.362902</td>\n",
       "      <td>0.213305</td>\n",
       "      <td>0.002780</td>\n",
       "      <td>0.091047</td>\n",
       "    </tr>\n",
       "  </tbody>\n",
       "</table>\n",
       "</div>"
      ],
      "text/plain": [
       "          0         1         2         3         4\n",
       "0  0.674835  0.615498  0.799142  0.795237  0.387473\n",
       "1  0.674154  0.369868  0.597868  0.592795  0.465473\n",
       "2  0.702094  0.073258  0.469521  0.724243  0.071271\n",
       "3  0.333447  0.772505  0.494894  0.728895  0.305274\n",
       "4  0.578056  0.121787  0.033067  0.466799  0.125408\n",
       "5  0.455962  0.362902  0.213305  0.002780  0.091047"
      ]
     },
     "execution_count": 11,
     "metadata": {},
     "output_type": "execute_result"
    }
   ],
   "source": [
    "df = get_df(6, 5)\n",
    "df"
   ]
  },
  {
   "cell_type": "code",
   "execution_count": 12,
   "id": "b847d801",
   "metadata": {},
   "outputs": [
    {
     "data": {
      "text/plain": [
       "array([[ 0.05542333, -0.19183302, -0.57133148],\n",
       "       [-0.19269507,  0.0590737 , -0.46414176],\n",
       "       [ 0.28942703,  0.61429381, -0.39429179],\n",
       "       [ 0.3020028 , -0.58784635, -0.45125934],\n",
       "       [-0.09973038,  0.48013738, -0.25056856],\n",
       "       [-0.88027099, -0.07910919, -0.19043938]])"
      ]
     },
     "execution_count": 12,
     "metadata": {},
     "output_type": "execute_result"
    }
   ],
   "source": [
    "df_out = dimensionality_reduction(df, decomposition_method= \"SVD\", k=3)\n",
    "df_out"
   ]
  },
  {
   "cell_type": "markdown",
   "id": "009658c6",
   "metadata": {},
   "source": [
    "## 5.0 Using PCA with Numpy Array"
   ]
  },
  {
   "cell_type": "code",
   "execution_count": 13,
   "id": "5ffce65c",
   "metadata": {},
   "outputs": [],
   "source": [
    "\n",
    "    df = np.array(\n",
    "        [\n",
    "            [-1, -1, 2, -2],\n",
    "            [-2, -1, 3, -1],\n",
    "            [-3, -2, 5, 1],\n",
    "            [1, 1, 6, 1],\n",
    "            [2, 1, 7, 1],\n",
    "            [3, 2, 8, 1],\n",
    "        ],\n",
    "    )"
   ]
  },
  {
   "cell_type": "code",
   "execution_count": 18,
   "id": "fcd0426e",
   "metadata": {
    "scrolled": true
   },
   "outputs": [
    {
     "data": {
      "text/plain": [
       "array([[-3.55416303, -2.01120392],\n",
       "       [-3.29181646, -0.37102401],\n",
       "       [-2.55517195,  2.67830462],\n",
       "       [ 1.76504972,  0.04940415],\n",
       "       [ 2.9974995 ,  0.00646722],\n",
       "       [ 4.63860223, -0.35194805]])"
      ]
     },
     "execution_count": 18,
     "metadata": {},
     "output_type": "execute_result"
    }
   ],
   "source": [
    "df_out = dimensionality_reduction(df, decomposition_method= \"PCA\", k=2)\n",
    "df_out"
   ]
  },
  {
   "cell_type": "markdown",
   "id": "9000823d",
   "metadata": {},
   "source": [
    "## 6.0 Using PCA with Pandas DataFrame"
   ]
  },
  {
   "cell_type": "code",
   "execution_count": 14,
   "id": "f715cdd5",
   "metadata": {},
   "outputs": [],
   "source": [
    "def get_df(m, n):\n",
    "    df = pd.DataFrame(np.random.rand(m,n))\n",
    "    return df"
   ]
  },
  {
   "cell_type": "code",
   "execution_count": 15,
   "id": "23f1a97c",
   "metadata": {},
   "outputs": [
    {
     "data": {
      "text/html": [
       "<div>\n",
       "<style scoped>\n",
       "    .dataframe tbody tr th:only-of-type {\n",
       "        vertical-align: middle;\n",
       "    }\n",
       "\n",
       "    .dataframe tbody tr th {\n",
       "        vertical-align: top;\n",
       "    }\n",
       "\n",
       "    .dataframe thead th {\n",
       "        text-align: right;\n",
       "    }\n",
       "</style>\n",
       "<table border=\"1\" class=\"dataframe\">\n",
       "  <thead>\n",
       "    <tr style=\"text-align: right;\">\n",
       "      <th></th>\n",
       "      <th>0</th>\n",
       "      <th>1</th>\n",
       "      <th>2</th>\n",
       "      <th>3</th>\n",
       "      <th>4</th>\n",
       "    </tr>\n",
       "  </thead>\n",
       "  <tbody>\n",
       "    <tr>\n",
       "      <th>0</th>\n",
       "      <td>0.174953</td>\n",
       "      <td>0.670499</td>\n",
       "      <td>0.490653</td>\n",
       "      <td>0.515824</td>\n",
       "      <td>0.851182</td>\n",
       "    </tr>\n",
       "    <tr>\n",
       "      <th>1</th>\n",
       "      <td>0.945670</td>\n",
       "      <td>0.240219</td>\n",
       "      <td>0.112222</td>\n",
       "      <td>0.016280</td>\n",
       "      <td>0.877027</td>\n",
       "    </tr>\n",
       "    <tr>\n",
       "      <th>2</th>\n",
       "      <td>0.842003</td>\n",
       "      <td>0.590167</td>\n",
       "      <td>0.635438</td>\n",
       "      <td>0.666396</td>\n",
       "      <td>0.021181</td>\n",
       "    </tr>\n",
       "    <tr>\n",
       "      <th>3</th>\n",
       "      <td>0.449403</td>\n",
       "      <td>0.232453</td>\n",
       "      <td>0.121792</td>\n",
       "      <td>0.707149</td>\n",
       "      <td>0.445495</td>\n",
       "    </tr>\n",
       "    <tr>\n",
       "      <th>4</th>\n",
       "      <td>0.405704</td>\n",
       "      <td>0.494280</td>\n",
       "      <td>0.342710</td>\n",
       "      <td>0.748343</td>\n",
       "      <td>0.161582</td>\n",
       "    </tr>\n",
       "    <tr>\n",
       "      <th>5</th>\n",
       "      <td>0.477807</td>\n",
       "      <td>0.886350</td>\n",
       "      <td>0.693330</td>\n",
       "      <td>0.581265</td>\n",
       "      <td>0.337138</td>\n",
       "    </tr>\n",
       "  </tbody>\n",
       "</table>\n",
       "</div>"
      ],
      "text/plain": [
       "          0         1         2         3         4\n",
       "0  0.174953  0.670499  0.490653  0.515824  0.851182\n",
       "1  0.945670  0.240219  0.112222  0.016280  0.877027\n",
       "2  0.842003  0.590167  0.635438  0.666396  0.021181\n",
       "3  0.449403  0.232453  0.121792  0.707149  0.445495\n",
       "4  0.405704  0.494280  0.342710  0.748343  0.161582\n",
       "5  0.477807  0.886350  0.693330  0.581265  0.337138"
      ]
     },
     "execution_count": 15,
     "metadata": {},
     "output_type": "execute_result"
    }
   ],
   "source": [
    "get_df(6, 5)"
   ]
  },
  {
   "cell_type": "code",
   "execution_count": 16,
   "id": "213c9916",
   "metadata": {
    "scrolled": true
   },
   "outputs": [
    {
     "data": {
      "text/plain": [
       "array([[-3.55416303, -2.01120392, -0.17043529, -0.12711408],\n",
       "       [-3.29181646, -0.37102401,  0.15484655,  0.24054863],\n",
       "       [-2.55517195,  2.67830462, -0.13828135, -0.02968419],\n",
       "       [ 1.76504972,  0.04940415,  0.50760573, -0.11568939],\n",
       "       [ 2.9974995 ,  0.00646722, -0.18007924, -0.19514602],\n",
       "       [ 4.63860223, -0.35194805, -0.1736564 ,  0.22708504]])"
      ]
     },
     "execution_count": 16,
     "metadata": {},
     "output_type": "execute_result"
    }
   ],
   "source": [
    "df_out = dimensionality_reduction(df, decomposition_method= \"PCA\", k=4)\n",
    "df_out"
   ]
  },
  {
   "cell_type": "markdown",
   "id": "110c7121",
   "metadata": {},
   "source": [
    "## Conclusion and library advantages"
   ]
  },
  {
   "cell_type": "markdown",
   "id": "3107e064",
   "metadata": {},
   "source": [
    "This implementation is an advantage because the model was structered to be tested with both methods and choose the best methods to the model. "
   ]
  },
  {
   "cell_type": "markdown",
   "id": "cab6d425",
   "metadata": {},
   "source": [
    "## 1.1 References\n",
    "\n",
    "[PCA Skitlearn](https://scikit-learn.org/stable/modules/generated/sklearn.decomposition.PCA.html)\n",
    "\n",
    "\n",
    "\n",
    "[SVD Sciypy](https://docs.scipy.org/doc/scipy/reference/generated/scipy.sparse.linalg.svds.html)"
   ]
  }
 ],
 "metadata": {
  "kernelspec": {
   "display_name": "Python 3 (ipykernel)",
   "language": "python",
   "name": "python3"
  },
  "language_info": {
   "codemirror_mode": {
    "name": "ipython",
    "version": 3
   },
   "file_extension": ".py",
   "mimetype": "text/x-python",
   "name": "python",
   "nbconvert_exporter": "python",
   "pygments_lexer": "ipython3",
   "version": "3.8.8"
  }
 },
 "nbformat": 4,
 "nbformat_minor": 5
}
