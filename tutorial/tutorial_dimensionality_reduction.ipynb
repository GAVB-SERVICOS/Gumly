{
 "cells": [
  {
   "cell_type": "markdown",
   "id": "9fc210d1",
   "metadata": {},
   "source": [
    "# Dimencionality Reduction Function Turotial"
   ]
  },
  {
   "cell_type": "markdown",
   "id": "03b1fc9a",
   "metadata": {},
   "source": [
    "## 1.0 Objetivo da Função.\n",
    "\n",
    "Fazer com que os dois métodos tanto o PCA quanto o SVD possam ser chamados e testado para o modelo.\n",
    "\n",
    "\n"
   ]
  },
  {
   "cell_type": "markdown",
   "id": "faa66ad3",
   "metadata": {},
   "source": [
    "## 2.0 Importes das Bibliotecas\n",
    "\n",
    "Basicamente a função vai importar as bibliotecas do SVD que é a do Sypy e o PCA que é pelo scikit-learn."
   ]
  },
  {
   "cell_type": "code",
   "execution_count": 1,
   "id": "d54fad94",
   "metadata": {},
   "outputs": [],
   "source": [
    "from sklearn.decomposition import PCA\n",
    "from scipy.sparse.linalg import svds"
   ]
  },
  {
   "cell_type": "markdown",
   "id": "39d95850",
   "metadata": {},
   "source": [
    "## 3.0 Input e Output\n",
    "\n",
    "A função receberá uma matriz esparsa e devolverá um array com a dimenção reduzida para o método que for chamado através do parâmetro \"decoponsition_method\" sendo ele uma string que pode chamar tando o \"SVD\"\n",
    " quanto o \"PCA\"."
   ]
  },
  {
   "cell_type": "code",
   "execution_count": 2,
   "id": "d1e319c5",
   "metadata": {},
   "outputs": [],
   "source": [
    "import os\n",
    "root = '/'.join(os.getcwd().split('/')[:-1])\n",
    "os.chdir(root + '/mlutils')"
   ]
  },
  {
   "cell_type": "markdown",
   "id": "761e80d7",
   "metadata": {},
   "source": [
    "Importando a função"
   ]
  },
  {
   "cell_type": "code",
   "execution_count": 3,
   "id": "81bee0b3",
   "metadata": {},
   "outputs": [],
   "source": [
    "from dimensionality_reduction import *"
   ]
  },
  {
   "cell_type": "markdown",
   "id": "dd6bca8f",
   "metadata": {},
   "source": [
    "## 3.1 Exemplo do output SVD"
   ]
  },
  {
   "cell_type": "markdown",
   "id": "616d05d4",
   "metadata": {},
   "source": [
    "Recebendo uma Matriz esparsa aplicando um np.array:"
   ]
  },
  {
   "cell_type": "code",
   "execution_count": 4,
   "id": "156c0895",
   "metadata": {},
   "outputs": [],
   "source": [
    "import numpy as np"
   ]
  },
  {
   "cell_type": "code",
   "execution_count": 5,
   "id": "df3ff7d5",
   "metadata": {},
   "outputs": [],
   "source": [
    "    df = np.array(\n",
    "        [\n",
    "            [-1, -1, 2, -2],\n",
    "            [-2, -1, 3, -1],\n",
    "            [-3, -2, 5, 1],\n",
    "            [1, 1, 6, 1],\n",
    "            [2, 1, 7, 1],\n",
    "            [3, 2, 8, 1],\n",
    "        ],\n",
    "    )"
   ]
  },
  {
   "cell_type": "markdown",
   "id": "94b665b6",
   "metadata": {},
   "source": [
    "Chamando a função com os parâmetros, recependo a matriz esparsa, o método e o \"k\" como o número a ser reduzido :"
   ]
  },
  {
   "cell_type": "code",
   "execution_count": 6,
   "id": "f322dc7c",
   "metadata": {
    "scrolled": true
   },
   "outputs": [
    {
     "data": {
      "text/plain": [
       "array([[ 0.34073313,  0.10864144],\n",
       "       [ 0.47650997,  0.17692445],\n",
       "       [ 0.70110855,  0.31684481],\n",
       "       [-0.0675579 ,  0.44724498],\n",
       "       [-0.17133298,  0.52770822],\n",
       "       [-0.36244574,  0.61481713]])"
      ]
     },
     "execution_count": 6,
     "metadata": {},
     "output_type": "execute_result"
    }
   ],
   "source": [
    "dimensionality_reduction(df, decomposition_method= \"SVD\", k=2)"
   ]
  },
  {
   "cell_type": "markdown",
   "id": "755984de",
   "metadata": {},
   "source": [
    "Trabalhando o SVD com dataframe"
   ]
  },
  {
   "cell_type": "code",
   "execution_count": 7,
   "id": "e958e1cf",
   "metadata": {},
   "outputs": [],
   "source": [
    "import pandas as pd"
   ]
  },
  {
   "cell_type": "code",
   "execution_count": 8,
   "id": "442cec59",
   "metadata": {},
   "outputs": [],
   "source": [
    "def get_df(m, n):\n",
    "    df = pd.DataFrame(np.random.rand(m,n))\n",
    "    return df"
   ]
  },
  {
   "cell_type": "code",
   "execution_count": 9,
   "id": "9de37afc",
   "metadata": {},
   "outputs": [
    {
     "data": {
      "text/html": [
       "<div>\n",
       "<style scoped>\n",
       "    .dataframe tbody tr th:only-of-type {\n",
       "        vertical-align: middle;\n",
       "    }\n",
       "\n",
       "    .dataframe tbody tr th {\n",
       "        vertical-align: top;\n",
       "    }\n",
       "\n",
       "    .dataframe thead th {\n",
       "        text-align: right;\n",
       "    }\n",
       "</style>\n",
       "<table border=\"1\" class=\"dataframe\">\n",
       "  <thead>\n",
       "    <tr style=\"text-align: right;\">\n",
       "      <th></th>\n",
       "      <th>0</th>\n",
       "      <th>1</th>\n",
       "      <th>2</th>\n",
       "      <th>3</th>\n",
       "      <th>4</th>\n",
       "    </tr>\n",
       "  </thead>\n",
       "  <tbody>\n",
       "    <tr>\n",
       "      <th>0</th>\n",
       "      <td>0.756971</td>\n",
       "      <td>0.977453</td>\n",
       "      <td>0.160675</td>\n",
       "      <td>0.980860</td>\n",
       "      <td>0.980663</td>\n",
       "    </tr>\n",
       "    <tr>\n",
       "      <th>1</th>\n",
       "      <td>0.635532</td>\n",
       "      <td>0.431642</td>\n",
       "      <td>0.130091</td>\n",
       "      <td>0.336476</td>\n",
       "      <td>0.235347</td>\n",
       "    </tr>\n",
       "    <tr>\n",
       "      <th>2</th>\n",
       "      <td>0.694349</td>\n",
       "      <td>0.883352</td>\n",
       "      <td>0.920999</td>\n",
       "      <td>0.223749</td>\n",
       "      <td>0.829471</td>\n",
       "    </tr>\n",
       "    <tr>\n",
       "      <th>3</th>\n",
       "      <td>0.503554</td>\n",
       "      <td>0.431758</td>\n",
       "      <td>0.427162</td>\n",
       "      <td>0.710970</td>\n",
       "      <td>0.776522</td>\n",
       "    </tr>\n",
       "    <tr>\n",
       "      <th>4</th>\n",
       "      <td>0.130192</td>\n",
       "      <td>0.930478</td>\n",
       "      <td>0.833936</td>\n",
       "      <td>0.162750</td>\n",
       "      <td>0.712340</td>\n",
       "    </tr>\n",
       "    <tr>\n",
       "      <th>5</th>\n",
       "      <td>0.288267</td>\n",
       "      <td>0.610093</td>\n",
       "      <td>0.312971</td>\n",
       "      <td>0.005573</td>\n",
       "      <td>0.341205</td>\n",
       "    </tr>\n",
       "  </tbody>\n",
       "</table>\n",
       "</div>"
      ],
      "text/plain": [
       "          0         1         2         3         4\n",
       "0  0.756971  0.977453  0.160675  0.980860  0.980663\n",
       "1  0.635532  0.431642  0.130091  0.336476  0.235347\n",
       "2  0.694349  0.883352  0.920999  0.223749  0.829471\n",
       "3  0.503554  0.431758  0.427162  0.710970  0.776522\n",
       "4  0.130192  0.930478  0.833936  0.162750  0.712340\n",
       "5  0.288267  0.610093  0.312971  0.005573  0.341205"
      ]
     },
     "execution_count": 9,
     "metadata": {},
     "output_type": "execute_result"
    }
   ],
   "source": [
    "df = get_df(6, 5)\n",
    "df"
   ]
  },
  {
   "cell_type": "code",
   "execution_count": 10,
   "id": "b847d801",
   "metadata": {},
   "outputs": [
    {
     "data": {
      "text/plain": [
       "array([[-0.15859257, -0.58329524,  0.55078169],\n",
       "       [ 0.67326293, -0.24457787,  0.24359746],\n",
       "       [ 0.33900635,  0.39415214,  0.50845174],\n",
       "       [-0.38300375, -0.27053918,  0.39183812],\n",
       "       [-0.4122889 ,  0.56556078,  0.41172686],\n",
       "       [ 0.29994351,  0.22702859,  0.23605196]])"
      ]
     },
     "execution_count": 10,
     "metadata": {},
     "output_type": "execute_result"
    }
   ],
   "source": [
    "dimensionality_reduction(df, decomposition_method= \"SVD\", k=3)"
   ]
  },
  {
   "cell_type": "markdown",
   "id": "65335026",
   "metadata": {},
   "source": [
    "## 3.1 Exemplo do output PCA"
   ]
  },
  {
   "cell_type": "markdown",
   "id": "19f3f139",
   "metadata": {},
   "source": [
    "Recebendo uma Matriz esparsa aplicando um np.array"
   ]
  },
  {
   "cell_type": "code",
   "execution_count": 17,
   "id": "5ffce65c",
   "metadata": {},
   "outputs": [],
   "source": [
    " df = np.array(\n",
    "        [\n",
    "            [-1, -1, 2, -2],\n",
    "            [-2, -1, 3, -1],\n",
    "            [-3, -2, 5, 1],\n",
    "            [1, 1, 6, 1],\n",
    "            [2, 1, 7, 1],\n",
    "            [3, 2, 8, 1],\n",
    "        ],\n",
    "    )"
   ]
  },
  {
   "cell_type": "code",
   "execution_count": 18,
   "id": "fcd0426e",
   "metadata": {
    "scrolled": true
   },
   "outputs": [
    {
     "data": {
      "text/plain": [
       "array([[-3.55416303, -2.01120392],\n",
       "       [-3.29181646, -0.37102401],\n",
       "       [-2.55517195,  2.67830462],\n",
       "       [ 1.76504972,  0.04940415],\n",
       "       [ 2.9974995 ,  0.00646722],\n",
       "       [ 4.63860223, -0.35194805]])"
      ]
     },
     "execution_count": 18,
     "metadata": {},
     "output_type": "execute_result"
    }
   ],
   "source": [
    "dimensionality_reduction(df, decomposition_method= \"PCA\", k=2)"
   ]
  },
  {
   "cell_type": "markdown",
   "id": "9000823d",
   "metadata": {},
   "source": [
    "3.1.1 Trabalhando o PCA com DataFrame"
   ]
  },
  {
   "cell_type": "code",
   "execution_count": 19,
   "id": "f715cdd5",
   "metadata": {},
   "outputs": [],
   "source": [
    "def get_df(m, n):\n",
    "    df = pd.DataFrame(np.random.rand(m,n))\n",
    "    return df"
   ]
  },
  {
   "cell_type": "code",
   "execution_count": 20,
   "id": "23f1a97c",
   "metadata": {},
   "outputs": [
    {
     "data": {
      "text/html": [
       "<div>\n",
       "<style scoped>\n",
       "    .dataframe tbody tr th:only-of-type {\n",
       "        vertical-align: middle;\n",
       "    }\n",
       "\n",
       "    .dataframe tbody tr th {\n",
       "        vertical-align: top;\n",
       "    }\n",
       "\n",
       "    .dataframe thead th {\n",
       "        text-align: right;\n",
       "    }\n",
       "</style>\n",
       "<table border=\"1\" class=\"dataframe\">\n",
       "  <thead>\n",
       "    <tr style=\"text-align: right;\">\n",
       "      <th></th>\n",
       "      <th>0</th>\n",
       "      <th>1</th>\n",
       "      <th>2</th>\n",
       "      <th>3</th>\n",
       "      <th>4</th>\n",
       "    </tr>\n",
       "  </thead>\n",
       "  <tbody>\n",
       "    <tr>\n",
       "      <th>0</th>\n",
       "      <td>0.982408</td>\n",
       "      <td>0.988637</td>\n",
       "      <td>0.368174</td>\n",
       "      <td>0.516153</td>\n",
       "      <td>0.331710</td>\n",
       "    </tr>\n",
       "    <tr>\n",
       "      <th>1</th>\n",
       "      <td>0.526197</td>\n",
       "      <td>0.447501</td>\n",
       "      <td>0.387039</td>\n",
       "      <td>0.402977</td>\n",
       "      <td>0.650552</td>\n",
       "    </tr>\n",
       "    <tr>\n",
       "      <th>2</th>\n",
       "      <td>0.170478</td>\n",
       "      <td>0.944127</td>\n",
       "      <td>0.650660</td>\n",
       "      <td>0.921341</td>\n",
       "      <td>0.024035</td>\n",
       "    </tr>\n",
       "    <tr>\n",
       "      <th>3</th>\n",
       "      <td>0.023516</td>\n",
       "      <td>0.255246</td>\n",
       "      <td>0.723774</td>\n",
       "      <td>0.680029</td>\n",
       "      <td>0.019437</td>\n",
       "    </tr>\n",
       "    <tr>\n",
       "      <th>4</th>\n",
       "      <td>0.188809</td>\n",
       "      <td>0.835065</td>\n",
       "      <td>0.453715</td>\n",
       "      <td>0.639758</td>\n",
       "      <td>0.290611</td>\n",
       "    </tr>\n",
       "    <tr>\n",
       "      <th>5</th>\n",
       "      <td>0.187785</td>\n",
       "      <td>0.004716</td>\n",
       "      <td>0.939645</td>\n",
       "      <td>0.052698</td>\n",
       "      <td>0.434568</td>\n",
       "    </tr>\n",
       "  </tbody>\n",
       "</table>\n",
       "</div>"
      ],
      "text/plain": [
       "          0         1         2         3         4\n",
       "0  0.982408  0.988637  0.368174  0.516153  0.331710\n",
       "1  0.526197  0.447501  0.387039  0.402977  0.650552\n",
       "2  0.170478  0.944127  0.650660  0.921341  0.024035\n",
       "3  0.023516  0.255246  0.723774  0.680029  0.019437\n",
       "4  0.188809  0.835065  0.453715  0.639758  0.290611\n",
       "5  0.187785  0.004716  0.939645  0.052698  0.434568"
      ]
     },
     "execution_count": 20,
     "metadata": {},
     "output_type": "execute_result"
    }
   ],
   "source": [
    "get_df(6, 5)"
   ]
  },
  {
   "cell_type": "code",
   "execution_count": 21,
   "id": "213c9916",
   "metadata": {},
   "outputs": [
    {
     "data": {
      "text/plain": [
       "array([[-3.55416303, -2.01120392, -0.17043529, -0.12711408],\n",
       "       [-3.29181646, -0.37102401,  0.15484655,  0.24054863],\n",
       "       [-2.55517195,  2.67830462, -0.13828135, -0.02968419],\n",
       "       [ 1.76504972,  0.04940415,  0.50760573, -0.11568939],\n",
       "       [ 2.9974995 ,  0.00646722, -0.18007924, -0.19514602],\n",
       "       [ 4.63860223, -0.35194805, -0.1736564 ,  0.22708504]])"
      ]
     },
     "execution_count": 21,
     "metadata": {},
     "output_type": "execute_result"
    }
   ],
   "source": [
    "dimensionality_reduction(df, decomposition_method= \"PCA\", k=4)"
   ]
  }
 ],
 "metadata": {
  "kernelspec": {
   "display_name": "Python 3",
   "language": "python",
   "name": "python3"
  },
  "language_info": {
   "codemirror_mode": {
    "name": "ipython",
    "version": 3
   },
   "file_extension": ".py",
   "mimetype": "text/x-python",
   "name": "python",
   "nbconvert_exporter": "python",
   "pygments_lexer": "ipython3",
   "version": "3.8.8"
  }
 },
 "nbformat": 4,
 "nbformat_minor": 5
}
