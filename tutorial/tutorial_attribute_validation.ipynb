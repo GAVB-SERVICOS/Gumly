{
 "cells": [
  {
   "cell_type": "markdown",
   "id": "d487b4db",
   "metadata": {},
   "source": [
    "## 1.0 Validation Check"
   ]
  },
  {
   "cell_type": "markdown",
   "id": "ccd63197",
   "metadata": {},
   "source": [
    "The tutorial shows a check number method if 'x' number pass as a float or int and if 'varname' params was expected value."
   ]
  },
  {
   "cell_type": "markdown",
   "id": "208c7120",
   "metadata": {},
   "source": [
    "## 1.1 Import modules"
   ]
  },
  {
   "cell_type": "code",
   "execution_count": null,
   "id": "df2b9757",
   "metadata": {},
   "outputs": [],
   "source": [
    "#Check number\n",
    "from mlutils.attribute_validation import check_number\n",
    "\n",
    "#Assert\n",
    "from mlutils.attribute_validation import assert_check_number"
   ]
  },
  {
   "cell_type": "markdown",
   "id": "1bac7ea4",
   "metadata": {},
   "source": [
    "## 1.2 Check Number"
   ]
  },
  {
   "cell_type": "code",
   "execution_count": null,
   "id": "817bb00d",
   "metadata": {},
   "outputs": [],
   "source": [
    "check_number(1, 0, 100) # True"
   ]
  },
  {
   "cell_type": "code",
   "execution_count": null,
   "id": "e34ab13f",
   "metadata": {},
   "outputs": [],
   "source": [
    "check_number(-1, 0, 100) # False"
   ]
  },
  {
   "cell_type": "markdown",
   "id": "5b236cb2",
   "metadata": {},
   "source": [
    "## 1.3  Assert Check Number"
   ]
  },
  {
   "cell_type": "code",
   "execution_count": null,
   "id": "c1c66850",
   "metadata": {},
   "outputs": [],
   "source": [
    "#error\n",
    "lower_percentil = -1\n",
    "\n",
    "assert_check_number(lower_percentil, 0, 1.0, \"lower_percentil\")"
   ]
  }
 ],
 "metadata": {
  "kernelspec": {
   "display_name": "Python 3 (ipykernel)",
   "language": "python",
   "name": "python3"
  },
  "language_info": {
   "codemirror_mode": {
    "name": "ipython",
    "version": 3
   },
   "file_extension": ".py",
   "mimetype": "text/x-python",
   "name": "python",
   "nbconvert_exporter": "python",
   "pygments_lexer": "ipython3",
   "version": "3.8.8"
  }
 },
 "nbformat": 4,
 "nbformat_minor": 5
}
