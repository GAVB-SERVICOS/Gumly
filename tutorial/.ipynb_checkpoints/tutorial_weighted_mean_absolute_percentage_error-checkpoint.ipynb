{
 "cells": [
  {
   "cell_type": "markdown",
   "id": "e1f21e45",
   "metadata": {},
   "source": [
    "# Weighted Mean Absolute Percentage Error Tutorial"
   ]
  },
  {
   "cell_type": "markdown",
   "id": "7ee1560c",
   "metadata": {},
   "source": [
    "## 1.0 Objetivo da Função."
   ]
  },
  {
   "cell_type": "markdown",
   "id": "6c13cbbc",
   "metadata": {},
   "source": [
    "Testar a acurácia do modelo podendo acrescentar o peso."
   ]
  },
  {
   "cell_type": "markdown",
   "id": "2681432c",
   "metadata": {},
   "source": [
    "##### Os seguintes passos são realizado nesse notebook:\n",
    "#####    1 - import da mlutils\n",
    "#####    2 - import dos modulos da biblioteca e auxiliares\n",
    "#####    3 - importe da função\n",
    "#####    4 - import da base de dados\n",
    "#####    5 - testes usando os métodos"
   ]
  },
  {
   "cell_type": "markdown",
   "id": "c3d3607f",
   "metadata": {},
   "source": [
    "## 2.0 Importes das Bibliotecas e a Função"
   ]
  },
  {
   "cell_type": "code",
   "execution_count": 2,
   "id": "bc258001",
   "metadata": {},
   "outputs": [],
   "source": [
    "# 1\n",
    "\n",
    "!pip install mlutils"
   ]
  },
  {
   "cell_type": "code",
   "execution_count": null,
   "id": "8f68cbb1",
   "metadata": {},
   "outputs": [],
   "source": [
    "# 2\n",
    "\n",
    "import numpy as np"
   ]
  },
  {
   "cell_type": "code",
   "execution_count": 6,
   "id": "39cdb5e3",
   "metadata": {},
   "outputs": [],
   "source": [
    "# 3\n",
    "\n",
    "from weighted_mean_absolute_percentage_error import *"
   ]
  },
  {
   "cell_type": "markdown",
   "id": "f90718d1",
   "metadata": {},
   "source": [
    "## 3.0 Exemplo Weighted Mean Absolute Percentage Error"
   ]
  },
  {
   "cell_type": "code",
   "execution_count": 8,
   "id": "eb078f32",
   "metadata": {},
   "outputs": [],
   "source": [
    "# 4\n",
    "\n",
    "y_true = [3, -0.5, 2, 7]\n",
    "y_pred = [2.5, 0.0, 2, 8]"
   ]
  },
  {
   "cell_type": "code",
   "execution_count": 9,
   "id": "5e9ccada",
   "metadata": {},
   "outputs": [
    {
     "data": {
      "text/plain": [
       "0.15789473684210525"
      ]
     },
     "execution_count": 9,
     "metadata": {},
     "output_type": "execute_result"
    }
   ],
   "source": [
    "# 5\n",
    "\n",
    "weighted_mean_absolute_percentage_error(y_true, y_pred, weights=[2, 1, 1, 3])"
   ]
  },
  {
   "cell_type": "code",
   "execution_count": null,
   "id": "49a531e2",
   "metadata": {},
   "outputs": [],
   "source": []
  }
 ],
 "metadata": {
  "kernelspec": {
   "display_name": "Python 3 (ipykernel)",
   "language": "python",
   "name": "python3"
  },
  "language_info": {
   "codemirror_mode": {
    "name": "ipython",
    "version": 3
   },
   "file_extension": ".py",
   "mimetype": "text/x-python",
   "name": "python",
   "nbconvert_exporter": "python",
   "pygments_lexer": "ipython3",
   "version": "3.8.10"
  }
 },
 "nbformat": 4,
 "nbformat_minor": 5
}
