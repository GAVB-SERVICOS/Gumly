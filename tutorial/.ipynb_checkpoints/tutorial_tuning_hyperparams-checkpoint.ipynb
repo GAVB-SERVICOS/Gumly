{
 "cells": [
  {
   "cell_type": "markdown",
   "id": "38b9befc",
   "metadata": {},
   "source": [
    "# Tuning Hyperparams Tutorial"
   ]
  },
  {
   "cell_type": "markdown",
   "id": "fb96c212",
   "metadata": {},
   "source": [
    "## 1.0 Objetivo da Função.\n",
    "\n",
    "Otimizar a métrica de ajuste e mostrar qual seria o resultado melhor para o modelo."
   ]
  },
  {
   "cell_type": "markdown",
   "id": "7cc43d17",
   "metadata": {},
   "source": [
    "## 2.0 Importes das Bibliotecas"
   ]
  },
  {
   "cell_type": "code",
   "execution_count": 1,
   "id": "b35b8ddc",
   "metadata": {
    "scrolled": true
   },
   "outputs": [
    {
     "name": "stdout",
     "output_type": "stream",
     "text": [
      "Requirement already satisfied: optuna in /home/diego/anaconda3/lib/python3.8/site-packages (2.10.0)\n",
      "Requirement already satisfied: numpy in /home/diego/.local/lib/python3.8/site-packages (from optuna) (1.19.5)\n",
      "Requirement already satisfied: colorlog in /home/diego/anaconda3/lib/python3.8/site-packages (from optuna) (6.5.0)\n",
      "Requirement already satisfied: packaging>=20.0 in /home/diego/.local/lib/python3.8/site-packages (from optuna) (21.2)\n",
      "Requirement already satisfied: PyYAML in /home/diego/anaconda3/lib/python3.8/site-packages (from optuna) (5.4.1)\n",
      "Requirement already satisfied: scipy!=1.4.0 in /home/diego/.local/lib/python3.8/site-packages (from optuna) (1.7.1)\n",
      "Requirement already satisfied: cliff in /home/diego/anaconda3/lib/python3.8/site-packages (from optuna) (3.9.0)\n",
      "Requirement already satisfied: cmaes>=0.8.2 in /home/diego/anaconda3/lib/python3.8/site-packages (from optuna) (0.8.2)\n",
      "Requirement already satisfied: alembic in /home/diego/anaconda3/lib/python3.8/site-packages (from optuna) (1.7.4)\n",
      "Requirement already satisfied: sqlalchemy>=1.1.0 in /home/diego/anaconda3/lib/python3.8/site-packages (from optuna) (1.4.15)\n",
      "Requirement already satisfied: tqdm in /home/diego/.local/lib/python3.8/site-packages (from optuna) (4.62.3)\n",
      "Requirement already satisfied: pyparsing<3,>=2.0.2 in /home/diego/.local/lib/python3.8/site-packages (from packaging>=20.0->optuna) (2.4.7)\n",
      "Requirement already satisfied: greenlet!=0.4.17 in /home/diego/anaconda3/lib/python3.8/site-packages (from sqlalchemy>=1.1.0->optuna) (1.0.0)\n",
      "Requirement already satisfied: Mako in /home/diego/anaconda3/lib/python3.8/site-packages (from alembic->optuna) (1.1.5)\n",
      "Requirement already satisfied: importlib-metadata in /home/diego/anaconda3/lib/python3.8/site-packages (from alembic->optuna) (4.5.0)\n",
      "Requirement already satisfied: importlib-resources in /home/diego/anaconda3/lib/python3.8/site-packages (from alembic->optuna) (5.4.0)\n",
      "Requirement already satisfied: stevedore>=2.0.1 in /home/diego/anaconda3/lib/python3.8/site-packages (from cliff->optuna) (3.5.0)\n",
      "Requirement already satisfied: pbr!=2.1.0,>=2.0.0 in /home/diego/anaconda3/lib/python3.8/site-packages (from cliff->optuna) (5.6.0)\n",
      "Requirement already satisfied: PrettyTable>=0.7.2 in /home/diego/anaconda3/lib/python3.8/site-packages (from cliff->optuna) (2.2.1)\n",
      "Requirement already satisfied: autopage>=0.4.0 in /home/diego/anaconda3/lib/python3.8/site-packages (from cliff->optuna) (0.4.0)\n",
      "Requirement already satisfied: cmd2>=1.0.0 in /home/diego/anaconda3/lib/python3.8/site-packages (from cliff->optuna) (2.2.0)\n",
      "Requirement already satisfied: pyperclip>=1.6 in /home/diego/anaconda3/lib/python3.8/site-packages (from cmd2>=1.0.0->cliff->optuna) (1.8.2)\n",
      "Requirement already satisfied: attrs>=16.3.0 in /home/diego/anaconda3/lib/python3.8/site-packages (from cmd2>=1.0.0->cliff->optuna) (21.2.0)\n",
      "Requirement already satisfied: colorama>=0.3.7 in /home/diego/anaconda3/lib/python3.8/site-packages (from cmd2>=1.0.0->cliff->optuna) (0.4.4)\n",
      "Requirement already satisfied: wcwidth>=0.1.7 in /home/diego/.local/lib/python3.8/site-packages (from cmd2>=1.0.0->cliff->optuna) (0.2.5)\n",
      "Requirement already satisfied: zipp>=0.5 in /home/diego/anaconda3/lib/python3.8/site-packages (from importlib-metadata->alembic->optuna) (3.4.1)\n",
      "Requirement already satisfied: MarkupSafe>=0.9.2 in /home/diego/anaconda3/lib/python3.8/site-packages (from Mako->alembic->optuna) (1.1.1)\n"
     ]
    }
   ],
   "source": [
    "!pip install optuna "
   ]
  },
  {
   "cell_type": "code",
   "execution_count": 2,
   "id": "3cf9e6df",
   "metadata": {},
   "outputs": [],
   "source": [
    "from sklearn.model_selection import cross_val_score\n",
    "from sklearn.model_selection import KFold\n",
    "from sklearn.ensemble import RandomForestClassifier\n",
    "from sklearn.ensemble import RandomForestRegressor\n",
    "import optuna\n",
    "from sklearn.metrics import mean_squared_error, mean_absolute_error, r2_score\n",
    "from sklearn.metrics import explained_variance_score, max_error\n",
    "from sklearn.metrics import mean_squared_log_error, median_absolute_error"
   ]
  },
  {
   "cell_type": "markdown",
   "id": "36d05fd3",
   "metadata": {},
   "source": [
    "## 3.0 Input e Output"
   ]
  },
  {
   "cell_type": "markdown",
   "id": "0d1cce69",
   "metadata": {},
   "source": [
    "Importando a função"
   ]
  },
  {
   "cell_type": "code",
   "execution_count": 3,
   "id": "539d757c",
   "metadata": {},
   "outputs": [],
   "source": [
    "import os\n",
    "root = '/'.join(os.getcwd().split('/')[:-1])\n",
    "os.chdir(root + '/mlutils')"
   ]
  },
  {
   "cell_type": "code",
   "execution_count": 4,
   "id": "941aba76",
   "metadata": {},
   "outputs": [],
   "source": [
    "from tuning_hyperparams import *\n",
    "from feature_engineering import *"
   ]
  },
  {
   "cell_type": "markdown",
   "id": "8b4bf44c",
   "metadata": {},
   "source": [
    "## 3.1 Exemplo do output Para Modelo de Classificação "
   ]
  },
  {
   "cell_type": "code",
   "execution_count": 5,
   "id": "1c50aff6",
   "metadata": {},
   "outputs": [],
   "source": [
    "import pandas as pd\n",
    "from sklearn import datasets"
   ]
  },
  {
   "cell_type": "code",
   "execution_count": 6,
   "id": "a783239d",
   "metadata": {},
   "outputs": [
    {
     "name": "stderr",
     "output_type": "stream",
     "text": [
      "/home/diego/.local/lib/python3.8/site-packages/sklearn/utils/deprecation.py:87: FutureWarning: Function load_boston is deprecated; `load_boston` is deprecated in 1.0 and will be removed in 1.2.\n",
      "\n",
      "    The Boston housing prices dataset has an ethical problem. You can refer to\n",
      "    the documentation of this function for further details.\n",
      "\n",
      "    The scikit-learn maintainers therefore strongly discourage the use of this\n",
      "    dataset unless the purpose of the code is to study and educate about\n",
      "    ethical issues in data science and machine learning.\n",
      "\n",
      "    In this special case, you can fetch the dataset from the original\n",
      "    source::\n",
      "\n",
      "        import pandas as pd\n",
      "        import numpy as np\n",
      "\n",
      "\n",
      "        data_url = \"http://lib.stat.cmu.edu/datasets/boston\"\n",
      "        raw_df = pd.read_csv(data_url, sep=\"\\s+\", skiprows=22, header=None)\n",
      "        data = np.hstack([raw_df.values[::2, :], raw_df.values[1::2, :2]])\n",
      "        target = raw_df.values[1::2, 2]\n",
      "\n",
      "    Alternative datasets include the California housing dataset (i.e.\n",
      "    :func:`~sklearn.datasets.fetch_california_housing`) and the Ames housing\n",
      "    dataset. You can load the datasets as follows::\n",
      "\n",
      "        from sklearn.datasets import fetch_california_housing\n",
      "        housing = fetch_california_housing()\n",
      "\n",
      "    for the California housing dataset and::\n",
      "\n",
      "        from sklearn.datasets import fetch_openml\n",
      "        housing = fetch_openml(name=\"house_prices\", as_frame=True)\n",
      "\n",
      "    for the Ames housing dataset.\n",
      "    \n",
      "  warnings.warn(msg, category=FutureWarning)\n"
     ]
    }
   ],
   "source": [
    "iris_data = datasets.load_iris()\n",
    "df_iris = pd.DataFrame(data=iris_data.data, columns=iris_data.feature_names)\n",
    "df_iris[\"target\"] = iris_data.target\n",
    "\n",
    "param_RF = [\n",
    "        {\"name\": \"min_samples_leaf\", \"type\": \"Integer\", \"low\": 50, \"high\": 75},\n",
    "        {\"name\": \"max_depth\", \"type\": \"Integer\", \"low\": 12, \"high\": 24},\n",
    "    ]\n"
   ]
  },
  {
   "cell_type": "code",
   "execution_count": 11,
   "id": "ff253985",
   "metadata": {},
   "outputs": [
    {
     "name": "stderr",
     "output_type": "stream",
     "text": [
      "\u001b[32m[I 2021-11-03 17:28:01,867]\u001b[0m A new study created in memory with name: no-name-686433b6-9892-4822-8f79-9434b0131bfc\u001b[0m\n"
     ]
    },
    {
     "name": "stdout",
     "output_type": "stream",
     "text": [
      "<class 'sklearn.ensemble._forest.RandomForestClassifier'>\n"
     ]
    },
    {
     "name": "stderr",
     "output_type": "stream",
     "text": [
      "\u001b[32m[I 2021-11-03 17:28:03,332]\u001b[0m Trial 0 finished with value: 0.26 and parameters: {'min_samples_leaf': 60, 'max_depth': 12}. Best is trial 0 with value: 0.26.\u001b[0m\n"
     ]
    },
    {
     "name": "stdout",
     "output_type": "stream",
     "text": [
      "<class 'sklearn.ensemble._forest.RandomForestClassifier'>\n"
     ]
    },
    {
     "name": "stderr",
     "output_type": "stream",
     "text": [
      "\u001b[32m[I 2021-11-03 17:28:04,732]\u001b[0m Trial 1 finished with value: 0.26 and parameters: {'min_samples_leaf': 62, 'max_depth': 19}. Best is trial 0 with value: 0.26.\u001b[0m\n"
     ]
    },
    {
     "name": "stdout",
     "output_type": "stream",
     "text": [
      "<class 'sklearn.ensemble._forest.RandomForestClassifier'>\n"
     ]
    },
    {
     "name": "stderr",
     "output_type": "stream",
     "text": [
      "\u001b[32m[I 2021-11-03 17:28:06,127]\u001b[0m Trial 2 finished with value: 0.26 and parameters: {'min_samples_leaf': 56, 'max_depth': 24}. Best is trial 0 with value: 0.26.\u001b[0m\n"
     ]
    },
    {
     "name": "stdout",
     "output_type": "stream",
     "text": [
      "<class 'sklearn.ensemble._forest.RandomForestClassifier'>\n"
     ]
    },
    {
     "name": "stderr",
     "output_type": "stream",
     "text": [
      "\u001b[32m[I 2021-11-03 17:28:07,536]\u001b[0m Trial 3 finished with value: 0.26 and parameters: {'min_samples_leaf': 52, 'max_depth': 21}. Best is trial 0 with value: 0.26.\u001b[0m\n"
     ]
    },
    {
     "name": "stdout",
     "output_type": "stream",
     "text": [
      "<class 'sklearn.ensemble._forest.RandomForestClassifier'>\n"
     ]
    },
    {
     "name": "stderr",
     "output_type": "stream",
     "text": [
      "\u001b[32m[I 2021-11-03 17:28:08,946]\u001b[0m Trial 4 finished with value: 0.26 and parameters: {'min_samples_leaf': 61, 'max_depth': 13}. Best is trial 0 with value: 0.26.\u001b[0m\n"
     ]
    },
    {
     "name": "stdout",
     "output_type": "stream",
     "text": [
      "<class 'sklearn.ensemble._forest.RandomForestClassifier'>\n"
     ]
    },
    {
     "name": "stderr",
     "output_type": "stream",
     "text": [
      "\u001b[32m[I 2021-11-03 17:28:10,340]\u001b[0m Trial 5 finished with value: 0.26 and parameters: {'min_samples_leaf': 73, 'max_depth': 23}. Best is trial 0 with value: 0.26.\u001b[0m\n"
     ]
    },
    {
     "name": "stdout",
     "output_type": "stream",
     "text": [
      "<class 'sklearn.ensemble._forest.RandomForestClassifier'>\n"
     ]
    },
    {
     "name": "stderr",
     "output_type": "stream",
     "text": [
      "\u001b[32m[I 2021-11-03 17:28:11,764]\u001b[0m Trial 6 finished with value: 0.26 and parameters: {'min_samples_leaf': 75, 'max_depth': 23}. Best is trial 0 with value: 0.26.\u001b[0m\n"
     ]
    },
    {
     "name": "stdout",
     "output_type": "stream",
     "text": [
      "<class 'sklearn.ensemble._forest.RandomForestClassifier'>\n"
     ]
    },
    {
     "name": "stderr",
     "output_type": "stream",
     "text": [
      "\u001b[32m[I 2021-11-03 17:28:13,222]\u001b[0m Trial 7 finished with value: 0.26 and parameters: {'min_samples_leaf': 50, 'max_depth': 14}. Best is trial 0 with value: 0.26.\u001b[0m\n"
     ]
    },
    {
     "name": "stdout",
     "output_type": "stream",
     "text": [
      "<class 'sklearn.ensemble._forest.RandomForestClassifier'>\n"
     ]
    },
    {
     "name": "stderr",
     "output_type": "stream",
     "text": [
      "\u001b[32m[I 2021-11-03 17:28:14,645]\u001b[0m Trial 8 finished with value: 0.26 and parameters: {'min_samples_leaf': 60, 'max_depth': 21}. Best is trial 0 with value: 0.26.\u001b[0m\n"
     ]
    },
    {
     "name": "stdout",
     "output_type": "stream",
     "text": [
      "<class 'sklearn.ensemble._forest.RandomForestClassifier'>\n"
     ]
    },
    {
     "name": "stderr",
     "output_type": "stream",
     "text": [
      "\u001b[32m[I 2021-11-03 17:28:16,057]\u001b[0m Trial 9 finished with value: 0.26666666666666666 and parameters: {'min_samples_leaf': 51, 'max_depth': 21}. Best is trial 9 with value: 0.26666666666666666.\u001b[0m\n"
     ]
    },
    {
     "data": {
      "text/plain": [
       "{'min_samples_leaf': 51, 'max_depth': 21}"
      ]
     },
     "execution_count": 11,
     "metadata": {},
     "output_type": "execute_result"
    }
   ],
   "source": [
    "tuning_hyperparams(\n",
    "        df=df_iris,\n",
    "        target=\"target\",\n",
    "        parameters=param_RF,\n",
    "        algorithm=RandomForestClassifier,\n",
    "        metric=r2_score,\n",
    "        scoring_option=\"maximize\",\n",
    "        n_trials=10,\n",
    "    )"
   ]
  },
  {
   "cell_type": "markdown",
   "id": "b4672642",
   "metadata": {},
   "source": [
    "## 3.2 Exemplo do output para Modelo de Regressão"
   ]
  },
  {
   "cell_type": "code",
   "execution_count": 10,
   "id": "bc13f01b",
   "metadata": {},
   "outputs": [
    {
     "name": "stderr",
     "output_type": "stream",
     "text": [
      "/home/diego/.local/lib/python3.8/site-packages/sklearn/utils/deprecation.py:87: FutureWarning: Function load_boston is deprecated; `load_boston` is deprecated in 1.0 and will be removed in 1.2.\n",
      "\n",
      "    The Boston housing prices dataset has an ethical problem. You can refer to\n",
      "    the documentation of this function for further details.\n",
      "\n",
      "    The scikit-learn maintainers therefore strongly discourage the use of this\n",
      "    dataset unless the purpose of the code is to study and educate about\n",
      "    ethical issues in data science and machine learning.\n",
      "\n",
      "    In this special case, you can fetch the dataset from the original\n",
      "    source::\n",
      "\n",
      "        import pandas as pd\n",
      "        import numpy as np\n",
      "\n",
      "\n",
      "        data_url = \"http://lib.stat.cmu.edu/datasets/boston\"\n",
      "        raw_df = pd.read_csv(data_url, sep=\"\\s+\", skiprows=22, header=None)\n",
      "        data = np.hstack([raw_df.values[::2, :], raw_df.values[1::2, :2]])\n",
      "        target = raw_df.values[1::2, 2]\n",
      "\n",
      "    Alternative datasets include the California housing dataset (i.e.\n",
      "    :func:`~sklearn.datasets.fetch_california_housing`) and the Ames housing\n",
      "    dataset. You can load the datasets as follows::\n",
      "\n",
      "        from sklearn.datasets import fetch_california_housing\n",
      "        housing = fetch_california_housing()\n",
      "\n",
      "    for the California housing dataset and::\n",
      "\n",
      "        from sklearn.datasets import fetch_openml\n",
      "        housing = fetch_openml(name=\"house_prices\", as_frame=True)\n",
      "\n",
      "    for the Ames housing dataset.\n",
      "    \n",
      "  warnings.warn(msg, category=FutureWarning)\n"
     ]
    }
   ],
   "source": [
    "boston_data = datasets.load_boston()\n",
    "df_boston = pd.DataFrame(boston_data.data, columns=boston_data.feature_names)\n",
    "df_boston[\"target\"] = boston_data.target\n",
    "\n",
    "param_RF = [\n",
    "        {\"name\": \"min_samples_leaf\", \"type\": \"Integer\", \"low\": 50, \"high\": 75},\n",
    "        {\"name\": \"max_depth\", \"type\": \"Integer\", \"low\": 12, \"high\": 24},\n",
    "    ]"
   ]
  },
  {
   "cell_type": "code",
   "execution_count": 19,
   "id": "de5bf787",
   "metadata": {},
   "outputs": [
    {
     "name": "stderr",
     "output_type": "stream",
     "text": [
      "\u001b[32m[I 2021-11-03 17:42:12,946]\u001b[0m A new study created in memory with name: no-name-fea4c45f-6b70-4abc-b199-22e3c31d7739\u001b[0m\n"
     ]
    },
    {
     "name": "stdout",
     "output_type": "stream",
     "text": [
      "<class 'sklearn.ensemble._forest.RandomForestRegressor'>\n"
     ]
    },
    {
     "name": "stderr",
     "output_type": "stream",
     "text": [
      "\u001b[32m[I 2021-11-03 17:42:14,389]\u001b[0m Trial 0 finished with value: 0.5409409520344319 and parameters: {'min_samples_leaf': 73, 'max_depth': 13}. Best is trial 0 with value: 0.5409409520344319.\u001b[0m\n"
     ]
    },
    {
     "name": "stdout",
     "output_type": "stream",
     "text": [
      "<class 'sklearn.ensemble._forest.RandomForestRegressor'>\n"
     ]
    },
    {
     "name": "stderr",
     "output_type": "stream",
     "text": [
      "\u001b[32m[I 2021-11-03 17:42:15,965]\u001b[0m Trial 1 finished with value: 0.5624091358122245 and parameters: {'min_samples_leaf': 61, 'max_depth': 24}. Best is trial 1 with value: 0.5624091358122245.\u001b[0m\n"
     ]
    },
    {
     "name": "stdout",
     "output_type": "stream",
     "text": [
      "<class 'sklearn.ensemble._forest.RandomForestRegressor'>\n"
     ]
    },
    {
     "name": "stderr",
     "output_type": "stream",
     "text": [
      "\u001b[32m[I 2021-11-03 17:42:17,406]\u001b[0m Trial 2 finished with value: 0.5533592429731771 and parameters: {'min_samples_leaf': 68, 'max_depth': 17}. Best is trial 1 with value: 0.5624091358122245.\u001b[0m\n"
     ]
    },
    {
     "name": "stdout",
     "output_type": "stream",
     "text": [
      "<class 'sklearn.ensemble._forest.RandomForestRegressor'>\n"
     ]
    },
    {
     "name": "stderr",
     "output_type": "stream",
     "text": [
      "\u001b[32m[I 2021-11-03 17:42:18,895]\u001b[0m Trial 3 finished with value: 0.6270695419532142 and parameters: {'min_samples_leaf': 53, 'max_depth': 15}. Best is trial 3 with value: 0.6270695419532142.\u001b[0m\n"
     ]
    },
    {
     "name": "stdout",
     "output_type": "stream",
     "text": [
      "<class 'sklearn.ensemble._forest.RandomForestRegressor'>\n"
     ]
    },
    {
     "name": "stderr",
     "output_type": "stream",
     "text": [
      "\u001b[32m[I 2021-11-03 17:42:20,377]\u001b[0m Trial 4 finished with value: 0.550933562324943 and parameters: {'min_samples_leaf': 69, 'max_depth': 19}. Best is trial 3 with value: 0.6270695419532142.\u001b[0m\n"
     ]
    },
    {
     "name": "stdout",
     "output_type": "stream",
     "text": [
      "<class 'sklearn.ensemble._forest.RandomForestRegressor'>\n"
     ]
    },
    {
     "name": "stderr",
     "output_type": "stream",
     "text": [
      "\u001b[32m[I 2021-11-03 17:42:21,838]\u001b[0m Trial 5 finished with value: 0.5340658561163167 and parameters: {'min_samples_leaf': 75, 'max_depth': 12}. Best is trial 3 with value: 0.6270695419532142.\u001b[0m\n"
     ]
    },
    {
     "name": "stdout",
     "output_type": "stream",
     "text": [
      "<class 'sklearn.ensemble._forest.RandomForestRegressor'>\n"
     ]
    },
    {
     "name": "stderr",
     "output_type": "stream",
     "text": [
      "\u001b[32m[I 2021-11-03 17:42:23,321]\u001b[0m Trial 6 finished with value: 0.5591923317524691 and parameters: {'min_samples_leaf': 64, 'max_depth': 15}. Best is trial 3 with value: 0.6270695419532142.\u001b[0m\n"
     ]
    },
    {
     "name": "stdout",
     "output_type": "stream",
     "text": [
      "<class 'sklearn.ensemble._forest.RandomForestRegressor'>\n"
     ]
    },
    {
     "name": "stderr",
     "output_type": "stream",
     "text": [
      "\u001b[32m[I 2021-11-03 17:42:24,697]\u001b[0m Trial 7 finished with value: 0.5827003473876491 and parameters: {'min_samples_leaf': 57, 'max_depth': 12}. Best is trial 3 with value: 0.6270695419532142.\u001b[0m\n"
     ]
    },
    {
     "name": "stdout",
     "output_type": "stream",
     "text": [
      "<class 'sklearn.ensemble._forest.RandomForestRegressor'>\n"
     ]
    },
    {
     "name": "stderr",
     "output_type": "stream",
     "text": [
      "\u001b[32m[I 2021-11-03 17:42:26,179]\u001b[0m Trial 8 finished with value: 0.6403837975413232 and parameters: {'min_samples_leaf': 51, 'max_depth': 24}. Best is trial 8 with value: 0.6403837975413232.\u001b[0m\n"
     ]
    },
    {
     "name": "stdout",
     "output_type": "stream",
     "text": [
      "<class 'sklearn.ensemble._forest.RandomForestRegressor'>\n"
     ]
    },
    {
     "name": "stderr",
     "output_type": "stream",
     "text": [
      "\u001b[32m[I 2021-11-03 17:42:27,683]\u001b[0m Trial 9 finished with value: 0.6552859292316129 and parameters: {'min_samples_leaf': 50, 'max_depth': 15}. Best is trial 9 with value: 0.6552859292316129.\u001b[0m\n"
     ]
    },
    {
     "data": {
      "text/plain": [
       "{'min_samples_leaf': 50, 'max_depth': 15}"
      ]
     },
     "execution_count": 19,
     "metadata": {},
     "output_type": "execute_result"
    }
   ],
   "source": [
    "tuning_hyperparams(\n",
    "        df=df_boston,\n",
    "        target=\"target\",\n",
    "        parameters=param_RF,\n",
    "        algorithm=RandomForestRegressor,\n",
    "        metric=median_absolute_error,\n",
    "        scoring_option=\"maximize\",\n",
    "        n_trials=10,\n",
    "    )"
   ]
  },
  {
   "cell_type": "code",
   "execution_count": null,
   "id": "52c55a19",
   "metadata": {},
   "outputs": [],
   "source": []
  }
 ],
 "metadata": {
  "kernelspec": {
   "display_name": "3.8.2 (base)",
   "language": "python",
   "name": "pyenv-382"
  },
  "language_info": {
   "codemirror_mode": {
    "name": "ipython",
    "version": 3
   },
   "file_extension": ".py",
   "mimetype": "text/x-python",
   "name": "python",
   "nbconvert_exporter": "python",
   "pygments_lexer": "ipython3",
   "version": "3.8.8"
  }
 },
 "nbformat": 4,
 "nbformat_minor": 5
}
