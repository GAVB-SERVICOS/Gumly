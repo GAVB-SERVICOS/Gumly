{
 "cells": [
  {
   "cell_type": "markdown",
   "id": "ac99c865",
   "metadata": {},
   "source": [
    "## Tutorial de Feature Selection e Tuning de hiperparametros para modelo Regressor"
   ]
  },
  {
   "cell_type": "markdown",
   "id": "ab390a66",
   "metadata": {},
   "source": [
    "##### Os seguintes passos são realizado nesse notebook:\n",
    "#####    1 - import da mlutils\n",
    "#####    2 - import dos modulos da biblioteca e auxiliares\n",
    "#####    3 - import da base de dados\n",
    "#####    4 - testes usando os métodos de seleção de variáveis\n",
    "#####    5 - criação do dicionarios com os parametros a serem testados no tuning\n",
    "#####    6 - chamada do tuning de hiperparametros"
   ]
  },
  {
   "cell_type": "code",
   "execution_count": null,
   "id": "f4d603cf",
   "metadata": {},
   "outputs": [],
   "source": [
    "#1\n",
    "\n",
    "!pip install mlutils"
   ]
  },
  {
   "cell_type": "code",
   "execution_count": 1,
   "id": "080856d8",
   "metadata": {},
   "outputs": [],
   "source": [
    "#2\n",
    "\n",
    "from sklearn import datasets\n",
    "from mlutils.feature_engineering import *\n",
    "from mlutils.tuning_hyperparams import *\n",
    "from sklearn.ensemble import RandomForestRegressor\n",
    "from sklearn.metrics import r2_score\n",
    "import pandas as pd"
   ]
  },
  {
   "cell_type": "code",
   "execution_count": 2,
   "id": "e161349f",
   "metadata": {},
   "outputs": [
    {
     "data": {
      "text/html": [
       "<div>\n",
       "<style scoped>\n",
       "    .dataframe tbody tr th:only-of-type {\n",
       "        vertical-align: middle;\n",
       "    }\n",
       "\n",
       "    .dataframe tbody tr th {\n",
       "        vertical-align: top;\n",
       "    }\n",
       "\n",
       "    .dataframe thead th {\n",
       "        text-align: right;\n",
       "    }\n",
       "</style>\n",
       "<table border=\"1\" class=\"dataframe\">\n",
       "  <thead>\n",
       "    <tr style=\"text-align: right;\">\n",
       "      <th></th>\n",
       "      <th>CRIM</th>\n",
       "      <th>ZN</th>\n",
       "      <th>INDUS</th>\n",
       "      <th>CHAS</th>\n",
       "      <th>NOX</th>\n",
       "      <th>RM</th>\n",
       "      <th>AGE</th>\n",
       "      <th>DIS</th>\n",
       "      <th>RAD</th>\n",
       "      <th>TAX</th>\n",
       "      <th>PTRATIO</th>\n",
       "      <th>B</th>\n",
       "      <th>LSTAT</th>\n",
       "      <th>target</th>\n",
       "    </tr>\n",
       "  </thead>\n",
       "  <tbody>\n",
       "    <tr>\n",
       "      <th>0</th>\n",
       "      <td>0.00632</td>\n",
       "      <td>18.0</td>\n",
       "      <td>2.31</td>\n",
       "      <td>0.0</td>\n",
       "      <td>0.538</td>\n",
       "      <td>6.575</td>\n",
       "      <td>65.2</td>\n",
       "      <td>4.0900</td>\n",
       "      <td>1.0</td>\n",
       "      <td>296.0</td>\n",
       "      <td>15.3</td>\n",
       "      <td>396.90</td>\n",
       "      <td>4.98</td>\n",
       "      <td>24.0</td>\n",
       "    </tr>\n",
       "    <tr>\n",
       "      <th>1</th>\n",
       "      <td>0.02731</td>\n",
       "      <td>0.0</td>\n",
       "      <td>7.07</td>\n",
       "      <td>0.0</td>\n",
       "      <td>0.469</td>\n",
       "      <td>6.421</td>\n",
       "      <td>78.9</td>\n",
       "      <td>4.9671</td>\n",
       "      <td>2.0</td>\n",
       "      <td>242.0</td>\n",
       "      <td>17.8</td>\n",
       "      <td>396.90</td>\n",
       "      <td>9.14</td>\n",
       "      <td>21.6</td>\n",
       "    </tr>\n",
       "    <tr>\n",
       "      <th>2</th>\n",
       "      <td>0.02729</td>\n",
       "      <td>0.0</td>\n",
       "      <td>7.07</td>\n",
       "      <td>0.0</td>\n",
       "      <td>0.469</td>\n",
       "      <td>7.185</td>\n",
       "      <td>61.1</td>\n",
       "      <td>4.9671</td>\n",
       "      <td>2.0</td>\n",
       "      <td>242.0</td>\n",
       "      <td>17.8</td>\n",
       "      <td>392.83</td>\n",
       "      <td>4.03</td>\n",
       "      <td>34.7</td>\n",
       "    </tr>\n",
       "    <tr>\n",
       "      <th>3</th>\n",
       "      <td>0.03237</td>\n",
       "      <td>0.0</td>\n",
       "      <td>2.18</td>\n",
       "      <td>0.0</td>\n",
       "      <td>0.458</td>\n",
       "      <td>6.998</td>\n",
       "      <td>45.8</td>\n",
       "      <td>6.0622</td>\n",
       "      <td>3.0</td>\n",
       "      <td>222.0</td>\n",
       "      <td>18.7</td>\n",
       "      <td>394.63</td>\n",
       "      <td>2.94</td>\n",
       "      <td>33.4</td>\n",
       "    </tr>\n",
       "    <tr>\n",
       "      <th>4</th>\n",
       "      <td>0.06905</td>\n",
       "      <td>0.0</td>\n",
       "      <td>2.18</td>\n",
       "      <td>0.0</td>\n",
       "      <td>0.458</td>\n",
       "      <td>7.147</td>\n",
       "      <td>54.2</td>\n",
       "      <td>6.0622</td>\n",
       "      <td>3.0</td>\n",
       "      <td>222.0</td>\n",
       "      <td>18.7</td>\n",
       "      <td>396.90</td>\n",
       "      <td>5.33</td>\n",
       "      <td>36.2</td>\n",
       "    </tr>\n",
       "  </tbody>\n",
       "</table>\n",
       "</div>"
      ],
      "text/plain": [
       "      CRIM    ZN  INDUS  CHAS    NOX     RM   AGE     DIS  RAD    TAX  \\\n",
       "0  0.00632  18.0   2.31   0.0  0.538  6.575  65.2  4.0900  1.0  296.0   \n",
       "1  0.02731   0.0   7.07   0.0  0.469  6.421  78.9  4.9671  2.0  242.0   \n",
       "2  0.02729   0.0   7.07   0.0  0.469  7.185  61.1  4.9671  2.0  242.0   \n",
       "3  0.03237   0.0   2.18   0.0  0.458  6.998  45.8  6.0622  3.0  222.0   \n",
       "4  0.06905   0.0   2.18   0.0  0.458  7.147  54.2  6.0622  3.0  222.0   \n",
       "\n",
       "   PTRATIO       B  LSTAT  target  \n",
       "0     15.3  396.90   4.98    24.0  \n",
       "1     17.8  396.90   9.14    21.6  \n",
       "2     17.8  392.83   4.03    34.7  \n",
       "3     18.7  394.63   2.94    33.4  \n",
       "4     18.7  396.90   5.33    36.2  "
      ]
     },
     "execution_count": 2,
     "metadata": {},
     "output_type": "execute_result"
    }
   ],
   "source": [
    "boston_data = datasets.load_boston()\n",
    "df_boston = pd.DataFrame(boston_data.data, columns=boston_data.feature_names)\n",
    "df_boston[\"target\"] = boston_data.target\n",
    "df_boston.head()"
   ]
  },
  {
   "cell_type": "markdown",
   "id": "9d780a3c",
   "metadata": {},
   "source": [
    "## Feature Selection Stepwise OLS Linear Regression"
   ]
  },
  {
   "cell_type": "code",
   "execution_count": 3,
   "id": "1e18b8a0",
   "metadata": {},
   "outputs": [
    {
     "data": {
      "text/plain": [
       "['LSTAT', 'RM', 'PTRATIO', 'DIS', 'NOX', 'CHAS', 'B', 'ZN']"
      ]
     },
     "execution_count": 3,
     "metadata": {},
     "output_type": "execute_result"
    }
   ],
   "source": [
    "#4\n",
    "\n",
    "feature_selection_stepwise(df=df_boston, target='target', threshold_in=0.01, threshold_out=0.05, verbose=False)"
   ]
  },
  {
   "cell_type": "markdown",
   "id": "927ef33d",
   "metadata": {},
   "source": [
    "## Feature Selection f_regression"
   ]
  },
  {
   "cell_type": "code",
   "execution_count": 4,
   "id": "9c368da9",
   "metadata": {},
   "outputs": [
    {
     "data": {
      "text/plain": [
       "['CRIM', 'INDUS', 'NOX', 'RM', 'RAD', 'TAX', 'PTRATIO', 'LSTAT']"
      ]
     },
     "execution_count": 4,
     "metadata": {},
     "output_type": "execute_result"
    }
   ],
   "source": [
    "#4\n",
    "\n",
    "feature_selection_f_regression(df=df_boston, target='target', num_feats=8)"
   ]
  },
  {
   "cell_type": "markdown",
   "id": "8440b23d",
   "metadata": {},
   "source": [
    "## Feature Selection mutual_information"
   ]
  },
  {
   "cell_type": "code",
   "execution_count": 5,
   "id": "d32ed640",
   "metadata": {},
   "outputs": [
    {
     "data": {
      "text/plain": [
       "['CRIM', 'INDUS', 'NOX', 'RM', 'AGE', 'TAX', 'PTRATIO', 'LSTAT']"
      ]
     },
     "execution_count": 5,
     "metadata": {},
     "output_type": "execute_result"
    }
   ],
   "source": [
    "#4\n",
    "\n",
    "feature_selection_mutual_information(df=df_boston, target='target', num_feats=8)"
   ]
  },
  {
   "cell_type": "markdown",
   "id": "20cd3182",
   "metadata": {},
   "source": [
    "# Tuning de Hiperparametros"
   ]
  },
  {
   "cell_type": "code",
   "execution_count": 6,
   "id": "cb766ab2",
   "metadata": {},
   "outputs": [],
   "source": [
    "# Selecionando somente as colunas da seleção de variáveis e passando para o tuning, \n",
    "# junto com o dicionario dos hiperparamentros a serem testados pelo algoritmo escolhido, \n",
    "# baseando-se na metrica também escolhida."
   ]
  },
  {
   "cell_type": "code",
   "execution_count": 7,
   "id": "2cfd8fd3",
   "metadata": {},
   "outputs": [],
   "source": [
    "df = df_boston[['CRIM', 'INDUS', 'NOX', 'RM', 'AGE', 'TAX', 'PTRATIO', 'LSTAT','target']]"
   ]
  },
  {
   "cell_type": "code",
   "execution_count": 8,
   "id": "59671b71",
   "metadata": {},
   "outputs": [],
   "source": [
    "#5\n",
    "\n",
    "param_RF = [\n",
    "        {\"name\": \"min_samples_leaf\", \"type\": \"Integer\", \"low\": 50, \"high\": 75},\n",
    "        {\"name\": \"max_depth\", \"type\": \"Integer\", \"low\": 12, \"high\": 24},\n",
    "    ]"
   ]
  },
  {
   "cell_type": "code",
   "execution_count": 9,
   "id": "8ba8de79",
   "metadata": {},
   "outputs": [
    {
     "name": "stderr",
     "output_type": "stream",
     "text": [
      "\u001b[32m[I 2021-11-19 14:58:34,451]\u001b[0m A new study created in memory with name: no-name-d78db035-4ca9-4f32-b135-e2a954fe2005\u001b[0m\n",
      "\u001b[32m[I 2021-11-19 14:58:35,380]\u001b[0m Trial 0 finished with value: 0.6302412844189328 and parameters: {'min_samples_leaf': 59, 'max_depth': 24}. Best is trial 0 with value: 0.6302412844189328.\u001b[0m\n",
      "\u001b[32m[I 2021-11-19 14:58:36,312]\u001b[0m Trial 1 finished with value: 0.5454987702199812 and parameters: {'min_samples_leaf': 69, 'max_depth': 19}. Best is trial 0 with value: 0.6302412844189328.\u001b[0m\n",
      "\u001b[32m[I 2021-11-19 14:58:37,365]\u001b[0m Trial 2 finished with value: 0.660314556326739 and parameters: {'min_samples_leaf': 54, 'max_depth': 14}. Best is trial 2 with value: 0.660314556326739.\u001b[0m\n",
      "\u001b[32m[I 2021-11-19 14:58:38,416]\u001b[0m Trial 3 finished with value: 0.6686598053853692 and parameters: {'min_samples_leaf': 51, 'max_depth': 23}. Best is trial 3 with value: 0.6686598053853692.\u001b[0m\n",
      "\u001b[32m[I 2021-11-19 14:58:39,385]\u001b[0m Trial 4 finished with value: 0.567570825410154 and parameters: {'min_samples_leaf': 65, 'max_depth': 21}. Best is trial 3 with value: 0.6686598053853692.\u001b[0m\n",
      "\u001b[32m[I 2021-11-19 14:58:40,399]\u001b[0m Trial 5 finished with value: 0.6712237868645345 and parameters: {'min_samples_leaf': 50, 'max_depth': 24}. Best is trial 5 with value: 0.6712237868645345.\u001b[0m\n",
      "\u001b[32m[I 2021-11-19 14:58:41,358]\u001b[0m Trial 6 finished with value: 0.5424016055662347 and parameters: {'min_samples_leaf': 71, 'max_depth': 14}. Best is trial 5 with value: 0.6712237868645345.\u001b[0m\n",
      "\u001b[32m[I 2021-11-19 14:58:42,406]\u001b[0m Trial 7 finished with value: 0.659349314445375 and parameters: {'min_samples_leaf': 54, 'max_depth': 14}. Best is trial 5 with value: 0.6712237868645345.\u001b[0m\n",
      "\u001b[32m[I 2021-11-19 14:58:43,393]\u001b[0m Trial 8 finished with value: 0.638081846770869 and parameters: {'min_samples_leaf': 57, 'max_depth': 18}. Best is trial 5 with value: 0.6712237868645345.\u001b[0m\n",
      "\u001b[32m[I 2021-11-19 14:58:44,304]\u001b[0m Trial 9 finished with value: 0.6033982735770029 and parameters: {'min_samples_leaf': 61, 'max_depth': 15}. Best is trial 5 with value: 0.6712237868645345.\u001b[0m\n",
      "\u001b[32m[I 2021-11-19 14:58:45,194]\u001b[0m Trial 10 finished with value: 0.5646841604444284 and parameters: {'min_samples_leaf': 65, 'max_depth': 13}. Best is trial 5 with value: 0.6712237868645345.\u001b[0m\n",
      "\u001b[32m[I 2021-11-19 14:58:46,182]\u001b[0m Trial 11 finished with value: 0.640574657111211 and parameters: {'min_samples_leaf': 57, 'max_depth': 16}. Best is trial 5 with value: 0.6712237868645345.\u001b[0m\n",
      "\u001b[32m[I 2021-11-19 14:58:47,188]\u001b[0m Trial 12 finished with value: 0.5997846265977577 and parameters: {'min_samples_leaf': 61, 'max_depth': 22}. Best is trial 5 with value: 0.6712237868645345.\u001b[0m\n",
      "\u001b[32m[I 2021-11-19 14:58:48,297]\u001b[0m Trial 13 finished with value: 0.6531996758666825 and parameters: {'min_samples_leaf': 55, 'max_depth': 18}. Best is trial 5 with value: 0.6712237868645345.\u001b[0m\n",
      "\u001b[32m[I 2021-11-19 14:58:49,298]\u001b[0m Trial 14 finished with value: 0.5638144329819537 and parameters: {'min_samples_leaf': 65, 'max_depth': 12}. Best is trial 5 with value: 0.6712237868645345.\u001b[0m\n",
      "\u001b[32m[I 2021-11-19 14:58:50,285]\u001b[0m Trial 15 finished with value: 0.5742094890699476 and parameters: {'min_samples_leaf': 65, 'max_depth': 14}. Best is trial 5 with value: 0.6712237868645345.\u001b[0m\n",
      "\u001b[32m[I 2021-11-19 14:58:51,294]\u001b[0m Trial 16 finished with value: 0.670342962154492 and parameters: {'min_samples_leaf': 51, 'max_depth': 24}. Best is trial 5 with value: 0.6712237868645345.\u001b[0m\n",
      "\u001b[32m[I 2021-11-19 14:58:52,291]\u001b[0m Trial 17 finished with value: 0.540731025333816 and parameters: {'min_samples_leaf': 75, 'max_depth': 22}. Best is trial 5 with value: 0.6712237868645345.\u001b[0m\n",
      "\u001b[32m[I 2021-11-19 14:58:53,313]\u001b[0m Trial 18 finished with value: 0.6441907196363915 and parameters: {'min_samples_leaf': 57, 'max_depth': 13}. Best is trial 5 with value: 0.6712237868645345.\u001b[0m\n",
      "\u001b[32m[I 2021-11-19 14:58:54,337]\u001b[0m Trial 19 finished with value: 0.5583942718584273 and parameters: {'min_samples_leaf': 67, 'max_depth': 17}. Best is trial 5 with value: 0.6712237868645345.\u001b[0m\n"
     ]
    },
    {
     "data": {
      "text/plain": [
       "{'min_samples_leaf': 50, 'max_depth': 24}"
      ]
     },
     "execution_count": 9,
     "metadata": {},
     "output_type": "execute_result"
    }
   ],
   "source": [
    "#6\n",
    "\n",
    "tuning_hyperparams(\n",
    "        df=df,\n",
    "        target='target',\n",
    "        parameters=param_RF,\n",
    "        algorithm=RandomForestRegressor,\n",
    "        metric=r2_score,\n",
    "        scoring_option=\"maximize\",\n",
    "        n_trials=20,\n",
    "    )"
   ]
  },
  {
   "cell_type": "code",
   "execution_count": null,
   "id": "ee8d0337",
   "metadata": {},
   "outputs": [],
   "source": []
  }
 ],
 "metadata": {
  "kernelspec": {
   "display_name": "Python 3",
   "language": "python",
   "name": "python3"
  },
  "language_info": {
   "codemirror_mode": {
    "name": "ipython",
    "version": 3
   },
   "file_extension": ".py",
   "mimetype": "text/x-python",
   "name": "python",
   "nbconvert_exporter": "python",
   "pygments_lexer": "ipython3",
   "version": "3.8.8"
  }
 },
 "nbformat": 4,
 "nbformat_minor": 5
}
