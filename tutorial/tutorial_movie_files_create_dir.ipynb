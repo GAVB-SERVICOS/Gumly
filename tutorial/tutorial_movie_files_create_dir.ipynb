{
 "cells": [
  {
   "cell_type": "markdown",
   "id": "eb4b1022",
   "metadata": {},
   "source": [
    "## 1.0 Introduction"
   ]
  },
  {
   "cell_type": "markdown",
   "id": "bc3618e4",
   "metadata": {},
   "source": [
    "The main objective of this function is Move Files and create a directory if doesn't exist."
   ]
  },
  {
   "cell_type": "markdown",
   "id": "34f74d08",
   "metadata": {},
   "source": [
    "## 2.0 Import modules "
   ]
  },
  {
   "cell_type": "code",
   "execution_count": 2,
   "id": "1b23e1a4",
   "metadata": {},
   "outputs": [],
   "source": [
    "from mlutils.move_files_create_dir import create_dir\n",
    "from mlutils.move_files_create_dir import move_files"
   ]
  },
  {
   "cell_type": "markdown",
   "id": "9b8b697a",
   "metadata": {},
   "source": [
    "## 3.0 Applying move_files"
   ]
  },
  {
   "cell_type": "code",
   "execution_count": null,
   "id": "dfbb09a4",
   "metadata": {},
   "outputs": [],
   "source": [
    "move_files('/.../path', '/.../path2')"
   ]
  },
  {
   "cell_type": "markdown",
   "id": "f425da9c",
   "metadata": {},
   "source": [
    "## 4.0 Applying create_dir"
   ]
  },
  {
   "cell_type": "code",
   "execution_count": null,
   "id": "bb40014b",
   "metadata": {},
   "outputs": [],
   "source": [
    "create_dir('/.../path')"
   ]
  },
  {
   "cell_type": "markdown",
   "id": "9a29c939",
   "metadata": {},
   "source": [
    "## Conclusion and library advantages"
   ]
  },
  {
   "cell_type": "markdown",
   "id": "e6e99e8c",
   "metadata": {},
   "source": [
    "With the use of this function it is possible to automate the process of file manipulation and creation. The main advantage here is to use the method for automatically create and save files as permanent object, e.g: Joblib objects from ML models."
   ]
  },
  {
   "cell_type": "markdown",
   "id": "7fcc13ea",
   "metadata": {},
   "source": [
    "## References\n",
    "\n",
    "\n",
    "[shutil](https://docs.python.org/3/library/shutil.html)\n",
    "\n",
    "\n",
    "[os](https://docs.python.org/3/library/os.html)\n",
    "\n",
    "\n",
    "\n",
    "[pathlib](https://docs.python.org/3/library/pathlib.html)\n",
    "\n"
   ]
  }
 ],
 "metadata": {
  "kernelspec": {
   "display_name": "Python 3",
   "language": "python",
   "name": "python3"
  },
  "language_info": {
   "codemirror_mode": {
    "name": "ipython",
    "version": 3
   },
   "file_extension": ".py",
   "mimetype": "text/x-python",
   "name": "python",
   "nbconvert_exporter": "python",
   "pygments_lexer": "ipython3",
   "version": "3.8.8"
  }
 },
 "nbformat": 4,
 "nbformat_minor": 5
}
