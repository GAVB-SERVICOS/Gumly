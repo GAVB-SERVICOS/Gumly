{
 "cells": [
  {
   "cell_type": "markdown",
   "id": "eb4b1022",
   "metadata": {},
   "source": [
    "## 1.0 Introduction"
   ]
  },
  {
   "cell_type": "markdown",
   "id": "bc3618e4",
   "metadata": {},
   "source": [
    "The main objective of this function is Move Files and create a directory if doesn't exist."
   ]
  },
  {
   "cell_type": "markdown",
   "id": "34f74d08",
   "metadata": {},
   "source": [
    "## 2.0 Library installation & modules import"
   ]
  },
  {
   "cell_type": "code",
   "execution_count": null,
   "id": "d5bdace0",
   "metadata": {},
   "outputs": [],
   "source": [
    "!pip install mlutils"
   ]
  },
  {
   "cell_type": "code",
   "execution_count": 2,
   "id": "1b23e1a4",
   "metadata": {},
   "outputs": [],
   "source": [
    "from mlutils.move_files_create_dir import move_files_create_dir"
   ]
  },
  {
   "cell_type": "markdown",
   "id": "9b8b697a",
   "metadata": {},
   "source": [
    "## 3.0 Applying Move_files"
   ]
  },
  {
   "cell_type": "code",
   "execution_count": null,
   "id": "dfbb09a4",
   "metadata": {},
   "outputs": [],
   "source": [
    "move_files('/.../path', '/.../path2')"
   ]
  },
  {
   "cell_type": "markdown",
   "id": "f425da9c",
   "metadata": {},
   "source": [
    "## 4.0 Applying Create_dir"
   ]
  },
  {
   "cell_type": "code",
   "execution_count": null,
   "id": "bb40014b",
   "metadata": {},
   "outputs": [],
   "source": [
    "create_dir('/.../path')"
   ]
  },
  {
   "cell_type": "markdown",
   "id": "9a29c939",
   "metadata": {},
   "source": [
    "## Conclusion and library advantages"
   ]
  },
  {
   "cell_type": "markdown",
   "id": "e6e99e8c",
   "metadata": {},
   "source": [
    "This function serve to automate the process of the file manipulation and make it faster."
   ]
  },
  {
   "cell_type": "markdown",
   "id": "7fcc13ea",
   "metadata": {},
   "source": [
    "## 5.0 References\n",
    "\n",
    "\n",
    "[shutil](https://docs.python.org/3/library/shutil.html)\n",
    "\n",
    "\n",
    "[os](https://docs.python.org/3/library/os.html)\n",
    "\n",
    "\n",
    "\n",
    "[pathlib](https://docs.python.org/3/library/pathlib.html)\n",
    "\n"
   ]
  },
  {
   "cell_type": "code",
   "execution_count": null,
   "id": "14fb3037",
   "metadata": {},
   "outputs": [],
   "source": []
  }
 ],
 "metadata": {
  "kernelspec": {
   "display_name": "Python 3 (ipykernel)",
   "language": "python",
   "name": "python3"
  },
  "language_info": {
   "codemirror_mode": {
    "name": "ipython",
    "version": 3
   },
   "file_extension": ".py",
   "mimetype": "text/x-python",
   "name": "python",
   "nbconvert_exporter": "python",
   "pygments_lexer": "ipython3",
   "version": "3.8.8"
  }
 },
 "nbformat": 4,
 "nbformat_minor": 5
}
