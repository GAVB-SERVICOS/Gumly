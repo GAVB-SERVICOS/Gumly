{
 "cells": [
  {
   "cell_type": "markdown",
   "id": "eb4b1022",
   "metadata": {},
   "source": [
    "# Move Files & Create Dir Tutorial"
   ]
  },
  {
   "cell_type": "markdown",
   "id": "bc3618e4",
   "metadata": {},
   "source": [
    "## 1.0 Objetivo da Função.\n",
    "\n",
    "Criar um diretório se não existir e mover os arquivos.\n"
   ]
  },
  {
   "cell_type": "markdown",
   "id": "18de4e42",
   "metadata": {},
   "source": [
    "##### Os seguintes passos são realizado nesse notebook:\n",
    "#####    1 - import da mlutils\n",
    "#####    2 - import dos modulos da biblioteca e auxiliares\n",
    "#####    3 - importe da função\n",
    "#####    4 - testes usando os métodos"
   ]
  },
  {
   "cell_type": "markdown",
   "id": "7fcc13ea",
   "metadata": {},
   "source": [
    "## 2.0 Importes das Bibliotecas"
   ]
  },
  {
   "cell_type": "markdown",
   "id": "62ba81d2",
   "metadata": {},
   "source": [
    "As bibliotecas importadas são as de manipulação de arquivos."
   ]
  },
  {
   "cell_type": "code",
   "execution_count": null,
   "id": "d5bdace0",
   "metadata": {},
   "outputs": [],
   "source": [
    "# 1\n",
    "\n",
    "!pip install mlutils"
   ]
  },
  {
   "cell_type": "code",
   "execution_count": 8,
   "id": "f021fe28",
   "metadata": {},
   "outputs": [],
   "source": [
    "#2\n",
    "\n",
    "import shutil\n",
    "import os\n",
    "from pathlib import Path"
   ]
  },
  {
   "cell_type": "markdown",
   "id": "34f74d08",
   "metadata": {},
   "source": [
    "## 3.0 Input e Output"
   ]
  },
  {
   "cell_type": "markdown",
   "id": "a66bc47c",
   "metadata": {},
   "source": [
    "A função para mover os arquivos receberá uma string, com o caminho fonte e os arquivos a serem movidos \"source_dir_path / file\", e por fim a pasta de destino  \"dest_dir\".A função para criar um dirétório recebe uma string com o caminho e o diretório a ser criado \"save_dir\"."
   ]
  },
  {
   "cell_type": "markdown",
   "id": "62e59539",
   "metadata": {},
   "source": [
    "Importando a função."
   ]
  },
  {
   "cell_type": "code",
   "execution_count": 3,
   "id": "1b23e1a4",
   "metadata": {},
   "outputs": [],
   "source": [
    "# 3\n",
    "\n",
    "from movie_files_create_dir import *"
   ]
  },
  {
   "cell_type": "markdown",
   "id": "9b8b697a",
   "metadata": {},
   "source": [
    "## 3.1 Exemplo Move_files"
   ]
  },
  {
   "cell_type": "code",
   "execution_count": 5,
   "id": "dfbb09a4",
   "metadata": {},
   "outputs": [
    {
     "name": "stdout",
     "output_type": "stream",
     "text": [
      "Folder was created and file moved\n"
     ]
    }
   ],
   "source": [
    "# 4\n",
    "\n",
    "move_files('/mnt/c/Users/Diego/Downloads/path', '/mnt/c/Users/Diego/Downloads/path2')"
   ]
  },
  {
   "cell_type": "markdown",
   "id": "f425da9c",
   "metadata": {},
   "source": [
    "## 3.2 Exemplo Create_dir"
   ]
  },
  {
   "cell_type": "code",
   "execution_count": 7,
   "id": "bb40014b",
   "metadata": {},
   "outputs": [
    {
     "name": "stdout",
     "output_type": "stream",
     "text": [
      "Folder was created and file moved\n"
     ]
    }
   ],
   "source": [
    "# 4\n",
    "\n",
    "create_dir('/mnt/c/Users/Diego/Downloads/path')"
   ]
  },
  {
   "cell_type": "code",
   "execution_count": null,
   "id": "29b34aa6",
   "metadata": {},
   "outputs": [],
   "source": []
  }
 ],
 "metadata": {
  "kernelspec": {
   "display_name": "Python 3 (ipykernel)",
   "language": "python",
   "name": "python3"
  },
  "language_info": {
   "codemirror_mode": {
    "name": "ipython",
    "version": 3
   },
   "file_extension": ".py",
   "mimetype": "text/x-python",
   "name": "python",
   "nbconvert_exporter": "python",
   "pygments_lexer": "ipython3",
   "version": "3.8.10"
  }
 },
 "nbformat": 4,
 "nbformat_minor": 5
}
