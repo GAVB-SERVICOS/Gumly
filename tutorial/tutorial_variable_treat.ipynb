{
 "cells": [
  {
   "cell_type": "markdown",
   "id": "c40c2b9b",
   "metadata": {},
   "source": [
    "# Variable Treat Function Tutorial"
   ]
  },
  {
   "cell_type": "markdown",
   "id": "cab454f6",
   "metadata": {},
   "source": [
    "## 1.0 Objetivo da Função."
   ]
  },
  {
   "cell_type": "markdown",
   "id": "9beb5eee",
   "metadata": {},
   "source": [
    "Tratar e mostrar os indexs que possivelmente possam ser dropados através do \"lower_percentile\" e o \"upper_percentile\"."
   ]
  },
  {
   "cell_type": "markdown",
   "id": "e3681a7c",
   "metadata": {},
   "source": [
    "## 2.0 Importando a Biblioteca e a Função"
   ]
  },
  {
   "cell_type": "code",
   "execution_count": 10,
   "id": "67d4dfaf",
   "metadata": {},
   "outputs": [],
   "source": [
    "import pandas as pd\n",
    "import numpy as np"
   ]
  },
  {
   "cell_type": "code",
   "execution_count": 7,
   "id": "df3fbc71",
   "metadata": {},
   "outputs": [],
   "source": [
    "import os\n",
    "root = '/'.join(os.getcwd().split('/')[:-1])\n",
    "os.chdir(root + '/mlutils')"
   ]
  },
  {
   "cell_type": "code",
   "execution_count": 8,
   "id": "cb4d5f0d",
   "metadata": {},
   "outputs": [],
   "source": [
    "from variable_treat import *"
   ]
  },
  {
   "cell_type": "markdown",
   "id": "b6b24cf8",
   "metadata": {},
   "source": [
    "## 3.0 Input e Output"
   ]
  },
  {
   "cell_type": "markdown",
   "id": "a2ae5942",
   "metadata": {},
   "source": [
    "A função receberá um DataFrame e devolverá uam coluna com os possíveis indexs a serem dropados tratando assim certas anomalias."
   ]
  },
  {
   "cell_type": "markdown",
   "id": "8a7cc26a",
   "metadata": {},
   "source": [
    "## 3.1 Exemplo do output"
   ]
  },
  {
   "cell_type": "code",
   "execution_count": 11,
   "id": "234ff78c",
   "metadata": {},
   "outputs": [],
   "source": [
    "df2 = pd.DataFrame(\n",
    "        np.array([[1, 2, 3], [4, 5, 6], [7, 8, 9]]), columns=[\"a\", \"b\", \"c\"]\n",
    "    )"
   ]
  },
  {
   "cell_type": "code",
   "execution_count": 12,
   "id": "a7ce6bb0",
   "metadata": {},
   "outputs": [
    {
     "data": {
      "text/plain": [
       "[0, 1, 2]"
      ]
     },
     "execution_count": 12,
     "metadata": {},
     "output_type": "execute_result"
    }
   ],
   "source": [
    "variable_treat(\n",
    "        df2, \"a\", lower=True, lower_percentile=1.0, upper=True, upper_percentile=2.0\n",
    "    )"
   ]
  }
 ],
 "metadata": {
  "kernelspec": {
   "display_name": "Python 3",
   "language": "python",
   "name": "python3"
  },
  "language_info": {
   "codemirror_mode": {
    "name": "ipython",
    "version": 3
   },
   "file_extension": ".py",
   "mimetype": "text/x-python",
   "name": "python",
   "nbconvert_exporter": "python",
   "pygments_lexer": "ipython3",
   "version": "3.8.8"
  }
 },
 "nbformat": 4,
 "nbformat_minor": 5
}
