{
 "cells": [
  {
   "cell_type": "markdown",
   "id": "c40c2b9b",
   "metadata": {},
   "source": [
    "## 1.0 Introduction"
   ]
  },
  {
   "cell_type": "markdown",
   "id": "cab454f6",
   "metadata": {},
   "source": [
    "The main objective of this function is treat the DataFrame and show possible indexs might be droped through \"lower_percentile\" and \"upper_percentile\".This tutorial consists in simple array sample and show a list."
   ]
  },
  {
   "cell_type": "markdown",
   "id": "e3681a7c",
   "metadata": {},
   "source": [
    "## 2.0 Library Import"
   ]
  },
  {
   "cell_type": "code",
   "execution_count": null,
   "id": "6a9f9a02",
   "metadata": {},
   "outputs": [],
   "source": [
    "!pip install mlutils"
   ]
  },
  {
   "cell_type": "code",
   "execution_count": 1,
   "id": "cb4d5f0d",
   "metadata": {},
   "outputs": [],
   "source": [
    "from mlutils.variable_treat import variable_treat"
   ]
  },
  {
   "cell_type": "markdown",
   "id": "8a7cc26a",
   "metadata": {},
   "source": [
    "## 3.0 Variable Treat Exemplo "
   ]
  },
  {
   "cell_type": "code",
   "execution_count": 2,
   "id": "87aa107b",
   "metadata": {},
   "outputs": [],
   "source": [
    "import pandas as pd\n",
    "import numpy as np"
   ]
  },
  {
   "cell_type": "code",
   "execution_count": 3,
   "id": "234ff78c",
   "metadata": {},
   "outputs": [],
   "source": [
    "df2 = pd.DataFrame(\n",
    "        np.array([[1, 2, 3], [4, 5, 6], [7, 8, 9]]), columns=[\"a\", \"b\", \"c\"]\n",
    "    )"
   ]
  },
  {
   "cell_type": "code",
   "execution_count": 4,
   "id": "a7ce6bb0",
   "metadata": {},
   "outputs": [
    {
     "data": {
      "text/plain": [
       "[0, 1, 2]"
      ]
     },
     "execution_count": 4,
     "metadata": {},
     "output_type": "execute_result"
    }
   ],
   "source": [
    "variable_treat(\n",
    "        df2, \"a\", lower=True, lower_percentile=1.0, upper=True, upper_percentile=2.0\n",
    "    )"
   ]
  },
  {
   "cell_type": "markdown",
   "id": "2a00167e",
   "metadata": {},
   "source": [
    "## Conclusion and library advantages"
   ]
  },
  {
   "cell_type": "markdown",
   "id": "d34e5ab2",
   "metadata": {},
   "source": [
    "The algorith might be use to identify outliers and it can make easier the analisys model."
   ]
  },
  {
   "cell_type": "markdown",
   "id": "f08b1c5d",
   "metadata": {},
   "source": [
    "## Reference\n",
    "\n",
    "[variable_treat](https://github.com/GAVB-SERVICOS/mlutils/blob/feature/diego/mlutils/variable_treat.py)"
   ]
  }
 ],
 "metadata": {
  "kernelspec": {
   "display_name": "Python 3 (ipykernel)",
   "language": "python",
   "name": "python3"
  },
  "language_info": {
   "codemirror_mode": {
    "name": "ipython",
    "version": 3
   },
   "file_extension": ".py",
   "mimetype": "text/x-python",
   "name": "python",
   "nbconvert_exporter": "python",
   "pygments_lexer": "ipython3",
   "version": "3.8.8"
  }
 },
 "nbformat": 4,
 "nbformat_minor": 5
}
