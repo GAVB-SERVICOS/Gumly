{
 "cells": [
  {
   "cell_type": "markdown",
   "id": "ac99c865",
   "metadata": {},
   "source": [
    "## Tutorial Tuning Hyperparams and Feature Engineering for Regressor Model"
   ]
  },
  {
   "cell_type": "markdown",
   "id": "bfa26507",
   "metadata": {},
   "source": [
    "## 1.0 Function Objective"
   ]
  },
  {
   "cell_type": "markdown",
   "id": "ab390a66",
   "metadata": {},
   "source": [
    "### Apply tunning hyperparams and feature engineering in the regressor model."
   ]
  },
  {
   "cell_type": "markdown",
   "id": "dce973e0",
   "metadata": {},
   "source": [
    "## 1.1 References"
   ]
  },
  {
   "cell_type": "markdown",
   "id": "04bae2ac",
   "metadata": {},
   "source": [
    "[cross_val_score](https://scikit-learn.org/stable/modules/generated/sklearn.model_selection.cross_val_score.html)\n",
    "\n",
    "\n",
    "[KFold](https://scikit-learn.org/stable/modules/generated/sklearn.model_selection.KFold.html?highlight=kfold#sklearn.model_selection.KFold)\n",
    "\n",
    "\n",
    "[optuna](https://optuna.readthedocs.io/en/v0.19.0/)\n",
    "\n",
    "\n",
    "[RandomSampler](https://optuna.readthedocs.io/en/stable/reference/generated/optuna.samplers.RandomSampler.html)\n",
    "\n",
    "\n",
    "[make_scorer](https://scikit-learn.org/stable/modules/generated/sklearn.metrics.make_scorer.html)"
   ]
  },
  {
   "cell_type": "markdown",
   "id": "82629af8",
   "metadata": {},
   "source": [
    "## 2.0 Library Import"
   ]
  },
  {
   "cell_type": "code",
   "execution_count": null,
   "id": "f5febf40",
   "metadata": {},
   "outputs": [],
   "source": [
    "!pip install mlutils"
   ]
  },
  {
   "cell_type": "code",
   "execution_count": 1,
   "id": "f4d603cf",
   "metadata": {},
   "outputs": [],
   "source": [
    "from mlutils.tuning_hyperparams import tuning_hyperparams"
   ]
  },
  {
   "cell_type": "markdown",
   "id": "f47b56d4",
   "metadata": {},
   "source": [
    "## 3.0 Treating the Data"
   ]
  },
  {
   "cell_type": "code",
   "execution_count": 2,
   "id": "07001a13",
   "metadata": {},
   "outputs": [],
   "source": [
    "from sklearn import datasets\n",
    "import pandas as pd"
   ]
  },
  {
   "cell_type": "code",
   "execution_count": 4,
   "id": "e161349f",
   "metadata": {
    "scrolled": true
   },
   "outputs": [
    {
     "name": "stderr",
     "output_type": "stream",
     "text": [
      "/home/diego.fan/.local/lib/python3.8/site-packages/sklearn/utils/deprecation.py:87: FutureWarning: Function load_boston is deprecated; `load_boston` is deprecated in 1.0 and will be removed in 1.2.\n",
      "\n",
      "    The Boston housing prices dataset has an ethical problem. You can refer to\n",
      "    the documentation of this function for further details.\n",
      "\n",
      "    The scikit-learn maintainers therefore strongly discourage the use of this\n",
      "    dataset unless the purpose of the code is to study and educate about\n",
      "    ethical issues in data science and machine learning.\n",
      "\n",
      "    In this special case, you can fetch the dataset from the original\n",
      "    source::\n",
      "\n",
      "        import pandas as pd\n",
      "        import numpy as np\n",
      "\n",
      "\n",
      "        data_url = \"http://lib.stat.cmu.edu/datasets/boston\"\n",
      "        raw_df = pd.read_csv(data_url, sep=\"\\s+\", skiprows=22, header=None)\n",
      "        data = np.hstack([raw_df.values[::2, :], raw_df.values[1::2, :2]])\n",
      "        target = raw_df.values[1::2, 2]\n",
      "\n",
      "    Alternative datasets include the California housing dataset (i.e.\n",
      "    :func:`~sklearn.datasets.fetch_california_housing`) and the Ames housing\n",
      "    dataset. You can load the datasets as follows::\n",
      "\n",
      "        from sklearn.datasets import fetch_california_housing\n",
      "        housing = fetch_california_housing()\n",
      "\n",
      "    for the California housing dataset and::\n",
      "\n",
      "        from sklearn.datasets import fetch_openml\n",
      "        housing = fetch_openml(name=\"house_prices\", as_frame=True)\n",
      "\n",
      "    for the Ames housing dataset.\n",
      "    \n",
      "  warnings.warn(msg, category=FutureWarning)\n"
     ]
    },
    {
     "data": {
      "text/html": [
       "<div>\n",
       "<style scoped>\n",
       "    .dataframe tbody tr th:only-of-type {\n",
       "        vertical-align: middle;\n",
       "    }\n",
       "\n",
       "    .dataframe tbody tr th {\n",
       "        vertical-align: top;\n",
       "    }\n",
       "\n",
       "    .dataframe thead th {\n",
       "        text-align: right;\n",
       "    }\n",
       "</style>\n",
       "<table border=\"1\" class=\"dataframe\">\n",
       "  <thead>\n",
       "    <tr style=\"text-align: right;\">\n",
       "      <th></th>\n",
       "      <th>CRIM</th>\n",
       "      <th>ZN</th>\n",
       "      <th>INDUS</th>\n",
       "      <th>CHAS</th>\n",
       "      <th>NOX</th>\n",
       "      <th>RM</th>\n",
       "      <th>AGE</th>\n",
       "      <th>DIS</th>\n",
       "      <th>RAD</th>\n",
       "      <th>TAX</th>\n",
       "      <th>PTRATIO</th>\n",
       "      <th>B</th>\n",
       "      <th>LSTAT</th>\n",
       "      <th>target</th>\n",
       "    </tr>\n",
       "  </thead>\n",
       "  <tbody>\n",
       "    <tr>\n",
       "      <th>0</th>\n",
       "      <td>0.00632</td>\n",
       "      <td>18.0</td>\n",
       "      <td>2.31</td>\n",
       "      <td>0.0</td>\n",
       "      <td>0.538</td>\n",
       "      <td>6.575</td>\n",
       "      <td>65.2</td>\n",
       "      <td>4.0900</td>\n",
       "      <td>1.0</td>\n",
       "      <td>296.0</td>\n",
       "      <td>15.3</td>\n",
       "      <td>396.90</td>\n",
       "      <td>4.98</td>\n",
       "      <td>24.0</td>\n",
       "    </tr>\n",
       "    <tr>\n",
       "      <th>1</th>\n",
       "      <td>0.02731</td>\n",
       "      <td>0.0</td>\n",
       "      <td>7.07</td>\n",
       "      <td>0.0</td>\n",
       "      <td>0.469</td>\n",
       "      <td>6.421</td>\n",
       "      <td>78.9</td>\n",
       "      <td>4.9671</td>\n",
       "      <td>2.0</td>\n",
       "      <td>242.0</td>\n",
       "      <td>17.8</td>\n",
       "      <td>396.90</td>\n",
       "      <td>9.14</td>\n",
       "      <td>21.6</td>\n",
       "    </tr>\n",
       "    <tr>\n",
       "      <th>2</th>\n",
       "      <td>0.02729</td>\n",
       "      <td>0.0</td>\n",
       "      <td>7.07</td>\n",
       "      <td>0.0</td>\n",
       "      <td>0.469</td>\n",
       "      <td>7.185</td>\n",
       "      <td>61.1</td>\n",
       "      <td>4.9671</td>\n",
       "      <td>2.0</td>\n",
       "      <td>242.0</td>\n",
       "      <td>17.8</td>\n",
       "      <td>392.83</td>\n",
       "      <td>4.03</td>\n",
       "      <td>34.7</td>\n",
       "    </tr>\n",
       "    <tr>\n",
       "      <th>3</th>\n",
       "      <td>0.03237</td>\n",
       "      <td>0.0</td>\n",
       "      <td>2.18</td>\n",
       "      <td>0.0</td>\n",
       "      <td>0.458</td>\n",
       "      <td>6.998</td>\n",
       "      <td>45.8</td>\n",
       "      <td>6.0622</td>\n",
       "      <td>3.0</td>\n",
       "      <td>222.0</td>\n",
       "      <td>18.7</td>\n",
       "      <td>394.63</td>\n",
       "      <td>2.94</td>\n",
       "      <td>33.4</td>\n",
       "    </tr>\n",
       "    <tr>\n",
       "      <th>4</th>\n",
       "      <td>0.06905</td>\n",
       "      <td>0.0</td>\n",
       "      <td>2.18</td>\n",
       "      <td>0.0</td>\n",
       "      <td>0.458</td>\n",
       "      <td>7.147</td>\n",
       "      <td>54.2</td>\n",
       "      <td>6.0622</td>\n",
       "      <td>3.0</td>\n",
       "      <td>222.0</td>\n",
       "      <td>18.7</td>\n",
       "      <td>396.90</td>\n",
       "      <td>5.33</td>\n",
       "      <td>36.2</td>\n",
       "    </tr>\n",
       "  </tbody>\n",
       "</table>\n",
       "</div>"
      ],
      "text/plain": [
       "      CRIM    ZN  INDUS  CHAS    NOX     RM   AGE     DIS  RAD    TAX  \\\n",
       "0  0.00632  18.0   2.31   0.0  0.538  6.575  65.2  4.0900  1.0  296.0   \n",
       "1  0.02731   0.0   7.07   0.0  0.469  6.421  78.9  4.9671  2.0  242.0   \n",
       "2  0.02729   0.0   7.07   0.0  0.469  7.185  61.1  4.9671  2.0  242.0   \n",
       "3  0.03237   0.0   2.18   0.0  0.458  6.998  45.8  6.0622  3.0  222.0   \n",
       "4  0.06905   0.0   2.18   0.0  0.458  7.147  54.2  6.0622  3.0  222.0   \n",
       "\n",
       "   PTRATIO       B  LSTAT  target  \n",
       "0     15.3  396.90   4.98    24.0  \n",
       "1     17.8  396.90   9.14    21.6  \n",
       "2     17.8  392.83   4.03    34.7  \n",
       "3     18.7  394.63   2.94    33.4  \n",
       "4     18.7  396.90   5.33    36.2  "
      ]
     },
     "execution_count": 4,
     "metadata": {},
     "output_type": "execute_result"
    }
   ],
   "source": [
    "boston_data = datasets.load_boston()\n",
    "df_boston = pd.DataFrame(boston_data.data, columns=boston_data.feature_names)\n",
    "df_boston[\"target\"] = boston_data.target\n",
    "df_boston.head()"
   ]
  },
  {
   "cell_type": "markdown",
   "id": "54568d0b",
   "metadata": {},
   "source": [
    "## 4.0 Import Feature Engineering"
   ]
  },
  {
   "cell_type": "code",
   "execution_count": 5,
   "id": "b8eff0ee",
   "metadata": {},
   "outputs": [],
   "source": [
    "from mlutils.feature_engineering import feature_engineering"
   ]
  },
  {
   "cell_type": "markdown",
   "id": "9d780a3c",
   "metadata": {},
   "source": [
    "## 4.1 Appliying Feature Selection Stepwise OLS Linear Regression"
   ]
  },
  {
   "cell_type": "code",
   "execution_count": 6,
   "id": "1e18b8a0",
   "metadata": {},
   "outputs": [
    {
     "data": {
      "text/plain": [
       "['LSTAT', 'RM', 'PTRATIO', 'DIS', 'NOX', 'CHAS', 'B', 'ZN']"
      ]
     },
     "execution_count": 6,
     "metadata": {},
     "output_type": "execute_result"
    }
   ],
   "source": [
    "feature_selection_stepwise(df=df_boston, target='target', threshold_in=0.01, threshold_out=0.05, verbose=False)"
   ]
  },
  {
   "cell_type": "markdown",
   "id": "927ef33d",
   "metadata": {},
   "source": [
    "## 4.2 Applying Feature Selection f_regression"
   ]
  },
  {
   "cell_type": "code",
   "execution_count": 7,
   "id": "9c368da9",
   "metadata": {},
   "outputs": [
    {
     "data": {
      "text/plain": [
       "['CRIM', 'INDUS', 'NOX', 'RM', 'RAD', 'TAX', 'PTRATIO', 'LSTAT']"
      ]
     },
     "execution_count": 7,
     "metadata": {},
     "output_type": "execute_result"
    }
   ],
   "source": [
    "feature_selection_f_regression(df=df_boston, target='target', num_feats=8)"
   ]
  },
  {
   "cell_type": "markdown",
   "id": "8440b23d",
   "metadata": {},
   "source": [
    "## 4.3 Applying Feature Selection mutual_information"
   ]
  },
  {
   "cell_type": "code",
   "execution_count": 8,
   "id": "d32ed640",
   "metadata": {},
   "outputs": [
    {
     "data": {
      "text/plain": [
       "['CRIM', 'INDUS', 'NOX', 'RM', 'AGE', 'TAX', 'PTRATIO', 'LSTAT']"
      ]
     },
     "execution_count": 8,
     "metadata": {},
     "output_type": "execute_result"
    }
   ],
   "source": [
    "feature_selection_mutual_information(df=df_boston, target='target', num_feats=8)"
   ]
  },
  {
   "cell_type": "markdown",
   "id": "20cd3182",
   "metadata": {},
   "source": [
    "## 5.0 Applying Tuning Hyperparams"
   ]
  },
  {
   "cell_type": "markdown",
   "id": "6aa2ee83",
   "metadata": {},
   "source": [
    "## 5.1 Import Algorithm and Metrics for Regressor Model"
   ]
  },
  {
   "cell_type": "code",
   "execution_count": 9,
   "id": "530bf24f",
   "metadata": {},
   "outputs": [],
   "source": [
    "from sklearn.ensemble import RandomForestRegressor\n",
    "from sklearn.metrics import r2_score"
   ]
  },
  {
   "cell_type": "markdown",
   "id": "dca276f5",
   "metadata": {},
   "source": [
    "## 5.2 Selecting Colums and Params RF"
   ]
  },
  {
   "cell_type": "code",
   "execution_count": 10,
   "id": "2cfd8fd3",
   "metadata": {},
   "outputs": [],
   "source": [
    "df = df_boston[['CRIM', 'INDUS', 'NOX', 'RM', 'AGE', 'TAX', 'PTRATIO', 'LSTAT','target']]"
   ]
  },
  {
   "cell_type": "code",
   "execution_count": 11,
   "id": "59671b71",
   "metadata": {},
   "outputs": [],
   "source": [
    "param_RF = [\n",
    "        {\"name\": \"min_samples_leaf\", \"type\": \"Integer\", \"low\": 50, \"high\": 75},\n",
    "        {\"name\": \"max_depth\", \"type\": \"Integer\", \"low\": 12, \"high\": 24},\n",
    "    ]"
   ]
  },
  {
   "cell_type": "markdown",
   "id": "2c057224",
   "metadata": {},
   "source": [
    "## 5.3 Calling Tuning Hyperparams Function for Regressor Model"
   ]
  },
  {
   "cell_type": "code",
   "execution_count": 12,
   "id": "8ba8de79",
   "metadata": {},
   "outputs": [
    {
     "name": "stderr",
     "output_type": "stream",
     "text": [
      "\u001b[32m[I 2021-11-30 17:21:57,502]\u001b[0m A new study created in memory with name: no-name-8192e872-4aad-425b-aa75-b9d0ce66230b\u001b[0m\n",
      "\u001b[32m[I 2021-11-30 17:21:58,229]\u001b[0m Trial 0 finished with value: 0.6241936242993611 and parameters: {'min_samples_leaf': 59, 'max_depth': 24}. Best is trial 0 with value: 0.6241936242993611.\u001b[0m\n",
      "\u001b[32m[I 2021-11-30 17:21:58,901]\u001b[0m Trial 1 finished with value: 0.5464668737648952 and parameters: {'min_samples_leaf': 69, 'max_depth': 19}. Best is trial 0 with value: 0.6241936242993611.\u001b[0m\n",
      "\u001b[32m[I 2021-11-30 17:21:59,602]\u001b[0m Trial 2 finished with value: 0.6590984768929686 and parameters: {'min_samples_leaf': 54, 'max_depth': 14}. Best is trial 2 with value: 0.6590984768929686.\u001b[0m\n",
      "\u001b[32m[I 2021-11-30 17:22:00,331]\u001b[0m Trial 3 finished with value: 0.6655764491085135 and parameters: {'min_samples_leaf': 51, 'max_depth': 23}. Best is trial 3 with value: 0.6655764491085135.\u001b[0m\n",
      "\u001b[32m[I 2021-11-30 17:22:00,999]\u001b[0m Trial 4 finished with value: 0.563402301719991 and parameters: {'min_samples_leaf': 65, 'max_depth': 21}. Best is trial 3 with value: 0.6655764491085135.\u001b[0m\n",
      "\u001b[32m[I 2021-11-30 17:22:01,712]\u001b[0m Trial 5 finished with value: 0.6754656651563096 and parameters: {'min_samples_leaf': 50, 'max_depth': 24}. Best is trial 5 with value: 0.6754656651563096.\u001b[0m\n",
      "\u001b[32m[I 2021-11-30 17:22:02,379]\u001b[0m Trial 6 finished with value: 0.5443884095324333 and parameters: {'min_samples_leaf': 71, 'max_depth': 14}. Best is trial 5 with value: 0.6754656651563096.\u001b[0m\n",
      "\u001b[32m[I 2021-11-30 17:22:03,101]\u001b[0m Trial 7 finished with value: 0.6557018985008026 and parameters: {'min_samples_leaf': 54, 'max_depth': 14}. Best is trial 5 with value: 0.6754656651563096.\u001b[0m\n",
      "\u001b[32m[I 2021-11-30 17:22:03,813]\u001b[0m Trial 8 finished with value: 0.6416355783779879 and parameters: {'min_samples_leaf': 57, 'max_depth': 18}. Best is trial 5 with value: 0.6754656651563096.\u001b[0m\n",
      "\u001b[32m[I 2021-11-30 17:22:04,514]\u001b[0m Trial 9 finished with value: 0.6086072048742901 and parameters: {'min_samples_leaf': 61, 'max_depth': 15}. Best is trial 5 with value: 0.6754656651563096.\u001b[0m\n",
      "\u001b[32m[I 2021-11-30 17:22:05,189]\u001b[0m Trial 10 finished with value: 0.5653423438789954 and parameters: {'min_samples_leaf': 65, 'max_depth': 13}. Best is trial 5 with value: 0.6754656651563096.\u001b[0m\n",
      "\u001b[32m[I 2021-11-30 17:22:05,910]\u001b[0m Trial 11 finished with value: 0.6437234872214411 and parameters: {'min_samples_leaf': 57, 'max_depth': 16}. Best is trial 5 with value: 0.6754656651563096.\u001b[0m\n",
      "\u001b[32m[I 2021-11-30 17:22:06,593]\u001b[0m Trial 12 finished with value: 0.6049261008561999 and parameters: {'min_samples_leaf': 61, 'max_depth': 22}. Best is trial 5 with value: 0.6754656651563096.\u001b[0m\n",
      "\u001b[32m[I 2021-11-30 17:22:07,342]\u001b[0m Trial 13 finished with value: 0.6566338427435229 and parameters: {'min_samples_leaf': 55, 'max_depth': 18}. Best is trial 5 with value: 0.6754656651563096.\u001b[0m\n",
      "\u001b[32m[I 2021-11-30 17:22:08,036]\u001b[0m Trial 14 finished with value: 0.5676504573603517 and parameters: {'min_samples_leaf': 65, 'max_depth': 12}. Best is trial 5 with value: 0.6754656651563096.\u001b[0m\n",
      "\u001b[32m[I 2021-11-30 17:22:08,750]\u001b[0m Trial 15 finished with value: 0.5625286268562395 and parameters: {'min_samples_leaf': 65, 'max_depth': 14}. Best is trial 5 with value: 0.6754656651563096.\u001b[0m\n",
      "\u001b[32m[I 2021-11-30 17:22:09,526]\u001b[0m Trial 16 finished with value: 0.6702855938166874 and parameters: {'min_samples_leaf': 51, 'max_depth': 24}. Best is trial 5 with value: 0.6754656651563096.\u001b[0m\n",
      "\u001b[32m[I 2021-11-30 17:22:10,217]\u001b[0m Trial 17 finished with value: 0.5375950922106736 and parameters: {'min_samples_leaf': 75, 'max_depth': 22}. Best is trial 5 with value: 0.6754656651563096.\u001b[0m\n",
      "\u001b[32m[I 2021-11-30 17:22:10,924]\u001b[0m Trial 18 finished with value: 0.6418502648465148 and parameters: {'min_samples_leaf': 57, 'max_depth': 13}. Best is trial 5 with value: 0.6754656651563096.\u001b[0m\n",
      "\u001b[32m[I 2021-11-30 17:22:11,637]\u001b[0m Trial 19 finished with value: 0.5557177550043065 and parameters: {'min_samples_leaf': 67, 'max_depth': 17}. Best is trial 5 with value: 0.6754656651563096.\u001b[0m\n"
     ]
    },
    {
     "data": {
      "text/plain": [
       "{'min_samples_leaf': 50, 'max_depth': 24}"
      ]
     },
     "execution_count": 12,
     "metadata": {},
     "output_type": "execute_result"
    }
   ],
   "source": [
    "\n",
    "tuning_hyperparams(\n",
    "        df=df,\n",
    "        target='target',\n",
    "        parameters=param_RF,\n",
    "        algorithm=RandomForestRegressor,\n",
    "        metric=r2_score,\n",
    "        scoring_option=\"maximize\",\n",
    "        n_trials=20,\n",
    "    )"
   ]
  }
 ],
 "metadata": {
  "kernelspec": {
   "display_name": "Python 3 (ipykernel)",
   "language": "python",
   "name": "python3"
  },
  "language_info": {
   "codemirror_mode": {
    "name": "ipython",
    "version": 3
   },
   "file_extension": ".py",
   "mimetype": "text/x-python",
   "name": "python",
   "nbconvert_exporter": "python",
   "pygments_lexer": "ipython3",
   "version": "3.8.8"
  }
 },
 "nbformat": 4,
 "nbformat_minor": 5
}
