{
 "cells": [
  {
   "cell_type": "code",
   "execution_count": null,
   "id": "bd0207f8",
   "metadata": {},
   "outputs": [],
   "source": []
  },
  {
   "cell_type": "code",
   "execution_count": 7,
   "id": "284519a8",
   "metadata": {},
   "outputs": [],
   "source": [
    "def test_feature_engineering_feature_selection_filter_error_to_process():\n",
    "    with pytest.raises(Exception) as ex:\n",
    "        iris_data = datasets.load_iris()\n",
    "        df_iris = pd.DataFrame(data=iris_data.data, columns=iris_data.feature_names)\n",
    "        df_iris[\"target\"] = iris_data.target\n",
    "\n",
    "        feature_selection_filter(df=df, target=\"tar\", num_feats=3)\n",
    "        assert ex.message == \"An error occured during filter selection process\"\n",
    "        \n"
   ]
  },
  {
   "cell_type": "code",
   "execution_count": null,
   "id": "739b7555",
   "metadata": {},
   "outputs": [],
   "source": []
  },
  {
   "cell_type": "code",
   "execution_count": null,
   "id": "5387620b",
   "metadata": {},
   "outputs": [],
   "source": []
  }
 ],
 "metadata": {
  "kernelspec": {
   "display_name": "Python 3 (ipykernel)",
   "language": "python",
   "name": "python3"
  },
  "language_info": {
   "codemirror_mode": {
    "name": "ipython",
    "version": 3
   },
   "file_extension": ".py",
   "mimetype": "text/x-python",
   "name": "python",
   "nbconvert_exporter": "python",
   "pygments_lexer": "ipython3",
   "version": "3.8.8"
  }
 },
 "nbformat": 4,
 "nbformat_minor": 5
}
